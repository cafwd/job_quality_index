{
 "cells": [
  {
   "cell_type": "markdown",
   "id": "882acc84",
   "metadata": {},
   "source": [
    "## Create Cost of Living Dataframes for a given year"
   ]
  },
  {
   "cell_type": "markdown",
   "id": "39ebaa06",
   "metadata": {},
   "source": [
    "### Summary of notebook:\n",
    "- Create cost of living dataframes for a given year.\n",
    "- Needed: previous year's cost of living CSV, and inflation rate data\n",
    "- Outputs: Cost of living dataframe and CSV file for a particular year"
   ]
  },
  {
   "cell_type": "code",
   "execution_count": 1,
   "id": "2fe16c96",
   "metadata": {},
   "outputs": [],
   "source": [
    "import pandas as pd\n",
    "import numpy as np\n",
    "from jqi_functions import *"
   ]
  },
  {
   "cell_type": "markdown",
   "id": "73ffa8b2",
   "metadata": {},
   "source": [
    "#### Enter the year of data needed"
   ]
  },
  {
   "cell_type": "code",
   "execution_count": 86,
   "id": "0964f8bd",
   "metadata": {},
   "outputs": [],
   "source": [
    "year = '2021'\n",
    "prev_year = str(int(year) - 1)"
   ]
  },
  {
   "cell_type": "markdown",
   "id": "c25a7d8a",
   "metadata": {},
   "source": [
    "#### Load necessary data\n",
    "\n",
    "Because cost of living for a certain year is based on the inflation change from the previous year, we load in the previous year's cost of living data."
   ]
  },
  {
   "cell_type": "code",
   "execution_count": 87,
   "id": "f3d8b165",
   "metadata": {},
   "outputs": [],
   "source": [
    "prev_col = pd.read_csv(f'data/cost_of_living/united-way-col-1A1PS1C{prev_year}.csv')"
   ]
  },
  {
   "cell_type": "markdown",
   "id": "42c1979b",
   "metadata": {},
   "source": [
    "**Note:** The inflation rates CSV file needs to be updated each year using [this data](https://www.minneapolisfed.org/about-us/monetary-policy/inflation-calculator/consumer-price-index-1913-).\n",
    "\n",
    "**Note:** The current year's inflation rate is year-to-date, and may change as the year progresses."
   ]
  },
  {
   "cell_type": "code",
   "execution_count": 88,
   "id": "eb8ff94f",
   "metadata": {},
   "outputs": [],
   "source": [
    "inflation_rates = pd.read_csv('data/cost_of_living/inflation-rates.csv')"
   ]
  },
  {
   "cell_type": "markdown",
   "id": "4ebf5a2d",
   "metadata": {},
   "source": [
    "#### Create given year's cost of living data"
   ]
  },
  {
   "cell_type": "code",
   "execution_count": 89,
   "id": "dcd0b778",
   "metadata": {},
   "outputs": [
    {
     "data": {
      "text/plain": [
       "1.047"
      ]
     },
     "execution_count": 89,
     "metadata": {},
     "output_type": "execute_result"
    }
   ],
   "source": [
    "perc_change = inflation_rates.loc[inflation_rates['Year'] == int(year)]['Percent Change'].values[0]\n",
    "rate = (perc_change / 100) + 1\n",
    "rate"
   ]
  },
  {
   "cell_type": "code",
   "execution_count": 90,
   "id": "bf855db7",
   "metadata": {},
   "outputs": [],
   "source": [
    "col = prev_col.copy()\n",
    "col['New COL'] = round(col['Cost of Living'] * rate, 2)\n",
    "col = col.drop(columns=['Cost of Living'])\n",
    "col = col.rename(columns={'New COL':'Cost of Living'})"
   ]
  },
  {
   "cell_type": "markdown",
   "id": "442c7c86",
   "metadata": {},
   "source": [
    "Final Cost of Living Dataframe"
   ]
  },
  {
   "cell_type": "code",
   "execution_count": 91,
   "id": "5508bdc6",
   "metadata": {},
   "outputs": [
    {
     "data": {
      "text/html": [
       "<div>\n",
       "<style scoped>\n",
       "    .dataframe tbody tr th:only-of-type {\n",
       "        vertical-align: middle;\n",
       "    }\n",
       "\n",
       "    .dataframe tbody tr th {\n",
       "        vertical-align: top;\n",
       "    }\n",
       "\n",
       "    .dataframe thead th {\n",
       "        text-align: right;\n",
       "    }\n",
       "</style>\n",
       "<table border=\"1\" class=\"dataframe\">\n",
       "  <thead>\n",
       "    <tr style=\"text-align: right;\">\n",
       "      <th></th>\n",
       "      <th>Regions</th>\n",
       "      <th>Cost of Living</th>\n",
       "    </tr>\n",
       "  </thead>\n",
       "  <tbody>\n",
       "    <tr>\n",
       "      <th>0</th>\n",
       "      <td>Bay Area</td>\n",
       "      <td>103041.54</td>\n",
       "    </tr>\n",
       "    <tr>\n",
       "      <th>1</th>\n",
       "      <td>Central Coast</td>\n",
       "      <td>82857.90</td>\n",
       "    </tr>\n",
       "    <tr>\n",
       "      <th>2</th>\n",
       "      <td>Central San Joaquin</td>\n",
       "      <td>59335.58</td>\n",
       "    </tr>\n",
       "    <tr>\n",
       "      <th>3</th>\n",
       "      <td>Eastern Sierra</td>\n",
       "      <td>64909.95</td>\n",
       "    </tr>\n",
       "    <tr>\n",
       "      <th>4</th>\n",
       "      <td>Inland Empire</td>\n",
       "      <td>66910.41</td>\n",
       "    </tr>\n",
       "    <tr>\n",
       "      <th>5</th>\n",
       "      <td>Kern</td>\n",
       "      <td>58129.80</td>\n",
       "    </tr>\n",
       "    <tr>\n",
       "      <th>6</th>\n",
       "      <td>Los Angeles</td>\n",
       "      <td>84993.98</td>\n",
       "    </tr>\n",
       "    <tr>\n",
       "      <th>7</th>\n",
       "      <td>North State</td>\n",
       "      <td>61590.34</td>\n",
       "    </tr>\n",
       "    <tr>\n",
       "      <th>8</th>\n",
       "      <td>Northern San Joaquin</td>\n",
       "      <td>61248.10</td>\n",
       "    </tr>\n",
       "    <tr>\n",
       "      <th>9</th>\n",
       "      <td>Orange</td>\n",
       "      <td>92868.67</td>\n",
       "    </tr>\n",
       "    <tr>\n",
       "      <th>10</th>\n",
       "      <td>Redwood Coast</td>\n",
       "      <td>62104.23</td>\n",
       "    </tr>\n",
       "    <tr>\n",
       "      <th>11</th>\n",
       "      <td>Sacramento</td>\n",
       "      <td>66855.31</td>\n",
       "    </tr>\n",
       "    <tr>\n",
       "      <th>12</th>\n",
       "      <td>San Diego-Imperial</td>\n",
       "      <td>82599.37</td>\n",
       "    </tr>\n",
       "    <tr>\n",
       "      <th>13</th>\n",
       "      <td>California</td>\n",
       "      <td>82174.49</td>\n",
       "    </tr>\n",
       "  </tbody>\n",
       "</table>\n",
       "</div>"
      ],
      "text/plain": [
       "                 Regions  Cost of Living\n",
       "0               Bay Area       103041.54\n",
       "1          Central Coast        82857.90\n",
       "2    Central San Joaquin        59335.58\n",
       "3         Eastern Sierra        64909.95\n",
       "4          Inland Empire        66910.41\n",
       "5                   Kern        58129.80\n",
       "6            Los Angeles        84993.98\n",
       "7            North State        61590.34\n",
       "8   Northern San Joaquin        61248.10\n",
       "9                 Orange        92868.67\n",
       "10         Redwood Coast        62104.23\n",
       "11            Sacramento        66855.31\n",
       "12    San Diego-Imperial        82599.37\n",
       "13            California        82174.49"
      ]
     },
     "execution_count": 91,
     "metadata": {},
     "output_type": "execute_result"
    }
   ],
   "source": [
    "col"
   ]
  },
  {
   "cell_type": "markdown",
   "id": "a5a3b5f6",
   "metadata": {},
   "source": [
    "#### Export outputs"
   ]
  },
  {
   "cell_type": "code",
   "execution_count": 92,
   "id": "734b832a",
   "metadata": {},
   "outputs": [],
   "source": [
    "col.to_csv(f'data/cost_of_living/united-way-col-1A1PS1C{year}.csv', index=False)"
   ]
  },
  {
   "cell_type": "code",
   "execution_count": null,
   "id": "c7a240a6",
   "metadata": {},
   "outputs": [],
   "source": []
  }
 ],
 "metadata": {
  "kernelspec": {
   "display_name": "Python 3",
   "language": "python",
   "name": "python3"
  },
  "language_info": {
   "codemirror_mode": {
    "name": "ipython",
    "version": 3
   },
   "file_extension": ".py",
   "mimetype": "text/x-python",
   "name": "python",
   "nbconvert_exporter": "python",
   "pygments_lexer": "ipython3",
   "version": "3.8.8"
  }
 },
 "nbformat": 4,
 "nbformat_minor": 5
}
