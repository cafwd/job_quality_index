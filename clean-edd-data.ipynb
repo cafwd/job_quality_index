{
 "cells": [
  {
   "cell_type": "markdown",
   "id": "882acc84",
   "metadata": {},
   "source": [
    "## Create EDD Dataframes for a given year"
   ]
  },
  {
   "cell_type": "markdown",
   "id": "39ebaa06",
   "metadata": {},
   "source": [
    "### Summary of notebook:\n",
    "- Create cut down EDD dataframes for a given year.\n",
    "- Needed: update EDD Current Employment Statistics file as new files are released by EDD\n",
    "- Outputs: EDD dataframe and CSV file for a particular year"
   ]
  },
  {
   "cell_type": "code",
   "execution_count": 1,
   "id": "2fe16c96",
   "metadata": {},
   "outputs": [],
   "source": [
    "import pandas as pd\n",
    "import numpy as np\n",
    "from jqi_functions import *"
   ]
  },
  {
   "cell_type": "markdown",
   "id": "73ffa8b2",
   "metadata": {},
   "source": [
    "#### Enter the year of data needed"
   ]
  },
  {
   "cell_type": "code",
   "execution_count": 11,
   "id": "0964f8bd",
   "metadata": {},
   "outputs": [],
   "source": [
    "year = '2020'"
   ]
  },
  {
   "cell_type": "markdown",
   "id": "c25a7d8a",
   "metadata": {},
   "source": [
    "#### Load necessary data"
   ]
  },
  {
   "cell_type": "code",
   "execution_count": 2,
   "id": "f3d8b165",
   "metadata": {},
   "outputs": [],
   "source": [
    "edd = pd.read_csv('data/edd/Current_EDD_1121.csv')"
   ]
  },
  {
   "cell_type": "code",
   "execution_count": 3,
   "id": "eb8ff94f",
   "metadata": {},
   "outputs": [],
   "source": [
    "edd_crosswalk = pd.read_csv('data/edd/Industry_Title_Crosswalk.csv')"
   ]
  },
  {
   "cell_type": "code",
   "execution_count": 4,
   "id": "42ace03d",
   "metadata": {},
   "outputs": [],
   "source": [
    "county_info = pd.read_csv('data/county_to_regions_key.csv')"
   ]
  },
  {
   "cell_type": "code",
   "execution_count": 5,
   "id": "9c503dfe",
   "metadata": {},
   "outputs": [],
   "source": [
    "edd_to_ipums_crosswalk = pd.read_csv('data/edd/edd_to_ipums_crosswalk.csv')"
   ]
  },
  {
   "cell_type": "markdown",
   "id": "4ebf5a2d",
   "metadata": {},
   "source": [
    "#### Clean and filter data"
   ]
  },
  {
   "cell_type": "code",
   "execution_count": 6,
   "id": "c402aafa",
   "metadata": {},
   "outputs": [],
   "source": [
    "edd = clean_edd(edd, edd_crosswalk, edd_to_ipums_crosswalk, county_info)"
   ]
  },
  {
   "cell_type": "code",
   "execution_count": 7,
   "id": "dcd0b778",
   "metadata": {},
   "outputs": [],
   "source": [
    "edd = edd.loc[edd['Year'] == year].copy()"
   ]
  },
  {
   "cell_type": "code",
   "execution_count": 8,
   "id": "bf855db7",
   "metadata": {},
   "outputs": [
    {
     "data": {
      "text/html": [
       "<div>\n",
       "<style scoped>\n",
       "    .dataframe tbody tr th:only-of-type {\n",
       "        vertical-align: middle;\n",
       "    }\n",
       "\n",
       "    .dataframe tbody tr th {\n",
       "        vertical-align: top;\n",
       "    }\n",
       "\n",
       "    .dataframe thead th {\n",
       "        text-align: right;\n",
       "    }\n",
       "</style>\n",
       "<table border=\"1\" class=\"dataframe\">\n",
       "  <thead>\n",
       "    <tr style=\"text-align: right;\">\n",
       "      <th></th>\n",
       "      <th>Area Type</th>\n",
       "      <th>Area Name</th>\n",
       "      <th>Year</th>\n",
       "      <th>Month</th>\n",
       "      <th>Date</th>\n",
       "      <th>Series Code</th>\n",
       "      <th>Seasonally Adjusted</th>\n",
       "      <th>Current Employment</th>\n",
       "      <th>Industry Title</th>\n",
       "      <th>COUNTYFIP</th>\n",
       "      <th>County</th>\n",
       "      <th>Rural/Urban</th>\n",
       "      <th>CERF Regions</th>\n",
       "      <th>Crosswalk Value</th>\n",
       "    </tr>\n",
       "  </thead>\n",
       "  <tbody>\n",
       "    <tr>\n",
       "      <th>72</th>\n",
       "      <td>County</td>\n",
       "      <td>Alameda</td>\n",
       "      <td>2020</td>\n",
       "      <td>January</td>\n",
       "      <td>01/01/2020</td>\n",
       "      <td>70710000</td>\n",
       "      <td>N</td>\n",
       "      <td>12300</td>\n",
       "      <td>arts entertainment and recreation</td>\n",
       "      <td>1</td>\n",
       "      <td>Alameda</td>\n",
       "      <td>Urban</td>\n",
       "      <td>Bay Area</td>\n",
       "      <td>30</td>\n",
       "    </tr>\n",
       "    <tr>\n",
       "      <th>73</th>\n",
       "      <td>County</td>\n",
       "      <td>Alameda</td>\n",
       "      <td>2020</td>\n",
       "      <td>February</td>\n",
       "      <td>02/01/2020</td>\n",
       "      <td>70710000</td>\n",
       "      <td>N</td>\n",
       "      <td>12500</td>\n",
       "      <td>arts entertainment and recreation</td>\n",
       "      <td>1</td>\n",
       "      <td>Alameda</td>\n",
       "      <td>Urban</td>\n",
       "      <td>Bay Area</td>\n",
       "      <td>30</td>\n",
       "    </tr>\n",
       "    <tr>\n",
       "      <th>74</th>\n",
       "      <td>County</td>\n",
       "      <td>Alameda</td>\n",
       "      <td>2020</td>\n",
       "      <td>March</td>\n",
       "      <td>03/01/2020</td>\n",
       "      <td>70710000</td>\n",
       "      <td>N</td>\n",
       "      <td>12200</td>\n",
       "      <td>arts entertainment and recreation</td>\n",
       "      <td>1</td>\n",
       "      <td>Alameda</td>\n",
       "      <td>Urban</td>\n",
       "      <td>Bay Area</td>\n",
       "      <td>30</td>\n",
       "    </tr>\n",
       "    <tr>\n",
       "      <th>75</th>\n",
       "      <td>County</td>\n",
       "      <td>Alameda</td>\n",
       "      <td>2020</td>\n",
       "      <td>April</td>\n",
       "      <td>04/01/2020</td>\n",
       "      <td>70710000</td>\n",
       "      <td>N</td>\n",
       "      <td>5400</td>\n",
       "      <td>arts entertainment and recreation</td>\n",
       "      <td>1</td>\n",
       "      <td>Alameda</td>\n",
       "      <td>Urban</td>\n",
       "      <td>Bay Area</td>\n",
       "      <td>30</td>\n",
       "    </tr>\n",
       "    <tr>\n",
       "      <th>76</th>\n",
       "      <td>County</td>\n",
       "      <td>Alameda</td>\n",
       "      <td>2020</td>\n",
       "      <td>May</td>\n",
       "      <td>05/01/2020</td>\n",
       "      <td>70710000</td>\n",
       "      <td>N</td>\n",
       "      <td>5900</td>\n",
       "      <td>arts entertainment and recreation</td>\n",
       "      <td>1</td>\n",
       "      <td>Alameda</td>\n",
       "      <td>Urban</td>\n",
       "      <td>Bay Area</td>\n",
       "      <td>30</td>\n",
       "    </tr>\n",
       "  </tbody>\n",
       "</table>\n",
       "</div>"
      ],
      "text/plain": [
       "   Area Type Area Name  Year     Month        Date  Series Code  \\\n",
       "72    County   Alameda  2020   January  01/01/2020     70710000   \n",
       "73    County   Alameda  2020  February  02/01/2020     70710000   \n",
       "74    County   Alameda  2020     March  03/01/2020     70710000   \n",
       "75    County   Alameda  2020     April  04/01/2020     70710000   \n",
       "76    County   Alameda  2020       May  05/01/2020     70710000   \n",
       "\n",
       "   Seasonally Adjusted  Current Employment                     Industry Title  \\\n",
       "72                   N               12300  arts entertainment and recreation   \n",
       "73                   N               12500  arts entertainment and recreation   \n",
       "74                   N               12200  arts entertainment and recreation   \n",
       "75                   N                5400  arts entertainment and recreation   \n",
       "76                   N                5900  arts entertainment and recreation   \n",
       "\n",
       "    COUNTYFIP   County Rural/Urban CERF Regions  Crosswalk Value  \n",
       "72          1  Alameda       Urban     Bay Area               30  \n",
       "73          1  Alameda       Urban     Bay Area               30  \n",
       "74          1  Alameda       Urban     Bay Area               30  \n",
       "75          1  Alameda       Urban     Bay Area               30  \n",
       "76          1  Alameda       Urban     Bay Area               30  "
      ]
     },
     "execution_count": 8,
     "metadata": {},
     "output_type": "execute_result"
    }
   ],
   "source": [
    "edd.head()"
   ]
  },
  {
   "cell_type": "code",
   "execution_count": 9,
   "id": "5508bdc6",
   "metadata": {},
   "outputs": [],
   "source": [
    "edd = filter_edd(edd, region_series_codes)"
   ]
  },
  {
   "cell_type": "markdown",
   "id": "a5a3b5f6",
   "metadata": {},
   "source": [
    "#### Export outputs"
   ]
  },
  {
   "cell_type": "code",
   "execution_count": 10,
   "id": "734b832a",
   "metadata": {},
   "outputs": [],
   "source": [
    "edd.to_csv(f'data/edd/edd_{year}.csv', index=False)"
   ]
  },
  {
   "cell_type": "code",
   "execution_count": null,
   "id": "dc39d1fa",
   "metadata": {},
   "outputs": [],
   "source": []
  }
 ],
 "metadata": {
  "kernelspec": {
   "display_name": "Python 3",
   "language": "python",
   "name": "python3"
  },
  "language_info": {
   "codemirror_mode": {
    "name": "ipython",
    "version": 3
   },
   "file_extension": ".py",
   "mimetype": "text/x-python",
   "name": "python",
   "nbconvert_exporter": "python",
   "pygments_lexer": "ipython3",
   "version": "3.8.8"
  }
 },
 "nbformat": 4,
 "nbformat_minor": 5
}
