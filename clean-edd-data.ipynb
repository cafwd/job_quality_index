{
 "cells": [
  {
   "cell_type": "markdown",
   "id": "882acc84",
   "metadata": {},
   "source": [
    "## Create EDD Dataframes for a given year"
   ]
  },
  {
   "cell_type": "markdown",
   "id": "39ebaa06",
   "metadata": {},
   "source": [
    "### Summary of notebook:\n",
    "- Create cut down EDD dataframes for a given year.\n",
    "- Needed: update EDD Current Employment Statistics file as new files are released by EDD\n",
    "- Outputs: EDD dataframe and CSV file for a particular year"
   ]
  },
  {
   "cell_type": "code",
   "execution_count": 1,
   "id": "2fe16c96",
   "metadata": {},
   "outputs": [],
   "source": [
    "import pandas as pd\n",
    "import numpy as np\n",
    "from jqi_functions import *"
   ]
  },
  {
   "cell_type": "markdown",
   "id": "73ffa8b2",
   "metadata": {},
   "source": [
    "#### Enter the year of data needed"
   ]
  },
  {
   "cell_type": "code",
   "execution_count": 12,
   "id": "0964f8bd",
   "metadata": {},
   "outputs": [],
   "source": [
    "year = '2022'"
   ]
  },
  {
   "cell_type": "markdown",
   "id": "c25a7d8a",
   "metadata": {},
   "source": [
    "#### Load necessary data"
   ]
  },
  {
   "cell_type": "code",
   "execution_count": 13,
   "id": "f3d8b165",
   "metadata": {},
   "outputs": [],
   "source": [
    "edd = pd.read_csv('data/edd/Current_EDD_Statistics.csv')"
   ]
  },
  {
   "cell_type": "code",
   "execution_count": 14,
   "id": "eb8ff94f",
   "metadata": {},
   "outputs": [],
   "source": [
    "edd_crosswalk = pd.read_csv('data/edd/Industry_Title_Crosswalk.csv')"
   ]
  },
  {
   "cell_type": "code",
   "execution_count": 15,
   "id": "42ace03d",
   "metadata": {},
   "outputs": [],
   "source": [
    "county_info = pd.read_csv('data/county_to_regions_key.csv')"
   ]
  },
  {
   "cell_type": "code",
   "execution_count": 16,
   "id": "9c503dfe",
   "metadata": {},
   "outputs": [],
   "source": [
    "edd_to_ipums_crosswalk = pd.read_csv('data/edd/edd_to_ipums_crosswalk.csv')"
   ]
  },
  {
   "cell_type": "markdown",
   "id": "4ebf5a2d",
   "metadata": {},
   "source": [
    "#### Clean and filter data"
   ]
  },
  {
   "cell_type": "code",
   "execution_count": 17,
   "id": "c402aafa",
   "metadata": {},
   "outputs": [],
   "source": [
    "edd = clean_edd(edd, edd_crosswalk, edd_to_ipums_crosswalk, county_info)"
   ]
  },
  {
   "cell_type": "code",
   "execution_count": 18,
   "id": "dcd0b778",
   "metadata": {},
   "outputs": [],
   "source": [
    "edd = edd.loc[edd['Year'] == int(year)].copy()"
   ]
  },
  {
   "cell_type": "code",
   "execution_count": 19,
   "id": "bf855db7",
   "metadata": {},
   "outputs": [
    {
     "data": {
      "text/html": [
       "<div>\n",
       "<style scoped>\n",
       "    .dataframe tbody tr th:only-of-type {\n",
       "        vertical-align: middle;\n",
       "    }\n",
       "\n",
       "    .dataframe tbody tr th {\n",
       "        vertical-align: top;\n",
       "    }\n",
       "\n",
       "    .dataframe thead th {\n",
       "        text-align: right;\n",
       "    }\n",
       "</style>\n",
       "<table border=\"1\" class=\"dataframe\">\n",
       "  <thead>\n",
       "    <tr style=\"text-align: right;\">\n",
       "      <th></th>\n",
       "      <th>Area Type</th>\n",
       "      <th>Area Name</th>\n",
       "      <th>Year</th>\n",
       "      <th>Month</th>\n",
       "      <th>Date</th>\n",
       "      <th>Series Code</th>\n",
       "      <th>Seasonally Adjusted</th>\n",
       "      <th>Current Employment</th>\n",
       "      <th>Industry Title</th>\n",
       "      <th>COUNTYFIP</th>\n",
       "      <th>County</th>\n",
       "      <th>Rural/Urban</th>\n",
       "      <th>CERF Regions</th>\n",
       "      <th>Crosswalk Value</th>\n",
       "    </tr>\n",
       "  </thead>\n",
       "  <tbody>\n",
       "    <tr>\n",
       "      <th>360</th>\n",
       "      <td>County</td>\n",
       "      <td>Fresno</td>\n",
       "      <td>2022</td>\n",
       "      <td>January</td>\n",
       "      <td>01/01/2022</td>\n",
       "      <td>65620000</td>\n",
       "      <td>N</td>\n",
       "      <td>73900</td>\n",
       "      <td>health care and social assistance</td>\n",
       "      <td>19</td>\n",
       "      <td>Fresno</td>\n",
       "      <td>Urban</td>\n",
       "      <td>Central San Joaquin</td>\n",
       "      <td>28</td>\n",
       "    </tr>\n",
       "    <tr>\n",
       "      <th>361</th>\n",
       "      <td>County</td>\n",
       "      <td>Fresno</td>\n",
       "      <td>2022</td>\n",
       "      <td>February</td>\n",
       "      <td>02/01/2022</td>\n",
       "      <td>65620000</td>\n",
       "      <td>N</td>\n",
       "      <td>74900</td>\n",
       "      <td>health care and social assistance</td>\n",
       "      <td>19</td>\n",
       "      <td>Fresno</td>\n",
       "      <td>Urban</td>\n",
       "      <td>Central San Joaquin</td>\n",
       "      <td>28</td>\n",
       "    </tr>\n",
       "    <tr>\n",
       "      <th>362</th>\n",
       "      <td>County</td>\n",
       "      <td>Fresno</td>\n",
       "      <td>2022</td>\n",
       "      <td>March</td>\n",
       "      <td>03/01/2022</td>\n",
       "      <td>65620000</td>\n",
       "      <td>N</td>\n",
       "      <td>74700</td>\n",
       "      <td>health care and social assistance</td>\n",
       "      <td>19</td>\n",
       "      <td>Fresno</td>\n",
       "      <td>Urban</td>\n",
       "      <td>Central San Joaquin</td>\n",
       "      <td>28</td>\n",
       "    </tr>\n",
       "    <tr>\n",
       "      <th>363</th>\n",
       "      <td>County</td>\n",
       "      <td>Fresno</td>\n",
       "      <td>2022</td>\n",
       "      <td>April</td>\n",
       "      <td>04/01/2022</td>\n",
       "      <td>65620000</td>\n",
       "      <td>N</td>\n",
       "      <td>75800</td>\n",
       "      <td>health care and social assistance</td>\n",
       "      <td>19</td>\n",
       "      <td>Fresno</td>\n",
       "      <td>Urban</td>\n",
       "      <td>Central San Joaquin</td>\n",
       "      <td>28</td>\n",
       "    </tr>\n",
       "    <tr>\n",
       "      <th>508</th>\n",
       "      <td>County</td>\n",
       "      <td>Kern</td>\n",
       "      <td>2022</td>\n",
       "      <td>January</td>\n",
       "      <td>01/01/2022</td>\n",
       "      <td>65620000</td>\n",
       "      <td>N</td>\n",
       "      <td>40200</td>\n",
       "      <td>health care and social assistance</td>\n",
       "      <td>29</td>\n",
       "      <td>Kern</td>\n",
       "      <td>Urban</td>\n",
       "      <td>Kern</td>\n",
       "      <td>28</td>\n",
       "    </tr>\n",
       "  </tbody>\n",
       "</table>\n",
       "</div>"
      ],
      "text/plain": [
       "    Area Type Area Name  Year     Month        Date  Series Code  \\\n",
       "360    County    Fresno  2022   January  01/01/2022     65620000   \n",
       "361    County    Fresno  2022  February  02/01/2022     65620000   \n",
       "362    County    Fresno  2022     March  03/01/2022     65620000   \n",
       "363    County    Fresno  2022     April  04/01/2022     65620000   \n",
       "508    County      Kern  2022   January  01/01/2022     65620000   \n",
       "\n",
       "    Seasonally Adjusted  Current Employment  \\\n",
       "360                   N               73900   \n",
       "361                   N               74900   \n",
       "362                   N               74700   \n",
       "363                   N               75800   \n",
       "508                   N               40200   \n",
       "\n",
       "                        Industry Title  COUNTYFIP  County Rural/Urban  \\\n",
       "360  health care and social assistance         19  Fresno       Urban   \n",
       "361  health care and social assistance         19  Fresno       Urban   \n",
       "362  health care and social assistance         19  Fresno       Urban   \n",
       "363  health care and social assistance         19  Fresno       Urban   \n",
       "508  health care and social assistance         29    Kern       Urban   \n",
       "\n",
       "            CERF Regions  Crosswalk Value  \n",
       "360  Central San Joaquin               28  \n",
       "361  Central San Joaquin               28  \n",
       "362  Central San Joaquin               28  \n",
       "363  Central San Joaquin               28  \n",
       "508                 Kern               28  "
      ]
     },
     "execution_count": 19,
     "metadata": {},
     "output_type": "execute_result"
    }
   ],
   "source": [
    "edd.head()"
   ]
  },
  {
   "cell_type": "code",
   "execution_count": 20,
   "id": "5508bdc6",
   "metadata": {},
   "outputs": [],
   "source": [
    "edd = filter_edd(edd, region_series_codes)"
   ]
  },
  {
   "cell_type": "markdown",
   "id": "a5a3b5f6",
   "metadata": {},
   "source": [
    "#### Export outputs"
   ]
  },
  {
   "cell_type": "code",
   "execution_count": 21,
   "id": "734b832a",
   "metadata": {},
   "outputs": [],
   "source": [
    "edd.to_csv(f'data/edd/edd_{year}.csv', index=False)"
   ]
  },
  {
   "cell_type": "code",
   "execution_count": null,
   "id": "dc39d1fa",
   "metadata": {},
   "outputs": [],
   "source": []
  }
 ],
 "metadata": {
  "kernelspec": {
   "display_name": "Python 3",
   "language": "python",
   "name": "python3"
  },
  "language_info": {
   "codemirror_mode": {
    "name": "ipython",
    "version": 3
   },
   "file_extension": ".py",
   "mimetype": "text/x-python",
   "name": "python",
   "nbconvert_exporter": "python",
   "pygments_lexer": "ipython3",
   "version": "3.8.8"
  }
 },
 "nbformat": 4,
 "nbformat_minor": 5
}
