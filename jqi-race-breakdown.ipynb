{
 "cells": [
  {
   "cell_type": "markdown",
   "id": "7c1bc220",
   "metadata": {},
   "source": [
    "# Notebook for Creating High Wage Outputs with Racial Demographics Breakdown"
   ]
  },
  {
   "cell_type": "code",
   "execution_count": 1,
   "id": "f79691da",
   "metadata": {},
   "outputs": [],
   "source": [
    "import pandas as pd\n",
    "import numpy as np\n",
    "import matplotlib.pyplot as plt\n",
    "import string\n",
    "import warnings\n",
    "import os\n",
    "import re\n",
    "from jqi_functions import *\n",
    "warnings.filterwarnings('ignore')\n",
    "%config InlineBackend.figure_format='retina'"
   ]
  },
  {
   "cell_type": "markdown",
   "id": "bd73b443",
   "metadata": {},
   "source": [
    "## Set the desired year and the corresponding cost of living year"
   ]
  },
  {
   "cell_type": "code",
   "execution_count": 2,
   "id": "4c2ca1af",
   "metadata": {},
   "outputs": [],
   "source": [
    "year = '2014'\n",
    "col_year = '2014'"
   ]
  },
  {
   "cell_type": "markdown",
   "id": "541b14ff",
   "metadata": {},
   "source": [
    "## Creating IPUMS dataframe\n",
    "\n",
    "#### IPUMS Data\n",
    "`cleaned_ipums_demo` is a function to generate a cleaned pandas dataframe using IPUMS data, filtering it down to California only and the desired year. The dataframe will also include the racial demographic information for each record in the dataset. The year needs to be entered in string format as a parameter."
   ]
  },
  {
   "cell_type": "code",
   "execution_count": 3,
   "id": "8edac598",
   "metadata": {},
   "outputs": [],
   "source": [
    "ca_ipums = cleaned_ipums_demo(year)"
   ]
  },
  {
   "cell_type": "markdown",
   "id": "c844ebe1",
   "metadata": {},
   "source": [
    "#### Cost of living needs to be updated each year.\n",
    "\n",
    "In this case, the 2020 United Way Real Cost Measure has not been published, so I will continue using the data from 2019."
   ]
  },
  {
   "cell_type": "code",
   "execution_count": 4,
   "id": "eae5cff6",
   "metadata": {},
   "outputs": [],
   "source": [
    "cost_of_living = pd.read_csv(f'data/cost_of_living/united-way-col-1A1PS1C{col_year}.csv')"
   ]
  },
  {
   "cell_type": "markdown",
   "id": "861721ec",
   "metadata": {},
   "source": [
    "### Create county lookup dataframe\n",
    "\n",
    "Expanding the `county_info` dataframe to include cost of living metrics. This dataframe is used when industry information in a geographic area is too sparse and the next largest geographic area needs to be used instead."
   ]
  },
  {
   "cell_type": "code",
   "execution_count": 5,
   "id": "e5dbdb6a",
   "metadata": {},
   "outputs": [],
   "source": [
    "county_info = pd.read_csv('data/county_to_regions_key.csv')"
   ]
  },
  {
   "cell_type": "code",
   "execution_count": 6,
   "id": "bcdeddd8",
   "metadata": {},
   "outputs": [],
   "source": [
    "county_info = county_info[['County', 'COUNTYFIP', 'Rural/Urban', 'CERF Regions']]"
   ]
  },
  {
   "cell_type": "code",
   "execution_count": 7,
   "id": "29edf5af",
   "metadata": {},
   "outputs": [],
   "source": [
    "county_info = pd.merge(county_info, cost_of_living, left_on = 'CERF Regions', right_on = 'Regions')"
   ]
  },
  {
   "cell_type": "code",
   "execution_count": 8,
   "id": "b3347dc5",
   "metadata": {},
   "outputs": [],
   "source": [
    "county_info = county_info.rename(columns = {'Cost of Living':'Regional COL'})\n",
    "county_info = county_info.drop(columns=['Regions'])"
   ]
  },
  {
   "cell_type": "code",
   "execution_count": 9,
   "id": "a591bcbf",
   "metadata": {},
   "outputs": [],
   "source": [
    "# county_info = pd.merge(county_info, cost_of_living, left_on = 'Rural/Urban', right_on = 'Regions')"
   ]
  },
  {
   "cell_type": "code",
   "execution_count": 10,
   "id": "ca3255c0",
   "metadata": {},
   "outputs": [],
   "source": [
    "# county_info = county_info.rename(columns = {'Cost of Living':'Rural/Urban COL', 'Regions_x':'Regions'})\n",
    "# county_info = county_info.drop(columns=['Regions_y'])"
   ]
  },
  {
   "cell_type": "code",
   "execution_count": 11,
   "id": "187ac3c5",
   "metadata": {},
   "outputs": [],
   "source": [
    "county_info['State COL'] = cost_of_living.iloc[13][1]"
   ]
  },
  {
   "cell_type": "markdown",
   "id": "0c17fd31",
   "metadata": {},
   "source": [
    "View of final `county_info` dataframe."
   ]
  },
  {
   "cell_type": "code",
   "execution_count": 12,
   "id": "9577720a",
   "metadata": {},
   "outputs": [
    {
     "data": {
      "text/html": [
       "<div>\n",
       "<style scoped>\n",
       "    .dataframe tbody tr th:only-of-type {\n",
       "        vertical-align: middle;\n",
       "    }\n",
       "\n",
       "    .dataframe tbody tr th {\n",
       "        vertical-align: top;\n",
       "    }\n",
       "\n",
       "    .dataframe thead th {\n",
       "        text-align: right;\n",
       "    }\n",
       "</style>\n",
       "<table border=\"1\" class=\"dataframe\">\n",
       "  <thead>\n",
       "    <tr style=\"text-align: right;\">\n",
       "      <th></th>\n",
       "      <th>County</th>\n",
       "      <th>COUNTYFIP</th>\n",
       "      <th>Rural/Urban</th>\n",
       "      <th>CERF Regions</th>\n",
       "      <th>Regional COL</th>\n",
       "      <th>State COL</th>\n",
       "    </tr>\n",
       "  </thead>\n",
       "  <tbody>\n",
       "    <tr>\n",
       "      <th>0</th>\n",
       "      <td>Alameda</td>\n",
       "      <td>1</td>\n",
       "      <td>Urban</td>\n",
       "      <td>Bay Area</td>\n",
       "      <td>77661</td>\n",
       "      <td>67433</td>\n",
       "    </tr>\n",
       "    <tr>\n",
       "      <th>1</th>\n",
       "      <td>Contra Costa</td>\n",
       "      <td>13</td>\n",
       "      <td>Urban</td>\n",
       "      <td>Bay Area</td>\n",
       "      <td>77661</td>\n",
       "      <td>67433</td>\n",
       "    </tr>\n",
       "    <tr>\n",
       "      <th>2</th>\n",
       "      <td>Solano</td>\n",
       "      <td>95</td>\n",
       "      <td>Urban</td>\n",
       "      <td>Bay Area</td>\n",
       "      <td>77661</td>\n",
       "      <td>67433</td>\n",
       "    </tr>\n",
       "    <tr>\n",
       "      <th>3</th>\n",
       "      <td>San Mateo</td>\n",
       "      <td>81</td>\n",
       "      <td>Urban</td>\n",
       "      <td>Bay Area</td>\n",
       "      <td>77661</td>\n",
       "      <td>67433</td>\n",
       "    </tr>\n",
       "    <tr>\n",
       "      <th>4</th>\n",
       "      <td>Santa Clara</td>\n",
       "      <td>85</td>\n",
       "      <td>Urban</td>\n",
       "      <td>Bay Area</td>\n",
       "      <td>77661</td>\n",
       "      <td>67433</td>\n",
       "    </tr>\n",
       "  </tbody>\n",
       "</table>\n",
       "</div>"
      ],
      "text/plain": [
       "         County  COUNTYFIP Rural/Urban CERF Regions  Regional COL  State COL\n",
       "0       Alameda          1       Urban     Bay Area         77661      67433\n",
       "1  Contra Costa         13       Urban     Bay Area         77661      67433\n",
       "2        Solano         95       Urban     Bay Area         77661      67433\n",
       "3     San Mateo         81       Urban     Bay Area         77661      67433\n",
       "4   Santa Clara         85       Urban     Bay Area         77661      67433"
      ]
     },
     "execution_count": 12,
     "metadata": {},
     "output_type": "execute_result"
    }
   ],
   "source": [
    "county_info.head()"
   ]
  },
  {
   "cell_type": "code",
   "execution_count": 13,
   "id": "06a054d2",
   "metadata": {},
   "outputs": [],
   "source": [
    "ca_ipums = pd.merge(ca_ipums, county_info, on = 'COUNTYFIP')"
   ]
  },
  {
   "cell_type": "markdown",
   "id": "a84ea928",
   "metadata": {},
   "source": [
    "View of final `ca_ipums` dataframe."
   ]
  },
  {
   "cell_type": "code",
   "execution_count": 14,
   "id": "e6202d21",
   "metadata": {},
   "outputs": [
    {
     "data": {
      "text/html": [
       "<div>\n",
       "<style scoped>\n",
       "    .dataframe tbody tr th:only-of-type {\n",
       "        vertical-align: middle;\n",
       "    }\n",
       "\n",
       "    .dataframe tbody tr th {\n",
       "        vertical-align: top;\n",
       "    }\n",
       "\n",
       "    .dataframe thead th {\n",
       "        text-align: right;\n",
       "    }\n",
       "</style>\n",
       "<table border=\"1\" class=\"dataframe\">\n",
       "  <thead>\n",
       "    <tr style=\"text-align: right;\">\n",
       "      <th></th>\n",
       "      <th>YEAR</th>\n",
       "      <th>COUNTYFIP</th>\n",
       "      <th>INDNAICS</th>\n",
       "      <th>PERWT</th>\n",
       "      <th>RACE</th>\n",
       "      <th>HISPAN</th>\n",
       "      <th>INCWAGE</th>\n",
       "      <th>NAICS Code</th>\n",
       "      <th>Industry Title</th>\n",
       "      <th>Industry</th>\n",
       "      <th>Crosswalk Value</th>\n",
       "      <th>County</th>\n",
       "      <th>Rural/Urban</th>\n",
       "      <th>CERF Regions</th>\n",
       "      <th>Regional COL</th>\n",
       "      <th>State COL</th>\n",
       "    </tr>\n",
       "  </thead>\n",
       "  <tbody>\n",
       "    <tr>\n",
       "      <th>0</th>\n",
       "      <td>2014</td>\n",
       "      <td>73</td>\n",
       "      <td>5413</td>\n",
       "      <td>260.0</td>\n",
       "      <td>1</td>\n",
       "      <td>0</td>\n",
       "      <td>40000</td>\n",
       "      <td>5413</td>\n",
       "      <td>architectural engineering and related services</td>\n",
       "      <td>architectural engineering and related services</td>\n",
       "      <td>22</td>\n",
       "      <td>San Diego</td>\n",
       "      <td>Urban</td>\n",
       "      <td>San Diego-Imperial</td>\n",
       "      <td>66878</td>\n",
       "      <td>67433</td>\n",
       "    </tr>\n",
       "    <tr>\n",
       "      <th>1</th>\n",
       "      <td>2014</td>\n",
       "      <td>73</td>\n",
       "      <td>5413</td>\n",
       "      <td>260.0</td>\n",
       "      <td>1</td>\n",
       "      <td>0</td>\n",
       "      <td>40000</td>\n",
       "      <td>5413</td>\n",
       "      <td>architectural engineering and related services</td>\n",
       "      <td>architectural engineering and related services</td>\n",
       "      <td>23</td>\n",
       "      <td>San Diego</td>\n",
       "      <td>Urban</td>\n",
       "      <td>San Diego-Imperial</td>\n",
       "      <td>66878</td>\n",
       "      <td>67433</td>\n",
       "    </tr>\n",
       "    <tr>\n",
       "      <th>2</th>\n",
       "      <td>2014</td>\n",
       "      <td>73</td>\n",
       "      <td>5413</td>\n",
       "      <td>60.0</td>\n",
       "      <td>1</td>\n",
       "      <td>0</td>\n",
       "      <td>200000</td>\n",
       "      <td>5413</td>\n",
       "      <td>architectural engineering and related services</td>\n",
       "      <td>architectural engineering and related services</td>\n",
       "      <td>22</td>\n",
       "      <td>San Diego</td>\n",
       "      <td>Urban</td>\n",
       "      <td>San Diego-Imperial</td>\n",
       "      <td>66878</td>\n",
       "      <td>67433</td>\n",
       "    </tr>\n",
       "    <tr>\n",
       "      <th>3</th>\n",
       "      <td>2014</td>\n",
       "      <td>73</td>\n",
       "      <td>5413</td>\n",
       "      <td>60.0</td>\n",
       "      <td>1</td>\n",
       "      <td>0</td>\n",
       "      <td>200000</td>\n",
       "      <td>5413</td>\n",
       "      <td>architectural engineering and related services</td>\n",
       "      <td>architectural engineering and related services</td>\n",
       "      <td>23</td>\n",
       "      <td>San Diego</td>\n",
       "      <td>Urban</td>\n",
       "      <td>San Diego-Imperial</td>\n",
       "      <td>66878</td>\n",
       "      <td>67433</td>\n",
       "    </tr>\n",
       "    <tr>\n",
       "      <th>4</th>\n",
       "      <td>2014</td>\n",
       "      <td>73</td>\n",
       "      <td>5413</td>\n",
       "      <td>125.0</td>\n",
       "      <td>1</td>\n",
       "      <td>4</td>\n",
       "      <td>82000</td>\n",
       "      <td>5413</td>\n",
       "      <td>architectural engineering and related services</td>\n",
       "      <td>architectural engineering and related services</td>\n",
       "      <td>22</td>\n",
       "      <td>San Diego</td>\n",
       "      <td>Urban</td>\n",
       "      <td>San Diego-Imperial</td>\n",
       "      <td>66878</td>\n",
       "      <td>67433</td>\n",
       "    </tr>\n",
       "  </tbody>\n",
       "</table>\n",
       "</div>"
      ],
      "text/plain": [
       "   YEAR  COUNTYFIP INDNAICS  PERWT  RACE  HISPAN  INCWAGE NAICS Code  \\\n",
       "0  2014         73     5413  260.0     1       0    40000       5413   \n",
       "1  2014         73     5413  260.0     1       0    40000       5413   \n",
       "2  2014         73     5413   60.0     1       0   200000       5413   \n",
       "3  2014         73     5413   60.0     1       0   200000       5413   \n",
       "4  2014         73     5413  125.0     1       4    82000       5413   \n",
       "\n",
       "                                   Industry Title  \\\n",
       "0  architectural engineering and related services   \n",
       "1  architectural engineering and related services   \n",
       "2  architectural engineering and related services   \n",
       "3  architectural engineering and related services   \n",
       "4  architectural engineering and related services   \n",
       "\n",
       "                                         Industry  Crosswalk Value     County  \\\n",
       "0  architectural engineering and related services               22  San Diego   \n",
       "1  architectural engineering and related services               23  San Diego   \n",
       "2  architectural engineering and related services               22  San Diego   \n",
       "3  architectural engineering and related services               23  San Diego   \n",
       "4  architectural engineering and related services               22  San Diego   \n",
       "\n",
       "  Rural/Urban        CERF Regions  Regional COL  State COL  \n",
       "0       Urban  San Diego-Imperial         66878      67433  \n",
       "1       Urban  San Diego-Imperial         66878      67433  \n",
       "2       Urban  San Diego-Imperial         66878      67433  \n",
       "3       Urban  San Diego-Imperial         66878      67433  \n",
       "4       Urban  San Diego-Imperial         66878      67433  "
      ]
     },
     "execution_count": 14,
     "metadata": {},
     "output_type": "execute_result"
    }
   ],
   "source": [
    "ca_ipums.head()"
   ]
  },
  {
   "cell_type": "markdown",
   "id": "cc4a449b",
   "metadata": {},
   "source": [
    "## Create EDD Dataframe\n",
    "\n",
    "#### EDD Data\n",
    "The year for EDD data must be specified.\n",
    "\n",
    "These CSV files are filtered and cleaned versions of the raw EDD Current Employment Statistics dataset. These CSV files can be created for upcoming years with the notebook `multiyear-edd-data-creation.ipynb`"
   ]
  },
  {
   "cell_type": "code",
   "execution_count": 15,
   "id": "17b97553",
   "metadata": {},
   "outputs": [],
   "source": [
    "edd = pd.read_csv(f'data/edd/edd_{year}.csv')"
   ]
  },
  {
   "cell_type": "markdown",
   "id": "6dddbb1d",
   "metadata": {},
   "source": [
    "View of final `edd` dataframe."
   ]
  },
  {
   "cell_type": "code",
   "execution_count": 16,
   "id": "6e120928",
   "metadata": {},
   "outputs": [
    {
     "data": {
      "text/html": [
       "<div>\n",
       "<style scoped>\n",
       "    .dataframe tbody tr th:only-of-type {\n",
       "        vertical-align: middle;\n",
       "    }\n",
       "\n",
       "    .dataframe tbody tr th {\n",
       "        vertical-align: top;\n",
       "    }\n",
       "\n",
       "    .dataframe thead th {\n",
       "        text-align: right;\n",
       "    }\n",
       "</style>\n",
       "<table border=\"1\" class=\"dataframe\">\n",
       "  <thead>\n",
       "    <tr style=\"text-align: right;\">\n",
       "      <th></th>\n",
       "      <th>Area Type</th>\n",
       "      <th>Area Name</th>\n",
       "      <th>Year</th>\n",
       "      <th>Month</th>\n",
       "      <th>Date</th>\n",
       "      <th>Series Code</th>\n",
       "      <th>Seasonally Adjusted</th>\n",
       "      <th>Current Employment</th>\n",
       "      <th>Industry Title</th>\n",
       "      <th>COUNTYFIP</th>\n",
       "      <th>County</th>\n",
       "      <th>Rural/Urban</th>\n",
       "      <th>CERF Regions</th>\n",
       "      <th>Crosswalk Value</th>\n",
       "    </tr>\n",
       "  </thead>\n",
       "  <tbody>\n",
       "    <tr>\n",
       "      <th>0</th>\n",
       "      <td>County</td>\n",
       "      <td>Alameda</td>\n",
       "      <td>2014</td>\n",
       "      <td>January</td>\n",
       "      <td>01/01/2014</td>\n",
       "      <td>80000000</td>\n",
       "      <td>N</td>\n",
       "      <td>24400</td>\n",
       "      <td>other services</td>\n",
       "      <td>1</td>\n",
       "      <td>Alameda</td>\n",
       "      <td>Urban</td>\n",
       "      <td>Bay Area</td>\n",
       "      <td>32</td>\n",
       "    </tr>\n",
       "    <tr>\n",
       "      <th>1</th>\n",
       "      <td>County</td>\n",
       "      <td>Alameda</td>\n",
       "      <td>2014</td>\n",
       "      <td>February</td>\n",
       "      <td>02/01/2014</td>\n",
       "      <td>80000000</td>\n",
       "      <td>N</td>\n",
       "      <td>24700</td>\n",
       "      <td>other services</td>\n",
       "      <td>1</td>\n",
       "      <td>Alameda</td>\n",
       "      <td>Urban</td>\n",
       "      <td>Bay Area</td>\n",
       "      <td>32</td>\n",
       "    </tr>\n",
       "    <tr>\n",
       "      <th>2</th>\n",
       "      <td>County</td>\n",
       "      <td>Alameda</td>\n",
       "      <td>2014</td>\n",
       "      <td>March</td>\n",
       "      <td>03/01/2014</td>\n",
       "      <td>80000000</td>\n",
       "      <td>N</td>\n",
       "      <td>24800</td>\n",
       "      <td>other services</td>\n",
       "      <td>1</td>\n",
       "      <td>Alameda</td>\n",
       "      <td>Urban</td>\n",
       "      <td>Bay Area</td>\n",
       "      <td>32</td>\n",
       "    </tr>\n",
       "    <tr>\n",
       "      <th>3</th>\n",
       "      <td>County</td>\n",
       "      <td>Alameda</td>\n",
       "      <td>2014</td>\n",
       "      <td>April</td>\n",
       "      <td>04/01/2014</td>\n",
       "      <td>80000000</td>\n",
       "      <td>N</td>\n",
       "      <td>25600</td>\n",
       "      <td>other services</td>\n",
       "      <td>1</td>\n",
       "      <td>Alameda</td>\n",
       "      <td>Urban</td>\n",
       "      <td>Bay Area</td>\n",
       "      <td>32</td>\n",
       "    </tr>\n",
       "    <tr>\n",
       "      <th>4</th>\n",
       "      <td>County</td>\n",
       "      <td>Alameda</td>\n",
       "      <td>2014</td>\n",
       "      <td>May</td>\n",
       "      <td>05/01/2014</td>\n",
       "      <td>80000000</td>\n",
       "      <td>N</td>\n",
       "      <td>25200</td>\n",
       "      <td>other services</td>\n",
       "      <td>1</td>\n",
       "      <td>Alameda</td>\n",
       "      <td>Urban</td>\n",
       "      <td>Bay Area</td>\n",
       "      <td>32</td>\n",
       "    </tr>\n",
       "  </tbody>\n",
       "</table>\n",
       "</div>"
      ],
      "text/plain": [
       "  Area Type Area Name  Year     Month        Date  Series Code  \\\n",
       "0    County   Alameda  2014   January  01/01/2014     80000000   \n",
       "1    County   Alameda  2014  February  02/01/2014     80000000   \n",
       "2    County   Alameda  2014     March  03/01/2014     80000000   \n",
       "3    County   Alameda  2014     April  04/01/2014     80000000   \n",
       "4    County   Alameda  2014       May  05/01/2014     80000000   \n",
       "\n",
       "  Seasonally Adjusted  Current Employment  Industry Title  COUNTYFIP   County  \\\n",
       "0                   N               24400  other services          1  Alameda   \n",
       "1                   N               24700  other services          1  Alameda   \n",
       "2                   N               24800  other services          1  Alameda   \n",
       "3                   N               25600  other services          1  Alameda   \n",
       "4                   N               25200  other services          1  Alameda   \n",
       "\n",
       "  Rural/Urban CERF Regions  Crosswalk Value  \n",
       "0       Urban     Bay Area               32  \n",
       "1       Urban     Bay Area               32  \n",
       "2       Urban     Bay Area               32  \n",
       "3       Urban     Bay Area               32  \n",
       "4       Urban     Bay Area               32  "
      ]
     },
     "execution_count": 16,
     "metadata": {},
     "output_type": "execute_result"
    }
   ],
   "source": [
    "edd.head()"
   ]
  },
  {
   "cell_type": "markdown",
   "id": "16d61cbc",
   "metadata": {},
   "source": [
    "## Breakdown dataframes by race"
   ]
  },
  {
   "cell_type": "code",
   "execution_count": 17,
   "id": "d563f9f9",
   "metadata": {},
   "outputs": [],
   "source": [
    "ca_ipums_latino = ca_ipums.loc[ca_ipums['HISPAN'] != 0]\n",
    "ca_ipums_no_latino = ca_ipums.loc[ca_ipums['HISPAN'] == 0]\n",
    "ca_ipums_white = ca_ipums_no_latino.loc[ca_ipums_no_latino['RACE'] == 1]\n",
    "ca_ipums_black = ca_ipums_no_latino.loc[ca_ipums_no_latino['RACE'] == 2]\n",
    "ca_ipums_native = ca_ipums_no_latino.loc[ca_ipums_no_latino['RACE'] == 3]\n",
    "ca_ipums_asian = ca_ipums_no_latino.loc[(ca_ipums_no_latino['RACE'] == 4) |\n",
    "                                   (ca_ipums_no_latino['RACE'] == 5) |\n",
    "                                   (ca_ipums_no_latino['RACE'] == 6)]\n",
    "ca_ipums_other = ca_ipums_no_latino.loc[ca_ipums_no_latino['RACE'] == 7]\n",
    "ca_ipums_multi = ca_ipums_no_latino.loc[(ca_ipums_no_latino['RACE'] == 8) |\n",
    "                                   (ca_ipums_no_latino['RACE'] == 9)]"
   ]
  },
  {
   "cell_type": "code",
   "execution_count": 18,
   "id": "525e47c1",
   "metadata": {},
   "outputs": [],
   "source": [
    "wt_counts = {}\n",
    "for code in ca_ipums['Crosswalk Value'].unique():\n",
    "    code_copy = ca_ipums.loc[ca_ipums['Crosswalk Value'] == code].copy()\n",
    "    wt_counts[code] = code_copy['PERWT'].sum()"
   ]
  },
  {
   "cell_type": "code",
   "execution_count": 19,
   "id": "be7d348c",
   "metadata": {},
   "outputs": [],
   "source": [
    "def append_race_ratio(df, wt_counts):\n",
    "    df['race_ratio'] = 0\n",
    "    for code in df['Crosswalk Value'].unique():\n",
    "        perwt = df['PERWT'][df['Crosswalk Value'] == code].sum()\n",
    "        df['race_ratio'][df['Crosswalk Value'] == code] = perwt / wt_counts[code]\n",
    "    return df"
   ]
  },
  {
   "cell_type": "code",
   "execution_count": 20,
   "id": "2c317fea",
   "metadata": {},
   "outputs": [],
   "source": [
    "ca_ipums_white = append_race_ratio(ca_ipums_white, wt_counts)"
   ]
  },
  {
   "cell_type": "code",
   "execution_count": 21,
   "id": "522fe70d",
   "metadata": {},
   "outputs": [],
   "source": [
    "ca_ipums_latino = append_race_ratio(ca_ipums_latino, wt_counts)"
   ]
  },
  {
   "cell_type": "code",
   "execution_count": 22,
   "id": "841e9bc7",
   "metadata": {},
   "outputs": [],
   "source": [
    "ca_ipums_black = append_race_ratio(ca_ipums_black, wt_counts)"
   ]
  },
  {
   "cell_type": "code",
   "execution_count": 23,
   "id": "a04f2559",
   "metadata": {},
   "outputs": [],
   "source": [
    "ca_ipums_native = append_race_ratio(ca_ipums_native, wt_counts)"
   ]
  },
  {
   "cell_type": "code",
   "execution_count": 24,
   "id": "52e772b7",
   "metadata": {},
   "outputs": [],
   "source": [
    "ca_ipums_asian = append_race_ratio(ca_ipums_asian, wt_counts)"
   ]
  },
  {
   "cell_type": "code",
   "execution_count": 25,
   "id": "187ff312",
   "metadata": {},
   "outputs": [],
   "source": [
    "ca_ipums_other = append_race_ratio(ca_ipums_other, wt_counts)"
   ]
  },
  {
   "cell_type": "code",
   "execution_count": 26,
   "id": "95f7f1e0",
   "metadata": {},
   "outputs": [],
   "source": [
    "ca_ipums_multi = append_race_ratio(ca_ipums_multi, wt_counts)"
   ]
  },
  {
   "cell_type": "markdown",
   "id": "03cb37cf",
   "metadata": {},
   "source": [
    "## Add High Wage Features\n",
    "\n",
    "`add_geo_high_wages` is a function that adds the following engineered features:\n",
    "- Above Threshold (Number of records above respective cost of living threshold)\n",
    "- Weighted above threshold (Above Threshold multiplied by person weight variable)\n",
    "- Unweighted industry counts (Number of records in that industry)\n",
    "- Weighted industry counts (Sum of person weight values in that industry)\n",
    "- Weighted high wage percentage (Weighted Above Threshold divided by Weighted Industry Counts as a percentage)\n",
    "\n",
    "The features are created for the following geographical levels:\n",
    "- Region\n",
    "- California"
   ]
  },
  {
   "cell_type": "code",
   "execution_count": 27,
   "id": "a10e163b",
   "metadata": {},
   "outputs": [],
   "source": [
    "ca_ipums_hw_white = add_geo_high_wages(ca_ipums_white)\n",
    "ca_ipums_hw_latino = add_geo_high_wages(ca_ipums_latino)\n",
    "ca_ipums_hw_black = add_geo_high_wages(ca_ipums_black)\n",
    "ca_ipums_hw_native = add_geo_high_wages(ca_ipums_native)\n",
    "ca_ipums_hw_asian = add_geo_high_wages(ca_ipums_asian)\n",
    "ca_ipums_hw_other = add_geo_high_wages(ca_ipums_other)\n",
    "ca_ipums_hw_multi = add_geo_high_wages(ca_ipums_multi)"
   ]
  },
  {
   "cell_type": "markdown",
   "id": "cf05bec2",
   "metadata": {},
   "source": [
    "## Create High Wage Outputs Dataframe\n",
    "\n",
    "`edd_to_hw` is the function that outputs the values needed to create the high wage output dataframe. This portion of the notebook runs through every unique combination of region, industry, and date, to get that respective output and add it to the dataframe.\n",
    "\n",
    "Because of the nested structure of the EDD industries, only a small selection of EDD industries can be used to ensure that individuals in nested industries are not counted twice. The selection of these industries different per region, so the series code of each industry is documented in the `region_series_codes` global variable in the `jqi_functions.py` library. Each of these codes were then assigned their own crosswalk value, which align with each crosswalk value assigned to each IPUMS industry. For generating high wage outputs, we only iterate through the EDD industries that have been selected and have a designated crosswalk value.\n",
    "\n",
    "Getting unique values for each region, industry, and date."
   ]
  },
  {
   "cell_type": "code",
   "execution_count": 28,
   "id": "2911328e",
   "metadata": {},
   "outputs": [],
   "source": [
    "regions_ipums = ca_ipums['CERF Regions'].unique()"
   ]
  },
  {
   "cell_type": "code",
   "execution_count": 29,
   "id": "97648b41",
   "metadata": {},
   "outputs": [],
   "source": [
    "crosswalk_vals = sorted(edd['Crosswalk Value'].unique())"
   ]
  },
  {
   "cell_type": "code",
   "execution_count": 30,
   "id": "6159e310",
   "metadata": {},
   "outputs": [],
   "source": [
    "dates_edd = edd['Date'].unique()"
   ]
  },
  {
   "cell_type": "code",
   "execution_count": 31,
   "id": "558f2f3f",
   "metadata": {},
   "outputs": [],
   "source": [
    "total_iterations = len(regions_ipums) * len(crosswalk_vals) * len(dates_edd)"
   ]
  },
  {
   "cell_type": "markdown",
   "id": "ef86679e",
   "metadata": {},
   "source": [
    "#### White"
   ]
  },
  {
   "cell_type": "code",
   "execution_count": 32,
   "id": "7fe23860",
   "metadata": {},
   "outputs": [],
   "source": [
    "industries = []\n",
    "dates = []\n",
    "regions = []\n",
    "counts = []\n",
    "emp_counts = []"
   ]
  },
  {
   "cell_type": "markdown",
   "id": "36745c68",
   "metadata": {},
   "source": [
    "For loop to populate lists for the high wage outputs. This will take some time to finish running."
   ]
  },
  {
   "cell_type": "code",
   "execution_count": 33,
   "id": "2af3cea8",
   "metadata": {},
   "outputs": [
    {
     "name": "stdout",
     "output_type": "stream",
     "text": [
      "Progress: 10% Complete\n",
      "Progress: 20% Complete\n",
      "Progress: 30% Complete\n",
      "Progress: 40% Complete\n",
      "Progress: 50% Complete\n",
      "Progress: 60% Complete\n",
      "Progress: 70% Complete\n",
      "Progress: 80% Complete\n",
      "Progress: 90% Complete\n",
      "Progress: 100% Complete\n"
     ]
    }
   ],
   "source": [
    "progress_count = 0\n",
    "for region in regions_ipums:\n",
    "    for code in crosswalk_vals:\n",
    "        for date in dates_edd:\n",
    "            hw_count, hw_perc, employment_count, industry = edd_to_hw(edd, ca_ipums_hw_white, region, code, date, 10)\n",
    "            industries.append(industry)\n",
    "            dates.append(date)\n",
    "            regions.append(region)\n",
    "            counts.append(hw_count)\n",
    "            emp_counts.append(employment_count)\n",
    "            progress_count += 1\n",
    "            if progress_count % (total_iterations / 10) == 0:\n",
    "                percent_done = int((progress_count / total_iterations) * 100)\n",
    "                print(f'Progress: {percent_done}% Complete')"
   ]
  },
  {
   "cell_type": "markdown",
   "id": "6411e872",
   "metadata": {},
   "source": [
    "Creating a cleaned dataframe from the output lists."
   ]
  },
  {
   "cell_type": "code",
   "execution_count": 34,
   "id": "98cd1aea",
   "metadata": {},
   "outputs": [],
   "source": [
    "df_dict_white = {'Industry':industries, 'Date':dates, 'Region':regions, 'High Wage Count':counts, 'Employment Count':emp_counts}\n",
    "hw_output_white = pd.DataFrame(df_dict_white)\n",
    "hw_output_white = hw_output_white[hw_output_white['Industry'].notna()]\n",
    "hw_output_white['Date']= pd.to_datetime(hw_output_white['Date'])\n",
    "hw_output_white['High Wage Count'] = hw_output_white['High Wage Count'].astype(int)\n",
    "hw_output_white = hw_output_white.sort_values(by=['Industry', 'Region', 'Date'])\n",
    "hw_output_white = pd.merge(hw_output_white, cost_of_living, left_on='Region', right_on='Regions')\n",
    "hw_output_white = hw_output_white[['Industry', 'Date', 'Region', 'High Wage Count', 'Employment Count', 'Cost of Living']]\n",
    "hw_output_white = hw_output_white.drop_duplicates()\n",
    "hw_output_white['Output Race'] = 'White'"
   ]
  },
  {
   "cell_type": "markdown",
   "id": "411465e3",
   "metadata": {},
   "source": [
    "View of final `hw_output_white` dataframe."
   ]
  },
  {
   "cell_type": "code",
   "execution_count": 35,
   "id": "826930d9",
   "metadata": {},
   "outputs": [
    {
     "data": {
      "text/html": [
       "<div>\n",
       "<style scoped>\n",
       "    .dataframe tbody tr th:only-of-type {\n",
       "        vertical-align: middle;\n",
       "    }\n",
       "\n",
       "    .dataframe tbody tr th {\n",
       "        vertical-align: top;\n",
       "    }\n",
       "\n",
       "    .dataframe thead th {\n",
       "        text-align: right;\n",
       "    }\n",
       "</style>\n",
       "<table border=\"1\" class=\"dataframe\">\n",
       "  <thead>\n",
       "    <tr style=\"text-align: right;\">\n",
       "      <th></th>\n",
       "      <th>Industry</th>\n",
       "      <th>Date</th>\n",
       "      <th>Region</th>\n",
       "      <th>High Wage Count</th>\n",
       "      <th>Employment Count</th>\n",
       "      <th>Cost of Living</th>\n",
       "      <th>Output Race</th>\n",
       "    </tr>\n",
       "  </thead>\n",
       "  <tbody>\n",
       "    <tr>\n",
       "      <th>0</th>\n",
       "      <td>accommodation and food services</td>\n",
       "      <td>2014-01-01</td>\n",
       "      <td>Inland Empire</td>\n",
       "      <td>23272</td>\n",
       "      <td>123200.0</td>\n",
       "      <td>59469</td>\n",
       "      <td>White</td>\n",
       "    </tr>\n",
       "    <tr>\n",
       "      <th>1</th>\n",
       "      <td>accommodation and food services</td>\n",
       "      <td>2014-02-01</td>\n",
       "      <td>Inland Empire</td>\n",
       "      <td>23593</td>\n",
       "      <td>124900.0</td>\n",
       "      <td>59469</td>\n",
       "      <td>White</td>\n",
       "    </tr>\n",
       "    <tr>\n",
       "      <th>2</th>\n",
       "      <td>accommodation and food services</td>\n",
       "      <td>2014-03-01</td>\n",
       "      <td>Inland Empire</td>\n",
       "      <td>23857</td>\n",
       "      <td>126300.0</td>\n",
       "      <td>59469</td>\n",
       "      <td>White</td>\n",
       "    </tr>\n",
       "    <tr>\n",
       "      <th>3</th>\n",
       "      <td>accommodation and food services</td>\n",
       "      <td>2014-04-01</td>\n",
       "      <td>Inland Empire</td>\n",
       "      <td>23971</td>\n",
       "      <td>126900.0</td>\n",
       "      <td>59469</td>\n",
       "      <td>White</td>\n",
       "    </tr>\n",
       "    <tr>\n",
       "      <th>4</th>\n",
       "      <td>accommodation and food services</td>\n",
       "      <td>2014-05-01</td>\n",
       "      <td>Inland Empire</td>\n",
       "      <td>24179</td>\n",
       "      <td>128000.0</td>\n",
       "      <td>59469</td>\n",
       "      <td>White</td>\n",
       "    </tr>\n",
       "  </tbody>\n",
       "</table>\n",
       "</div>"
      ],
      "text/plain": [
       "                          Industry       Date         Region  High Wage Count  \\\n",
       "0  accommodation and food services 2014-01-01  Inland Empire            23272   \n",
       "1  accommodation and food services 2014-02-01  Inland Empire            23593   \n",
       "2  accommodation and food services 2014-03-01  Inland Empire            23857   \n",
       "3  accommodation and food services 2014-04-01  Inland Empire            23971   \n",
       "4  accommodation and food services 2014-05-01  Inland Empire            24179   \n",
       "\n",
       "   Employment Count  Cost of Living Output Race  \n",
       "0          123200.0           59469       White  \n",
       "1          124900.0           59469       White  \n",
       "2          126300.0           59469       White  \n",
       "3          126900.0           59469       White  \n",
       "4          128000.0           59469       White  "
      ]
     },
     "execution_count": 35,
     "metadata": {},
     "output_type": "execute_result"
    }
   ],
   "source": [
    "hw_output_white.head()"
   ]
  },
  {
   "cell_type": "markdown",
   "id": "10f7a78f",
   "metadata": {},
   "source": [
    "#### Latino"
   ]
  },
  {
   "cell_type": "code",
   "execution_count": 36,
   "id": "19a90232",
   "metadata": {},
   "outputs": [],
   "source": [
    "industries = []\n",
    "dates = []\n",
    "regions = []\n",
    "counts = []\n",
    "emp_counts = []"
   ]
  },
  {
   "cell_type": "markdown",
   "id": "bfaba8cf",
   "metadata": {},
   "source": [
    "For loop to populate lists for the high wage outputs. This will take some time to finish running."
   ]
  },
  {
   "cell_type": "code",
   "execution_count": 37,
   "id": "1281e84e",
   "metadata": {},
   "outputs": [
    {
     "name": "stdout",
     "output_type": "stream",
     "text": [
      "Progress: 10% Complete\n",
      "Progress: 20% Complete\n",
      "Progress: 30% Complete\n",
      "Progress: 40% Complete\n",
      "Progress: 50% Complete\n",
      "Progress: 60% Complete\n",
      "Progress: 70% Complete\n",
      "Progress: 80% Complete\n",
      "Progress: 90% Complete\n",
      "Progress: 100% Complete\n"
     ]
    }
   ],
   "source": [
    "progress_count = 0\n",
    "for region in regions_ipums:\n",
    "    for code in crosswalk_vals:\n",
    "        for date in dates_edd:\n",
    "            hw_count, hw_perc, employment_count, industry = edd_to_hw(edd, ca_ipums_hw_latino, region, code, date, 10)\n",
    "            industries.append(industry)\n",
    "            dates.append(date)\n",
    "            regions.append(region)\n",
    "            counts.append(hw_count)\n",
    "            emp_counts.append(employment_count)\n",
    "            progress_count += 1\n",
    "            if progress_count % (total_iterations / 10) == 0:\n",
    "                percent_done = int((progress_count / total_iterations) * 100)\n",
    "                print(f'Progress: {percent_done}% Complete')"
   ]
  },
  {
   "cell_type": "markdown",
   "id": "14da14a6",
   "metadata": {},
   "source": [
    "Creating a cleaned dataframe from the output lists."
   ]
  },
  {
   "cell_type": "code",
   "execution_count": 38,
   "id": "bb03a6dc",
   "metadata": {},
   "outputs": [],
   "source": [
    "df_dict_latino = {'Industry':industries, 'Date':dates, 'Region':regions, 'High Wage Count':counts, 'Employment Count':emp_counts}\n",
    "hw_output_latino = pd.DataFrame(df_dict_latino)\n",
    "hw_output_latino = hw_output_latino[hw_output_latino['Industry'].notna()]\n",
    "hw_output_latino['Date']= pd.to_datetime(hw_output_latino['Date'])\n",
    "hw_output_latino['High Wage Count'] = hw_output_latino['High Wage Count'].astype(int)\n",
    "hw_output_latino = hw_output_latino.sort_values(by=['Industry', 'Region', 'Date'])\n",
    "hw_output_latino = pd.merge(hw_output_latino, cost_of_living, left_on='Region', right_on='Regions')\n",
    "hw_output_latino = hw_output_latino[['Industry', 'Date', 'Region', 'High Wage Count', 'Employment Count', 'Cost of Living']]\n",
    "hw_output_latino = hw_output_latino.drop_duplicates()\n",
    "hw_output_latino['Output Race'] = 'Latino'"
   ]
  },
  {
   "cell_type": "markdown",
   "id": "3a504aee",
   "metadata": {},
   "source": [
    "View of final `hw_output_latino` dataframe."
   ]
  },
  {
   "cell_type": "code",
   "execution_count": 39,
   "id": "9d8cc692",
   "metadata": {},
   "outputs": [
    {
     "data": {
      "text/html": [
       "<div>\n",
       "<style scoped>\n",
       "    .dataframe tbody tr th:only-of-type {\n",
       "        vertical-align: middle;\n",
       "    }\n",
       "\n",
       "    .dataframe tbody tr th {\n",
       "        vertical-align: top;\n",
       "    }\n",
       "\n",
       "    .dataframe thead th {\n",
       "        text-align: right;\n",
       "    }\n",
       "</style>\n",
       "<table border=\"1\" class=\"dataframe\">\n",
       "  <thead>\n",
       "    <tr style=\"text-align: right;\">\n",
       "      <th></th>\n",
       "      <th>Industry</th>\n",
       "      <th>Date</th>\n",
       "      <th>Region</th>\n",
       "      <th>High Wage Count</th>\n",
       "      <th>Employment Count</th>\n",
       "      <th>Cost of Living</th>\n",
       "      <th>Output Race</th>\n",
       "    </tr>\n",
       "  </thead>\n",
       "  <tbody>\n",
       "    <tr>\n",
       "      <th>0</th>\n",
       "      <td>accommodation and food services</td>\n",
       "      <td>2014-01-01</td>\n",
       "      <td>Inland Empire</td>\n",
       "      <td>4755</td>\n",
       "      <td>123200.0</td>\n",
       "      <td>59469</td>\n",
       "      <td>Latino</td>\n",
       "    </tr>\n",
       "    <tr>\n",
       "      <th>1</th>\n",
       "      <td>accommodation and food services</td>\n",
       "      <td>2014-02-01</td>\n",
       "      <td>Inland Empire</td>\n",
       "      <td>4820</td>\n",
       "      <td>124900.0</td>\n",
       "      <td>59469</td>\n",
       "      <td>Latino</td>\n",
       "    </tr>\n",
       "    <tr>\n",
       "      <th>2</th>\n",
       "      <td>accommodation and food services</td>\n",
       "      <td>2014-03-01</td>\n",
       "      <td>Inland Empire</td>\n",
       "      <td>4874</td>\n",
       "      <td>126300.0</td>\n",
       "      <td>59469</td>\n",
       "      <td>Latino</td>\n",
       "    </tr>\n",
       "    <tr>\n",
       "      <th>3</th>\n",
       "      <td>accommodation and food services</td>\n",
       "      <td>2014-04-01</td>\n",
       "      <td>Inland Empire</td>\n",
       "      <td>4897</td>\n",
       "      <td>126900.0</td>\n",
       "      <td>59469</td>\n",
       "      <td>Latino</td>\n",
       "    </tr>\n",
       "    <tr>\n",
       "      <th>4</th>\n",
       "      <td>accommodation and food services</td>\n",
       "      <td>2014-05-01</td>\n",
       "      <td>Inland Empire</td>\n",
       "      <td>4940</td>\n",
       "      <td>128000.0</td>\n",
       "      <td>59469</td>\n",
       "      <td>Latino</td>\n",
       "    </tr>\n",
       "  </tbody>\n",
       "</table>\n",
       "</div>"
      ],
      "text/plain": [
       "                          Industry       Date         Region  High Wage Count  \\\n",
       "0  accommodation and food services 2014-01-01  Inland Empire             4755   \n",
       "1  accommodation and food services 2014-02-01  Inland Empire             4820   \n",
       "2  accommodation and food services 2014-03-01  Inland Empire             4874   \n",
       "3  accommodation and food services 2014-04-01  Inland Empire             4897   \n",
       "4  accommodation and food services 2014-05-01  Inland Empire             4940   \n",
       "\n",
       "   Employment Count  Cost of Living Output Race  \n",
       "0          123200.0           59469      Latino  \n",
       "1          124900.0           59469      Latino  \n",
       "2          126300.0           59469      Latino  \n",
       "3          126900.0           59469      Latino  \n",
       "4          128000.0           59469      Latino  "
      ]
     },
     "execution_count": 39,
     "metadata": {},
     "output_type": "execute_result"
    }
   ],
   "source": [
    "hw_output_latino.head()"
   ]
  },
  {
   "cell_type": "markdown",
   "id": "63fe7902",
   "metadata": {},
   "source": [
    "#### Black"
   ]
  },
  {
   "cell_type": "code",
   "execution_count": 40,
   "id": "772f5b2a",
   "metadata": {},
   "outputs": [],
   "source": [
    "industries = []\n",
    "dates = []\n",
    "regions = []\n",
    "counts = []\n",
    "emp_counts = []"
   ]
  },
  {
   "cell_type": "markdown",
   "id": "4e1632d9",
   "metadata": {},
   "source": [
    "For loop to populate lists for the high wage outputs. This will take some time to finish running."
   ]
  },
  {
   "cell_type": "code",
   "execution_count": 41,
   "id": "55cdb38b",
   "metadata": {},
   "outputs": [
    {
     "name": "stdout",
     "output_type": "stream",
     "text": [
      "Progress: 10% Complete\n",
      "Progress: 20% Complete\n",
      "Progress: 30% Complete\n",
      "Progress: 40% Complete\n",
      "Progress: 50% Complete\n",
      "Progress: 60% Complete\n",
      "Progress: 70% Complete\n",
      "Progress: 80% Complete\n",
      "Progress: 90% Complete\n",
      "Progress: 100% Complete\n"
     ]
    }
   ],
   "source": [
    "progress_count = 0\n",
    "for region in regions_ipums:\n",
    "    for code in crosswalk_vals:\n",
    "        for date in dates_edd:\n",
    "            hw_count, hw_perc, employment_count, industry = edd_to_hw(edd, ca_ipums_hw_black, region, code, date, 10)\n",
    "            industries.append(industry)\n",
    "            dates.append(date)\n",
    "            regions.append(region)\n",
    "            counts.append(hw_count)\n",
    "            emp_counts.append(employment_count)\n",
    "            progress_count += 1\n",
    "            if progress_count % (total_iterations / 10) == 0:\n",
    "                percent_done = int((progress_count / total_iterations) * 100)\n",
    "                print(f'Progress: {percent_done}% Complete')"
   ]
  },
  {
   "cell_type": "markdown",
   "id": "d5163067",
   "metadata": {},
   "source": [
    "Creating a cleaned dataframe from the output lists."
   ]
  },
  {
   "cell_type": "code",
   "execution_count": 42,
   "id": "34182700",
   "metadata": {},
   "outputs": [],
   "source": [
    "df_dict_black = {'Industry':industries, 'Date':dates, 'Region':regions, 'High Wage Count':counts, 'Employment Count':emp_counts}\n",
    "hw_output_black = pd.DataFrame(df_dict_black)\n",
    "hw_output_black = hw_output_black[hw_output_black['Industry'].notna()]\n",
    "hw_output_black['Date']= pd.to_datetime(hw_output_black['Date'])\n",
    "hw_output_black['High Wage Count'] = hw_output_black['High Wage Count'].astype(int)\n",
    "hw_output_black = hw_output_black.sort_values(by=['Industry', 'Region', 'Date'])\n",
    "hw_output_black = pd.merge(hw_output_black, cost_of_living, left_on='Region', right_on='Regions')\n",
    "hw_output_black = hw_output_black[['Industry', 'Date', 'Region', 'High Wage Count', 'Employment Count', 'Cost of Living']]\n",
    "hw_output_black = hw_output_black.drop_duplicates()\n",
    "hw_output_black['Output Race'] = 'Black'"
   ]
  },
  {
   "cell_type": "markdown",
   "id": "47c10c17",
   "metadata": {},
   "source": [
    "View of final `hw_output_black` dataframe."
   ]
  },
  {
   "cell_type": "code",
   "execution_count": 43,
   "id": "2b107ebb",
   "metadata": {},
   "outputs": [
    {
     "data": {
      "text/html": [
       "<div>\n",
       "<style scoped>\n",
       "    .dataframe tbody tr th:only-of-type {\n",
       "        vertical-align: middle;\n",
       "    }\n",
       "\n",
       "    .dataframe tbody tr th {\n",
       "        vertical-align: top;\n",
       "    }\n",
       "\n",
       "    .dataframe thead th {\n",
       "        text-align: right;\n",
       "    }\n",
       "</style>\n",
       "<table border=\"1\" class=\"dataframe\">\n",
       "  <thead>\n",
       "    <tr style=\"text-align: right;\">\n",
       "      <th></th>\n",
       "      <th>Industry</th>\n",
       "      <th>Date</th>\n",
       "      <th>Region</th>\n",
       "      <th>High Wage Count</th>\n",
       "      <th>Employment Count</th>\n",
       "      <th>Cost of Living</th>\n",
       "      <th>Output Race</th>\n",
       "    </tr>\n",
       "  </thead>\n",
       "  <tbody>\n",
       "    <tr>\n",
       "      <th>0</th>\n",
       "      <td>accommodation and food services</td>\n",
       "      <td>2014-01-01</td>\n",
       "      <td>Inland Empire</td>\n",
       "      <td>23115</td>\n",
       "      <td>123200.0</td>\n",
       "      <td>59469</td>\n",
       "      <td>Black</td>\n",
       "    </tr>\n",
       "    <tr>\n",
       "      <th>1</th>\n",
       "      <td>accommodation and food services</td>\n",
       "      <td>2014-02-01</td>\n",
       "      <td>Inland Empire</td>\n",
       "      <td>23434</td>\n",
       "      <td>124900.0</td>\n",
       "      <td>59469</td>\n",
       "      <td>Black</td>\n",
       "    </tr>\n",
       "    <tr>\n",
       "      <th>2</th>\n",
       "      <td>accommodation and food services</td>\n",
       "      <td>2014-03-01</td>\n",
       "      <td>Inland Empire</td>\n",
       "      <td>23697</td>\n",
       "      <td>126300.0</td>\n",
       "      <td>59469</td>\n",
       "      <td>Black</td>\n",
       "    </tr>\n",
       "    <tr>\n",
       "      <th>3</th>\n",
       "      <td>accommodation and food services</td>\n",
       "      <td>2014-04-01</td>\n",
       "      <td>Inland Empire</td>\n",
       "      <td>23809</td>\n",
       "      <td>126900.0</td>\n",
       "      <td>59469</td>\n",
       "      <td>Black</td>\n",
       "    </tr>\n",
       "    <tr>\n",
       "      <th>4</th>\n",
       "      <td>accommodation and food services</td>\n",
       "      <td>2014-05-01</td>\n",
       "      <td>Inland Empire</td>\n",
       "      <td>24016</td>\n",
       "      <td>128000.0</td>\n",
       "      <td>59469</td>\n",
       "      <td>Black</td>\n",
       "    </tr>\n",
       "  </tbody>\n",
       "</table>\n",
       "</div>"
      ],
      "text/plain": [
       "                          Industry       Date         Region  High Wage Count  \\\n",
       "0  accommodation and food services 2014-01-01  Inland Empire            23115   \n",
       "1  accommodation and food services 2014-02-01  Inland Empire            23434   \n",
       "2  accommodation and food services 2014-03-01  Inland Empire            23697   \n",
       "3  accommodation and food services 2014-04-01  Inland Empire            23809   \n",
       "4  accommodation and food services 2014-05-01  Inland Empire            24016   \n",
       "\n",
       "   Employment Count  Cost of Living Output Race  \n",
       "0          123200.0           59469       Black  \n",
       "1          124900.0           59469       Black  \n",
       "2          126300.0           59469       Black  \n",
       "3          126900.0           59469       Black  \n",
       "4          128000.0           59469       Black  "
      ]
     },
     "execution_count": 43,
     "metadata": {},
     "output_type": "execute_result"
    }
   ],
   "source": [
    "hw_output_black.head()"
   ]
  },
  {
   "cell_type": "markdown",
   "id": "131abcb8",
   "metadata": {},
   "source": [
    "#### American Indian/Alaska Native"
   ]
  },
  {
   "cell_type": "code",
   "execution_count": 44,
   "id": "03554804",
   "metadata": {},
   "outputs": [],
   "source": [
    "industries = []\n",
    "dates = []\n",
    "regions = []\n",
    "counts = []\n",
    "emp_counts = []"
   ]
  },
  {
   "cell_type": "markdown",
   "id": "6c867948",
   "metadata": {},
   "source": [
    "For loop to populate lists for the high wage outputs. This will take some time to finish running."
   ]
  },
  {
   "cell_type": "code",
   "execution_count": 45,
   "id": "668a677d",
   "metadata": {},
   "outputs": [
    {
     "name": "stdout",
     "output_type": "stream",
     "text": [
      "Progress: 10% Complete\n",
      "Progress: 20% Complete\n",
      "Progress: 30% Complete\n",
      "Progress: 40% Complete\n",
      "Progress: 50% Complete\n",
      "Progress: 60% Complete\n",
      "Progress: 70% Complete\n",
      "Progress: 80% Complete\n",
      "Progress: 90% Complete\n",
      "Progress: 100% Complete\n"
     ]
    }
   ],
   "source": [
    "progress_count = 0\n",
    "for region in regions_ipums:\n",
    "    for code in crosswalk_vals:\n",
    "        for date in dates_edd:\n",
    "            hw_count, hw_perc, employment_count, industry = edd_to_hw(edd, ca_ipums_hw_native, region, code, date, 10)\n",
    "            industries.append(industry)\n",
    "            dates.append(date)\n",
    "            regions.append(region)\n",
    "            counts.append(hw_count)\n",
    "            emp_counts.append(employment_count)\n",
    "            progress_count += 1\n",
    "            if progress_count % (total_iterations / 10) == 0:\n",
    "                percent_done = int((progress_count / total_iterations) * 100)\n",
    "                print(f'Progress: {percent_done}% Complete')"
   ]
  },
  {
   "cell_type": "markdown",
   "id": "037412d4",
   "metadata": {},
   "source": [
    "Creating a cleaned dataframe from the output lists."
   ]
  },
  {
   "cell_type": "code",
   "execution_count": 46,
   "id": "8aad7f36",
   "metadata": {},
   "outputs": [],
   "source": [
    "df_dict_native = {'Industry':industries, 'Date':dates, 'Region':regions, 'High Wage Count':counts, 'Employment Count':emp_counts}\n",
    "hw_output_native = pd.DataFrame(df_dict_native)\n",
    "hw_output_native = hw_output_native[hw_output_native['Industry'].notna()]\n",
    "hw_output_native['Date']= pd.to_datetime(hw_output_native['Date'])\n",
    "hw_output_native['High Wage Count'] = hw_output_native['High Wage Count'].astype(int)\n",
    "hw_output_native = hw_output_native.sort_values(by=['Industry', 'Region', 'Date'])\n",
    "hw_output_native = pd.merge(hw_output_native, cost_of_living, left_on='Region', right_on='Regions')\n",
    "hw_output_native = hw_output_native[['Industry', 'Date', 'Region', 'High Wage Count', 'Employment Count', 'Cost of Living']]\n",
    "hw_output_native = hw_output_native.drop_duplicates()\n",
    "hw_output_native['Output Race'] = 'American Indian/Alaska Native'"
   ]
  },
  {
   "cell_type": "markdown",
   "id": "90ef2b73",
   "metadata": {},
   "source": [
    "View of final `hw_output_native` dataframe."
   ]
  },
  {
   "cell_type": "code",
   "execution_count": 47,
   "id": "4c4dcac6",
   "metadata": {},
   "outputs": [
    {
     "data": {
      "text/html": [
       "<div>\n",
       "<style scoped>\n",
       "    .dataframe tbody tr th:only-of-type {\n",
       "        vertical-align: middle;\n",
       "    }\n",
       "\n",
       "    .dataframe tbody tr th {\n",
       "        vertical-align: top;\n",
       "    }\n",
       "\n",
       "    .dataframe thead th {\n",
       "        text-align: right;\n",
       "    }\n",
       "</style>\n",
       "<table border=\"1\" class=\"dataframe\">\n",
       "  <thead>\n",
       "    <tr style=\"text-align: right;\">\n",
       "      <th></th>\n",
       "      <th>Industry</th>\n",
       "      <th>Date</th>\n",
       "      <th>Region</th>\n",
       "      <th>High Wage Count</th>\n",
       "      <th>Employment Count</th>\n",
       "      <th>Cost of Living</th>\n",
       "      <th>Output Race</th>\n",
       "    </tr>\n",
       "  </thead>\n",
       "  <tbody>\n",
       "    <tr>\n",
       "      <th>0</th>\n",
       "      <td>accommodation and food services</td>\n",
       "      <td>2014-01-01</td>\n",
       "      <td>Inland Empire</td>\n",
       "      <td>6128</td>\n",
       "      <td>123200.0</td>\n",
       "      <td>59469</td>\n",
       "      <td>American Indian/Alaska Native</td>\n",
       "    </tr>\n",
       "    <tr>\n",
       "      <th>1</th>\n",
       "      <td>accommodation and food services</td>\n",
       "      <td>2014-02-01</td>\n",
       "      <td>Inland Empire</td>\n",
       "      <td>6213</td>\n",
       "      <td>124900.0</td>\n",
       "      <td>59469</td>\n",
       "      <td>American Indian/Alaska Native</td>\n",
       "    </tr>\n",
       "    <tr>\n",
       "      <th>2</th>\n",
       "      <td>accommodation and food services</td>\n",
       "      <td>2014-03-01</td>\n",
       "      <td>Inland Empire</td>\n",
       "      <td>6282</td>\n",
       "      <td>126300.0</td>\n",
       "      <td>59469</td>\n",
       "      <td>American Indian/Alaska Native</td>\n",
       "    </tr>\n",
       "    <tr>\n",
       "      <th>3</th>\n",
       "      <td>accommodation and food services</td>\n",
       "      <td>2014-04-01</td>\n",
       "      <td>Inland Empire</td>\n",
       "      <td>6312</td>\n",
       "      <td>126900.0</td>\n",
       "      <td>59469</td>\n",
       "      <td>American Indian/Alaska Native</td>\n",
       "    </tr>\n",
       "    <tr>\n",
       "      <th>4</th>\n",
       "      <td>accommodation and food services</td>\n",
       "      <td>2014-05-01</td>\n",
       "      <td>Inland Empire</td>\n",
       "      <td>6367</td>\n",
       "      <td>128000.0</td>\n",
       "      <td>59469</td>\n",
       "      <td>American Indian/Alaska Native</td>\n",
       "    </tr>\n",
       "  </tbody>\n",
       "</table>\n",
       "</div>"
      ],
      "text/plain": [
       "                          Industry       Date         Region  High Wage Count  \\\n",
       "0  accommodation and food services 2014-01-01  Inland Empire             6128   \n",
       "1  accommodation and food services 2014-02-01  Inland Empire             6213   \n",
       "2  accommodation and food services 2014-03-01  Inland Empire             6282   \n",
       "3  accommodation and food services 2014-04-01  Inland Empire             6312   \n",
       "4  accommodation and food services 2014-05-01  Inland Empire             6367   \n",
       "\n",
       "   Employment Count  Cost of Living                    Output Race  \n",
       "0          123200.0           59469  American Indian/Alaska Native  \n",
       "1          124900.0           59469  American Indian/Alaska Native  \n",
       "2          126300.0           59469  American Indian/Alaska Native  \n",
       "3          126900.0           59469  American Indian/Alaska Native  \n",
       "4          128000.0           59469  American Indian/Alaska Native  "
      ]
     },
     "execution_count": 47,
     "metadata": {},
     "output_type": "execute_result"
    }
   ],
   "source": [
    "hw_output_native.head()"
   ]
  },
  {
   "cell_type": "markdown",
   "id": "86af60f2",
   "metadata": {},
   "source": [
    "#### Asian"
   ]
  },
  {
   "cell_type": "code",
   "execution_count": 48,
   "id": "d017e222",
   "metadata": {},
   "outputs": [],
   "source": [
    "industries = []\n",
    "dates = []\n",
    "regions = []\n",
    "counts = []\n",
    "emp_counts = []"
   ]
  },
  {
   "cell_type": "markdown",
   "id": "ee39ac67",
   "metadata": {},
   "source": [
    "For loop to populate lists for the high wage outputs. This will take some time to finish running."
   ]
  },
  {
   "cell_type": "code",
   "execution_count": 49,
   "id": "efb3b8b6",
   "metadata": {},
   "outputs": [
    {
     "name": "stdout",
     "output_type": "stream",
     "text": [
      "Progress: 10% Complete\n",
      "Progress: 20% Complete\n",
      "Progress: 30% Complete\n",
      "Progress: 40% Complete\n",
      "Progress: 50% Complete\n",
      "Progress: 60% Complete\n",
      "Progress: 70% Complete\n",
      "Progress: 80% Complete\n",
      "Progress: 90% Complete\n",
      "Progress: 100% Complete\n"
     ]
    }
   ],
   "source": [
    "progress_count = 0\n",
    "for region in regions_ipums:\n",
    "    for code in crosswalk_vals:\n",
    "        for date in dates_edd:\n",
    "            hw_count, hw_perc, employment_count, industry = edd_to_hw(edd, ca_ipums_hw_asian, region, code, date, 10)\n",
    "            industries.append(industry)\n",
    "            dates.append(date)\n",
    "            regions.append(region)\n",
    "            counts.append(hw_count)\n",
    "            emp_counts.append(employment_count)\n",
    "            progress_count += 1\n",
    "            if progress_count % (total_iterations / 10) == 0:\n",
    "                percent_done = int((progress_count / total_iterations) * 100)\n",
    "                print(f'Progress: {percent_done}% Complete')"
   ]
  },
  {
   "cell_type": "markdown",
   "id": "c31cb8eb",
   "metadata": {},
   "source": [
    "Creating a cleaned dataframe from the output lists."
   ]
  },
  {
   "cell_type": "code",
   "execution_count": 50,
   "id": "4f499f5b",
   "metadata": {},
   "outputs": [],
   "source": [
    "df_dict_asian = {'Industry':industries, 'Date':dates, 'Region':regions, 'High Wage Count':counts, 'Employment Count':emp_counts}\n",
    "hw_output_asian = pd.DataFrame(df_dict_asian)\n",
    "hw_output_asian = hw_output_asian[hw_output_asian['Industry'].notna()]\n",
    "hw_output_asian['Date']= pd.to_datetime(hw_output_asian['Date'])\n",
    "hw_output_asian['High Wage Count'] = hw_output_asian['High Wage Count'].astype(int)\n",
    "hw_output_asian = hw_output_asian.sort_values(by=['Industry', 'Region', 'Date'])\n",
    "hw_output_asian = pd.merge(hw_output_asian, cost_of_living, left_on='Region', right_on='Regions')\n",
    "hw_output_asian = hw_output_asian[['Industry', 'Date', 'Region', 'High Wage Count', 'Employment Count', 'Cost of Living']]\n",
    "hw_output_asian = hw_output_asian.drop_duplicates()\n",
    "hw_output_asian['Output Race'] = 'Asian'"
   ]
  },
  {
   "cell_type": "markdown",
   "id": "7677d8aa",
   "metadata": {},
   "source": [
    "View of final `hw_output_asian` dataframe."
   ]
  },
  {
   "cell_type": "code",
   "execution_count": 51,
   "id": "ff537ec1",
   "metadata": {},
   "outputs": [
    {
     "data": {
      "text/html": [
       "<div>\n",
       "<style scoped>\n",
       "    .dataframe tbody tr th:only-of-type {\n",
       "        vertical-align: middle;\n",
       "    }\n",
       "\n",
       "    .dataframe tbody tr th {\n",
       "        vertical-align: top;\n",
       "    }\n",
       "\n",
       "    .dataframe thead th {\n",
       "        text-align: right;\n",
       "    }\n",
       "</style>\n",
       "<table border=\"1\" class=\"dataframe\">\n",
       "  <thead>\n",
       "    <tr style=\"text-align: right;\">\n",
       "      <th></th>\n",
       "      <th>Industry</th>\n",
       "      <th>Date</th>\n",
       "      <th>Region</th>\n",
       "      <th>High Wage Count</th>\n",
       "      <th>Employment Count</th>\n",
       "      <th>Cost of Living</th>\n",
       "      <th>Output Race</th>\n",
       "    </tr>\n",
       "  </thead>\n",
       "  <tbody>\n",
       "    <tr>\n",
       "      <th>0</th>\n",
       "      <td>accommodation and food services</td>\n",
       "      <td>2014-01-01</td>\n",
       "      <td>Inland Empire</td>\n",
       "      <td>28306</td>\n",
       "      <td>123200.0</td>\n",
       "      <td>59469</td>\n",
       "      <td>Asian</td>\n",
       "    </tr>\n",
       "    <tr>\n",
       "      <th>1</th>\n",
       "      <td>accommodation and food services</td>\n",
       "      <td>2014-02-01</td>\n",
       "      <td>Inland Empire</td>\n",
       "      <td>28696</td>\n",
       "      <td>124900.0</td>\n",
       "      <td>59469</td>\n",
       "      <td>Asian</td>\n",
       "    </tr>\n",
       "    <tr>\n",
       "      <th>2</th>\n",
       "      <td>accommodation and food services</td>\n",
       "      <td>2014-03-01</td>\n",
       "      <td>Inland Empire</td>\n",
       "      <td>29018</td>\n",
       "      <td>126300.0</td>\n",
       "      <td>59469</td>\n",
       "      <td>Asian</td>\n",
       "    </tr>\n",
       "    <tr>\n",
       "      <th>3</th>\n",
       "      <td>accommodation and food services</td>\n",
       "      <td>2014-04-01</td>\n",
       "      <td>Inland Empire</td>\n",
       "      <td>29156</td>\n",
       "      <td>126900.0</td>\n",
       "      <td>59469</td>\n",
       "      <td>Asian</td>\n",
       "    </tr>\n",
       "    <tr>\n",
       "      <th>4</th>\n",
       "      <td>accommodation and food services</td>\n",
       "      <td>2014-05-01</td>\n",
       "      <td>Inland Empire</td>\n",
       "      <td>29408</td>\n",
       "      <td>128000.0</td>\n",
       "      <td>59469</td>\n",
       "      <td>Asian</td>\n",
       "    </tr>\n",
       "  </tbody>\n",
       "</table>\n",
       "</div>"
      ],
      "text/plain": [
       "                          Industry       Date         Region  High Wage Count  \\\n",
       "0  accommodation and food services 2014-01-01  Inland Empire            28306   \n",
       "1  accommodation and food services 2014-02-01  Inland Empire            28696   \n",
       "2  accommodation and food services 2014-03-01  Inland Empire            29018   \n",
       "3  accommodation and food services 2014-04-01  Inland Empire            29156   \n",
       "4  accommodation and food services 2014-05-01  Inland Empire            29408   \n",
       "\n",
       "   Employment Count  Cost of Living Output Race  \n",
       "0          123200.0           59469       Asian  \n",
       "1          124900.0           59469       Asian  \n",
       "2          126300.0           59469       Asian  \n",
       "3          126900.0           59469       Asian  \n",
       "4          128000.0           59469       Asian  "
      ]
     },
     "execution_count": 51,
     "metadata": {},
     "output_type": "execute_result"
    }
   ],
   "source": [
    "hw_output_asian.head()"
   ]
  },
  {
   "cell_type": "markdown",
   "id": "9c195d40",
   "metadata": {},
   "source": [
    "#### Some other race"
   ]
  },
  {
   "cell_type": "code",
   "execution_count": 52,
   "id": "a462b444",
   "metadata": {},
   "outputs": [],
   "source": [
    "industries = []\n",
    "dates = []\n",
    "regions = []\n",
    "counts = []\n",
    "emp_counts = []"
   ]
  },
  {
   "cell_type": "markdown",
   "id": "39114783",
   "metadata": {},
   "source": [
    "For loop to populate lists for the high wage outputs. This will take some time to finish running."
   ]
  },
  {
   "cell_type": "code",
   "execution_count": 53,
   "id": "ef7b8fce",
   "metadata": {},
   "outputs": [
    {
     "name": "stdout",
     "output_type": "stream",
     "text": [
      "Progress: 10% Complete\n",
      "Progress: 20% Complete\n",
      "Progress: 30% Complete\n",
      "Progress: 40% Complete\n",
      "Progress: 50% Complete\n",
      "Progress: 60% Complete\n",
      "Progress: 70% Complete\n",
      "Progress: 80% Complete\n",
      "Progress: 90% Complete\n",
      "Progress: 100% Complete\n"
     ]
    }
   ],
   "source": [
    "progress_count = 0\n",
    "for region in regions_ipums:\n",
    "    for code in crosswalk_vals:\n",
    "        for date in dates_edd:\n",
    "            hw_count, hw_perc, employment_count, industry = edd_to_hw(edd, ca_ipums_hw_other, region, code, date, 10)\n",
    "            industries.append(industry)\n",
    "            dates.append(date)\n",
    "            regions.append(region)\n",
    "            counts.append(hw_count)\n",
    "            emp_counts.append(employment_count)\n",
    "            progress_count += 1\n",
    "            if progress_count % (total_iterations / 10) == 0:\n",
    "                percent_done = int((progress_count / total_iterations) * 100)\n",
    "                print(f'Progress: {percent_done}% Complete')"
   ]
  },
  {
   "cell_type": "markdown",
   "id": "07c2d4c5",
   "metadata": {},
   "source": [
    "Creating a cleaned dataframe from the output lists."
   ]
  },
  {
   "cell_type": "code",
   "execution_count": 54,
   "id": "e3583705",
   "metadata": {},
   "outputs": [],
   "source": [
    "df_dict_other = {'Industry':industries, 'Date':dates, 'Region':regions, 'High Wage Count':counts, 'Employment Count':emp_counts}\n",
    "hw_output_other = pd.DataFrame(df_dict_other)\n",
    "hw_output_other = hw_output_other[hw_output_other['Industry'].notna()]\n",
    "hw_output_other['Date']= pd.to_datetime(hw_output_other['Date'])\n",
    "hw_output_other['High Wage Count'] = hw_output_other['High Wage Count'].astype(int)\n",
    "hw_output_other = hw_output_other.sort_values(by=['Industry', 'Region', 'Date'])\n",
    "hw_output_other = pd.merge(hw_output_other, cost_of_living, left_on='Region', right_on='Regions')\n",
    "hw_output_other = hw_output_other[['Industry', 'Date', 'Region', 'High Wage Count', 'Employment Count', 'Cost of Living']]\n",
    "hw_output_other = hw_output_other.drop_duplicates()\n",
    "hw_output_other['Output Race'] = 'Some other race'"
   ]
  },
  {
   "cell_type": "markdown",
   "id": "da0e328f",
   "metadata": {},
   "source": [
    "View of final `hw_output_other` dataframe."
   ]
  },
  {
   "cell_type": "code",
   "execution_count": 55,
   "id": "1d2283a9",
   "metadata": {},
   "outputs": [
    {
     "data": {
      "text/html": [
       "<div>\n",
       "<style scoped>\n",
       "    .dataframe tbody tr th:only-of-type {\n",
       "        vertical-align: middle;\n",
       "    }\n",
       "\n",
       "    .dataframe tbody tr th {\n",
       "        vertical-align: top;\n",
       "    }\n",
       "\n",
       "    .dataframe thead th {\n",
       "        text-align: right;\n",
       "    }\n",
       "</style>\n",
       "<table border=\"1\" class=\"dataframe\">\n",
       "  <thead>\n",
       "    <tr style=\"text-align: right;\">\n",
       "      <th></th>\n",
       "      <th>Industry</th>\n",
       "      <th>Date</th>\n",
       "      <th>Region</th>\n",
       "      <th>High Wage Count</th>\n",
       "      <th>Employment Count</th>\n",
       "      <th>Cost of Living</th>\n",
       "      <th>Output Race</th>\n",
       "    </tr>\n",
       "  </thead>\n",
       "  <tbody>\n",
       "    <tr>\n",
       "      <th>0</th>\n",
       "      <td>accommodation and food services</td>\n",
       "      <td>2014-01-01</td>\n",
       "      <td>Los Angeles</td>\n",
       "      <td>0</td>\n",
       "      <td>373700.0</td>\n",
       "      <td>69940</td>\n",
       "      <td>Some other race</td>\n",
       "    </tr>\n",
       "    <tr>\n",
       "      <th>1</th>\n",
       "      <td>accommodation and food services</td>\n",
       "      <td>2014-02-01</td>\n",
       "      <td>Los Angeles</td>\n",
       "      <td>0</td>\n",
       "      <td>378200.0</td>\n",
       "      <td>69940</td>\n",
       "      <td>Some other race</td>\n",
       "    </tr>\n",
       "    <tr>\n",
       "      <th>2</th>\n",
       "      <td>accommodation and food services</td>\n",
       "      <td>2014-03-01</td>\n",
       "      <td>Los Angeles</td>\n",
       "      <td>0</td>\n",
       "      <td>381700.0</td>\n",
       "      <td>69940</td>\n",
       "      <td>Some other race</td>\n",
       "    </tr>\n",
       "    <tr>\n",
       "      <th>3</th>\n",
       "      <td>accommodation and food services</td>\n",
       "      <td>2014-04-01</td>\n",
       "      <td>Los Angeles</td>\n",
       "      <td>0</td>\n",
       "      <td>383600.0</td>\n",
       "      <td>69940</td>\n",
       "      <td>Some other race</td>\n",
       "    </tr>\n",
       "    <tr>\n",
       "      <th>4</th>\n",
       "      <td>accommodation and food services</td>\n",
       "      <td>2014-05-01</td>\n",
       "      <td>Los Angeles</td>\n",
       "      <td>0</td>\n",
       "      <td>389000.0</td>\n",
       "      <td>69940</td>\n",
       "      <td>Some other race</td>\n",
       "    </tr>\n",
       "  </tbody>\n",
       "</table>\n",
       "</div>"
      ],
      "text/plain": [
       "                          Industry       Date       Region  High Wage Count  \\\n",
       "0  accommodation and food services 2014-01-01  Los Angeles                0   \n",
       "1  accommodation and food services 2014-02-01  Los Angeles                0   \n",
       "2  accommodation and food services 2014-03-01  Los Angeles                0   \n",
       "3  accommodation and food services 2014-04-01  Los Angeles                0   \n",
       "4  accommodation and food services 2014-05-01  Los Angeles                0   \n",
       "\n",
       "   Employment Count  Cost of Living      Output Race  \n",
       "0          373700.0           69940  Some other race  \n",
       "1          378200.0           69940  Some other race  \n",
       "2          381700.0           69940  Some other race  \n",
       "3          383600.0           69940  Some other race  \n",
       "4          389000.0           69940  Some other race  "
      ]
     },
     "execution_count": 55,
     "metadata": {},
     "output_type": "execute_result"
    }
   ],
   "source": [
    "hw_output_other.head()"
   ]
  },
  {
   "cell_type": "markdown",
   "id": "417fc145",
   "metadata": {},
   "source": [
    "#### Multiracial"
   ]
  },
  {
   "cell_type": "code",
   "execution_count": 56,
   "id": "7849ff7c",
   "metadata": {},
   "outputs": [],
   "source": [
    "industries = []\n",
    "dates = []\n",
    "regions = []\n",
    "counts = []\n",
    "emp_counts = []"
   ]
  },
  {
   "cell_type": "markdown",
   "id": "6aaab225",
   "metadata": {},
   "source": [
    "For loop to populate lists for the high wage outputs. This will take some time to finish running."
   ]
  },
  {
   "cell_type": "code",
   "execution_count": 57,
   "id": "1a75a7f0",
   "metadata": {},
   "outputs": [
    {
     "name": "stdout",
     "output_type": "stream",
     "text": [
      "Progress: 10% Complete\n",
      "Progress: 20% Complete\n",
      "Progress: 30% Complete\n",
      "Progress: 40% Complete\n",
      "Progress: 50% Complete\n",
      "Progress: 60% Complete\n",
      "Progress: 70% Complete\n",
      "Progress: 80% Complete\n",
      "Progress: 90% Complete\n",
      "Progress: 100% Complete\n"
     ]
    }
   ],
   "source": [
    "progress_count = 0\n",
    "for region in regions_ipums:\n",
    "    for code in crosswalk_vals:\n",
    "        for date in dates_edd:\n",
    "            hw_count, hw_perc, employment_count, industry = edd_to_hw(edd, ca_ipums_hw_multi, region, code, date, 10)\n",
    "            industries.append(industry)\n",
    "            dates.append(date)\n",
    "            regions.append(region)\n",
    "            counts.append(hw_count)\n",
    "            emp_counts.append(employment_count)\n",
    "            progress_count += 1\n",
    "            if progress_count % (total_iterations / 10) == 0:\n",
    "                percent_done = int((progress_count / total_iterations) * 100)\n",
    "                print(f'Progress: {percent_done}% Complete')"
   ]
  },
  {
   "cell_type": "markdown",
   "id": "a00db796",
   "metadata": {},
   "source": [
    "Creating a cleaned dataframe from the output lists."
   ]
  },
  {
   "cell_type": "code",
   "execution_count": 58,
   "id": "d89d5559",
   "metadata": {},
   "outputs": [],
   "source": [
    "df_dict_multi = {'Industry':industries, 'Date':dates, 'Region':regions, 'High Wage Count':counts, 'Employment Count':emp_counts}\n",
    "hw_output_multi = pd.DataFrame(df_dict_multi)\n",
    "hw_output_multi = hw_output_multi[hw_output_multi['Industry'].notna()]\n",
    "hw_output_multi['Date']= pd.to_datetime(hw_output_multi['Date'])\n",
    "hw_output_multi['High Wage Count'] = hw_output_multi['High Wage Count'].astype(int)\n",
    "hw_output_multi = hw_output_multi.sort_values(by=['Industry', 'Region', 'Date'])\n",
    "hw_output_multi = pd.merge(hw_output_multi, cost_of_living, left_on='Region', right_on='Regions')\n",
    "hw_output_multi = hw_output_multi[['Industry', 'Date', 'Region', 'High Wage Count', 'Employment Count', 'Cost of Living']]\n",
    "hw_output_multi = hw_output_multi.drop_duplicates()\n",
    "hw_output_multi['Output Race'] = 'Multiracial'"
   ]
  },
  {
   "cell_type": "markdown",
   "id": "72cd868e",
   "metadata": {},
   "source": [
    "View of final `hw_output_multi` dataframe."
   ]
  },
  {
   "cell_type": "code",
   "execution_count": 59,
   "id": "2f413601",
   "metadata": {},
   "outputs": [
    {
     "data": {
      "text/html": [
       "<div>\n",
       "<style scoped>\n",
       "    .dataframe tbody tr th:only-of-type {\n",
       "        vertical-align: middle;\n",
       "    }\n",
       "\n",
       "    .dataframe tbody tr th {\n",
       "        vertical-align: top;\n",
       "    }\n",
       "\n",
       "    .dataframe thead th {\n",
       "        text-align: right;\n",
       "    }\n",
       "</style>\n",
       "<table border=\"1\" class=\"dataframe\">\n",
       "  <thead>\n",
       "    <tr style=\"text-align: right;\">\n",
       "      <th></th>\n",
       "      <th>Industry</th>\n",
       "      <th>Date</th>\n",
       "      <th>Region</th>\n",
       "      <th>High Wage Count</th>\n",
       "      <th>Employment Count</th>\n",
       "      <th>Cost of Living</th>\n",
       "      <th>Output Race</th>\n",
       "    </tr>\n",
       "  </thead>\n",
       "  <tbody>\n",
       "    <tr>\n",
       "      <th>0</th>\n",
       "      <td>accommodation and food services</td>\n",
       "      <td>2014-01-01</td>\n",
       "      <td>Inland Empire</td>\n",
       "      <td>11806</td>\n",
       "      <td>123200.0</td>\n",
       "      <td>59469</td>\n",
       "      <td>Multiracial</td>\n",
       "    </tr>\n",
       "    <tr>\n",
       "      <th>1</th>\n",
       "      <td>accommodation and food services</td>\n",
       "      <td>2014-02-01</td>\n",
       "      <td>Inland Empire</td>\n",
       "      <td>11969</td>\n",
       "      <td>124900.0</td>\n",
       "      <td>59469</td>\n",
       "      <td>Multiracial</td>\n",
       "    </tr>\n",
       "    <tr>\n",
       "      <th>2</th>\n",
       "      <td>accommodation and food services</td>\n",
       "      <td>2014-03-01</td>\n",
       "      <td>Inland Empire</td>\n",
       "      <td>12103</td>\n",
       "      <td>126300.0</td>\n",
       "      <td>59469</td>\n",
       "      <td>Multiracial</td>\n",
       "    </tr>\n",
       "    <tr>\n",
       "      <th>3</th>\n",
       "      <td>accommodation and food services</td>\n",
       "      <td>2014-04-01</td>\n",
       "      <td>Inland Empire</td>\n",
       "      <td>12161</td>\n",
       "      <td>126900.0</td>\n",
       "      <td>59469</td>\n",
       "      <td>Multiracial</td>\n",
       "    </tr>\n",
       "    <tr>\n",
       "      <th>4</th>\n",
       "      <td>accommodation and food services</td>\n",
       "      <td>2014-05-01</td>\n",
       "      <td>Inland Empire</td>\n",
       "      <td>12266</td>\n",
       "      <td>128000.0</td>\n",
       "      <td>59469</td>\n",
       "      <td>Multiracial</td>\n",
       "    </tr>\n",
       "  </tbody>\n",
       "</table>\n",
       "</div>"
      ],
      "text/plain": [
       "                          Industry       Date         Region  High Wage Count  \\\n",
       "0  accommodation and food services 2014-01-01  Inland Empire            11806   \n",
       "1  accommodation and food services 2014-02-01  Inland Empire            11969   \n",
       "2  accommodation and food services 2014-03-01  Inland Empire            12103   \n",
       "3  accommodation and food services 2014-04-01  Inland Empire            12161   \n",
       "4  accommodation and food services 2014-05-01  Inland Empire            12266   \n",
       "\n",
       "   Employment Count  Cost of Living  Output Race  \n",
       "0          123200.0           59469  Multiracial  \n",
       "1          124900.0           59469  Multiracial  \n",
       "2          126300.0           59469  Multiracial  \n",
       "3          126900.0           59469  Multiracial  \n",
       "4          128000.0           59469  Multiracial  "
      ]
     },
     "execution_count": 59,
     "metadata": {},
     "output_type": "execute_result"
    }
   ],
   "source": [
    "hw_output_multi.head()"
   ]
  },
  {
   "cell_type": "markdown",
   "id": "81823694",
   "metadata": {},
   "source": [
    "### Concatenate all dataframes and export\n",
    "\n",
    "Code to export the dataframe as a CSV file - change file path if needed and uncomment to run."
   ]
  },
  {
   "cell_type": "code",
   "execution_count": 60,
   "id": "e3a71e54",
   "metadata": {},
   "outputs": [],
   "source": [
    "hw_output_demo = pd.concat([hw_output_white, hw_output_black, hw_output_latino, hw_output_asian, hw_output_native, hw_output_other, hw_output_multi], ignore_index=True)"
   ]
  },
  {
   "cell_type": "code",
   "execution_count": 61,
   "id": "c965100a",
   "metadata": {},
   "outputs": [
    {
     "data": {
      "text/html": [
       "<div>\n",
       "<style scoped>\n",
       "    .dataframe tbody tr th:only-of-type {\n",
       "        vertical-align: middle;\n",
       "    }\n",
       "\n",
       "    .dataframe tbody tr th {\n",
       "        vertical-align: top;\n",
       "    }\n",
       "\n",
       "    .dataframe thead th {\n",
       "        text-align: right;\n",
       "    }\n",
       "</style>\n",
       "<table border=\"1\" class=\"dataframe\">\n",
       "  <thead>\n",
       "    <tr style=\"text-align: right;\">\n",
       "      <th></th>\n",
       "      <th>Industry</th>\n",
       "      <th>Date</th>\n",
       "      <th>Region</th>\n",
       "      <th>High Wage Count</th>\n",
       "      <th>Employment Count</th>\n",
       "      <th>Cost of Living</th>\n",
       "      <th>Output Race</th>\n",
       "    </tr>\n",
       "  </thead>\n",
       "  <tbody>\n",
       "    <tr>\n",
       "      <th>0</th>\n",
       "      <td>accommodation and food services</td>\n",
       "      <td>2014-01-01</td>\n",
       "      <td>Inland Empire</td>\n",
       "      <td>23272</td>\n",
       "      <td>123200.0</td>\n",
       "      <td>59469</td>\n",
       "      <td>White</td>\n",
       "    </tr>\n",
       "    <tr>\n",
       "      <th>1</th>\n",
       "      <td>accommodation and food services</td>\n",
       "      <td>2014-02-01</td>\n",
       "      <td>Inland Empire</td>\n",
       "      <td>23593</td>\n",
       "      <td>124900.0</td>\n",
       "      <td>59469</td>\n",
       "      <td>White</td>\n",
       "    </tr>\n",
       "    <tr>\n",
       "      <th>2</th>\n",
       "      <td>accommodation and food services</td>\n",
       "      <td>2014-03-01</td>\n",
       "      <td>Inland Empire</td>\n",
       "      <td>23857</td>\n",
       "      <td>126300.0</td>\n",
       "      <td>59469</td>\n",
       "      <td>White</td>\n",
       "    </tr>\n",
       "    <tr>\n",
       "      <th>3</th>\n",
       "      <td>accommodation and food services</td>\n",
       "      <td>2014-04-01</td>\n",
       "      <td>Inland Empire</td>\n",
       "      <td>23971</td>\n",
       "      <td>126900.0</td>\n",
       "      <td>59469</td>\n",
       "      <td>White</td>\n",
       "    </tr>\n",
       "    <tr>\n",
       "      <th>4</th>\n",
       "      <td>accommodation and food services</td>\n",
       "      <td>2014-05-01</td>\n",
       "      <td>Inland Empire</td>\n",
       "      <td>24179</td>\n",
       "      <td>128000.0</td>\n",
       "      <td>59469</td>\n",
       "      <td>White</td>\n",
       "    </tr>\n",
       "  </tbody>\n",
       "</table>\n",
       "</div>"
      ],
      "text/plain": [
       "                          Industry       Date         Region  High Wage Count  \\\n",
       "0  accommodation and food services 2014-01-01  Inland Empire            23272   \n",
       "1  accommodation and food services 2014-02-01  Inland Empire            23593   \n",
       "2  accommodation and food services 2014-03-01  Inland Empire            23857   \n",
       "3  accommodation and food services 2014-04-01  Inland Empire            23971   \n",
       "4  accommodation and food services 2014-05-01  Inland Empire            24179   \n",
       "\n",
       "   Employment Count  Cost of Living Output Race  \n",
       "0          123200.0           59469       White  \n",
       "1          124900.0           59469       White  \n",
       "2          126300.0           59469       White  \n",
       "3          126900.0           59469       White  \n",
       "4          128000.0           59469       White  "
      ]
     },
     "execution_count": 61,
     "metadata": {},
     "output_type": "execute_result"
    }
   ],
   "source": [
    "hw_output_demo.head()"
   ]
  },
  {
   "cell_type": "code",
   "execution_count": 62,
   "id": "a91c75e3",
   "metadata": {},
   "outputs": [],
   "source": [
    "hw_output_demo.to_csv(f'data/outputs/hw_outputs_w_race_{year}.csv', encoding='utf-8', index=False)"
   ]
  },
  {
   "cell_type": "code",
   "execution_count": null,
   "id": "7bc35b8b",
   "metadata": {},
   "outputs": [],
   "source": []
  }
 ],
 "metadata": {
  "kernelspec": {
   "display_name": "Python 3",
   "language": "python",
   "name": "python3"
  },
  "language_info": {
   "codemirror_mode": {
    "name": "ipython",
    "version": 3
   },
   "file_extension": ".py",
   "mimetype": "text/x-python",
   "name": "python",
   "nbconvert_exporter": "python",
   "pygments_lexer": "ipython3",
   "version": "3.8.8"
  }
 },
 "nbformat": 4,
 "nbformat_minor": 5
}
