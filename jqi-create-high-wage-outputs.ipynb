{
 "cells": [
  {
   "cell_type": "markdown",
   "id": "7c1bc220",
   "metadata": {},
   "source": [
    "# Notebook for Creating High Wage Outputs"
   ]
  },
  {
   "cell_type": "markdown",
   "id": "dee92bf6",
   "metadata": {},
   "source": [
    "#### This notebook is currently written to create high wage outputs for 2020."
   ]
  },
  {
   "cell_type": "code",
   "execution_count": 1,
   "id": "f79691da",
   "metadata": {},
   "outputs": [],
   "source": [
    "import pandas as pd\n",
    "import numpy as np\n",
    "import string\n",
    "import warnings\n",
    "import os\n",
    "import re\n",
    "from jqi_functions import *\n",
    "warnings.filterwarnings('ignore')"
   ]
  },
  {
   "cell_type": "markdown",
   "id": "149acefe",
   "metadata": {},
   "source": [
    "## Creating IPUMS dataframe"
   ]
  },
  {
   "cell_type": "markdown",
   "id": "ec689527",
   "metadata": {},
   "source": [
    "#### IPUMS Data\n",
    "`cleaned_ipums` is a function to generate a cleaned pandas dataframe using IPUMS data, filtering it down to California only and the desired year. The year needs to be entered in string format as a parameter."
   ]
  },
  {
   "cell_type": "code",
   "execution_count": 2,
   "id": "ddaef8ad",
   "metadata": {},
   "outputs": [],
   "source": [
    "ca_ipums = cleaned_ipums('2020')"
   ]
  },
  {
   "cell_type": "markdown",
   "id": "8d965db5",
   "metadata": {},
   "source": [
    "#### Cost of living needs to be updated each year."
   ]
  },
  {
   "cell_type": "markdown",
   "id": "8e382e20",
   "metadata": {},
   "source": [
    "In this case, the 2020 United Way Real Cost Measure has not been published, so I will continue using the data from 2019."
   ]
  },
  {
   "cell_type": "code",
   "execution_count": 3,
   "id": "cddc411b",
   "metadata": {},
   "outputs": [],
   "source": [
    "cost_of_living = pd.read_csv('data/cost_of_living/united-way-col-1A1PS1C2019.csv')"
   ]
  },
  {
   "cell_type": "markdown",
   "id": "455cf948",
   "metadata": {},
   "source": [
    "### Create county lookup dataframe\n",
    "\n",
    "Expanding the `county_info` dataframe to include cost of living metrics. This dataframe is used when industry information in a geographic area is too sparse and the next largest geographic area needs to be used instead."
   ]
  },
  {
   "cell_type": "code",
   "execution_count": 4,
   "id": "be66c749",
   "metadata": {},
   "outputs": [],
   "source": [
    "county_info = pd.read_csv('data/county_to_regions_key.csv')"
   ]
  },
  {
   "cell_type": "code",
   "execution_count": 5,
   "id": "64fe911d",
   "metadata": {},
   "outputs": [],
   "source": [
    "county_info = county_info[['County', 'COUNTYFIP', 'Rural/Urban', 'Regions']]"
   ]
  },
  {
   "cell_type": "code",
   "execution_count": 6,
   "id": "c4878531",
   "metadata": {},
   "outputs": [],
   "source": [
    "county_info = pd.merge(county_info, cost_of_living, left_on = 'County', right_on = 'Regions')"
   ]
  },
  {
   "cell_type": "code",
   "execution_count": 7,
   "id": "0556ccf6",
   "metadata": {},
   "outputs": [],
   "source": [
    "county_info = county_info.rename(columns = {'Cost of Living':'County COL'})\n",
    "county_info = county_info.drop(columns=['Regions_y'])"
   ]
  },
  {
   "cell_type": "code",
   "execution_count": 8,
   "id": "ebfb0eec",
   "metadata": {},
   "outputs": [],
   "source": [
    "county_info = pd.merge(county_info, cost_of_living, left_on = 'Regions_x', right_on = 'Regions')"
   ]
  },
  {
   "cell_type": "code",
   "execution_count": 9,
   "id": "e02cbe35",
   "metadata": {},
   "outputs": [],
   "source": [
    "county_info = county_info.rename(columns = {'Cost of Living':'Regional COL'})\n",
    "county_info = county_info.drop(columns=['Regions_x'])"
   ]
  },
  {
   "cell_type": "code",
   "execution_count": 10,
   "id": "b02a3956",
   "metadata": {},
   "outputs": [],
   "source": [
    "county_info = pd.merge(county_info, cost_of_living, left_on = 'Rural/Urban', right_on = 'Regions')"
   ]
  },
  {
   "cell_type": "code",
   "execution_count": 11,
   "id": "f7a9349a",
   "metadata": {},
   "outputs": [],
   "source": [
    "county_info = county_info.rename(columns = {'Cost of Living':'Rural/Urban COL', 'Regions_x':'Regions'})\n",
    "county_info = county_info.drop(columns=['Regions_y'])"
   ]
  },
  {
   "cell_type": "code",
   "execution_count": 12,
   "id": "bc2dbf52",
   "metadata": {},
   "outputs": [],
   "source": [
    "county_info['State COL'] = cost_of_living.iloc[11][1]"
   ]
  },
  {
   "cell_type": "markdown",
   "id": "2ea58dbe",
   "metadata": {},
   "source": [
    "View of final `county_info` dataframe."
   ]
  },
  {
   "cell_type": "code",
   "execution_count": 13,
   "id": "9af10e7c",
   "metadata": {},
   "outputs": [
    {
     "data": {
      "text/html": [
       "<div>\n",
       "<style scoped>\n",
       "    .dataframe tbody tr th:only-of-type {\n",
       "        vertical-align: middle;\n",
       "    }\n",
       "\n",
       "    .dataframe tbody tr th {\n",
       "        vertical-align: top;\n",
       "    }\n",
       "\n",
       "    .dataframe thead th {\n",
       "        text-align: right;\n",
       "    }\n",
       "</style>\n",
       "<table border=\"1\" class=\"dataframe\">\n",
       "  <thead>\n",
       "    <tr style=\"text-align: right;\">\n",
       "      <th></th>\n",
       "      <th>County</th>\n",
       "      <th>COUNTYFIP</th>\n",
       "      <th>Rural/Urban</th>\n",
       "      <th>County COL</th>\n",
       "      <th>Regions</th>\n",
       "      <th>Regional COL</th>\n",
       "      <th>Rural/Urban COL</th>\n",
       "      <th>State COL</th>\n",
       "    </tr>\n",
       "  </thead>\n",
       "  <tbody>\n",
       "    <tr>\n",
       "      <th>0</th>\n",
       "      <td>Alameda</td>\n",
       "      <td>1</td>\n",
       "      <td>Urban</td>\n",
       "      <td>88296</td>\n",
       "      <td>Bay Area</td>\n",
       "      <td>93392</td>\n",
       "      <td>79472</td>\n",
       "      <td>74448</td>\n",
       "    </tr>\n",
       "    <tr>\n",
       "      <th>1</th>\n",
       "      <td>Contra Costa</td>\n",
       "      <td>13</td>\n",
       "      <td>Urban</td>\n",
       "      <td>86284</td>\n",
       "      <td>Bay Area</td>\n",
       "      <td>93392</td>\n",
       "      <td>79472</td>\n",
       "      <td>74448</td>\n",
       "    </tr>\n",
       "    <tr>\n",
       "      <th>2</th>\n",
       "      <td>Solano</td>\n",
       "      <td>95</td>\n",
       "      <td>Urban</td>\n",
       "      <td>66751</td>\n",
       "      <td>Bay Area</td>\n",
       "      <td>93392</td>\n",
       "      <td>79472</td>\n",
       "      <td>74448</td>\n",
       "    </tr>\n",
       "    <tr>\n",
       "      <th>3</th>\n",
       "      <td>San Mateo</td>\n",
       "      <td>81</td>\n",
       "      <td>Urban</td>\n",
       "      <td>112606</td>\n",
       "      <td>Bay Area</td>\n",
       "      <td>93392</td>\n",
       "      <td>79472</td>\n",
       "      <td>74448</td>\n",
       "    </tr>\n",
       "    <tr>\n",
       "      <th>4</th>\n",
       "      <td>Santa Clara</td>\n",
       "      <td>85</td>\n",
       "      <td>Urban</td>\n",
       "      <td>107879</td>\n",
       "      <td>Bay Area</td>\n",
       "      <td>93392</td>\n",
       "      <td>79472</td>\n",
       "      <td>74448</td>\n",
       "    </tr>\n",
       "  </tbody>\n",
       "</table>\n",
       "</div>"
      ],
      "text/plain": [
       "         County  COUNTYFIP Rural/Urban  County COL   Regions  Regional COL  \\\n",
       "0       Alameda          1       Urban       88296  Bay Area         93392   \n",
       "1  Contra Costa         13       Urban       86284  Bay Area         93392   \n",
       "2        Solano         95       Urban       66751  Bay Area         93392   \n",
       "3     San Mateo         81       Urban      112606  Bay Area         93392   \n",
       "4   Santa Clara         85       Urban      107879  Bay Area         93392   \n",
       "\n",
       "   Rural/Urban COL  State COL  \n",
       "0            79472      74448  \n",
       "1            79472      74448  \n",
       "2            79472      74448  \n",
       "3            79472      74448  \n",
       "4            79472      74448  "
      ]
     },
     "execution_count": 13,
     "metadata": {},
     "output_type": "execute_result"
    }
   ],
   "source": [
    "county_info.head()"
   ]
  },
  {
   "cell_type": "code",
   "execution_count": 14,
   "id": "eed8e8f7",
   "metadata": {},
   "outputs": [],
   "source": [
    "ca_ipums = pd.merge(ca_ipums, county_info, on = 'COUNTYFIP')"
   ]
  },
  {
   "cell_type": "markdown",
   "id": "6ab94af4",
   "metadata": {},
   "source": [
    "View of final `ca_ipums` dataframe."
   ]
  },
  {
   "cell_type": "code",
   "execution_count": 15,
   "id": "09ab9732",
   "metadata": {},
   "outputs": [
    {
     "data": {
      "text/html": [
       "<div>\n",
       "<style scoped>\n",
       "    .dataframe tbody tr th:only-of-type {\n",
       "        vertical-align: middle;\n",
       "    }\n",
       "\n",
       "    .dataframe tbody tr th {\n",
       "        vertical-align: top;\n",
       "    }\n",
       "\n",
       "    .dataframe thead th {\n",
       "        text-align: right;\n",
       "    }\n",
       "</style>\n",
       "<table border=\"1\" class=\"dataframe\">\n",
       "  <thead>\n",
       "    <tr style=\"text-align: right;\">\n",
       "      <th></th>\n",
       "      <th>YEAR</th>\n",
       "      <th>COUNTYFIP</th>\n",
       "      <th>INDNAICS</th>\n",
       "      <th>PERWT</th>\n",
       "      <th>INCWAGE</th>\n",
       "      <th>NAICS Code</th>\n",
       "      <th>Industry Title</th>\n",
       "      <th>Industry</th>\n",
       "      <th>Crosswalk Value</th>\n",
       "      <th>County</th>\n",
       "      <th>Rural/Urban</th>\n",
       "      <th>County COL</th>\n",
       "      <th>Regions</th>\n",
       "      <th>Regional COL</th>\n",
       "      <th>Rural/Urban COL</th>\n",
       "      <th>State COL</th>\n",
       "    </tr>\n",
       "  </thead>\n",
       "  <tbody>\n",
       "    <tr>\n",
       "      <th>0</th>\n",
       "      <td>2020</td>\n",
       "      <td>73</td>\n",
       "      <td>928110p4</td>\n",
       "      <td>79.0</td>\n",
       "      <td>62000</td>\n",
       "      <td>928110p4</td>\n",
       "      <td>us marines</td>\n",
       "      <td>us marines</td>\n",
       "      <td>36</td>\n",
       "      <td>San Diego</td>\n",
       "      <td>Urban</td>\n",
       "      <td>79472</td>\n",
       "      <td>San Diego-Imperial</td>\n",
       "      <td>51652</td>\n",
       "      <td>79472</td>\n",
       "      <td>74448</td>\n",
       "    </tr>\n",
       "    <tr>\n",
       "      <th>1</th>\n",
       "      <td>2020</td>\n",
       "      <td>73</td>\n",
       "      <td>928110p4</td>\n",
       "      <td>64.0</td>\n",
       "      <td>24000</td>\n",
       "      <td>928110p4</td>\n",
       "      <td>us marines</td>\n",
       "      <td>us marines</td>\n",
       "      <td>36</td>\n",
       "      <td>San Diego</td>\n",
       "      <td>Urban</td>\n",
       "      <td>79472</td>\n",
       "      <td>San Diego-Imperial</td>\n",
       "      <td>51652</td>\n",
       "      <td>79472</td>\n",
       "      <td>74448</td>\n",
       "    </tr>\n",
       "    <tr>\n",
       "      <th>2</th>\n",
       "      <td>2020</td>\n",
       "      <td>73</td>\n",
       "      <td>928110p4</td>\n",
       "      <td>66.0</td>\n",
       "      <td>30000</td>\n",
       "      <td>928110p4</td>\n",
       "      <td>us marines</td>\n",
       "      <td>us marines</td>\n",
       "      <td>36</td>\n",
       "      <td>San Diego</td>\n",
       "      <td>Urban</td>\n",
       "      <td>79472</td>\n",
       "      <td>San Diego-Imperial</td>\n",
       "      <td>51652</td>\n",
       "      <td>79472</td>\n",
       "      <td>74448</td>\n",
       "    </tr>\n",
       "    <tr>\n",
       "      <th>3</th>\n",
       "      <td>2020</td>\n",
       "      <td>73</td>\n",
       "      <td>928110p4</td>\n",
       "      <td>58.0</td>\n",
       "      <td>24000</td>\n",
       "      <td>928110p4</td>\n",
       "      <td>us marines</td>\n",
       "      <td>us marines</td>\n",
       "      <td>36</td>\n",
       "      <td>San Diego</td>\n",
       "      <td>Urban</td>\n",
       "      <td>79472</td>\n",
       "      <td>San Diego-Imperial</td>\n",
       "      <td>51652</td>\n",
       "      <td>79472</td>\n",
       "      <td>74448</td>\n",
       "    </tr>\n",
       "    <tr>\n",
       "      <th>4</th>\n",
       "      <td>2020</td>\n",
       "      <td>73</td>\n",
       "      <td>928110p4</td>\n",
       "      <td>75.0</td>\n",
       "      <td>20000</td>\n",
       "      <td>928110p4</td>\n",
       "      <td>us marines</td>\n",
       "      <td>us marines</td>\n",
       "      <td>36</td>\n",
       "      <td>San Diego</td>\n",
       "      <td>Urban</td>\n",
       "      <td>79472</td>\n",
       "      <td>San Diego-Imperial</td>\n",
       "      <td>51652</td>\n",
       "      <td>79472</td>\n",
       "      <td>74448</td>\n",
       "    </tr>\n",
       "  </tbody>\n",
       "</table>\n",
       "</div>"
      ],
      "text/plain": [
       "   YEAR  COUNTYFIP  INDNAICS  PERWT  INCWAGE NAICS Code Industry Title  \\\n",
       "0  2020         73  928110p4   79.0    62000   928110p4     us marines   \n",
       "1  2020         73  928110p4   64.0    24000   928110p4     us marines   \n",
       "2  2020         73  928110p4   66.0    30000   928110p4     us marines   \n",
       "3  2020         73  928110p4   58.0    24000   928110p4     us marines   \n",
       "4  2020         73  928110p4   75.0    20000   928110p4     us marines   \n",
       "\n",
       "     Industry  Crosswalk Value     County Rural/Urban  County COL  \\\n",
       "0  us marines               36  San Diego       Urban       79472   \n",
       "1  us marines               36  San Diego       Urban       79472   \n",
       "2  us marines               36  San Diego       Urban       79472   \n",
       "3  us marines               36  San Diego       Urban       79472   \n",
       "4  us marines               36  San Diego       Urban       79472   \n",
       "\n",
       "              Regions  Regional COL  Rural/Urban COL  State COL  \n",
       "0  San Diego-Imperial         51652            79472      74448  \n",
       "1  San Diego-Imperial         51652            79472      74448  \n",
       "2  San Diego-Imperial         51652            79472      74448  \n",
       "3  San Diego-Imperial         51652            79472      74448  \n",
       "4  San Diego-Imperial         51652            79472      74448  "
      ]
     },
     "execution_count": 15,
     "metadata": {},
     "output_type": "execute_result"
    }
   ],
   "source": [
    "ca_ipums.head()"
   ]
  },
  {
   "cell_type": "markdown",
   "id": "054a5f3b",
   "metadata": {},
   "source": [
    "## Create EDD Dataframe"
   ]
  },
  {
   "cell_type": "markdown",
   "id": "35c71538",
   "metadata": {},
   "source": [
    "#### EDD Data\n",
    "The year for EDD data must be specified."
   ]
  },
  {
   "cell_type": "markdown",
   "id": "5c25d328",
   "metadata": {},
   "source": [
    "These CSV files are filtered and cleaned versions of the raw EDD Current Employment Statistics dataset. These CSV files can be created for upcoming years with the notebook `multiyear-edd-data-creation.ipynb`"
   ]
  },
  {
   "cell_type": "code",
   "execution_count": 16,
   "id": "d6100596",
   "metadata": {},
   "outputs": [],
   "source": [
    "edd = pd.read_csv('data/edd/edd_2020.csv')"
   ]
  },
  {
   "cell_type": "markdown",
   "id": "96e2a69d",
   "metadata": {},
   "source": [
    "View of final `edd` dataframe."
   ]
  },
  {
   "cell_type": "code",
   "execution_count": 17,
   "id": "eb1bbbf4",
   "metadata": {},
   "outputs": [
    {
     "data": {
      "text/html": [
       "<div>\n",
       "<style scoped>\n",
       "    .dataframe tbody tr th:only-of-type {\n",
       "        vertical-align: middle;\n",
       "    }\n",
       "\n",
       "    .dataframe tbody tr th {\n",
       "        vertical-align: top;\n",
       "    }\n",
       "\n",
       "    .dataframe thead th {\n",
       "        text-align: right;\n",
       "    }\n",
       "</style>\n",
       "<table border=\"1\" class=\"dataframe\">\n",
       "  <thead>\n",
       "    <tr style=\"text-align: right;\">\n",
       "      <th></th>\n",
       "      <th>Area Type</th>\n",
       "      <th>Area Name</th>\n",
       "      <th>Year</th>\n",
       "      <th>Month</th>\n",
       "      <th>Date</th>\n",
       "      <th>Series Code</th>\n",
       "      <th>Seasonally Adjusted</th>\n",
       "      <th>Current Employment</th>\n",
       "      <th>Industry Title</th>\n",
       "      <th>FIPS</th>\n",
       "      <th>COUNTYFIP</th>\n",
       "      <th>County</th>\n",
       "      <th>Rural/Urban</th>\n",
       "      <th>Regions</th>\n",
       "      <th>Crosswalk Value</th>\n",
       "    </tr>\n",
       "  </thead>\n",
       "  <tbody>\n",
       "    <tr>\n",
       "      <th>0</th>\n",
       "      <td>County</td>\n",
       "      <td>Alameda</td>\n",
       "      <td>2020</td>\n",
       "      <td>January</td>\n",
       "      <td>01/01/2020</td>\n",
       "      <td>80000000</td>\n",
       "      <td>N</td>\n",
       "      <td>27400</td>\n",
       "      <td>other services</td>\n",
       "      <td>6001</td>\n",
       "      <td>1</td>\n",
       "      <td>Alameda</td>\n",
       "      <td>Urban</td>\n",
       "      <td>Bay Area</td>\n",
       "      <td>32</td>\n",
       "    </tr>\n",
       "    <tr>\n",
       "      <th>1</th>\n",
       "      <td>County</td>\n",
       "      <td>Alameda</td>\n",
       "      <td>2020</td>\n",
       "      <td>February</td>\n",
       "      <td>02/01/2020</td>\n",
       "      <td>80000000</td>\n",
       "      <td>N</td>\n",
       "      <td>27700</td>\n",
       "      <td>other services</td>\n",
       "      <td>6001</td>\n",
       "      <td>1</td>\n",
       "      <td>Alameda</td>\n",
       "      <td>Urban</td>\n",
       "      <td>Bay Area</td>\n",
       "      <td>32</td>\n",
       "    </tr>\n",
       "    <tr>\n",
       "      <th>2</th>\n",
       "      <td>County</td>\n",
       "      <td>Alameda</td>\n",
       "      <td>2020</td>\n",
       "      <td>March</td>\n",
       "      <td>03/01/2020</td>\n",
       "      <td>80000000</td>\n",
       "      <td>N</td>\n",
       "      <td>27200</td>\n",
       "      <td>other services</td>\n",
       "      <td>6001</td>\n",
       "      <td>1</td>\n",
       "      <td>Alameda</td>\n",
       "      <td>Urban</td>\n",
       "      <td>Bay Area</td>\n",
       "      <td>32</td>\n",
       "    </tr>\n",
       "    <tr>\n",
       "      <th>3</th>\n",
       "      <td>County</td>\n",
       "      <td>Alameda</td>\n",
       "      <td>2020</td>\n",
       "      <td>April</td>\n",
       "      <td>04/01/2020</td>\n",
       "      <td>80000000</td>\n",
       "      <td>N</td>\n",
       "      <td>19300</td>\n",
       "      <td>other services</td>\n",
       "      <td>6001</td>\n",
       "      <td>1</td>\n",
       "      <td>Alameda</td>\n",
       "      <td>Urban</td>\n",
       "      <td>Bay Area</td>\n",
       "      <td>32</td>\n",
       "    </tr>\n",
       "    <tr>\n",
       "      <th>4</th>\n",
       "      <td>County</td>\n",
       "      <td>Alameda</td>\n",
       "      <td>2020</td>\n",
       "      <td>May</td>\n",
       "      <td>05/01/2020</td>\n",
       "      <td>80000000</td>\n",
       "      <td>N</td>\n",
       "      <td>20100</td>\n",
       "      <td>other services</td>\n",
       "      <td>6001</td>\n",
       "      <td>1</td>\n",
       "      <td>Alameda</td>\n",
       "      <td>Urban</td>\n",
       "      <td>Bay Area</td>\n",
       "      <td>32</td>\n",
       "    </tr>\n",
       "  </tbody>\n",
       "</table>\n",
       "</div>"
      ],
      "text/plain": [
       "  Area Type Area Name  Year     Month        Date  Series Code  \\\n",
       "0    County   Alameda  2020   January  01/01/2020     80000000   \n",
       "1    County   Alameda  2020  February  02/01/2020     80000000   \n",
       "2    County   Alameda  2020     March  03/01/2020     80000000   \n",
       "3    County   Alameda  2020     April  04/01/2020     80000000   \n",
       "4    County   Alameda  2020       May  05/01/2020     80000000   \n",
       "\n",
       "  Seasonally Adjusted  Current Employment  Industry Title  FIPS  COUNTYFIP  \\\n",
       "0                   N               27400  other services  6001          1   \n",
       "1                   N               27700  other services  6001          1   \n",
       "2                   N               27200  other services  6001          1   \n",
       "3                   N               19300  other services  6001          1   \n",
       "4                   N               20100  other services  6001          1   \n",
       "\n",
       "    County Rural/Urban   Regions  Crosswalk Value  \n",
       "0  Alameda       Urban  Bay Area               32  \n",
       "1  Alameda       Urban  Bay Area               32  \n",
       "2  Alameda       Urban  Bay Area               32  \n",
       "3  Alameda       Urban  Bay Area               32  \n",
       "4  Alameda       Urban  Bay Area               32  "
      ]
     },
     "execution_count": 17,
     "metadata": {},
     "output_type": "execute_result"
    }
   ],
   "source": [
    "edd.head()"
   ]
  },
  {
   "cell_type": "markdown",
   "id": "8e389234",
   "metadata": {},
   "source": [
    "## Add High Wage Features"
   ]
  },
  {
   "cell_type": "markdown",
   "id": "0fb3e6b3",
   "metadata": {},
   "source": [
    "`add_geo_high_wages` is a function that adds the following engineered features:\n",
    "- Above Threshold (Number of records above respective cost of living threshold)\n",
    "- Weighted above threshold (Above Threshold multiplied by person weight variable)\n",
    "- Unweighted industry counts (Number of records in that industry)\n",
    "- Weighted industry counts (Sum of person weight values in that industry)\n",
    "- Weighted high wage percentage (Weighted Above Threshold divided by Weighted Industry Counts as a percentage)\n",
    "\n",
    "The features are created for the following geographical levels:\n",
    "- Region\n",
    "- Rural/Urban\n",
    "- California"
   ]
  },
  {
   "cell_type": "code",
   "execution_count": 18,
   "id": "a10e163b",
   "metadata": {},
   "outputs": [],
   "source": [
    "ca_ipums_hw = add_geo_high_wages(ca_ipums)"
   ]
  },
  {
   "cell_type": "markdown",
   "id": "8d1ae283",
   "metadata": {},
   "source": [
    "View of final `ca_ipums_hw` dataframe."
   ]
  },
  {
   "cell_type": "code",
   "execution_count": 19,
   "id": "039d50b2",
   "metadata": {},
   "outputs": [
    {
     "data": {
      "text/html": [
       "<div>\n",
       "<style scoped>\n",
       "    .dataframe tbody tr th:only-of-type {\n",
       "        vertical-align: middle;\n",
       "    }\n",
       "\n",
       "    .dataframe tbody tr th {\n",
       "        vertical-align: top;\n",
       "    }\n",
       "\n",
       "    .dataframe thead th {\n",
       "        text-align: right;\n",
       "    }\n",
       "</style>\n",
       "<table border=\"1\" class=\"dataframe\">\n",
       "  <thead>\n",
       "    <tr style=\"text-align: right;\">\n",
       "      <th></th>\n",
       "      <th>0</th>\n",
       "      <th>1</th>\n",
       "      <th>2</th>\n",
       "      <th>3</th>\n",
       "      <th>4</th>\n",
       "    </tr>\n",
       "  </thead>\n",
       "  <tbody>\n",
       "    <tr>\n",
       "      <th>YEAR</th>\n",
       "      <td>2020</td>\n",
       "      <td>2020</td>\n",
       "      <td>2020</td>\n",
       "      <td>2020</td>\n",
       "      <td>2020</td>\n",
       "    </tr>\n",
       "    <tr>\n",
       "      <th>COUNTYFIP</th>\n",
       "      <td>73</td>\n",
       "      <td>73</td>\n",
       "      <td>73</td>\n",
       "      <td>73</td>\n",
       "      <td>73</td>\n",
       "    </tr>\n",
       "    <tr>\n",
       "      <th>INDNAICS</th>\n",
       "      <td>928110p4</td>\n",
       "      <td>928110p4</td>\n",
       "      <td>928110p4</td>\n",
       "      <td>928110p4</td>\n",
       "      <td>928110p4</td>\n",
       "    </tr>\n",
       "    <tr>\n",
       "      <th>PERWT</th>\n",
       "      <td>79.0</td>\n",
       "      <td>64.0</td>\n",
       "      <td>66.0</td>\n",
       "      <td>58.0</td>\n",
       "      <td>75.0</td>\n",
       "    </tr>\n",
       "    <tr>\n",
       "      <th>INCWAGE</th>\n",
       "      <td>62000</td>\n",
       "      <td>24000</td>\n",
       "      <td>30000</td>\n",
       "      <td>24000</td>\n",
       "      <td>20000</td>\n",
       "    </tr>\n",
       "    <tr>\n",
       "      <th>NAICS Code</th>\n",
       "      <td>928110p4</td>\n",
       "      <td>928110p4</td>\n",
       "      <td>928110p4</td>\n",
       "      <td>928110p4</td>\n",
       "      <td>928110p4</td>\n",
       "    </tr>\n",
       "    <tr>\n",
       "      <th>Industry Title</th>\n",
       "      <td>us marines</td>\n",
       "      <td>us marines</td>\n",
       "      <td>us marines</td>\n",
       "      <td>us marines</td>\n",
       "      <td>us marines</td>\n",
       "    </tr>\n",
       "    <tr>\n",
       "      <th>Industry</th>\n",
       "      <td>us marines</td>\n",
       "      <td>us marines</td>\n",
       "      <td>us marines</td>\n",
       "      <td>us marines</td>\n",
       "      <td>us marines</td>\n",
       "    </tr>\n",
       "    <tr>\n",
       "      <th>Crosswalk Value</th>\n",
       "      <td>36</td>\n",
       "      <td>36</td>\n",
       "      <td>36</td>\n",
       "      <td>36</td>\n",
       "      <td>36</td>\n",
       "    </tr>\n",
       "    <tr>\n",
       "      <th>County</th>\n",
       "      <td>San Diego</td>\n",
       "      <td>San Diego</td>\n",
       "      <td>San Diego</td>\n",
       "      <td>San Diego</td>\n",
       "      <td>San Diego</td>\n",
       "    </tr>\n",
       "    <tr>\n",
       "      <th>Rural/Urban</th>\n",
       "      <td>Urban</td>\n",
       "      <td>Urban</td>\n",
       "      <td>Urban</td>\n",
       "      <td>Urban</td>\n",
       "      <td>Urban</td>\n",
       "    </tr>\n",
       "    <tr>\n",
       "      <th>County COL</th>\n",
       "      <td>79472</td>\n",
       "      <td>79472</td>\n",
       "      <td>79472</td>\n",
       "      <td>79472</td>\n",
       "      <td>79472</td>\n",
       "    </tr>\n",
       "    <tr>\n",
       "      <th>Regions</th>\n",
       "      <td>San Diego-Imperial</td>\n",
       "      <td>San Diego-Imperial</td>\n",
       "      <td>San Diego-Imperial</td>\n",
       "      <td>San Diego-Imperial</td>\n",
       "      <td>San Diego-Imperial</td>\n",
       "    </tr>\n",
       "    <tr>\n",
       "      <th>Regional COL</th>\n",
       "      <td>51652</td>\n",
       "      <td>51652</td>\n",
       "      <td>51652</td>\n",
       "      <td>51652</td>\n",
       "      <td>51652</td>\n",
       "    </tr>\n",
       "    <tr>\n",
       "      <th>Rural/Urban COL</th>\n",
       "      <td>79472</td>\n",
       "      <td>79472</td>\n",
       "      <td>79472</td>\n",
       "      <td>79472</td>\n",
       "      <td>79472</td>\n",
       "    </tr>\n",
       "    <tr>\n",
       "      <th>State COL</th>\n",
       "      <td>74448</td>\n",
       "      <td>74448</td>\n",
       "      <td>74448</td>\n",
       "      <td>74448</td>\n",
       "      <td>74448</td>\n",
       "    </tr>\n",
       "    <tr>\n",
       "      <th>Above CA Threshold</th>\n",
       "      <td>0</td>\n",
       "      <td>0</td>\n",
       "      <td>0</td>\n",
       "      <td>0</td>\n",
       "      <td>0</td>\n",
       "    </tr>\n",
       "    <tr>\n",
       "      <th>wt_ind_counts</th>\n",
       "      <td>1497517.0</td>\n",
       "      <td>1497517.0</td>\n",
       "      <td>1497517.0</td>\n",
       "      <td>1497517.0</td>\n",
       "      <td>1497517.0</td>\n",
       "    </tr>\n",
       "    <tr>\n",
       "      <th>wt_CA_above_thresh</th>\n",
       "      <td>0.0</td>\n",
       "      <td>0.0</td>\n",
       "      <td>0.0</td>\n",
       "      <td>0.0</td>\n",
       "      <td>0.0</td>\n",
       "    </tr>\n",
       "    <tr>\n",
       "      <th>wt_CA_high_wage_count</th>\n",
       "      <td>745611.0</td>\n",
       "      <td>745611.0</td>\n",
       "      <td>745611.0</td>\n",
       "      <td>745611.0</td>\n",
       "      <td>745611.0</td>\n",
       "    </tr>\n",
       "    <tr>\n",
       "      <th>wt_CA_high_wage_perc</th>\n",
       "      <td>49.789819</td>\n",
       "      <td>49.789819</td>\n",
       "      <td>49.789819</td>\n",
       "      <td>49.789819</td>\n",
       "      <td>49.789819</td>\n",
       "    </tr>\n",
       "    <tr>\n",
       "      <th>unwt_ind_counts</th>\n",
       "      <td>12199</td>\n",
       "      <td>12199</td>\n",
       "      <td>12199</td>\n",
       "      <td>12199</td>\n",
       "      <td>12199</td>\n",
       "    </tr>\n",
       "    <tr>\n",
       "      <th>above_comm_thresh</th>\n",
       "      <td>0</td>\n",
       "      <td>0</td>\n",
       "      <td>0</td>\n",
       "      <td>0</td>\n",
       "      <td>0</td>\n",
       "    </tr>\n",
       "    <tr>\n",
       "      <th>wt_comm_above_thresh</th>\n",
       "      <td>0.0</td>\n",
       "      <td>0.0</td>\n",
       "      <td>0.0</td>\n",
       "      <td>0.0</td>\n",
       "      <td>0.0</td>\n",
       "    </tr>\n",
       "    <tr>\n",
       "      <th>wt_comm_ind_counts</th>\n",
       "      <td>1391582.0</td>\n",
       "      <td>1391582.0</td>\n",
       "      <td>1391582.0</td>\n",
       "      <td>1391582.0</td>\n",
       "      <td>1391582.0</td>\n",
       "    </tr>\n",
       "    <tr>\n",
       "      <th>wt_comm_high_wage_count</th>\n",
       "      <td>636547.0</td>\n",
       "      <td>636547.0</td>\n",
       "      <td>636547.0</td>\n",
       "      <td>636547.0</td>\n",
       "      <td>636547.0</td>\n",
       "    </tr>\n",
       "    <tr>\n",
       "      <th>unwt_comm_ind_counts</th>\n",
       "      <td>11389</td>\n",
       "      <td>11389</td>\n",
       "      <td>11389</td>\n",
       "      <td>11389</td>\n",
       "      <td>11389</td>\n",
       "    </tr>\n",
       "    <tr>\n",
       "      <th>wt_comm_high_wage_perc</th>\n",
       "      <td>45.742687</td>\n",
       "      <td>45.742687</td>\n",
       "      <td>45.742687</td>\n",
       "      <td>45.742687</td>\n",
       "      <td>45.742687</td>\n",
       "    </tr>\n",
       "    <tr>\n",
       "      <th>above_region_thresh</th>\n",
       "      <td>1</td>\n",
       "      <td>0</td>\n",
       "      <td>0</td>\n",
       "      <td>0</td>\n",
       "      <td>0</td>\n",
       "    </tr>\n",
       "    <tr>\n",
       "      <th>wt_reg_above_thresh</th>\n",
       "      <td>79.0</td>\n",
       "      <td>0.0</td>\n",
       "      <td>0.0</td>\n",
       "      <td>0.0</td>\n",
       "      <td>0.0</td>\n",
       "    </tr>\n",
       "    <tr>\n",
       "      <th>wt_reg_ind_counts</th>\n",
       "      <td>144333.0</td>\n",
       "      <td>144333.0</td>\n",
       "      <td>144333.0</td>\n",
       "      <td>144333.0</td>\n",
       "      <td>144333.0</td>\n",
       "    </tr>\n",
       "    <tr>\n",
       "      <th>wt_reg_high_wage_count</th>\n",
       "      <td>78553.0</td>\n",
       "      <td>78553.0</td>\n",
       "      <td>78553.0</td>\n",
       "      <td>78553.0</td>\n",
       "      <td>78553.0</td>\n",
       "    </tr>\n",
       "    <tr>\n",
       "      <th>unwt_reg_ind_counts</th>\n",
       "      <td>1266</td>\n",
       "      <td>1266</td>\n",
       "      <td>1266</td>\n",
       "      <td>1266</td>\n",
       "      <td>1266</td>\n",
       "    </tr>\n",
       "    <tr>\n",
       "      <th>wt_reg_high_wage_perc</th>\n",
       "      <td>54.424837</td>\n",
       "      <td>54.424837</td>\n",
       "      <td>54.424837</td>\n",
       "      <td>54.424837</td>\n",
       "      <td>54.424837</td>\n",
       "    </tr>\n",
       "  </tbody>\n",
       "</table>\n",
       "</div>"
      ],
      "text/plain": [
       "                                          0                   1  \\\n",
       "YEAR                                   2020                2020   \n",
       "COUNTYFIP                                73                  73   \n",
       "INDNAICS                           928110p4            928110p4   \n",
       "PERWT                                  79.0                64.0   \n",
       "INCWAGE                               62000               24000   \n",
       "NAICS Code                         928110p4            928110p4   \n",
       "Industry Title                   us marines          us marines   \n",
       "Industry                         us marines          us marines   \n",
       "Crosswalk Value                          36                  36   \n",
       "County                            San Diego           San Diego   \n",
       "Rural/Urban                           Urban               Urban   \n",
       "County COL                            79472               79472   \n",
       "Regions                  San Diego-Imperial  San Diego-Imperial   \n",
       "Regional COL                          51652               51652   \n",
       "Rural/Urban COL                       79472               79472   \n",
       "State COL                             74448               74448   \n",
       "Above CA Threshold                        0                   0   \n",
       "wt_ind_counts                     1497517.0           1497517.0   \n",
       "wt_CA_above_thresh                      0.0                 0.0   \n",
       "wt_CA_high_wage_count              745611.0            745611.0   \n",
       "wt_CA_high_wage_perc              49.789819           49.789819   \n",
       "unwt_ind_counts                       12199               12199   \n",
       "above_comm_thresh                         0                   0   \n",
       "wt_comm_above_thresh                    0.0                 0.0   \n",
       "wt_comm_ind_counts                1391582.0           1391582.0   \n",
       "wt_comm_high_wage_count            636547.0            636547.0   \n",
       "unwt_comm_ind_counts                  11389               11389   \n",
       "wt_comm_high_wage_perc            45.742687           45.742687   \n",
       "above_region_thresh                       1                   0   \n",
       "wt_reg_above_thresh                    79.0                 0.0   \n",
       "wt_reg_ind_counts                  144333.0            144333.0   \n",
       "wt_reg_high_wage_count              78553.0             78553.0   \n",
       "unwt_reg_ind_counts                    1266                1266   \n",
       "wt_reg_high_wage_perc             54.424837           54.424837   \n",
       "\n",
       "                                          2                   3  \\\n",
       "YEAR                                   2020                2020   \n",
       "COUNTYFIP                                73                  73   \n",
       "INDNAICS                           928110p4            928110p4   \n",
       "PERWT                                  66.0                58.0   \n",
       "INCWAGE                               30000               24000   \n",
       "NAICS Code                         928110p4            928110p4   \n",
       "Industry Title                   us marines          us marines   \n",
       "Industry                         us marines          us marines   \n",
       "Crosswalk Value                          36                  36   \n",
       "County                            San Diego           San Diego   \n",
       "Rural/Urban                           Urban               Urban   \n",
       "County COL                            79472               79472   \n",
       "Regions                  San Diego-Imperial  San Diego-Imperial   \n",
       "Regional COL                          51652               51652   \n",
       "Rural/Urban COL                       79472               79472   \n",
       "State COL                             74448               74448   \n",
       "Above CA Threshold                        0                   0   \n",
       "wt_ind_counts                     1497517.0           1497517.0   \n",
       "wt_CA_above_thresh                      0.0                 0.0   \n",
       "wt_CA_high_wage_count              745611.0            745611.0   \n",
       "wt_CA_high_wage_perc              49.789819           49.789819   \n",
       "unwt_ind_counts                       12199               12199   \n",
       "above_comm_thresh                         0                   0   \n",
       "wt_comm_above_thresh                    0.0                 0.0   \n",
       "wt_comm_ind_counts                1391582.0           1391582.0   \n",
       "wt_comm_high_wage_count            636547.0            636547.0   \n",
       "unwt_comm_ind_counts                  11389               11389   \n",
       "wt_comm_high_wage_perc            45.742687           45.742687   \n",
       "above_region_thresh                       0                   0   \n",
       "wt_reg_above_thresh                     0.0                 0.0   \n",
       "wt_reg_ind_counts                  144333.0            144333.0   \n",
       "wt_reg_high_wage_count              78553.0             78553.0   \n",
       "unwt_reg_ind_counts                    1266                1266   \n",
       "wt_reg_high_wage_perc             54.424837           54.424837   \n",
       "\n",
       "                                          4  \n",
       "YEAR                                   2020  \n",
       "COUNTYFIP                                73  \n",
       "INDNAICS                           928110p4  \n",
       "PERWT                                  75.0  \n",
       "INCWAGE                               20000  \n",
       "NAICS Code                         928110p4  \n",
       "Industry Title                   us marines  \n",
       "Industry                         us marines  \n",
       "Crosswalk Value                          36  \n",
       "County                            San Diego  \n",
       "Rural/Urban                           Urban  \n",
       "County COL                            79472  \n",
       "Regions                  San Diego-Imperial  \n",
       "Regional COL                          51652  \n",
       "Rural/Urban COL                       79472  \n",
       "State COL                             74448  \n",
       "Above CA Threshold                        0  \n",
       "wt_ind_counts                     1497517.0  \n",
       "wt_CA_above_thresh                      0.0  \n",
       "wt_CA_high_wage_count              745611.0  \n",
       "wt_CA_high_wage_perc              49.789819  \n",
       "unwt_ind_counts                       12199  \n",
       "above_comm_thresh                         0  \n",
       "wt_comm_above_thresh                    0.0  \n",
       "wt_comm_ind_counts                1391582.0  \n",
       "wt_comm_high_wage_count            636547.0  \n",
       "unwt_comm_ind_counts                  11389  \n",
       "wt_comm_high_wage_perc            45.742687  \n",
       "above_region_thresh                       0  \n",
       "wt_reg_above_thresh                     0.0  \n",
       "wt_reg_ind_counts                  144333.0  \n",
       "wt_reg_high_wage_count              78553.0  \n",
       "unwt_reg_ind_counts                    1266  \n",
       "wt_reg_high_wage_perc             54.424837  "
      ]
     },
     "execution_count": 19,
     "metadata": {},
     "output_type": "execute_result"
    }
   ],
   "source": [
    "ca_ipums_hw.head().T"
   ]
  },
  {
   "cell_type": "markdown",
   "id": "5ae97516",
   "metadata": {},
   "source": [
    "## Create High Wage Outputs Dataframe"
   ]
  },
  {
   "cell_type": "markdown",
   "id": "6a5964b8",
   "metadata": {},
   "source": [
    "`edd_to_hw` is the function that outputs the values needed to create the high wage output dataframe. This portion of the notebook runs through every unique combination of region, industry, and date, to get that respective output and add it to the dataframe."
   ]
  },
  {
   "cell_type": "markdown",
   "id": "03cf2a18",
   "metadata": {},
   "source": [
    "Because of the nested structure of the EDD industries, only a small selection of EDD industries can be used to ensure that individuals in nested industries are not counted twice. The selection of these industries different per region, so the series code of each industry is documented in the `region_series_codes` global variable in the `jqi_functions.py` library. Each of these codes were then assigned their own crosswalk value, which align with each crosswalk value assigned to each IPUMS industry. For generating high wage outputs, we only iterate through the EDD industries that have been selected and have a designated crosswalk value."
   ]
  },
  {
   "cell_type": "markdown",
   "id": "9c3514d7",
   "metadata": {},
   "source": [
    "Getting unique values for each region, industry, and date."
   ]
  },
  {
   "cell_type": "code",
   "execution_count": 20,
   "id": "afbe1ba3",
   "metadata": {},
   "outputs": [],
   "source": [
    "regions_ipums = ca_ipums_hw['Regions'].unique()"
   ]
  },
  {
   "cell_type": "code",
   "execution_count": 21,
   "id": "f518fbb9",
   "metadata": {},
   "outputs": [],
   "source": [
    "crosswalk_vals = sorted(edd['Crosswalk Value'].unique())"
   ]
  },
  {
   "cell_type": "code",
   "execution_count": 22,
   "id": "e6489823",
   "metadata": {},
   "outputs": [],
   "source": [
    "dates_edd = edd['Date'].unique()"
   ]
  },
  {
   "cell_type": "markdown",
   "id": "61d0d697",
   "metadata": {},
   "source": [
    "Initializing empty lists for the function's outputs to later be joined in a dataframe."
   ]
  },
  {
   "cell_type": "code",
   "execution_count": 23,
   "id": "7b75acd6",
   "metadata": {},
   "outputs": [],
   "source": [
    "industries = []\n",
    "dates = []\n",
    "regions = []\n",
    "counts = []\n",
    "emp_counts = []"
   ]
  },
  {
   "cell_type": "code",
   "execution_count": 24,
   "id": "558f2f3f",
   "metadata": {},
   "outputs": [],
   "source": [
    "total_iterations = len(regions_ipums) * len(crosswalk_vals) * len(dates_edd)"
   ]
  },
  {
   "cell_type": "markdown",
   "id": "92ead1bd",
   "metadata": {},
   "source": [
    "For loop to populate lists for the high wage outputs. This will take some time to finish running."
   ]
  },
  {
   "cell_type": "code",
   "execution_count": 25,
   "id": "ee5f75a9",
   "metadata": {},
   "outputs": [
    {
     "name": "stdout",
     "output_type": "stream",
     "text": [
      "Progress: 10% Complete\n",
      "Progress: 20% Complete\n",
      "Progress: 30% Complete\n",
      "Progress: 40% Complete\n",
      "Progress: 50% Complete\n",
      "Progress: 60% Complete\n",
      "Progress: 70% Complete\n",
      "Progress: 80% Complete\n",
      "Progress: 90% Complete\n",
      "Progress: 100% Complete\n"
     ]
    }
   ],
   "source": [
    "progress_count = 0\n",
    "for region in regions_ipums:\n",
    "    for code in crosswalk_vals:\n",
    "        for date in dates_edd:\n",
    "            hw_count, hw_perc, employment_count, industry = edd_to_hw(edd, ca_ipums_hw, region, code, date, 10)\n",
    "            industries.append(industry)\n",
    "            dates.append(date)\n",
    "            regions.append(region)\n",
    "            counts.append(hw_count)\n",
    "            emp_counts.append(employment_count)\n",
    "            progress_count += 1\n",
    "            if progress_count % (total_iterations / 10) == 0:\n",
    "                percent_done = int((progress_count / total_iterations) * 100)\n",
    "                print(f'Progress: {percent_done}% Complete')"
   ]
  },
  {
   "cell_type": "markdown",
   "id": "482a0ef5",
   "metadata": {},
   "source": [
    "Creating a cleaned dataframe from the output lists."
   ]
  },
  {
   "cell_type": "code",
   "execution_count": 26,
   "id": "0ba23e6e",
   "metadata": {},
   "outputs": [],
   "source": [
    "df_dict = {'Industry':industries, 'Date':dates, 'Region':regions, 'High Wage Count':counts, 'Employment Count':emp_counts}\n",
    "hw_output = pd.DataFrame(df_dict)\n",
    "hw_output = hw_output[hw_output['Industry'].notna()]\n",
    "hw_output['Date']= pd.to_datetime(hw_output['Date'])\n",
    "hw_output['High Wage Count'] = hw_output['High Wage Count'].astype(int)\n",
    "hw_output = hw_output.sort_values(by=['Industry', 'Region', 'Date'])\n",
    "hw_output = pd.merge(hw_output, cost_of_living, left_on='Region', right_on='Regions')\n",
    "hw_output = hw_output[['Industry', 'Date', 'Region', 'High Wage Count', 'Employment Count', 'Cost of Living']]\n",
    "hw_output = hw_output.drop_duplicates()"
   ]
  },
  {
   "cell_type": "markdown",
   "id": "8ea059e4",
   "metadata": {},
   "source": [
    "View of final `hw_output` dataframe."
   ]
  },
  {
   "cell_type": "code",
   "execution_count": 27,
   "id": "2c3151e4",
   "metadata": {},
   "outputs": [
    {
     "data": {
      "text/html": [
       "<div>\n",
       "<style scoped>\n",
       "    .dataframe tbody tr th:only-of-type {\n",
       "        vertical-align: middle;\n",
       "    }\n",
       "\n",
       "    .dataframe tbody tr th {\n",
       "        vertical-align: top;\n",
       "    }\n",
       "\n",
       "    .dataframe thead th {\n",
       "        text-align: right;\n",
       "    }\n",
       "</style>\n",
       "<table border=\"1\" class=\"dataframe\">\n",
       "  <thead>\n",
       "    <tr style=\"text-align: right;\">\n",
       "      <th></th>\n",
       "      <th>Industry</th>\n",
       "      <th>Date</th>\n",
       "      <th>Region</th>\n",
       "      <th>High Wage Count</th>\n",
       "      <th>Employment Count</th>\n",
       "      <th>Cost of Living</th>\n",
       "    </tr>\n",
       "  </thead>\n",
       "  <tbody>\n",
       "    <tr>\n",
       "      <th>0</th>\n",
       "      <td>accommodation and food services</td>\n",
       "      <td>2020-01-01</td>\n",
       "      <td>Inland Empire</td>\n",
       "      <td>18315</td>\n",
       "      <td>154200.0</td>\n",
       "      <td>63170</td>\n",
       "    </tr>\n",
       "    <tr>\n",
       "      <th>1</th>\n",
       "      <td>accommodation and food services</td>\n",
       "      <td>2020-02-01</td>\n",
       "      <td>Inland Empire</td>\n",
       "      <td>18623</td>\n",
       "      <td>156800.0</td>\n",
       "      <td>63170</td>\n",
       "    </tr>\n",
       "    <tr>\n",
       "      <th>2</th>\n",
       "      <td>accommodation and food services</td>\n",
       "      <td>2020-03-01</td>\n",
       "      <td>Inland Empire</td>\n",
       "      <td>18279</td>\n",
       "      <td>153900.0</td>\n",
       "      <td>63170</td>\n",
       "    </tr>\n",
       "    <tr>\n",
       "      <th>3</th>\n",
       "      <td>accommodation and food services</td>\n",
       "      <td>2020-04-01</td>\n",
       "      <td>Inland Empire</td>\n",
       "      <td>11354</td>\n",
       "      <td>95600.0</td>\n",
       "      <td>63170</td>\n",
       "    </tr>\n",
       "    <tr>\n",
       "      <th>4</th>\n",
       "      <td>accommodation and food services</td>\n",
       "      <td>2020-05-01</td>\n",
       "      <td>Inland Empire</td>\n",
       "      <td>12174</td>\n",
       "      <td>102500.0</td>\n",
       "      <td>63170</td>\n",
       "    </tr>\n",
       "  </tbody>\n",
       "</table>\n",
       "</div>"
      ],
      "text/plain": [
       "                          Industry       Date         Region  High Wage Count  \\\n",
       "0  accommodation and food services 2020-01-01  Inland Empire            18315   \n",
       "1  accommodation and food services 2020-02-01  Inland Empire            18623   \n",
       "2  accommodation and food services 2020-03-01  Inland Empire            18279   \n",
       "3  accommodation and food services 2020-04-01  Inland Empire            11354   \n",
       "4  accommodation and food services 2020-05-01  Inland Empire            12174   \n",
       "\n",
       "   Employment Count  Cost of Living  \n",
       "0          154200.0           63170  \n",
       "1          156800.0           63170  \n",
       "2          153900.0           63170  \n",
       "3           95600.0           63170  \n",
       "4          102500.0           63170  "
      ]
     },
     "execution_count": 27,
     "metadata": {},
     "output_type": "execute_result"
    }
   ],
   "source": [
    "hw_output.head()"
   ]
  },
  {
   "cell_type": "markdown",
   "id": "6513e726",
   "metadata": {},
   "source": [
    "Code to export the dataframe as a CSV file - change file path if needed and uncomment to run."
   ]
  },
  {
   "cell_type": "code",
   "execution_count": 35,
   "id": "b8599369",
   "metadata": {},
   "outputs": [],
   "source": [
    "# hw_output.to_csv('data/outputs/hw_outputs_2020.csv', encoding='utf-8', index=False)"
   ]
  },
  {
   "cell_type": "code",
   "execution_count": 28,
   "id": "b44b4360",
   "metadata": {},
   "outputs": [],
   "source": [
    "### TESTING\n",
    "bayarea = hw_output.loc[hw_output['Date'] == '2020-12-01'].loc[hw_output['Region'] == 'Bay Area']"
   ]
  },
  {
   "cell_type": "code",
   "execution_count": 29,
   "id": "b04a4bb3",
   "metadata": {},
   "outputs": [
    {
     "data": {
      "text/plain": [
       "1223655"
      ]
     },
     "execution_count": 29,
     "metadata": {},
     "output_type": "execute_result"
    }
   ],
   "source": [
    "bayarea['High Wage Count'].sum()"
   ]
  },
  {
   "cell_type": "code",
   "execution_count": 30,
   "id": "036e4666",
   "metadata": {},
   "outputs": [
    {
     "data": {
      "text/plain": [
       "3241400.0"
      ]
     },
     "execution_count": 30,
     "metadata": {},
     "output_type": "execute_result"
    }
   ],
   "source": [
    "bayarea['Employment Count'].sum()"
   ]
  },
  {
   "cell_type": "code",
   "execution_count": 31,
   "id": "c85233aa",
   "metadata": {},
   "outputs": [],
   "source": [
    "california = hw_output.loc[hw_output['Date'] == '2020-12-01']"
   ]
  },
  {
   "cell_type": "code",
   "execution_count": 32,
   "id": "745c3ce5",
   "metadata": {},
   "outputs": [
    {
     "data": {
      "text/plain": [
       "5273275"
      ]
     },
     "execution_count": 32,
     "metadata": {},
     "output_type": "execute_result"
    }
   ],
   "source": [
    "california['High Wage Count'].sum()"
   ]
  },
  {
   "cell_type": "code",
   "execution_count": 33,
   "id": "4a208b9a",
   "metadata": {},
   "outputs": [
    {
     "data": {
      "text/plain": [
       "15822000.0"
      ]
     },
     "execution_count": 33,
     "metadata": {},
     "output_type": "execute_result"
    }
   ],
   "source": [
    "california['Employment Count'].sum()"
   ]
  },
  {
   "cell_type": "code",
   "execution_count": null,
   "id": "146e4bee",
   "metadata": {},
   "outputs": [],
   "source": []
  }
 ],
 "metadata": {
  "kernelspec": {
   "display_name": "Python 3",
   "language": "python",
   "name": "python3"
  },
  "language_info": {
   "codemirror_mode": {
    "name": "ipython",
    "version": 3
   },
   "file_extension": ".py",
   "mimetype": "text/x-python",
   "name": "python",
   "nbconvert_exporter": "python",
   "pygments_lexer": "ipython3",
   "version": "3.8.8"
  }
 },
 "nbformat": 4,
 "nbformat_minor": 5
}
