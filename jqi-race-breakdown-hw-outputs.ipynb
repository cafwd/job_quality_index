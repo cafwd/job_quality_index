{
 "cells": [
  {
   "cell_type": "markdown",
   "id": "7c1bc220",
   "metadata": {},
   "source": [
    "# Notebook for Creating High Wage Outputs with Racial Demographics Breakdown"
   ]
  },
  {
   "cell_type": "markdown",
   "id": "cdfd6560",
   "metadata": {},
   "source": [
    "#### This notebook is currently written to create high wage outputs for 2020."
   ]
  },
  {
   "cell_type": "code",
   "execution_count": 1,
   "id": "f79691da",
   "metadata": {},
   "outputs": [],
   "source": [
    "import pandas as pd\n",
    "import numpy as np\n",
    "import matplotlib.pyplot as plt\n",
    "import string\n",
    "import warnings\n",
    "import os\n",
    "import re\n",
    "from jqi_functions import *\n",
    "warnings.filterwarnings('ignore')\n",
    "%config InlineBackend.figure_format='retina'"
   ]
  },
  {
   "cell_type": "markdown",
   "id": "953a77c8",
   "metadata": {},
   "source": [
    "## Set the desired year and the corresponding cost of living year"
   ]
  },
  {
   "cell_type": "code",
   "execution_count": 2,
   "id": "3190585c",
   "metadata": {},
   "outputs": [],
   "source": [
    "year = '2010'"
   ]
  },
  {
   "cell_type": "markdown",
   "id": "7f20c800",
   "metadata": {},
   "source": [
    "## Creating IPUMS dataframe\n",
    "\n",
    "#### IPUMS Data\n",
    "`cleaned_ipums` is a function to generate a cleaned pandas dataframe using IPUMS data, filtering it down to California only and the desired year. By setting the `demo` parameter to True, the dataframe will also include the racial demographic information for each record in the dataset. The year needs to be entered in string format as a parameter."
   ]
  },
  {
   "cell_type": "code",
   "execution_count": 3,
   "id": "91e107c9",
   "metadata": {},
   "outputs": [],
   "source": [
    "ca_ipums = cleaned_ipums(year, demo=True)"
   ]
  },
  {
   "cell_type": "markdown",
   "id": "26034126",
   "metadata": {},
   "source": [
    "#### Cost of living needs to be updated each year."
   ]
  },
  {
   "cell_type": "code",
   "execution_count": 4,
   "id": "84dbd0ad",
   "metadata": {},
   "outputs": [],
   "source": [
    "cost_of_living = pd.read_csv(f'data/cost_of_living/united-way-col-1A1PS1C{year}.csv')"
   ]
  },
  {
   "cell_type": "markdown",
   "id": "f6e3cbf4",
   "metadata": {},
   "source": [
    "### Create county lookup dataframe\n",
    "\n",
    "Expanding the `county_info` dataframe to include cost of living metrics. This dataframe is used when industry information in a geographic area is too sparse and the next largest geographic area needs to be used instead."
   ]
  },
  {
   "cell_type": "code",
   "execution_count": 5,
   "id": "ea7947e5",
   "metadata": {},
   "outputs": [],
   "source": [
    "county_info = pd.read_csv('data/county_to_regions_key.csv')"
   ]
  },
  {
   "cell_type": "code",
   "execution_count": 6,
   "id": "addf704d",
   "metadata": {},
   "outputs": [],
   "source": [
    "county_info = county_info[['County', 'COUNTYFIP', 'Rural/Urban', 'CERF Regions', 'Population']]"
   ]
  },
  {
   "cell_type": "code",
   "execution_count": 7,
   "id": "907c425c",
   "metadata": {},
   "outputs": [],
   "source": [
    "county_info = pd.merge(county_info, cost_of_living, left_on = 'CERF Regions', right_on = 'Regions')"
   ]
  },
  {
   "cell_type": "code",
   "execution_count": 8,
   "id": "c5fab365",
   "metadata": {},
   "outputs": [],
   "source": [
    "county_info = county_info.rename(columns = {'Cost of Living':'Regional COL'})\n",
    "county_info = county_info.drop(columns=['Regions'])"
   ]
  },
  {
   "cell_type": "code",
   "execution_count": 9,
   "id": "6dad2e68",
   "metadata": {},
   "outputs": [],
   "source": [
    "county_info['State COL'] = cost_of_living.iloc[13][1]"
   ]
  },
  {
   "cell_type": "markdown",
   "id": "5b208bd8",
   "metadata": {},
   "source": [
    "View of final `county_info` dataframe."
   ]
  },
  {
   "cell_type": "code",
   "execution_count": 10,
   "id": "9f174022",
   "metadata": {},
   "outputs": [
    {
     "data": {
      "text/html": [
       "<div>\n",
       "<style scoped>\n",
       "    .dataframe tbody tr th:only-of-type {\n",
       "        vertical-align: middle;\n",
       "    }\n",
       "\n",
       "    .dataframe tbody tr th {\n",
       "        vertical-align: top;\n",
       "    }\n",
       "\n",
       "    .dataframe thead th {\n",
       "        text-align: right;\n",
       "    }\n",
       "</style>\n",
       "<table border=\"1\" class=\"dataframe\">\n",
       "  <thead>\n",
       "    <tr style=\"text-align: right;\">\n",
       "      <th></th>\n",
       "      <th>County</th>\n",
       "      <th>COUNTYFIP</th>\n",
       "      <th>Rural/Urban</th>\n",
       "      <th>CERF Regions</th>\n",
       "      <th>Population</th>\n",
       "      <th>Regional COL</th>\n",
       "      <th>State COL</th>\n",
       "    </tr>\n",
       "  </thead>\n",
       "  <tbody>\n",
       "    <tr>\n",
       "      <th>0</th>\n",
       "      <td>Alameda</td>\n",
       "      <td>1</td>\n",
       "      <td>Urban</td>\n",
       "      <td>Bay Area</td>\n",
       "      <td>1656754</td>\n",
       "      <td>82928.33</td>\n",
       "      <td>66134.41</td>\n",
       "    </tr>\n",
       "    <tr>\n",
       "      <th>1</th>\n",
       "      <td>Contra Costa</td>\n",
       "      <td>13</td>\n",
       "      <td>Urban</td>\n",
       "      <td>Bay Area</td>\n",
       "      <td>1142251</td>\n",
       "      <td>82928.33</td>\n",
       "      <td>66134.41</td>\n",
       "    </tr>\n",
       "    <tr>\n",
       "      <th>2</th>\n",
       "      <td>Solano</td>\n",
       "      <td>95</td>\n",
       "      <td>Urban</td>\n",
       "      <td>Bay Area</td>\n",
       "      <td>441829</td>\n",
       "      <td>82928.33</td>\n",
       "      <td>66134.41</td>\n",
       "    </tr>\n",
       "    <tr>\n",
       "      <th>3</th>\n",
       "      <td>San Mateo</td>\n",
       "      <td>81</td>\n",
       "      <td>Urban</td>\n",
       "      <td>Bay Area</td>\n",
       "      <td>767423</td>\n",
       "      <td>82928.33</td>\n",
       "      <td>66134.41</td>\n",
       "    </tr>\n",
       "    <tr>\n",
       "      <th>4</th>\n",
       "      <td>Santa Clara</td>\n",
       "      <td>85</td>\n",
       "      <td>Urban</td>\n",
       "      <td>Bay Area</td>\n",
       "      <td>1927470</td>\n",
       "      <td>82928.33</td>\n",
       "      <td>66134.41</td>\n",
       "    </tr>\n",
       "  </tbody>\n",
       "</table>\n",
       "</div>"
      ],
      "text/plain": [
       "         County  COUNTYFIP Rural/Urban CERF Regions  Population  Regional COL  \\\n",
       "0       Alameda          1       Urban     Bay Area     1656754      82928.33   \n",
       "1  Contra Costa         13       Urban     Bay Area     1142251      82928.33   \n",
       "2        Solano         95       Urban     Bay Area      441829      82928.33   \n",
       "3     San Mateo         81       Urban     Bay Area      767423      82928.33   \n",
       "4   Santa Clara         85       Urban     Bay Area     1927470      82928.33   \n",
       "\n",
       "   State COL  \n",
       "0   66134.41  \n",
       "1   66134.41  \n",
       "2   66134.41  \n",
       "3   66134.41  \n",
       "4   66134.41  "
      ]
     },
     "execution_count": 10,
     "metadata": {},
     "output_type": "execute_result"
    }
   ],
   "source": [
    "county_info.head()"
   ]
  },
  {
   "cell_type": "code",
   "execution_count": 11,
   "id": "c3f008b5",
   "metadata": {},
   "outputs": [],
   "source": [
    "ca_ipums = pd.merge(ca_ipums, county_info, on = 'COUNTYFIP')"
   ]
  },
  {
   "cell_type": "markdown",
   "id": "454e1015",
   "metadata": {},
   "source": [
    "View of final `ca_ipums` dataframe."
   ]
  },
  {
   "cell_type": "code",
   "execution_count": 12,
   "id": "1cb9d0f0",
   "metadata": {},
   "outputs": [
    {
     "data": {
      "text/html": [
       "<div>\n",
       "<style scoped>\n",
       "    .dataframe tbody tr th:only-of-type {\n",
       "        vertical-align: middle;\n",
       "    }\n",
       "\n",
       "    .dataframe tbody tr th {\n",
       "        vertical-align: top;\n",
       "    }\n",
       "\n",
       "    .dataframe thead th {\n",
       "        text-align: right;\n",
       "    }\n",
       "</style>\n",
       "<table border=\"1\" class=\"dataframe\">\n",
       "  <thead>\n",
       "    <tr style=\"text-align: right;\">\n",
       "      <th></th>\n",
       "      <th>YEAR</th>\n",
       "      <th>COUNTYFIP</th>\n",
       "      <th>INDNAICS</th>\n",
       "      <th>PERWT</th>\n",
       "      <th>RACE</th>\n",
       "      <th>HISPAN</th>\n",
       "      <th>INCWAGE</th>\n",
       "      <th>NAICS Code</th>\n",
       "      <th>Industry Title</th>\n",
       "      <th>Industry</th>\n",
       "      <th>Crosswalk Value</th>\n",
       "      <th>County</th>\n",
       "      <th>Rural/Urban</th>\n",
       "      <th>CERF Regions</th>\n",
       "      <th>Population</th>\n",
       "      <th>Regional COL</th>\n",
       "      <th>State COL</th>\n",
       "    </tr>\n",
       "  </thead>\n",
       "  <tbody>\n",
       "    <tr>\n",
       "      <th>0</th>\n",
       "      <td>2010</td>\n",
       "      <td>75</td>\n",
       "      <td>3341</td>\n",
       "      <td>76.0</td>\n",
       "      <td>1</td>\n",
       "      <td>0</td>\n",
       "      <td>195000</td>\n",
       "      <td>3341</td>\n",
       "      <td>computer and peripheral equipment manufacturing</td>\n",
       "      <td>computer and peripheral equipment manufacturing</td>\n",
       "      <td>8</td>\n",
       "      <td>San Francisco</td>\n",
       "      <td>Urban</td>\n",
       "      <td>Bay Area</td>\n",
       "      <td>874961</td>\n",
       "      <td>82928.33</td>\n",
       "      <td>66134.41</td>\n",
       "    </tr>\n",
       "    <tr>\n",
       "      <th>1</th>\n",
       "      <td>2010</td>\n",
       "      <td>75</td>\n",
       "      <td>3341</td>\n",
       "      <td>76.0</td>\n",
       "      <td>1</td>\n",
       "      <td>0</td>\n",
       "      <td>195000</td>\n",
       "      <td>3341</td>\n",
       "      <td>computer and peripheral equipment manufacturing</td>\n",
       "      <td>computer and peripheral equipment manufacturing</td>\n",
       "      <td>9</td>\n",
       "      <td>San Francisco</td>\n",
       "      <td>Urban</td>\n",
       "      <td>Bay Area</td>\n",
       "      <td>874961</td>\n",
       "      <td>82928.33</td>\n",
       "      <td>66134.41</td>\n",
       "    </tr>\n",
       "    <tr>\n",
       "      <th>2</th>\n",
       "      <td>2010</td>\n",
       "      <td>75</td>\n",
       "      <td>3341</td>\n",
       "      <td>58.0</td>\n",
       "      <td>4</td>\n",
       "      <td>0</td>\n",
       "      <td>25000</td>\n",
       "      <td>3341</td>\n",
       "      <td>computer and peripheral equipment manufacturing</td>\n",
       "      <td>computer and peripheral equipment manufacturing</td>\n",
       "      <td>8</td>\n",
       "      <td>San Francisco</td>\n",
       "      <td>Urban</td>\n",
       "      <td>Bay Area</td>\n",
       "      <td>874961</td>\n",
       "      <td>82928.33</td>\n",
       "      <td>66134.41</td>\n",
       "    </tr>\n",
       "    <tr>\n",
       "      <th>3</th>\n",
       "      <td>2010</td>\n",
       "      <td>75</td>\n",
       "      <td>3341</td>\n",
       "      <td>58.0</td>\n",
       "      <td>4</td>\n",
       "      <td>0</td>\n",
       "      <td>25000</td>\n",
       "      <td>3341</td>\n",
       "      <td>computer and peripheral equipment manufacturing</td>\n",
       "      <td>computer and peripheral equipment manufacturing</td>\n",
       "      <td>9</td>\n",
       "      <td>San Francisco</td>\n",
       "      <td>Urban</td>\n",
       "      <td>Bay Area</td>\n",
       "      <td>874961</td>\n",
       "      <td>82928.33</td>\n",
       "      <td>66134.41</td>\n",
       "    </tr>\n",
       "    <tr>\n",
       "      <th>4</th>\n",
       "      <td>2010</td>\n",
       "      <td>75</td>\n",
       "      <td>3341</td>\n",
       "      <td>54.0</td>\n",
       "      <td>8</td>\n",
       "      <td>0</td>\n",
       "      <td>140000</td>\n",
       "      <td>3341</td>\n",
       "      <td>computer and peripheral equipment manufacturing</td>\n",
       "      <td>computer and peripheral equipment manufacturing</td>\n",
       "      <td>8</td>\n",
       "      <td>San Francisco</td>\n",
       "      <td>Urban</td>\n",
       "      <td>Bay Area</td>\n",
       "      <td>874961</td>\n",
       "      <td>82928.33</td>\n",
       "      <td>66134.41</td>\n",
       "    </tr>\n",
       "  </tbody>\n",
       "</table>\n",
       "</div>"
      ],
      "text/plain": [
       "   YEAR  COUNTYFIP INDNAICS  PERWT  RACE  HISPAN  INCWAGE NAICS Code  \\\n",
       "0  2010         75     3341   76.0     1       0   195000       3341   \n",
       "1  2010         75     3341   76.0     1       0   195000       3341   \n",
       "2  2010         75     3341   58.0     4       0    25000       3341   \n",
       "3  2010         75     3341   58.0     4       0    25000       3341   \n",
       "4  2010         75     3341   54.0     8       0   140000       3341   \n",
       "\n",
       "                                    Industry Title  \\\n",
       "0  computer and peripheral equipment manufacturing   \n",
       "1  computer and peripheral equipment manufacturing   \n",
       "2  computer and peripheral equipment manufacturing   \n",
       "3  computer and peripheral equipment manufacturing   \n",
       "4  computer and peripheral equipment manufacturing   \n",
       "\n",
       "                                          Industry  Crosswalk Value  \\\n",
       "0  computer and peripheral equipment manufacturing                8   \n",
       "1  computer and peripheral equipment manufacturing                9   \n",
       "2  computer and peripheral equipment manufacturing                8   \n",
       "3  computer and peripheral equipment manufacturing                9   \n",
       "4  computer and peripheral equipment manufacturing                8   \n",
       "\n",
       "          County Rural/Urban CERF Regions  Population  Regional COL  State COL  \n",
       "0  San Francisco       Urban     Bay Area      874961      82928.33   66134.41  \n",
       "1  San Francisco       Urban     Bay Area      874961      82928.33   66134.41  \n",
       "2  San Francisco       Urban     Bay Area      874961      82928.33   66134.41  \n",
       "3  San Francisco       Urban     Bay Area      874961      82928.33   66134.41  \n",
       "4  San Francisco       Urban     Bay Area      874961      82928.33   66134.41  "
      ]
     },
     "execution_count": 12,
     "metadata": {},
     "output_type": "execute_result"
    }
   ],
   "source": [
    "ca_ipums.head()"
   ]
  },
  {
   "cell_type": "markdown",
   "id": "7cafecd5",
   "metadata": {},
   "source": [
    "## Create EDD Dataframe\n",
    "\n",
    "#### EDD Data\n",
    "The year for EDD data must be specified.\n",
    "\n",
    "These CSV files are filtered and cleaned versions of the raw EDD Current Employment Statistics dataset. These CSV files can be created for upcoming years with the notebook `multiyear-edd-data-creation.ipynb`"
   ]
  },
  {
   "cell_type": "code",
   "execution_count": 13,
   "id": "af34ebce",
   "metadata": {},
   "outputs": [],
   "source": [
    "edd = pd.read_csv(f'data/edd/edd_{year}.csv')"
   ]
  },
  {
   "cell_type": "markdown",
   "id": "7511ec0c",
   "metadata": {},
   "source": [
    "View of final `edd` dataframe."
   ]
  },
  {
   "cell_type": "code",
   "execution_count": 14,
   "id": "a801d972",
   "metadata": {},
   "outputs": [
    {
     "data": {
      "text/html": [
       "<div>\n",
       "<style scoped>\n",
       "    .dataframe tbody tr th:only-of-type {\n",
       "        vertical-align: middle;\n",
       "    }\n",
       "\n",
       "    .dataframe tbody tr th {\n",
       "        vertical-align: top;\n",
       "    }\n",
       "\n",
       "    .dataframe thead th {\n",
       "        text-align: right;\n",
       "    }\n",
       "</style>\n",
       "<table border=\"1\" class=\"dataframe\">\n",
       "  <thead>\n",
       "    <tr style=\"text-align: right;\">\n",
       "      <th></th>\n",
       "      <th>Area Type</th>\n",
       "      <th>Area Name</th>\n",
       "      <th>Year</th>\n",
       "      <th>Month</th>\n",
       "      <th>Date</th>\n",
       "      <th>Series Code</th>\n",
       "      <th>Seasonally Adjusted</th>\n",
       "      <th>Current Employment</th>\n",
       "      <th>Industry Title</th>\n",
       "      <th>COUNTYFIP</th>\n",
       "      <th>County</th>\n",
       "      <th>Rural/Urban</th>\n",
       "      <th>CERF Regions</th>\n",
       "      <th>Crosswalk Value</th>\n",
       "    </tr>\n",
       "  </thead>\n",
       "  <tbody>\n",
       "    <tr>\n",
       "      <th>0</th>\n",
       "      <td>County</td>\n",
       "      <td>Alameda</td>\n",
       "      <td>2010</td>\n",
       "      <td>January</td>\n",
       "      <td>01/01/2010</td>\n",
       "      <td>80000000</td>\n",
       "      <td>N</td>\n",
       "      <td>22300</td>\n",
       "      <td>other services</td>\n",
       "      <td>1</td>\n",
       "      <td>Alameda</td>\n",
       "      <td>Urban</td>\n",
       "      <td>Bay Area</td>\n",
       "      <td>32</td>\n",
       "    </tr>\n",
       "    <tr>\n",
       "      <th>1</th>\n",
       "      <td>County</td>\n",
       "      <td>Alameda</td>\n",
       "      <td>2010</td>\n",
       "      <td>February</td>\n",
       "      <td>02/01/2010</td>\n",
       "      <td>80000000</td>\n",
       "      <td>N</td>\n",
       "      <td>22500</td>\n",
       "      <td>other services</td>\n",
       "      <td>1</td>\n",
       "      <td>Alameda</td>\n",
       "      <td>Urban</td>\n",
       "      <td>Bay Area</td>\n",
       "      <td>32</td>\n",
       "    </tr>\n",
       "    <tr>\n",
       "      <th>2</th>\n",
       "      <td>County</td>\n",
       "      <td>Alameda</td>\n",
       "      <td>2010</td>\n",
       "      <td>March</td>\n",
       "      <td>03/01/2010</td>\n",
       "      <td>80000000</td>\n",
       "      <td>N</td>\n",
       "      <td>22900</td>\n",
       "      <td>other services</td>\n",
       "      <td>1</td>\n",
       "      <td>Alameda</td>\n",
       "      <td>Urban</td>\n",
       "      <td>Bay Area</td>\n",
       "      <td>32</td>\n",
       "    </tr>\n",
       "    <tr>\n",
       "      <th>3</th>\n",
       "      <td>County</td>\n",
       "      <td>Alameda</td>\n",
       "      <td>2010</td>\n",
       "      <td>April</td>\n",
       "      <td>04/01/2010</td>\n",
       "      <td>80000000</td>\n",
       "      <td>N</td>\n",
       "      <td>23200</td>\n",
       "      <td>other services</td>\n",
       "      <td>1</td>\n",
       "      <td>Alameda</td>\n",
       "      <td>Urban</td>\n",
       "      <td>Bay Area</td>\n",
       "      <td>32</td>\n",
       "    </tr>\n",
       "    <tr>\n",
       "      <th>4</th>\n",
       "      <td>County</td>\n",
       "      <td>Alameda</td>\n",
       "      <td>2010</td>\n",
       "      <td>May</td>\n",
       "      <td>05/01/2010</td>\n",
       "      <td>80000000</td>\n",
       "      <td>N</td>\n",
       "      <td>23400</td>\n",
       "      <td>other services</td>\n",
       "      <td>1</td>\n",
       "      <td>Alameda</td>\n",
       "      <td>Urban</td>\n",
       "      <td>Bay Area</td>\n",
       "      <td>32</td>\n",
       "    </tr>\n",
       "  </tbody>\n",
       "</table>\n",
       "</div>"
      ],
      "text/plain": [
       "  Area Type Area Name  Year     Month        Date  Series Code  \\\n",
       "0    County   Alameda  2010   January  01/01/2010     80000000   \n",
       "1    County   Alameda  2010  February  02/01/2010     80000000   \n",
       "2    County   Alameda  2010     March  03/01/2010     80000000   \n",
       "3    County   Alameda  2010     April  04/01/2010     80000000   \n",
       "4    County   Alameda  2010       May  05/01/2010     80000000   \n",
       "\n",
       "  Seasonally Adjusted  Current Employment  Industry Title  COUNTYFIP   County  \\\n",
       "0                   N               22300  other services          1  Alameda   \n",
       "1                   N               22500  other services          1  Alameda   \n",
       "2                   N               22900  other services          1  Alameda   \n",
       "3                   N               23200  other services          1  Alameda   \n",
       "4                   N               23400  other services          1  Alameda   \n",
       "\n",
       "  Rural/Urban CERF Regions  Crosswalk Value  \n",
       "0       Urban     Bay Area               32  \n",
       "1       Urban     Bay Area               32  \n",
       "2       Urban     Bay Area               32  \n",
       "3       Urban     Bay Area               32  \n",
       "4       Urban     Bay Area               32  "
      ]
     },
     "execution_count": 14,
     "metadata": {},
     "output_type": "execute_result"
    }
   ],
   "source": [
    "edd.head()"
   ]
  },
  {
   "cell_type": "markdown",
   "id": "16d61cbc",
   "metadata": {},
   "source": [
    "## Breakdown dataframes by race"
   ]
  },
  {
   "cell_type": "code",
   "execution_count": 15,
   "id": "d563f9f9",
   "metadata": {},
   "outputs": [],
   "source": [
    "ca_ipums_latino = ca_ipums.loc[ca_ipums['HISPAN'] != 0]\n",
    "ca_ipums_no_latino = ca_ipums.loc[ca_ipums['HISPAN'] == 0]\n",
    "ca_ipums_white = ca_ipums_no_latino.loc[ca_ipums_no_latino['RACE'] == 1]\n",
    "ca_ipums_black = ca_ipums_no_latino.loc[ca_ipums_no_latino['RACE'] == 2]\n",
    "ca_ipums_native = ca_ipums_no_latino.loc[ca_ipums_no_latino['RACE'] == 3]\n",
    "ca_ipums_asian = ca_ipums_no_latino.loc[(ca_ipums_no_latino['RACE'] == 4) |\n",
    "                                   (ca_ipums_no_latino['RACE'] == 5) |\n",
    "                                   (ca_ipums_no_latino['RACE'] == 6)]\n",
    "ca_ipums_other = ca_ipums_no_latino.loc[ca_ipums_no_latino['RACE'] == 7]\n",
    "ca_ipums_multi = ca_ipums_no_latino.loc[(ca_ipums_no_latino['RACE'] == 8) |\n",
    "                                   (ca_ipums_no_latino['RACE'] == 9)]"
   ]
  },
  {
   "cell_type": "code",
   "execution_count": 16,
   "id": "525e47c1",
   "metadata": {},
   "outputs": [],
   "source": [
    "wt_counts = {}\n",
    "for code in ca_ipums['Crosswalk Value'].unique():\n",
    "    code_copy = ca_ipums.loc[ca_ipums['Crosswalk Value'] == code].copy()\n",
    "    wt_counts[code] = code_copy['PERWT'].sum()"
   ]
  },
  {
   "cell_type": "code",
   "execution_count": 17,
   "id": "be7d348c",
   "metadata": {},
   "outputs": [],
   "source": [
    "def append_race_ratio(df, wt_counts):\n",
    "    df['race_ratio'] = 0\n",
    "    for code in df['Crosswalk Value'].unique():\n",
    "        perwt = df['PERWT'][df['Crosswalk Value'] == code].sum()\n",
    "        df['race_ratio'][df['Crosswalk Value'] == code] = perwt / wt_counts[code]\n",
    "    return df"
   ]
  },
  {
   "cell_type": "code",
   "execution_count": 18,
   "id": "2c317fea",
   "metadata": {},
   "outputs": [],
   "source": [
    "ca_ipums_white = append_race_ratio(ca_ipums_white, wt_counts)"
   ]
  },
  {
   "cell_type": "code",
   "execution_count": 19,
   "id": "522fe70d",
   "metadata": {},
   "outputs": [],
   "source": [
    "ca_ipums_latino = append_race_ratio(ca_ipums_latino, wt_counts)"
   ]
  },
  {
   "cell_type": "code",
   "execution_count": 20,
   "id": "841e9bc7",
   "metadata": {},
   "outputs": [],
   "source": [
    "ca_ipums_black = append_race_ratio(ca_ipums_black, wt_counts)"
   ]
  },
  {
   "cell_type": "code",
   "execution_count": 21,
   "id": "a04f2559",
   "metadata": {},
   "outputs": [],
   "source": [
    "ca_ipums_native = append_race_ratio(ca_ipums_native, wt_counts)"
   ]
  },
  {
   "cell_type": "code",
   "execution_count": 22,
   "id": "52e772b7",
   "metadata": {},
   "outputs": [],
   "source": [
    "ca_ipums_asian = append_race_ratio(ca_ipums_asian, wt_counts)"
   ]
  },
  {
   "cell_type": "code",
   "execution_count": 23,
   "id": "187ff312",
   "metadata": {},
   "outputs": [],
   "source": [
    "ca_ipums_other = append_race_ratio(ca_ipums_other, wt_counts)"
   ]
  },
  {
   "cell_type": "code",
   "execution_count": 24,
   "id": "95f7f1e0",
   "metadata": {},
   "outputs": [],
   "source": [
    "ca_ipums_multi = append_race_ratio(ca_ipums_multi, wt_counts)"
   ]
  },
  {
   "cell_type": "markdown",
   "id": "6d34f51c",
   "metadata": {},
   "source": [
    "## Add High Wage Features\n",
    "\n",
    "`add_geo_high_wages` is a function that adds the following engineered features:\n",
    "- Above Threshold (Number of records above respective cost of living threshold)\n",
    "- Weighted above threshold (Above Threshold multiplied by person weight variable)\n",
    "- Unweighted industry counts (Number of records in that industry)\n",
    "- Weighted industry counts (Sum of person weight values in that industry)\n",
    "- Weighted high wage percentage (Weighted Above Threshold divided by Weighted Industry Counts as a percentage)\n",
    "\n",
    "The features are created for the following geographical levels:\n",
    "- Region\n",
    "- California"
   ]
  },
  {
   "cell_type": "code",
   "execution_count": 25,
   "id": "a10e163b",
   "metadata": {},
   "outputs": [],
   "source": [
    "ca_ipums_hw_white = add_geo_high_wages(ca_ipums_white)\n",
    "ca_ipums_hw_latino = add_geo_high_wages(ca_ipums_latino)\n",
    "ca_ipums_hw_black = add_geo_high_wages(ca_ipums_black)\n",
    "ca_ipums_hw_native = add_geo_high_wages(ca_ipums_native)\n",
    "ca_ipums_hw_asian = add_geo_high_wages(ca_ipums_asian)\n",
    "ca_ipums_hw_other = add_geo_high_wages(ca_ipums_other)\n",
    "ca_ipums_hw_multi = add_geo_high_wages(ca_ipums_multi)"
   ]
  },
  {
   "cell_type": "markdown",
   "id": "cf05bec2",
   "metadata": {},
   "source": [
    "## Create High Wage Outputs Dataframe\n",
    "\n",
    "`edd_to_hw` is the function that outputs the values needed to create the high wage output dataframe. This portion of the notebook runs through every unique combination of region, industry, and date, to get that respective output and add it to the dataframe.\n",
    "\n",
    "Because of the nested structure of the EDD industries, only a small selection of EDD industries can be used to ensure that individuals in nested industries are not counted twice. The selection of these industries different per region, so the series code of each industry is documented in the `region_series_codes` global variable in the `jqi_functions.py` library. Each of these codes were then assigned their own crosswalk value, which align with each crosswalk value assigned to each IPUMS industry. For generating high wage outputs, we only iterate through the EDD industries that have been selected and have a designated crosswalk value.\n",
    "\n",
    "Getting unique values for each region, industry, and date."
   ]
  },
  {
   "cell_type": "code",
   "execution_count": 26,
   "id": "8b1e4b07",
   "metadata": {},
   "outputs": [],
   "source": [
    "regions_ipums = ca_ipums['CERF Regions'].unique()"
   ]
  },
  {
   "cell_type": "code",
   "execution_count": 27,
   "id": "a3d34e3e",
   "metadata": {},
   "outputs": [],
   "source": [
    "crosswalk_vals = sorted(edd['Crosswalk Value'].unique())"
   ]
  },
  {
   "cell_type": "code",
   "execution_count": 28,
   "id": "f0dce1ff",
   "metadata": {},
   "outputs": [],
   "source": [
    "dates_edd = edd['Date'].unique()"
   ]
  },
  {
   "cell_type": "code",
   "execution_count": 29,
   "id": "558f2f3f",
   "metadata": {},
   "outputs": [],
   "source": [
    "total_iterations = len(regions_ipums) * len(crosswalk_vals) * len(dates_edd)"
   ]
  },
  {
   "cell_type": "markdown",
   "id": "ef86679e",
   "metadata": {},
   "source": [
    "#### White"
   ]
  },
  {
   "cell_type": "code",
   "execution_count": 30,
   "id": "232fdd41",
   "metadata": {},
   "outputs": [],
   "source": [
    "industries = []\n",
    "dates = []\n",
    "regions = []\n",
    "counts = []\n",
    "emp_counts = []"
   ]
  },
  {
   "cell_type": "markdown",
   "id": "a27b3d2f",
   "metadata": {},
   "source": [
    "For loop to populate lists for the high wage outputs. This will take some time to finish running."
   ]
  },
  {
   "cell_type": "code",
   "execution_count": 31,
   "id": "7c312e00",
   "metadata": {},
   "outputs": [
    {
     "name": "stdout",
     "output_type": "stream",
     "text": [
      "Progress: 10% Complete\n",
      "Progress: 20% Complete\n",
      "Progress: 30% Complete\n",
      "Progress: 40% Complete\n",
      "Progress: 50% Complete\n",
      "Progress: 60% Complete\n",
      "Progress: 70% Complete\n",
      "Progress: 80% Complete\n",
      "Progress: 90% Complete\n",
      "Progress: 100% Complete\n"
     ]
    }
   ],
   "source": [
    "progress_count = 0\n",
    "for region in regions_ipums:\n",
    "    for code in crosswalk_vals:\n",
    "        for date in dates_edd:\n",
    "            hw_count, hw_perc, employment_count, industry = edd_to_hw(edd, ca_ipums_hw_white, region, code, date, 10)\n",
    "            industries.append(industry)\n",
    "            dates.append(date)\n",
    "            regions.append(region)\n",
    "            counts.append(hw_count)\n",
    "            emp_counts.append(employment_count)\n",
    "            progress_count += 1\n",
    "            if progress_count % (total_iterations / 10) == 0:\n",
    "                percent_done = int((progress_count / total_iterations) * 100)\n",
    "                print(f'Progress: {percent_done}% Complete')"
   ]
  },
  {
   "cell_type": "markdown",
   "id": "872ead32",
   "metadata": {},
   "source": [
    "Creating a cleaned dataframe from the output lists."
   ]
  },
  {
   "cell_type": "code",
   "execution_count": 32,
   "id": "8d0a403f",
   "metadata": {},
   "outputs": [],
   "source": [
    "df_dict_white = {'Industry':industries, 'Date':dates, 'Region':regions, 'High Wage Count':counts, 'Employment Count':emp_counts}\n",
    "hw_output_white = pd.DataFrame(df_dict_white)\n",
    "hw_output_white = hw_output_white[hw_output_white['Industry'].notna()]\n",
    "hw_output_white['Date']= pd.to_datetime(hw_output_white['Date'])\n",
    "hw_output_white['High Wage Count'] = hw_output_white['High Wage Count'].astype(int)\n",
    "hw_output_white = hw_output_white.sort_values(by=['Industry', 'Region', 'Date'])\n",
    "hw_output_white = pd.merge(hw_output_white, cost_of_living, left_on='Region', right_on='Regions')\n",
    "hw_output_white = hw_output_white[['Industry', 'Date', 'Region', 'High Wage Count', 'Employment Count', 'Cost of Living']]\n",
    "hw_output_white = hw_output_white.drop_duplicates()\n",
    "hw_output_white['Output Race'] = 'White'"
   ]
  },
  {
   "cell_type": "markdown",
   "id": "345ae4c3",
   "metadata": {},
   "source": [
    "View of final `hw_output_white` dataframe."
   ]
  },
  {
   "cell_type": "code",
   "execution_count": 33,
   "id": "ae180bd0",
   "metadata": {},
   "outputs": [
    {
     "data": {
      "text/html": [
       "<div>\n",
       "<style scoped>\n",
       "    .dataframe tbody tr th:only-of-type {\n",
       "        vertical-align: middle;\n",
       "    }\n",
       "\n",
       "    .dataframe tbody tr th {\n",
       "        vertical-align: top;\n",
       "    }\n",
       "\n",
       "    .dataframe thead th {\n",
       "        text-align: right;\n",
       "    }\n",
       "</style>\n",
       "<table border=\"1\" class=\"dataframe\">\n",
       "  <thead>\n",
       "    <tr style=\"text-align: right;\">\n",
       "      <th></th>\n",
       "      <th>Industry</th>\n",
       "      <th>Date</th>\n",
       "      <th>Region</th>\n",
       "      <th>High Wage Count</th>\n",
       "      <th>Employment Count</th>\n",
       "      <th>Cost of Living</th>\n",
       "      <th>Output Race</th>\n",
       "    </tr>\n",
       "  </thead>\n",
       "  <tbody>\n",
       "    <tr>\n",
       "      <th>0</th>\n",
       "      <td>accommodation and food services</td>\n",
       "      <td>2010-01-01</td>\n",
       "      <td>Inland Empire</td>\n",
       "      <td>16086</td>\n",
       "      <td>105200.0</td>\n",
       "      <td>53849.84</td>\n",
       "      <td>White</td>\n",
       "    </tr>\n",
       "    <tr>\n",
       "      <th>1</th>\n",
       "      <td>accommodation and food services</td>\n",
       "      <td>2010-02-01</td>\n",
       "      <td>Inland Empire</td>\n",
       "      <td>16162</td>\n",
       "      <td>105700.0</td>\n",
       "      <td>53849.84</td>\n",
       "      <td>White</td>\n",
       "    </tr>\n",
       "    <tr>\n",
       "      <th>2</th>\n",
       "      <td>accommodation and food services</td>\n",
       "      <td>2010-03-01</td>\n",
       "      <td>Inland Empire</td>\n",
       "      <td>16315</td>\n",
       "      <td>106700.0</td>\n",
       "      <td>53849.84</td>\n",
       "      <td>White</td>\n",
       "    </tr>\n",
       "    <tr>\n",
       "      <th>3</th>\n",
       "      <td>accommodation and food services</td>\n",
       "      <td>2010-04-01</td>\n",
       "      <td>Inland Empire</td>\n",
       "      <td>16575</td>\n",
       "      <td>108400.0</td>\n",
       "      <td>53849.84</td>\n",
       "      <td>White</td>\n",
       "    </tr>\n",
       "    <tr>\n",
       "      <th>4</th>\n",
       "      <td>accommodation and food services</td>\n",
       "      <td>2010-05-01</td>\n",
       "      <td>Inland Empire</td>\n",
       "      <td>16575</td>\n",
       "      <td>108400.0</td>\n",
       "      <td>53849.84</td>\n",
       "      <td>White</td>\n",
       "    </tr>\n",
       "  </tbody>\n",
       "</table>\n",
       "</div>"
      ],
      "text/plain": [
       "                          Industry       Date         Region  High Wage Count  \\\n",
       "0  accommodation and food services 2010-01-01  Inland Empire            16086   \n",
       "1  accommodation and food services 2010-02-01  Inland Empire            16162   \n",
       "2  accommodation and food services 2010-03-01  Inland Empire            16315   \n",
       "3  accommodation and food services 2010-04-01  Inland Empire            16575   \n",
       "4  accommodation and food services 2010-05-01  Inland Empire            16575   \n",
       "\n",
       "   Employment Count  Cost of Living Output Race  \n",
       "0          105200.0        53849.84       White  \n",
       "1          105700.0        53849.84       White  \n",
       "2          106700.0        53849.84       White  \n",
       "3          108400.0        53849.84       White  \n",
       "4          108400.0        53849.84       White  "
      ]
     },
     "execution_count": 33,
     "metadata": {},
     "output_type": "execute_result"
    }
   ],
   "source": [
    "hw_output_white.head()"
   ]
  },
  {
   "cell_type": "markdown",
   "id": "10f7a78f",
   "metadata": {},
   "source": [
    "#### Latino"
   ]
  },
  {
   "cell_type": "code",
   "execution_count": 34,
   "id": "88a038db",
   "metadata": {},
   "outputs": [],
   "source": [
    "industries = []\n",
    "dates = []\n",
    "regions = []\n",
    "counts = []\n",
    "emp_counts = []"
   ]
  },
  {
   "cell_type": "markdown",
   "id": "1a54fe07",
   "metadata": {},
   "source": [
    "For loop to populate lists for the high wage outputs. This will take some time to finish running."
   ]
  },
  {
   "cell_type": "code",
   "execution_count": 35,
   "id": "1a717c18",
   "metadata": {},
   "outputs": [
    {
     "name": "stdout",
     "output_type": "stream",
     "text": [
      "Progress: 10% Complete\n",
      "Progress: 20% Complete\n",
      "Progress: 30% Complete\n",
      "Progress: 40% Complete\n",
      "Progress: 50% Complete\n",
      "Progress: 60% Complete\n",
      "Progress: 70% Complete\n",
      "Progress: 80% Complete\n",
      "Progress: 90% Complete\n",
      "Progress: 100% Complete\n"
     ]
    }
   ],
   "source": [
    "progress_count = 0\n",
    "for region in regions_ipums:\n",
    "    for code in crosswalk_vals:\n",
    "        for date in dates_edd:\n",
    "            hw_count, hw_perc, employment_count, industry = edd_to_hw(edd, ca_ipums_hw_latino, region, code, date, 10)\n",
    "            industries.append(industry)\n",
    "            dates.append(date)\n",
    "            regions.append(region)\n",
    "            counts.append(hw_count)\n",
    "            emp_counts.append(employment_count)\n",
    "            progress_count += 1\n",
    "            if progress_count % (total_iterations / 10) == 0:\n",
    "                percent_done = int((progress_count / total_iterations) * 100)\n",
    "                print(f'Progress: {percent_done}% Complete')"
   ]
  },
  {
   "cell_type": "markdown",
   "id": "31581ae6",
   "metadata": {},
   "source": [
    "Creating a cleaned dataframe from the output lists."
   ]
  },
  {
   "cell_type": "code",
   "execution_count": 36,
   "id": "094872df",
   "metadata": {},
   "outputs": [],
   "source": [
    "df_dict_latino = {'Industry':industries, 'Date':dates, 'Region':regions, 'High Wage Count':counts, 'Employment Count':emp_counts}\n",
    "hw_output_latino = pd.DataFrame(df_dict_latino)\n",
    "hw_output_latino = hw_output_latino[hw_output_latino['Industry'].notna()]\n",
    "hw_output_latino['Date']= pd.to_datetime(hw_output_latino['Date'])\n",
    "hw_output_latino['High Wage Count'] = hw_output_latino['High Wage Count'].astype(int)\n",
    "hw_output_latino = hw_output_latino.sort_values(by=['Industry', 'Region', 'Date'])\n",
    "hw_output_latino = pd.merge(hw_output_latino, cost_of_living, left_on='Region', right_on='Regions')\n",
    "hw_output_latino = hw_output_latino[['Industry', 'Date', 'Region', 'High Wage Count', 'Employment Count', 'Cost of Living']]\n",
    "hw_output_latino = hw_output_latino.drop_duplicates()\n",
    "hw_output_latino['Output Race'] = 'Latino'"
   ]
  },
  {
   "cell_type": "markdown",
   "id": "5041cccc",
   "metadata": {},
   "source": [
    "View of final `hw_output_latino` dataframe."
   ]
  },
  {
   "cell_type": "code",
   "execution_count": 37,
   "id": "ae276462",
   "metadata": {},
   "outputs": [
    {
     "data": {
      "text/html": [
       "<div>\n",
       "<style scoped>\n",
       "    .dataframe tbody tr th:only-of-type {\n",
       "        vertical-align: middle;\n",
       "    }\n",
       "\n",
       "    .dataframe tbody tr th {\n",
       "        vertical-align: top;\n",
       "    }\n",
       "\n",
       "    .dataframe thead th {\n",
       "        text-align: right;\n",
       "    }\n",
       "</style>\n",
       "<table border=\"1\" class=\"dataframe\">\n",
       "  <thead>\n",
       "    <tr style=\"text-align: right;\">\n",
       "      <th></th>\n",
       "      <th>Industry</th>\n",
       "      <th>Date</th>\n",
       "      <th>Region</th>\n",
       "      <th>High Wage Count</th>\n",
       "      <th>Employment Count</th>\n",
       "      <th>Cost of Living</th>\n",
       "      <th>Output Race</th>\n",
       "    </tr>\n",
       "  </thead>\n",
       "  <tbody>\n",
       "    <tr>\n",
       "      <th>0</th>\n",
       "      <td>accommodation and food services</td>\n",
       "      <td>2010-01-01</td>\n",
       "      <td>Inland Empire</td>\n",
       "      <td>5744</td>\n",
       "      <td>105200.0</td>\n",
       "      <td>53849.84</td>\n",
       "      <td>Latino</td>\n",
       "    </tr>\n",
       "    <tr>\n",
       "      <th>1</th>\n",
       "      <td>accommodation and food services</td>\n",
       "      <td>2010-02-01</td>\n",
       "      <td>Inland Empire</td>\n",
       "      <td>5772</td>\n",
       "      <td>105700.0</td>\n",
       "      <td>53849.84</td>\n",
       "      <td>Latino</td>\n",
       "    </tr>\n",
       "    <tr>\n",
       "      <th>2</th>\n",
       "      <td>accommodation and food services</td>\n",
       "      <td>2010-03-01</td>\n",
       "      <td>Inland Empire</td>\n",
       "      <td>5826</td>\n",
       "      <td>106700.0</td>\n",
       "      <td>53849.84</td>\n",
       "      <td>Latino</td>\n",
       "    </tr>\n",
       "    <tr>\n",
       "      <th>3</th>\n",
       "      <td>accommodation and food services</td>\n",
       "      <td>2010-04-01</td>\n",
       "      <td>Inland Empire</td>\n",
       "      <td>5919</td>\n",
       "      <td>108400.0</td>\n",
       "      <td>53849.84</td>\n",
       "      <td>Latino</td>\n",
       "    </tr>\n",
       "    <tr>\n",
       "      <th>4</th>\n",
       "      <td>accommodation and food services</td>\n",
       "      <td>2010-05-01</td>\n",
       "      <td>Inland Empire</td>\n",
       "      <td>5919</td>\n",
       "      <td>108400.0</td>\n",
       "      <td>53849.84</td>\n",
       "      <td>Latino</td>\n",
       "    </tr>\n",
       "  </tbody>\n",
       "</table>\n",
       "</div>"
      ],
      "text/plain": [
       "                          Industry       Date         Region  High Wage Count  \\\n",
       "0  accommodation and food services 2010-01-01  Inland Empire             5744   \n",
       "1  accommodation and food services 2010-02-01  Inland Empire             5772   \n",
       "2  accommodation and food services 2010-03-01  Inland Empire             5826   \n",
       "3  accommodation and food services 2010-04-01  Inland Empire             5919   \n",
       "4  accommodation and food services 2010-05-01  Inland Empire             5919   \n",
       "\n",
       "   Employment Count  Cost of Living Output Race  \n",
       "0          105200.0        53849.84      Latino  \n",
       "1          105700.0        53849.84      Latino  \n",
       "2          106700.0        53849.84      Latino  \n",
       "3          108400.0        53849.84      Latino  \n",
       "4          108400.0        53849.84      Latino  "
      ]
     },
     "execution_count": 37,
     "metadata": {},
     "output_type": "execute_result"
    }
   ],
   "source": [
    "hw_output_latino.head()"
   ]
  },
  {
   "cell_type": "markdown",
   "id": "63fe7902",
   "metadata": {},
   "source": [
    "#### Black"
   ]
  },
  {
   "cell_type": "code",
   "execution_count": 38,
   "id": "a62ce01b",
   "metadata": {},
   "outputs": [],
   "source": [
    "industries = []\n",
    "dates = []\n",
    "regions = []\n",
    "counts = []\n",
    "emp_counts = []"
   ]
  },
  {
   "cell_type": "markdown",
   "id": "95c1f83c",
   "metadata": {},
   "source": [
    "For loop to populate lists for the high wage outputs. This will take some time to finish running."
   ]
  },
  {
   "cell_type": "code",
   "execution_count": 39,
   "id": "e9774bda",
   "metadata": {},
   "outputs": [
    {
     "name": "stdout",
     "output_type": "stream",
     "text": [
      "Progress: 10% Complete\n",
      "Progress: 20% Complete\n",
      "Progress: 30% Complete\n",
      "Progress: 40% Complete\n",
      "Progress: 50% Complete\n",
      "Progress: 60% Complete\n",
      "Progress: 70% Complete\n",
      "Progress: 80% Complete\n",
      "Progress: 90% Complete\n",
      "Progress: 100% Complete\n"
     ]
    }
   ],
   "source": [
    "progress_count = 0\n",
    "for region in regions_ipums:\n",
    "    for code in crosswalk_vals:\n",
    "        for date in dates_edd:\n",
    "            hw_count, hw_perc, employment_count, industry = edd_to_hw(edd, ca_ipums_hw_black, region, code, date, 10)\n",
    "            industries.append(industry)\n",
    "            dates.append(date)\n",
    "            regions.append(region)\n",
    "            counts.append(hw_count)\n",
    "            emp_counts.append(employment_count)\n",
    "            progress_count += 1\n",
    "            if progress_count % (total_iterations / 10) == 0:\n",
    "                percent_done = int((progress_count / total_iterations) * 100)\n",
    "                print(f'Progress: {percent_done}% Complete')"
   ]
  },
  {
   "cell_type": "markdown",
   "id": "0ab6d84e",
   "metadata": {},
   "source": [
    "Creating a cleaned dataframe from the output lists."
   ]
  },
  {
   "cell_type": "code",
   "execution_count": 40,
   "id": "8cad443d",
   "metadata": {},
   "outputs": [],
   "source": [
    "df_dict_black = {'Industry':industries, 'Date':dates, 'Region':regions, 'High Wage Count':counts, 'Employment Count':emp_counts}\n",
    "hw_output_black = pd.DataFrame(df_dict_black)\n",
    "hw_output_black = hw_output_black[hw_output_black['Industry'].notna()]\n",
    "hw_output_black['Date']= pd.to_datetime(hw_output_black['Date'])\n",
    "hw_output_black['High Wage Count'] = hw_output_black['High Wage Count'].astype(int)\n",
    "hw_output_black = hw_output_black.sort_values(by=['Industry', 'Region', 'Date'])\n",
    "hw_output_black = pd.merge(hw_output_black, cost_of_living, left_on='Region', right_on='Regions')\n",
    "hw_output_black = hw_output_black[['Industry', 'Date', 'Region', 'High Wage Count', 'Employment Count', 'Cost of Living']]\n",
    "hw_output_black = hw_output_black.drop_duplicates()\n",
    "hw_output_black['Output Race'] = 'Black'"
   ]
  },
  {
   "cell_type": "markdown",
   "id": "f4a164c3",
   "metadata": {},
   "source": [
    "View of final `hw_output_black` dataframe."
   ]
  },
  {
   "cell_type": "code",
   "execution_count": 41,
   "id": "3b818ab4",
   "metadata": {},
   "outputs": [
    {
     "data": {
      "text/html": [
       "<div>\n",
       "<style scoped>\n",
       "    .dataframe tbody tr th:only-of-type {\n",
       "        vertical-align: middle;\n",
       "    }\n",
       "\n",
       "    .dataframe tbody tr th {\n",
       "        vertical-align: top;\n",
       "    }\n",
       "\n",
       "    .dataframe thead th {\n",
       "        text-align: right;\n",
       "    }\n",
       "</style>\n",
       "<table border=\"1\" class=\"dataframe\">\n",
       "  <thead>\n",
       "    <tr style=\"text-align: right;\">\n",
       "      <th></th>\n",
       "      <th>Industry</th>\n",
       "      <th>Date</th>\n",
       "      <th>Region</th>\n",
       "      <th>High Wage Count</th>\n",
       "      <th>Employment Count</th>\n",
       "      <th>Cost of Living</th>\n",
       "      <th>Output Race</th>\n",
       "    </tr>\n",
       "  </thead>\n",
       "  <tbody>\n",
       "    <tr>\n",
       "      <th>0</th>\n",
       "      <td>accommodation and food services</td>\n",
       "      <td>2010-01-01</td>\n",
       "      <td>Inland Empire</td>\n",
       "      <td>10180</td>\n",
       "      <td>105200.0</td>\n",
       "      <td>53849.84</td>\n",
       "      <td>Black</td>\n",
       "    </tr>\n",
       "    <tr>\n",
       "      <th>1</th>\n",
       "      <td>accommodation and food services</td>\n",
       "      <td>2010-02-01</td>\n",
       "      <td>Inland Empire</td>\n",
       "      <td>10229</td>\n",
       "      <td>105700.0</td>\n",
       "      <td>53849.84</td>\n",
       "      <td>Black</td>\n",
       "    </tr>\n",
       "    <tr>\n",
       "      <th>2</th>\n",
       "      <td>accommodation and food services</td>\n",
       "      <td>2010-03-01</td>\n",
       "      <td>Inland Empire</td>\n",
       "      <td>10325</td>\n",
       "      <td>106700.0</td>\n",
       "      <td>53849.84</td>\n",
       "      <td>Black</td>\n",
       "    </tr>\n",
       "    <tr>\n",
       "      <th>3</th>\n",
       "      <td>accommodation and food services</td>\n",
       "      <td>2010-04-01</td>\n",
       "      <td>Inland Empire</td>\n",
       "      <td>10490</td>\n",
       "      <td>108400.0</td>\n",
       "      <td>53849.84</td>\n",
       "      <td>Black</td>\n",
       "    </tr>\n",
       "    <tr>\n",
       "      <th>4</th>\n",
       "      <td>accommodation and food services</td>\n",
       "      <td>2010-05-01</td>\n",
       "      <td>Inland Empire</td>\n",
       "      <td>10490</td>\n",
       "      <td>108400.0</td>\n",
       "      <td>53849.84</td>\n",
       "      <td>Black</td>\n",
       "    </tr>\n",
       "  </tbody>\n",
       "</table>\n",
       "</div>"
      ],
      "text/plain": [
       "                          Industry       Date         Region  High Wage Count  \\\n",
       "0  accommodation and food services 2010-01-01  Inland Empire            10180   \n",
       "1  accommodation and food services 2010-02-01  Inland Empire            10229   \n",
       "2  accommodation and food services 2010-03-01  Inland Empire            10325   \n",
       "3  accommodation and food services 2010-04-01  Inland Empire            10490   \n",
       "4  accommodation and food services 2010-05-01  Inland Empire            10490   \n",
       "\n",
       "   Employment Count  Cost of Living Output Race  \n",
       "0          105200.0        53849.84       Black  \n",
       "1          105700.0        53849.84       Black  \n",
       "2          106700.0        53849.84       Black  \n",
       "3          108400.0        53849.84       Black  \n",
       "4          108400.0        53849.84       Black  "
      ]
     },
     "execution_count": 41,
     "metadata": {},
     "output_type": "execute_result"
    }
   ],
   "source": [
    "hw_output_black.head()"
   ]
  },
  {
   "cell_type": "markdown",
   "id": "131abcb8",
   "metadata": {},
   "source": [
    "#### American Indian/Alaska Native"
   ]
  },
  {
   "cell_type": "code",
   "execution_count": 42,
   "id": "fff5b5b2",
   "metadata": {},
   "outputs": [],
   "source": [
    "industries = []\n",
    "dates = []\n",
    "regions = []\n",
    "counts = []\n",
    "emp_counts = []"
   ]
  },
  {
   "cell_type": "markdown",
   "id": "2a950b0e",
   "metadata": {},
   "source": [
    "For loop to populate lists for the high wage outputs. This will take some time to finish running."
   ]
  },
  {
   "cell_type": "code",
   "execution_count": 43,
   "id": "592716ff",
   "metadata": {},
   "outputs": [
    {
     "name": "stdout",
     "output_type": "stream",
     "text": [
      "Progress: 10% Complete\n",
      "Progress: 20% Complete\n",
      "Progress: 30% Complete\n",
      "Progress: 40% Complete\n",
      "Progress: 50% Complete\n",
      "Progress: 60% Complete\n",
      "Progress: 70% Complete\n",
      "Progress: 80% Complete\n",
      "Progress: 90% Complete\n",
      "Progress: 100% Complete\n"
     ]
    }
   ],
   "source": [
    "progress_count = 0\n",
    "for region in regions_ipums:\n",
    "    for code in crosswalk_vals:\n",
    "        for date in dates_edd:\n",
    "            hw_count, hw_perc, employment_count, industry = edd_to_hw(edd, ca_ipums_hw_native, region, code, date, 10)\n",
    "            industries.append(industry)\n",
    "            dates.append(date)\n",
    "            regions.append(region)\n",
    "            counts.append(hw_count)\n",
    "            emp_counts.append(employment_count)\n",
    "            progress_count += 1\n",
    "            if progress_count % (total_iterations / 10) == 0:\n",
    "                percent_done = int((progress_count / total_iterations) * 100)\n",
    "                print(f'Progress: {percent_done}% Complete')"
   ]
  },
  {
   "cell_type": "markdown",
   "id": "13130101",
   "metadata": {},
   "source": [
    "Creating a cleaned dataframe from the output lists."
   ]
  },
  {
   "cell_type": "code",
   "execution_count": 44,
   "id": "b4b1ff45",
   "metadata": {},
   "outputs": [],
   "source": [
    "df_dict_native = {'Industry':industries, 'Date':dates, 'Region':regions, 'High Wage Count':counts, 'Employment Count':emp_counts}\n",
    "hw_output_native = pd.DataFrame(df_dict_native)\n",
    "hw_output_native = hw_output_native[hw_output_native['Industry'].notna()]\n",
    "hw_output_native['Date']= pd.to_datetime(hw_output_native['Date'])\n",
    "hw_output_native['High Wage Count'] = hw_output_native['High Wage Count'].astype(int)\n",
    "hw_output_native = hw_output_native.sort_values(by=['Industry', 'Region', 'Date'])\n",
    "hw_output_native = pd.merge(hw_output_native, cost_of_living, left_on='Region', right_on='Regions')\n",
    "hw_output_native = hw_output_native[['Industry', 'Date', 'Region', 'High Wage Count', 'Employment Count', 'Cost of Living']]\n",
    "hw_output_native = hw_output_native.drop_duplicates()\n",
    "hw_output_native['Output Race'] = 'American Indian/Alaska Native'"
   ]
  },
  {
   "cell_type": "markdown",
   "id": "484b078d",
   "metadata": {},
   "source": [
    "View of final `hw_output_native` dataframe."
   ]
  },
  {
   "cell_type": "code",
   "execution_count": 45,
   "id": "d017ae54",
   "metadata": {},
   "outputs": [
    {
     "data": {
      "text/html": [
       "<div>\n",
       "<style scoped>\n",
       "    .dataframe tbody tr th:only-of-type {\n",
       "        vertical-align: middle;\n",
       "    }\n",
       "\n",
       "    .dataframe tbody tr th {\n",
       "        vertical-align: top;\n",
       "    }\n",
       "\n",
       "    .dataframe thead th {\n",
       "        text-align: right;\n",
       "    }\n",
       "</style>\n",
       "<table border=\"1\" class=\"dataframe\">\n",
       "  <thead>\n",
       "    <tr style=\"text-align: right;\">\n",
       "      <th></th>\n",
       "      <th>Industry</th>\n",
       "      <th>Date</th>\n",
       "      <th>Region</th>\n",
       "      <th>High Wage Count</th>\n",
       "      <th>Employment Count</th>\n",
       "      <th>Cost of Living</th>\n",
       "      <th>Output Race</th>\n",
       "    </tr>\n",
       "  </thead>\n",
       "  <tbody>\n",
       "    <tr>\n",
       "      <th>0</th>\n",
       "      <td>accommodation and food services</td>\n",
       "      <td>2010-01-01</td>\n",
       "      <td>Inland Empire</td>\n",
       "      <td>0</td>\n",
       "      <td>48100.0</td>\n",
       "      <td>53849.84</td>\n",
       "      <td>American Indian/Alaska Native</td>\n",
       "    </tr>\n",
       "    <tr>\n",
       "      <th>1</th>\n",
       "      <td>accommodation and food services</td>\n",
       "      <td>2010-02-01</td>\n",
       "      <td>Inland Empire</td>\n",
       "      <td>0</td>\n",
       "      <td>48000.0</td>\n",
       "      <td>53849.84</td>\n",
       "      <td>American Indian/Alaska Native</td>\n",
       "    </tr>\n",
       "    <tr>\n",
       "      <th>2</th>\n",
       "      <td>accommodation and food services</td>\n",
       "      <td>2010-03-01</td>\n",
       "      <td>Inland Empire</td>\n",
       "      <td>0</td>\n",
       "      <td>48500.0</td>\n",
       "      <td>53849.84</td>\n",
       "      <td>American Indian/Alaska Native</td>\n",
       "    </tr>\n",
       "    <tr>\n",
       "      <th>3</th>\n",
       "      <td>accommodation and food services</td>\n",
       "      <td>2010-04-01</td>\n",
       "      <td>Inland Empire</td>\n",
       "      <td>0</td>\n",
       "      <td>49000.0</td>\n",
       "      <td>53849.84</td>\n",
       "      <td>American Indian/Alaska Native</td>\n",
       "    </tr>\n",
       "    <tr>\n",
       "      <th>4</th>\n",
       "      <td>accommodation and food services</td>\n",
       "      <td>2010-05-01</td>\n",
       "      <td>Inland Empire</td>\n",
       "      <td>0</td>\n",
       "      <td>49200.0</td>\n",
       "      <td>53849.84</td>\n",
       "      <td>American Indian/Alaska Native</td>\n",
       "    </tr>\n",
       "  </tbody>\n",
       "</table>\n",
       "</div>"
      ],
      "text/plain": [
       "                          Industry       Date         Region  High Wage Count  \\\n",
       "0  accommodation and food services 2010-01-01  Inland Empire                0   \n",
       "1  accommodation and food services 2010-02-01  Inland Empire                0   \n",
       "2  accommodation and food services 2010-03-01  Inland Empire                0   \n",
       "3  accommodation and food services 2010-04-01  Inland Empire                0   \n",
       "4  accommodation and food services 2010-05-01  Inland Empire                0   \n",
       "\n",
       "   Employment Count  Cost of Living                    Output Race  \n",
       "0           48100.0        53849.84  American Indian/Alaska Native  \n",
       "1           48000.0        53849.84  American Indian/Alaska Native  \n",
       "2           48500.0        53849.84  American Indian/Alaska Native  \n",
       "3           49000.0        53849.84  American Indian/Alaska Native  \n",
       "4           49200.0        53849.84  American Indian/Alaska Native  "
      ]
     },
     "execution_count": 45,
     "metadata": {},
     "output_type": "execute_result"
    }
   ],
   "source": [
    "hw_output_native.head()"
   ]
  },
  {
   "cell_type": "markdown",
   "id": "86af60f2",
   "metadata": {},
   "source": [
    "#### Asian"
   ]
  },
  {
   "cell_type": "code",
   "execution_count": 46,
   "id": "55ad62ce",
   "metadata": {},
   "outputs": [],
   "source": [
    "industries = []\n",
    "dates = []\n",
    "regions = []\n",
    "counts = []\n",
    "emp_counts = []"
   ]
  },
  {
   "cell_type": "markdown",
   "id": "dd0b407c",
   "metadata": {},
   "source": [
    "For loop to populate lists for the high wage outputs. This will take some time to finish running."
   ]
  },
  {
   "cell_type": "code",
   "execution_count": 47,
   "id": "5ef91935",
   "metadata": {},
   "outputs": [
    {
     "name": "stdout",
     "output_type": "stream",
     "text": [
      "Progress: 10% Complete\n",
      "Progress: 20% Complete\n",
      "Progress: 30% Complete\n",
      "Progress: 40% Complete\n",
      "Progress: 50% Complete\n",
      "Progress: 60% Complete\n",
      "Progress: 70% Complete\n",
      "Progress: 80% Complete\n",
      "Progress: 90% Complete\n",
      "Progress: 100% Complete\n"
     ]
    }
   ],
   "source": [
    "progress_count = 0\n",
    "for region in regions_ipums:\n",
    "    for code in crosswalk_vals:\n",
    "        for date in dates_edd:\n",
    "            hw_count, hw_perc, employment_count, industry = edd_to_hw(edd, ca_ipums_hw_asian, region, code, date, 10)\n",
    "            industries.append(industry)\n",
    "            dates.append(date)\n",
    "            regions.append(region)\n",
    "            counts.append(hw_count)\n",
    "            emp_counts.append(employment_count)\n",
    "            progress_count += 1\n",
    "            if progress_count % (total_iterations / 10) == 0:\n",
    "                percent_done = int((progress_count / total_iterations) * 100)\n",
    "                print(f'Progress: {percent_done}% Complete')"
   ]
  },
  {
   "cell_type": "markdown",
   "id": "7daf125b",
   "metadata": {},
   "source": [
    "Creating a cleaned dataframe from the output lists."
   ]
  },
  {
   "cell_type": "code",
   "execution_count": 48,
   "id": "cb6d8349",
   "metadata": {},
   "outputs": [],
   "source": [
    "df_dict_asian = {'Industry':industries, 'Date':dates, 'Region':regions, 'High Wage Count':counts, 'Employment Count':emp_counts}\n",
    "hw_output_asian = pd.DataFrame(df_dict_asian)\n",
    "hw_output_asian = hw_output_asian[hw_output_asian['Industry'].notna()]\n",
    "hw_output_asian['Date']= pd.to_datetime(hw_output_asian['Date'])\n",
    "hw_output_asian['High Wage Count'] = hw_output_asian['High Wage Count'].astype(int)\n",
    "hw_output_asian = hw_output_asian.sort_values(by=['Industry', 'Region', 'Date'])\n",
    "hw_output_asian = pd.merge(hw_output_asian, cost_of_living, left_on='Region', right_on='Regions')\n",
    "hw_output_asian = hw_output_asian[['Industry', 'Date', 'Region', 'High Wage Count', 'Employment Count', 'Cost of Living']]\n",
    "hw_output_asian = hw_output_asian.drop_duplicates()\n",
    "hw_output_asian['Output Race'] = 'Asian'"
   ]
  },
  {
   "cell_type": "markdown",
   "id": "8fd4398b",
   "metadata": {},
   "source": [
    "View of final `hw_output_asian` dataframe."
   ]
  },
  {
   "cell_type": "code",
   "execution_count": 49,
   "id": "e0c92b2b",
   "metadata": {},
   "outputs": [
    {
     "data": {
      "text/html": [
       "<div>\n",
       "<style scoped>\n",
       "    .dataframe tbody tr th:only-of-type {\n",
       "        vertical-align: middle;\n",
       "    }\n",
       "\n",
       "    .dataframe tbody tr th {\n",
       "        vertical-align: top;\n",
       "    }\n",
       "\n",
       "    .dataframe thead th {\n",
       "        text-align: right;\n",
       "    }\n",
       "</style>\n",
       "<table border=\"1\" class=\"dataframe\">\n",
       "  <thead>\n",
       "    <tr style=\"text-align: right;\">\n",
       "      <th></th>\n",
       "      <th>Industry</th>\n",
       "      <th>Date</th>\n",
       "      <th>Region</th>\n",
       "      <th>High Wage Count</th>\n",
       "      <th>Employment Count</th>\n",
       "      <th>Cost of Living</th>\n",
       "      <th>Output Race</th>\n",
       "    </tr>\n",
       "  </thead>\n",
       "  <tbody>\n",
       "    <tr>\n",
       "      <th>0</th>\n",
       "      <td>accommodation and food services</td>\n",
       "      <td>2010-01-01</td>\n",
       "      <td>Inland Empire</td>\n",
       "      <td>18641</td>\n",
       "      <td>105200.0</td>\n",
       "      <td>53849.84</td>\n",
       "      <td>Asian</td>\n",
       "    </tr>\n",
       "    <tr>\n",
       "      <th>1</th>\n",
       "      <td>accommodation and food services</td>\n",
       "      <td>2010-02-01</td>\n",
       "      <td>Inland Empire</td>\n",
       "      <td>18730</td>\n",
       "      <td>105700.0</td>\n",
       "      <td>53849.84</td>\n",
       "      <td>Asian</td>\n",
       "    </tr>\n",
       "    <tr>\n",
       "      <th>2</th>\n",
       "      <td>accommodation and food services</td>\n",
       "      <td>2010-03-01</td>\n",
       "      <td>Inland Empire</td>\n",
       "      <td>18907</td>\n",
       "      <td>106700.0</td>\n",
       "      <td>53849.84</td>\n",
       "      <td>Asian</td>\n",
       "    </tr>\n",
       "    <tr>\n",
       "      <th>3</th>\n",
       "      <td>accommodation and food services</td>\n",
       "      <td>2010-04-01</td>\n",
       "      <td>Inland Empire</td>\n",
       "      <td>19208</td>\n",
       "      <td>108400.0</td>\n",
       "      <td>53849.84</td>\n",
       "      <td>Asian</td>\n",
       "    </tr>\n",
       "    <tr>\n",
       "      <th>4</th>\n",
       "      <td>accommodation and food services</td>\n",
       "      <td>2010-05-01</td>\n",
       "      <td>Inland Empire</td>\n",
       "      <td>19208</td>\n",
       "      <td>108400.0</td>\n",
       "      <td>53849.84</td>\n",
       "      <td>Asian</td>\n",
       "    </tr>\n",
       "  </tbody>\n",
       "</table>\n",
       "</div>"
      ],
      "text/plain": [
       "                          Industry       Date         Region  High Wage Count  \\\n",
       "0  accommodation and food services 2010-01-01  Inland Empire            18641   \n",
       "1  accommodation and food services 2010-02-01  Inland Empire            18730   \n",
       "2  accommodation and food services 2010-03-01  Inland Empire            18907   \n",
       "3  accommodation and food services 2010-04-01  Inland Empire            19208   \n",
       "4  accommodation and food services 2010-05-01  Inland Empire            19208   \n",
       "\n",
       "   Employment Count  Cost of Living Output Race  \n",
       "0          105200.0        53849.84       Asian  \n",
       "1          105700.0        53849.84       Asian  \n",
       "2          106700.0        53849.84       Asian  \n",
       "3          108400.0        53849.84       Asian  \n",
       "4          108400.0        53849.84       Asian  "
      ]
     },
     "execution_count": 49,
     "metadata": {},
     "output_type": "execute_result"
    }
   ],
   "source": [
    "hw_output_asian.head()"
   ]
  },
  {
   "cell_type": "markdown",
   "id": "9c195d40",
   "metadata": {},
   "source": [
    "#### Some other race"
   ]
  },
  {
   "cell_type": "code",
   "execution_count": 50,
   "id": "a0310836",
   "metadata": {},
   "outputs": [],
   "source": [
    "industries = []\n",
    "dates = []\n",
    "regions = []\n",
    "counts = []\n",
    "emp_counts = []"
   ]
  },
  {
   "cell_type": "markdown",
   "id": "74564694",
   "metadata": {},
   "source": [
    "For loop to populate lists for the high wage outputs. This will take some time to finish running."
   ]
  },
  {
   "cell_type": "code",
   "execution_count": 51,
   "id": "874e8c4c",
   "metadata": {},
   "outputs": [
    {
     "name": "stdout",
     "output_type": "stream",
     "text": [
      "Progress: 10% Complete\n",
      "Progress: 20% Complete\n",
      "Progress: 30% Complete\n",
      "Progress: 40% Complete\n",
      "Progress: 50% Complete\n",
      "Progress: 60% Complete\n",
      "Progress: 70% Complete\n",
      "Progress: 80% Complete\n",
      "Progress: 90% Complete\n",
      "Progress: 100% Complete\n"
     ]
    }
   ],
   "source": [
    "progress_count = 0\n",
    "for region in regions_ipums:\n",
    "    for code in crosswalk_vals:\n",
    "        for date in dates_edd:\n",
    "            hw_count, hw_perc, employment_count, industry = edd_to_hw(edd, ca_ipums_hw_other, region, code, date, 10)\n",
    "            industries.append(industry)\n",
    "            dates.append(date)\n",
    "            regions.append(region)\n",
    "            counts.append(hw_count)\n",
    "            emp_counts.append(employment_count)\n",
    "            progress_count += 1\n",
    "            if progress_count % (total_iterations / 10) == 0:\n",
    "                percent_done = int((progress_count / total_iterations) * 100)\n",
    "                print(f'Progress: {percent_done}% Complete')"
   ]
  },
  {
   "cell_type": "markdown",
   "id": "5d1c87ed",
   "metadata": {},
   "source": [
    "Creating a cleaned dataframe from the output lists."
   ]
  },
  {
   "cell_type": "code",
   "execution_count": 52,
   "id": "4142710f",
   "metadata": {},
   "outputs": [],
   "source": [
    "df_dict_other = {'Industry':industries, 'Date':dates, 'Region':regions, 'High Wage Count':counts, 'Employment Count':emp_counts}\n",
    "hw_output_other = pd.DataFrame(df_dict_other)\n",
    "hw_output_other = hw_output_other[hw_output_other['Industry'].notna()]\n",
    "hw_output_other['Date']= pd.to_datetime(hw_output_other['Date'])\n",
    "hw_output_other['High Wage Count'] = hw_output_other['High Wage Count'].astype(int)\n",
    "hw_output_other = hw_output_other.sort_values(by=['Industry', 'Region', 'Date'])\n",
    "hw_output_other = pd.merge(hw_output_other, cost_of_living, left_on='Region', right_on='Regions')\n",
    "hw_output_other = hw_output_other[['Industry', 'Date', 'Region', 'High Wage Count', 'Employment Count', 'Cost of Living']]\n",
    "hw_output_other = hw_output_other.drop_duplicates()\n",
    "hw_output_other['Output Race'] = 'Some other race'"
   ]
  },
  {
   "cell_type": "markdown",
   "id": "fc565fc6",
   "metadata": {},
   "source": [
    "View of final `hw_output_other` dataframe."
   ]
  },
  {
   "cell_type": "code",
   "execution_count": 53,
   "id": "365591b1",
   "metadata": {},
   "outputs": [
    {
     "data": {
      "text/html": [
       "<div>\n",
       "<style scoped>\n",
       "    .dataframe tbody tr th:only-of-type {\n",
       "        vertical-align: middle;\n",
       "    }\n",
       "\n",
       "    .dataframe tbody tr th {\n",
       "        vertical-align: top;\n",
       "    }\n",
       "\n",
       "    .dataframe thead th {\n",
       "        text-align: right;\n",
       "    }\n",
       "</style>\n",
       "<table border=\"1\" class=\"dataframe\">\n",
       "  <thead>\n",
       "    <tr style=\"text-align: right;\">\n",
       "      <th></th>\n",
       "      <th>Industry</th>\n",
       "      <th>Date</th>\n",
       "      <th>Region</th>\n",
       "      <th>High Wage Count</th>\n",
       "      <th>Employment Count</th>\n",
       "      <th>Cost of Living</th>\n",
       "      <th>Output Race</th>\n",
       "    </tr>\n",
       "  </thead>\n",
       "  <tbody>\n",
       "    <tr>\n",
       "      <th>0</th>\n",
       "      <td>accommodation and food services</td>\n",
       "      <td>2010-01-01</td>\n",
       "      <td>Inland Empire</td>\n",
       "      <td>-571</td>\n",
       "      <td>57100.0</td>\n",
       "      <td>53849.84</td>\n",
       "      <td>Some other race</td>\n",
       "    </tr>\n",
       "    <tr>\n",
       "      <th>1</th>\n",
       "      <td>accommodation and food services</td>\n",
       "      <td>2010-02-01</td>\n",
       "      <td>Inland Empire</td>\n",
       "      <td>-577</td>\n",
       "      <td>57700.0</td>\n",
       "      <td>53849.84</td>\n",
       "      <td>Some other race</td>\n",
       "    </tr>\n",
       "    <tr>\n",
       "      <th>2</th>\n",
       "      <td>accommodation and food services</td>\n",
       "      <td>2010-03-01</td>\n",
       "      <td>Inland Empire</td>\n",
       "      <td>-582</td>\n",
       "      <td>58200.0</td>\n",
       "      <td>53849.84</td>\n",
       "      <td>Some other race</td>\n",
       "    </tr>\n",
       "    <tr>\n",
       "      <th>3</th>\n",
       "      <td>accommodation and food services</td>\n",
       "      <td>2010-04-01</td>\n",
       "      <td>Inland Empire</td>\n",
       "      <td>-594</td>\n",
       "      <td>59400.0</td>\n",
       "      <td>53849.84</td>\n",
       "      <td>Some other race</td>\n",
       "    </tr>\n",
       "    <tr>\n",
       "      <th>4</th>\n",
       "      <td>accommodation and food services</td>\n",
       "      <td>2010-05-01</td>\n",
       "      <td>Inland Empire</td>\n",
       "      <td>-592</td>\n",
       "      <td>59200.0</td>\n",
       "      <td>53849.84</td>\n",
       "      <td>Some other race</td>\n",
       "    </tr>\n",
       "  </tbody>\n",
       "</table>\n",
       "</div>"
      ],
      "text/plain": [
       "                          Industry       Date         Region  High Wage Count  \\\n",
       "0  accommodation and food services 2010-01-01  Inland Empire             -571   \n",
       "1  accommodation and food services 2010-02-01  Inland Empire             -577   \n",
       "2  accommodation and food services 2010-03-01  Inland Empire             -582   \n",
       "3  accommodation and food services 2010-04-01  Inland Empire             -594   \n",
       "4  accommodation and food services 2010-05-01  Inland Empire             -592   \n",
       "\n",
       "   Employment Count  Cost of Living      Output Race  \n",
       "0           57100.0        53849.84  Some other race  \n",
       "1           57700.0        53849.84  Some other race  \n",
       "2           58200.0        53849.84  Some other race  \n",
       "3           59400.0        53849.84  Some other race  \n",
       "4           59200.0        53849.84  Some other race  "
      ]
     },
     "execution_count": 53,
     "metadata": {},
     "output_type": "execute_result"
    }
   ],
   "source": [
    "hw_output_other.head()"
   ]
  },
  {
   "cell_type": "markdown",
   "id": "417fc145",
   "metadata": {},
   "source": [
    "#### Multiracial"
   ]
  },
  {
   "cell_type": "code",
   "execution_count": 54,
   "id": "c6d75ac6",
   "metadata": {},
   "outputs": [],
   "source": [
    "industries = []\n",
    "dates = []\n",
    "regions = []\n",
    "counts = []\n",
    "emp_counts = []"
   ]
  },
  {
   "cell_type": "markdown",
   "id": "fdc8ec57",
   "metadata": {},
   "source": [
    "For loop to populate lists for the high wage outputs. This will take some time to finish running."
   ]
  },
  {
   "cell_type": "code",
   "execution_count": 55,
   "id": "2be0a347",
   "metadata": {},
   "outputs": [
    {
     "name": "stdout",
     "output_type": "stream",
     "text": [
      "Progress: 10% Complete\n",
      "Progress: 20% Complete\n",
      "Progress: 30% Complete\n",
      "Progress: 40% Complete\n",
      "Progress: 50% Complete\n",
      "Progress: 60% Complete\n",
      "Progress: 70% Complete\n",
      "Progress: 80% Complete\n",
      "Progress: 90% Complete\n",
      "Progress: 100% Complete\n"
     ]
    }
   ],
   "source": [
    "progress_count = 0\n",
    "for region in regions_ipums:\n",
    "    for code in crosswalk_vals:\n",
    "        for date in dates_edd:\n",
    "            hw_count, hw_perc, employment_count, industry = edd_to_hw(edd, ca_ipums_hw_multi, region, code, date, 10)\n",
    "            industries.append(industry)\n",
    "            dates.append(date)\n",
    "            regions.append(region)\n",
    "            counts.append(hw_count)\n",
    "            emp_counts.append(employment_count)\n",
    "            progress_count += 1\n",
    "            if progress_count % (total_iterations / 10) == 0:\n",
    "                percent_done = int((progress_count / total_iterations) * 100)\n",
    "                print(f'Progress: {percent_done}% Complete')"
   ]
  },
  {
   "cell_type": "markdown",
   "id": "1447860a",
   "metadata": {},
   "source": [
    "Creating a cleaned dataframe from the output lists."
   ]
  },
  {
   "cell_type": "code",
   "execution_count": 56,
   "id": "1f5d71ee",
   "metadata": {},
   "outputs": [],
   "source": [
    "df_dict_multi = {'Industry':industries, 'Date':dates, 'Region':regions, 'High Wage Count':counts, 'Employment Count':emp_counts}\n",
    "hw_output_multi = pd.DataFrame(df_dict_multi)\n",
    "hw_output_multi = hw_output_multi[hw_output_multi['Industry'].notna()]\n",
    "hw_output_multi['Date']= pd.to_datetime(hw_output_multi['Date'])\n",
    "hw_output_multi['High Wage Count'] = hw_output_multi['High Wage Count'].astype(int)\n",
    "hw_output_multi = hw_output_multi.sort_values(by=['Industry', 'Region', 'Date'])\n",
    "hw_output_multi = pd.merge(hw_output_multi, cost_of_living, left_on='Region', right_on='Regions')\n",
    "hw_output_multi = hw_output_multi[['Industry', 'Date', 'Region', 'High Wage Count', 'Employment Count', 'Cost of Living']]\n",
    "hw_output_multi = hw_output_multi.drop_duplicates()\n",
    "hw_output_multi['Output Race'] = 'Multiracial'"
   ]
  },
  {
   "cell_type": "markdown",
   "id": "c3116c37",
   "metadata": {},
   "source": [
    "View of final `hw_output_multi` dataframe."
   ]
  },
  {
   "cell_type": "code",
   "execution_count": 57,
   "id": "741c22a6",
   "metadata": {},
   "outputs": [
    {
     "data": {
      "text/html": [
       "<div>\n",
       "<style scoped>\n",
       "    .dataframe tbody tr th:only-of-type {\n",
       "        vertical-align: middle;\n",
       "    }\n",
       "\n",
       "    .dataframe tbody tr th {\n",
       "        vertical-align: top;\n",
       "    }\n",
       "\n",
       "    .dataframe thead th {\n",
       "        text-align: right;\n",
       "    }\n",
       "</style>\n",
       "<table border=\"1\" class=\"dataframe\">\n",
       "  <thead>\n",
       "    <tr style=\"text-align: right;\">\n",
       "      <th></th>\n",
       "      <th>Industry</th>\n",
       "      <th>Date</th>\n",
       "      <th>Region</th>\n",
       "      <th>High Wage Count</th>\n",
       "      <th>Employment Count</th>\n",
       "      <th>Cost of Living</th>\n",
       "      <th>Output Race</th>\n",
       "    </tr>\n",
       "  </thead>\n",
       "  <tbody>\n",
       "    <tr>\n",
       "      <th>0</th>\n",
       "      <td>accommodation and food services</td>\n",
       "      <td>2010-01-01</td>\n",
       "      <td>Inland Empire</td>\n",
       "      <td>5488</td>\n",
       "      <td>105200.0</td>\n",
       "      <td>53849.84</td>\n",
       "      <td>Multiracial</td>\n",
       "    </tr>\n",
       "    <tr>\n",
       "      <th>1</th>\n",
       "      <td>accommodation and food services</td>\n",
       "      <td>2010-02-01</td>\n",
       "      <td>Inland Empire</td>\n",
       "      <td>5514</td>\n",
       "      <td>105700.0</td>\n",
       "      <td>53849.84</td>\n",
       "      <td>Multiracial</td>\n",
       "    </tr>\n",
       "    <tr>\n",
       "      <th>2</th>\n",
       "      <td>accommodation and food services</td>\n",
       "      <td>2010-03-01</td>\n",
       "      <td>Inland Empire</td>\n",
       "      <td>5566</td>\n",
       "      <td>106700.0</td>\n",
       "      <td>53849.84</td>\n",
       "      <td>Multiracial</td>\n",
       "    </tr>\n",
       "    <tr>\n",
       "      <th>3</th>\n",
       "      <td>accommodation and food services</td>\n",
       "      <td>2010-04-01</td>\n",
       "      <td>Inland Empire</td>\n",
       "      <td>5655</td>\n",
       "      <td>108400.0</td>\n",
       "      <td>53849.84</td>\n",
       "      <td>Multiracial</td>\n",
       "    </tr>\n",
       "    <tr>\n",
       "      <th>4</th>\n",
       "      <td>accommodation and food services</td>\n",
       "      <td>2010-05-01</td>\n",
       "      <td>Inland Empire</td>\n",
       "      <td>5655</td>\n",
       "      <td>108400.0</td>\n",
       "      <td>53849.84</td>\n",
       "      <td>Multiracial</td>\n",
       "    </tr>\n",
       "  </tbody>\n",
       "</table>\n",
       "</div>"
      ],
      "text/plain": [
       "                          Industry       Date         Region  High Wage Count  \\\n",
       "0  accommodation and food services 2010-01-01  Inland Empire             5488   \n",
       "1  accommodation and food services 2010-02-01  Inland Empire             5514   \n",
       "2  accommodation and food services 2010-03-01  Inland Empire             5566   \n",
       "3  accommodation and food services 2010-04-01  Inland Empire             5655   \n",
       "4  accommodation and food services 2010-05-01  Inland Empire             5655   \n",
       "\n",
       "   Employment Count  Cost of Living  Output Race  \n",
       "0          105200.0        53849.84  Multiracial  \n",
       "1          105700.0        53849.84  Multiracial  \n",
       "2          106700.0        53849.84  Multiracial  \n",
       "3          108400.0        53849.84  Multiracial  \n",
       "4          108400.0        53849.84  Multiracial  "
      ]
     },
     "execution_count": 57,
     "metadata": {},
     "output_type": "execute_result"
    }
   ],
   "source": [
    "hw_output_multi.head()"
   ]
  },
  {
   "cell_type": "markdown",
   "id": "df982f36",
   "metadata": {},
   "source": [
    "### Concatenate all dataframes and export\n",
    "\n",
    "Code to export the dataframe as a CSV file - change file path if needed and uncomment to run."
   ]
  },
  {
   "cell_type": "code",
   "execution_count": 58,
   "id": "e3a71e54",
   "metadata": {},
   "outputs": [],
   "source": [
    "hw_output_demo = pd.concat([hw_output_white, hw_output_black, hw_output_latino, hw_output_asian, hw_output_native, hw_output_other, hw_output_multi], ignore_index=True)"
   ]
  },
  {
   "cell_type": "code",
   "execution_count": 59,
   "id": "c965100a",
   "metadata": {},
   "outputs": [
    {
     "data": {
      "text/html": [
       "<div>\n",
       "<style scoped>\n",
       "    .dataframe tbody tr th:only-of-type {\n",
       "        vertical-align: middle;\n",
       "    }\n",
       "\n",
       "    .dataframe tbody tr th {\n",
       "        vertical-align: top;\n",
       "    }\n",
       "\n",
       "    .dataframe thead th {\n",
       "        text-align: right;\n",
       "    }\n",
       "</style>\n",
       "<table border=\"1\" class=\"dataframe\">\n",
       "  <thead>\n",
       "    <tr style=\"text-align: right;\">\n",
       "      <th></th>\n",
       "      <th>Industry</th>\n",
       "      <th>Date</th>\n",
       "      <th>Region</th>\n",
       "      <th>High Wage Count</th>\n",
       "      <th>Employment Count</th>\n",
       "      <th>Cost of Living</th>\n",
       "      <th>Output Race</th>\n",
       "    </tr>\n",
       "  </thead>\n",
       "  <tbody>\n",
       "    <tr>\n",
       "      <th>0</th>\n",
       "      <td>accommodation and food services</td>\n",
       "      <td>2010-01-01</td>\n",
       "      <td>Inland Empire</td>\n",
       "      <td>16086</td>\n",
       "      <td>105200.0</td>\n",
       "      <td>53849.84</td>\n",
       "      <td>White</td>\n",
       "    </tr>\n",
       "    <tr>\n",
       "      <th>1</th>\n",
       "      <td>accommodation and food services</td>\n",
       "      <td>2010-02-01</td>\n",
       "      <td>Inland Empire</td>\n",
       "      <td>16162</td>\n",
       "      <td>105700.0</td>\n",
       "      <td>53849.84</td>\n",
       "      <td>White</td>\n",
       "    </tr>\n",
       "    <tr>\n",
       "      <th>2</th>\n",
       "      <td>accommodation and food services</td>\n",
       "      <td>2010-03-01</td>\n",
       "      <td>Inland Empire</td>\n",
       "      <td>16315</td>\n",
       "      <td>106700.0</td>\n",
       "      <td>53849.84</td>\n",
       "      <td>White</td>\n",
       "    </tr>\n",
       "    <tr>\n",
       "      <th>3</th>\n",
       "      <td>accommodation and food services</td>\n",
       "      <td>2010-04-01</td>\n",
       "      <td>Inland Empire</td>\n",
       "      <td>16575</td>\n",
       "      <td>108400.0</td>\n",
       "      <td>53849.84</td>\n",
       "      <td>White</td>\n",
       "    </tr>\n",
       "    <tr>\n",
       "      <th>4</th>\n",
       "      <td>accommodation and food services</td>\n",
       "      <td>2010-05-01</td>\n",
       "      <td>Inland Empire</td>\n",
       "      <td>16575</td>\n",
       "      <td>108400.0</td>\n",
       "      <td>53849.84</td>\n",
       "      <td>White</td>\n",
       "    </tr>\n",
       "  </tbody>\n",
       "</table>\n",
       "</div>"
      ],
      "text/plain": [
       "                          Industry       Date         Region  High Wage Count  \\\n",
       "0  accommodation and food services 2010-01-01  Inland Empire            16086   \n",
       "1  accommodation and food services 2010-02-01  Inland Empire            16162   \n",
       "2  accommodation and food services 2010-03-01  Inland Empire            16315   \n",
       "3  accommodation and food services 2010-04-01  Inland Empire            16575   \n",
       "4  accommodation and food services 2010-05-01  Inland Empire            16575   \n",
       "\n",
       "   Employment Count  Cost of Living Output Race  \n",
       "0          105200.0        53849.84       White  \n",
       "1          105700.0        53849.84       White  \n",
       "2          106700.0        53849.84       White  \n",
       "3          108400.0        53849.84       White  \n",
       "4          108400.0        53849.84       White  "
      ]
     },
     "execution_count": 59,
     "metadata": {},
     "output_type": "execute_result"
    }
   ],
   "source": [
    "hw_output_demo.head()"
   ]
  },
  {
   "cell_type": "markdown",
   "id": "55b6fc89",
   "metadata": {},
   "source": [
    "#### Add Region Population to Dataframe"
   ]
  },
  {
   "cell_type": "code",
   "execution_count": 60,
   "id": "adbc2b2f",
   "metadata": {},
   "outputs": [
    {
     "data": {
      "text/html": [
       "<div>\n",
       "<style scoped>\n",
       "    .dataframe tbody tr th:only-of-type {\n",
       "        vertical-align: middle;\n",
       "    }\n",
       "\n",
       "    .dataframe tbody tr th {\n",
       "        vertical-align: top;\n",
       "    }\n",
       "\n",
       "    .dataframe thead th {\n",
       "        text-align: right;\n",
       "    }\n",
       "</style>\n",
       "<table border=\"1\" class=\"dataframe\">\n",
       "  <thead>\n",
       "    <tr style=\"text-align: right;\">\n",
       "      <th></th>\n",
       "      <th>CERF Regions</th>\n",
       "      <th>Population</th>\n",
       "    </tr>\n",
       "  </thead>\n",
       "  <tbody>\n",
       "    <tr>\n",
       "      <th>0</th>\n",
       "      <td>Bay Area</td>\n",
       "      <td>7710026</td>\n",
       "    </tr>\n",
       "    <tr>\n",
       "      <th>1</th>\n",
       "      <td>Central Coast</td>\n",
       "      <td>2342005</td>\n",
       "    </tr>\n",
       "    <tr>\n",
       "      <th>2</th>\n",
       "      <td>Central San Joaquin</td>\n",
       "      <td>1752543</td>\n",
       "    </tr>\n",
       "    <tr>\n",
       "      <th>3</th>\n",
       "      <td>Eastern Sierra</td>\n",
       "      <td>188734</td>\n",
       "    </tr>\n",
       "    <tr>\n",
       "      <th>4</th>\n",
       "      <td>Inland Empire</td>\n",
       "      <td>4560470</td>\n",
       "    </tr>\n",
       "    <tr>\n",
       "      <th>5</th>\n",
       "      <td>Kern</td>\n",
       "      <td>887641</td>\n",
       "    </tr>\n",
       "    <tr>\n",
       "      <th>6</th>\n",
       "      <td>Los Angeles</td>\n",
       "      <td>10081570</td>\n",
       "    </tr>\n",
       "    <tr>\n",
       "      <th>7</th>\n",
       "      <td>North State</td>\n",
       "      <td>713754</td>\n",
       "    </tr>\n",
       "    <tr>\n",
       "      <th>8</th>\n",
       "      <td>Northern San Joaquin</td>\n",
       "      <td>1557179</td>\n",
       "    </tr>\n",
       "    <tr>\n",
       "      <th>9</th>\n",
       "      <td>Orange</td>\n",
       "      <td>3168044</td>\n",
       "    </tr>\n",
       "    <tr>\n",
       "      <th>10</th>\n",
       "      <td>Redwood Coast</td>\n",
       "      <td>314854</td>\n",
       "    </tr>\n",
       "    <tr>\n",
       "      <th>11</th>\n",
       "      <td>Sacramento</td>\n",
       "      <td>2509903</td>\n",
       "    </tr>\n",
       "    <tr>\n",
       "      <th>12</th>\n",
       "      <td>San Diego-Imperial</td>\n",
       "      <td>3496774</td>\n",
       "    </tr>\n",
       "  </tbody>\n",
       "</table>\n",
       "</div>"
      ],
      "text/plain": [
       "            CERF Regions  Population\n",
       "0               Bay Area     7710026\n",
       "1          Central Coast     2342005\n",
       "2    Central San Joaquin     1752543\n",
       "3         Eastern Sierra      188734\n",
       "4          Inland Empire     4560470\n",
       "5                   Kern      887641\n",
       "6            Los Angeles    10081570\n",
       "7            North State      713754\n",
       "8   Northern San Joaquin     1557179\n",
       "9                 Orange     3168044\n",
       "10         Redwood Coast      314854\n",
       "11            Sacramento     2509903\n",
       "12    San Diego-Imperial     3496774"
      ]
     },
     "execution_count": 60,
     "metadata": {},
     "output_type": "execute_result"
    }
   ],
   "source": [
    "reg_pop = county_info.groupby(by='CERF Regions').sum()[['Population']].reset_index()\n",
    "reg_pop"
   ]
  },
  {
   "cell_type": "code",
   "execution_count": 61,
   "id": "5eb47331",
   "metadata": {},
   "outputs": [
    {
     "data": {
      "text/html": [
       "<div>\n",
       "<style scoped>\n",
       "    .dataframe tbody tr th:only-of-type {\n",
       "        vertical-align: middle;\n",
       "    }\n",
       "\n",
       "    .dataframe tbody tr th {\n",
       "        vertical-align: top;\n",
       "    }\n",
       "\n",
       "    .dataframe thead th {\n",
       "        text-align: right;\n",
       "    }\n",
       "</style>\n",
       "<table border=\"1\" class=\"dataframe\">\n",
       "  <thead>\n",
       "    <tr style=\"text-align: right;\">\n",
       "      <th></th>\n",
       "      <th>Industry</th>\n",
       "      <th>Date</th>\n",
       "      <th>Region</th>\n",
       "      <th>High Wage Count</th>\n",
       "      <th>Employment Count</th>\n",
       "      <th>Cost of Living</th>\n",
       "      <th>Output Race</th>\n",
       "      <th>Region Population</th>\n",
       "    </tr>\n",
       "  </thead>\n",
       "  <tbody>\n",
       "    <tr>\n",
       "      <th>0</th>\n",
       "      <td>accommodation and food services</td>\n",
       "      <td>2010-01-01</td>\n",
       "      <td>Inland Empire</td>\n",
       "      <td>16086</td>\n",
       "      <td>105200.0</td>\n",
       "      <td>53849.84</td>\n",
       "      <td>White</td>\n",
       "      <td>4560470</td>\n",
       "    </tr>\n",
       "    <tr>\n",
       "      <th>1</th>\n",
       "      <td>accommodation and food services</td>\n",
       "      <td>2010-02-01</td>\n",
       "      <td>Inland Empire</td>\n",
       "      <td>16162</td>\n",
       "      <td>105700.0</td>\n",
       "      <td>53849.84</td>\n",
       "      <td>White</td>\n",
       "      <td>4560470</td>\n",
       "    </tr>\n",
       "    <tr>\n",
       "      <th>2</th>\n",
       "      <td>accommodation and food services</td>\n",
       "      <td>2010-03-01</td>\n",
       "      <td>Inland Empire</td>\n",
       "      <td>16315</td>\n",
       "      <td>106700.0</td>\n",
       "      <td>53849.84</td>\n",
       "      <td>White</td>\n",
       "      <td>4560470</td>\n",
       "    </tr>\n",
       "    <tr>\n",
       "      <th>3</th>\n",
       "      <td>accommodation and food services</td>\n",
       "      <td>2010-04-01</td>\n",
       "      <td>Inland Empire</td>\n",
       "      <td>16575</td>\n",
       "      <td>108400.0</td>\n",
       "      <td>53849.84</td>\n",
       "      <td>White</td>\n",
       "      <td>4560470</td>\n",
       "    </tr>\n",
       "    <tr>\n",
       "      <th>4</th>\n",
       "      <td>accommodation and food services</td>\n",
       "      <td>2010-05-01</td>\n",
       "      <td>Inland Empire</td>\n",
       "      <td>16575</td>\n",
       "      <td>108400.0</td>\n",
       "      <td>53849.84</td>\n",
       "      <td>White</td>\n",
       "      <td>4560470</td>\n",
       "    </tr>\n",
       "  </tbody>\n",
       "</table>\n",
       "</div>"
      ],
      "text/plain": [
       "                          Industry       Date         Region  High Wage Count  \\\n",
       "0  accommodation and food services 2010-01-01  Inland Empire            16086   \n",
       "1  accommodation and food services 2010-02-01  Inland Empire            16162   \n",
       "2  accommodation and food services 2010-03-01  Inland Empire            16315   \n",
       "3  accommodation and food services 2010-04-01  Inland Empire            16575   \n",
       "4  accommodation and food services 2010-05-01  Inland Empire            16575   \n",
       "\n",
       "   Employment Count  Cost of Living Output Race  Region Population  \n",
       "0          105200.0        53849.84       White            4560470  \n",
       "1          105700.0        53849.84       White            4560470  \n",
       "2          106700.0        53849.84       White            4560470  \n",
       "3          108400.0        53849.84       White            4560470  \n",
       "4          108400.0        53849.84       White            4560470  "
      ]
     },
     "execution_count": 61,
     "metadata": {},
     "output_type": "execute_result"
    }
   ],
   "source": [
    "hw_output_demo = pd.merge(hw_output_demo, reg_pop, left_on='Region', right_on='CERF Regions')\n",
    "hw_output_demo = hw_output_demo.drop(columns=['CERF Regions'])\n",
    "hw_output_demo = hw_output_demo.rename(columns={\"Population\": \"Region Population\"})\n",
    "hw_output_demo.head()"
   ]
  },
  {
   "cell_type": "code",
   "execution_count": 62,
   "id": "293cf915",
   "metadata": {},
   "outputs": [],
   "source": [
    "hw_output_demo.to_csv(f'data/outputs/hw_outputs_w_race_{year}.csv', encoding='utf-8', index=False)"
   ]
  },
  {
   "cell_type": "markdown",
   "id": "03042775",
   "metadata": {},
   "source": [
    "## Code for concatenating multiple years (2010-2020)"
   ]
  },
  {
   "cell_type": "code",
   "execution_count": 67,
   "id": "0d6efbd8",
   "metadata": {},
   "outputs": [],
   "source": [
    "# hw_2010 = pd.read_csv('data/outputs/hw_outputs_w_race_2010.csv')\n",
    "# hw_2011 = pd.read_csv('data/outputs/hw_outputs_w_race_2011.csv')\n",
    "# hw_2012 = pd.read_csv('data/outputs/hw_outputs_w_race_2012.csv')\n",
    "# hw_2013 = pd.read_csv('data/outputs/hw_outputs_w_race_2013.csv')\n",
    "# hw_2014 = pd.read_csv('data/outputs/hw_outputs_w_race_2014.csv')\n",
    "# hw_2015 = pd.read_csv('data/outputs/hw_outputs_w_race_2015.csv')\n",
    "# hw_2016 = pd.read_csv('data/outputs/hw_outputs_w_race_2016.csv')\n",
    "# hw_2017 = pd.read_csv('data/outputs/hw_outputs_w_race_2017.csv')\n",
    "# hw_2018 = pd.read_csv('data/outputs/hw_outputs_w_race_2018.csv')\n",
    "# hw_2019 = pd.read_csv('data/outputs/hw_outputs_w_race_2019.csv')\n",
    "# hw_2020 = pd.read_csv('data/outputs/hw_outputs_w_race_2020.csv')"
   ]
  },
  {
   "cell_type": "code",
   "execution_count": 68,
   "id": "710408ae",
   "metadata": {},
   "outputs": [],
   "source": [
    "# hw_2010['Year'] = 2010\n",
    "# hw_2011['Year'] = 2011\n",
    "# hw_2012['Year'] = 2012\n",
    "# hw_2013['Year'] = 2013\n",
    "# hw_2014['Year'] = 2014\n",
    "# hw_2015['Year'] = 2015\n",
    "# hw_2016['Year'] = 2016\n",
    "# hw_2017['Year'] = 2017\n",
    "# hw_2018['Year'] = 2018\n",
    "# hw_2019['Year'] = 2019\n",
    "# hw_2020['Year'] = 2020"
   ]
  },
  {
   "cell_type": "code",
   "execution_count": 69,
   "id": "27192d8d",
   "metadata": {},
   "outputs": [],
   "source": [
    "# hw_output_concat = pd.concat([hw_2010, hw_2011, hw_2012, hw_2013, \n",
    "#                               hw_2014, hw_2015, hw_2016, hw_2017, \n",
    "#                               hw_2018, hw_2019, hw_2020])"
   ]
  },
  {
   "cell_type": "code",
   "execution_count": 70,
   "id": "902e288e",
   "metadata": {},
   "outputs": [],
   "source": [
    "# hw_output_concat.to_csv('data/outputs/hw_outputs_w_race_multiyear.csv', encoding='utf-8', index=False)"
   ]
  },
  {
   "cell_type": "code",
   "execution_count": null,
   "id": "e85a35c5",
   "metadata": {},
   "outputs": [],
   "source": []
  }
 ],
 "metadata": {
  "kernelspec": {
   "display_name": "Python 3",
   "language": "python",
   "name": "python3"
  },
  "language_info": {
   "codemirror_mode": {
    "name": "ipython",
    "version": 3
   },
   "file_extension": ".py",
   "mimetype": "text/x-python",
   "name": "python",
   "nbconvert_exporter": "python",
   "pygments_lexer": "ipython3",
   "version": "3.8.8"
  }
 },
 "nbformat": 4,
 "nbformat_minor": 5
}
