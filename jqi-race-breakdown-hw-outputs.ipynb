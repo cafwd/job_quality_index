{
 "cells": [
  {
   "cell_type": "markdown",
   "id": "7c1bc220",
   "metadata": {},
   "source": [
    "# Notebook for Creating High Wage Outputs with Racial Demographics Breakdown"
   ]
  },
  {
   "cell_type": "markdown",
   "id": "c729415e",
   "metadata": {},
   "source": [
    "#### This notebook is currently written to create high wage outputs for 2020."
   ]
  },
  {
   "cell_type": "code",
   "execution_count": 1,
   "id": "f79691da",
   "metadata": {},
   "outputs": [],
   "source": [
    "import pandas as pd\n",
    "import numpy as np\n",
    "import matplotlib.pyplot as plt\n",
    "import string\n",
    "import warnings\n",
    "import os\n",
    "import re\n",
    "from tqdm.notebook import tqdm # for progress bar\n",
    "from jqi_functions import *\n",
    "warnings.filterwarnings('ignore')\n",
    "%config InlineBackend.figure_format='retina'"
   ]
  },
  {
   "cell_type": "markdown",
   "id": "c249b8ea",
   "metadata": {},
   "source": [
    "## Ensure that IPUMS data is in the proper file location\n",
    "\n",
    "The desired year for IPUMS data should live in the data folder, under `data/ipums` with the naming convention as `IPUMS_{YEAR}.csv`, where `{YEAR}` should match the year entered below.\n",
    "\n",
    "A full example for the file path would be `data/ipums/IPUMS_2020.csv`."
   ]
  },
  {
   "cell_type": "markdown",
   "id": "420231f6",
   "metadata": {},
   "source": [
    "## Set the desired EDD year, IPUMS year, and corresponding cost of living year."
   ]
  },
  {
   "cell_type": "code",
   "execution_count": 2,
   "id": "19d93f58",
   "metadata": {},
   "outputs": [],
   "source": [
    "edd_year = '2022'\n",
    "ipums_year = '2019'\n",
    "col_year = '2019'"
   ]
  },
  {
   "cell_type": "markdown",
   "id": "532b8578",
   "metadata": {},
   "source": [
    "## Creating IPUMS dataframe\n",
    "\n",
    "#### IPUMS Data\n",
    "`cleaned_ipums` is a function to generate a cleaned pandas dataframe using IPUMS data, filtering it down to California only and the desired year. By setting the `demo` parameter to True, the dataframe will also include the racial demographic information for each record in the dataset. The year needs to be entered in string format as a parameter."
   ]
  },
  {
   "cell_type": "code",
   "execution_count": 3,
   "id": "c6ef937a",
   "metadata": {},
   "outputs": [],
   "source": [
    "ca_ipums = cleaned_ipums(ipums_year, demo=True)"
   ]
  },
  {
   "cell_type": "markdown",
   "id": "edb0b21b",
   "metadata": {},
   "source": [
    "#### Cost of living needs to be updated each year."
   ]
  },
  {
   "cell_type": "code",
   "execution_count": 4,
   "id": "949f497d",
   "metadata": {},
   "outputs": [],
   "source": [
    "cost_of_living = pd.read_csv(f'data/cost_of_living/united-way-col-1A1PS1C{col_year}.csv')"
   ]
  },
  {
   "cell_type": "markdown",
   "id": "8d0eff00",
   "metadata": {},
   "source": [
    "### Create county lookup dataframe\n",
    "\n",
    "Expanding the `county_info` dataframe to include cost of living metrics. This dataframe is used when industry information in a geographic area is too sparse and the next largest geographic area needs to be used instead."
   ]
  },
  {
   "cell_type": "code",
   "execution_count": 5,
   "id": "779fbb44",
   "metadata": {},
   "outputs": [],
   "source": [
    "county_info = pd.read_csv('data/county_to_regions_key.csv')"
   ]
  },
  {
   "cell_type": "code",
   "execution_count": 6,
   "id": "4d21eccc",
   "metadata": {},
   "outputs": [],
   "source": [
    "county_info = county_info[['County', 'COUNTYFIP', 'Rural/Urban', 'CERF Regions', 'Population']]"
   ]
  },
  {
   "cell_type": "code",
   "execution_count": 7,
   "id": "42ced5d0",
   "metadata": {},
   "outputs": [],
   "source": [
    "county_info = pd.merge(county_info, cost_of_living, left_on = 'CERF Regions', right_on = 'Regions')"
   ]
  },
  {
   "cell_type": "code",
   "execution_count": 8,
   "id": "87a54943",
   "metadata": {},
   "outputs": [],
   "source": [
    "county_info = county_info.rename(columns = {'Cost of Living':'Regional COL'})\n",
    "county_info = county_info.drop(columns=['Regions'])"
   ]
  },
  {
   "cell_type": "code",
   "execution_count": 9,
   "id": "8e093dec",
   "metadata": {},
   "outputs": [],
   "source": [
    "county_info['State COL'] = cost_of_living.iloc[13][1]"
   ]
  },
  {
   "cell_type": "markdown",
   "id": "dc1dc6d4",
   "metadata": {},
   "source": [
    "View of final `county_info` dataframe."
   ]
  },
  {
   "cell_type": "code",
   "execution_count": 10,
   "id": "3b5f8509",
   "metadata": {},
   "outputs": [
    {
     "data": {
      "text/html": [
       "<div>\n",
       "<style scoped>\n",
       "    .dataframe tbody tr th:only-of-type {\n",
       "        vertical-align: middle;\n",
       "    }\n",
       "\n",
       "    .dataframe tbody tr th {\n",
       "        vertical-align: top;\n",
       "    }\n",
       "\n",
       "    .dataframe thead th {\n",
       "        text-align: right;\n",
       "    }\n",
       "</style>\n",
       "<table border=\"1\" class=\"dataframe\">\n",
       "  <thead>\n",
       "    <tr style=\"text-align: right;\">\n",
       "      <th></th>\n",
       "      <th>County</th>\n",
       "      <th>COUNTYFIP</th>\n",
       "      <th>Rural/Urban</th>\n",
       "      <th>CERF Regions</th>\n",
       "      <th>Population</th>\n",
       "      <th>Regional COL</th>\n",
       "      <th>State COL</th>\n",
       "    </tr>\n",
       "  </thead>\n",
       "  <tbody>\n",
       "    <tr>\n",
       "      <th>0</th>\n",
       "      <td>Alameda</td>\n",
       "      <td>1</td>\n",
       "      <td>Urban</td>\n",
       "      <td>Bay Area</td>\n",
       "      <td>1656754</td>\n",
       "      <td>97249</td>\n",
       "      <td>77555</td>\n",
       "    </tr>\n",
       "    <tr>\n",
       "      <th>1</th>\n",
       "      <td>Contra Costa</td>\n",
       "      <td>13</td>\n",
       "      <td>Urban</td>\n",
       "      <td>Bay Area</td>\n",
       "      <td>1142251</td>\n",
       "      <td>97249</td>\n",
       "      <td>77555</td>\n",
       "    </tr>\n",
       "    <tr>\n",
       "      <th>2</th>\n",
       "      <td>Solano</td>\n",
       "      <td>95</td>\n",
       "      <td>Urban</td>\n",
       "      <td>Bay Area</td>\n",
       "      <td>441829</td>\n",
       "      <td>97249</td>\n",
       "      <td>77555</td>\n",
       "    </tr>\n",
       "    <tr>\n",
       "      <th>3</th>\n",
       "      <td>San Mateo</td>\n",
       "      <td>81</td>\n",
       "      <td>Urban</td>\n",
       "      <td>Bay Area</td>\n",
       "      <td>767423</td>\n",
       "      <td>97249</td>\n",
       "      <td>77555</td>\n",
       "    </tr>\n",
       "    <tr>\n",
       "      <th>4</th>\n",
       "      <td>Santa Clara</td>\n",
       "      <td>85</td>\n",
       "      <td>Urban</td>\n",
       "      <td>Bay Area</td>\n",
       "      <td>1927470</td>\n",
       "      <td>97249</td>\n",
       "      <td>77555</td>\n",
       "    </tr>\n",
       "  </tbody>\n",
       "</table>\n",
       "</div>"
      ],
      "text/plain": [
       "         County  COUNTYFIP Rural/Urban CERF Regions  Population  Regional COL  \\\n",
       "0       Alameda          1       Urban     Bay Area     1656754         97249   \n",
       "1  Contra Costa         13       Urban     Bay Area     1142251         97249   \n",
       "2        Solano         95       Urban     Bay Area      441829         97249   \n",
       "3     San Mateo         81       Urban     Bay Area      767423         97249   \n",
       "4   Santa Clara         85       Urban     Bay Area     1927470         97249   \n",
       "\n",
       "   State COL  \n",
       "0      77555  \n",
       "1      77555  \n",
       "2      77555  \n",
       "3      77555  \n",
       "4      77555  "
      ]
     },
     "execution_count": 10,
     "metadata": {},
     "output_type": "execute_result"
    }
   ],
   "source": [
    "county_info.head()"
   ]
  },
  {
   "cell_type": "code",
   "execution_count": 11,
   "id": "a1e0e190",
   "metadata": {},
   "outputs": [],
   "source": [
    "ca_ipums = pd.merge(ca_ipums, county_info, on = 'COUNTYFIP')"
   ]
  },
  {
   "cell_type": "markdown",
   "id": "f403cf16",
   "metadata": {},
   "source": [
    "View of final `ca_ipums` dataframe."
   ]
  },
  {
   "cell_type": "code",
   "execution_count": 12,
   "id": "bd6110ba",
   "metadata": {},
   "outputs": [
    {
     "data": {
      "text/html": [
       "<div>\n",
       "<style scoped>\n",
       "    .dataframe tbody tr th:only-of-type {\n",
       "        vertical-align: middle;\n",
       "    }\n",
       "\n",
       "    .dataframe tbody tr th {\n",
       "        vertical-align: top;\n",
       "    }\n",
       "\n",
       "    .dataframe thead th {\n",
       "        text-align: right;\n",
       "    }\n",
       "</style>\n",
       "<table border=\"1\" class=\"dataframe\">\n",
       "  <thead>\n",
       "    <tr style=\"text-align: right;\">\n",
       "      <th></th>\n",
       "      <th>YEAR</th>\n",
       "      <th>COUNTYFIP</th>\n",
       "      <th>INDNAICS</th>\n",
       "      <th>PERWT</th>\n",
       "      <th>RACE</th>\n",
       "      <th>HISPAN</th>\n",
       "      <th>INCWAGE</th>\n",
       "      <th>NAICS Code</th>\n",
       "      <th>Industry Title</th>\n",
       "      <th>Industry</th>\n",
       "      <th>Crosswalk Value</th>\n",
       "      <th>County</th>\n",
       "      <th>Rural/Urban</th>\n",
       "      <th>CERF Regions</th>\n",
       "      <th>Population</th>\n",
       "      <th>Regional COL</th>\n",
       "      <th>State COL</th>\n",
       "    </tr>\n",
       "  </thead>\n",
       "  <tbody>\n",
       "    <tr>\n",
       "      <th>0</th>\n",
       "      <td>2019</td>\n",
       "      <td>37</td>\n",
       "      <td>4853</td>\n",
       "      <td>21.0</td>\n",
       "      <td>2</td>\n",
       "      <td>0</td>\n",
       "      <td>23100</td>\n",
       "      <td>4853</td>\n",
       "      <td>taxi and limousine service</td>\n",
       "      <td>taxi and limousine service</td>\n",
       "      <td>11</td>\n",
       "      <td>Los Angeles</td>\n",
       "      <td>Urban</td>\n",
       "      <td>Los Angeles</td>\n",
       "      <td>10081570</td>\n",
       "      <td>80216</td>\n",
       "      <td>77555</td>\n",
       "    </tr>\n",
       "    <tr>\n",
       "      <th>1</th>\n",
       "      <td>2019</td>\n",
       "      <td>37</td>\n",
       "      <td>4853</td>\n",
       "      <td>21.0</td>\n",
       "      <td>2</td>\n",
       "      <td>0</td>\n",
       "      <td>23100</td>\n",
       "      <td>4853</td>\n",
       "      <td>taxi and limousine service</td>\n",
       "      <td>taxi and limousine service</td>\n",
       "      <td>14</td>\n",
       "      <td>Los Angeles</td>\n",
       "      <td>Urban</td>\n",
       "      <td>Los Angeles</td>\n",
       "      <td>10081570</td>\n",
       "      <td>80216</td>\n",
       "      <td>77555</td>\n",
       "    </tr>\n",
       "    <tr>\n",
       "      <th>2</th>\n",
       "      <td>2019</td>\n",
       "      <td>37</td>\n",
       "      <td>4853</td>\n",
       "      <td>11.0</td>\n",
       "      <td>9</td>\n",
       "      <td>0</td>\n",
       "      <td>28000</td>\n",
       "      <td>4853</td>\n",
       "      <td>taxi and limousine service</td>\n",
       "      <td>taxi and limousine service</td>\n",
       "      <td>11</td>\n",
       "      <td>Los Angeles</td>\n",
       "      <td>Urban</td>\n",
       "      <td>Los Angeles</td>\n",
       "      <td>10081570</td>\n",
       "      <td>80216</td>\n",
       "      <td>77555</td>\n",
       "    </tr>\n",
       "    <tr>\n",
       "      <th>3</th>\n",
       "      <td>2019</td>\n",
       "      <td>37</td>\n",
       "      <td>4853</td>\n",
       "      <td>11.0</td>\n",
       "      <td>9</td>\n",
       "      <td>0</td>\n",
       "      <td>28000</td>\n",
       "      <td>4853</td>\n",
       "      <td>taxi and limousine service</td>\n",
       "      <td>taxi and limousine service</td>\n",
       "      <td>14</td>\n",
       "      <td>Los Angeles</td>\n",
       "      <td>Urban</td>\n",
       "      <td>Los Angeles</td>\n",
       "      <td>10081570</td>\n",
       "      <td>80216</td>\n",
       "      <td>77555</td>\n",
       "    </tr>\n",
       "    <tr>\n",
       "      <th>4</th>\n",
       "      <td>2019</td>\n",
       "      <td>37</td>\n",
       "      <td>4853</td>\n",
       "      <td>35.0</td>\n",
       "      <td>9</td>\n",
       "      <td>0</td>\n",
       "      <td>28000</td>\n",
       "      <td>4853</td>\n",
       "      <td>taxi and limousine service</td>\n",
       "      <td>taxi and limousine service</td>\n",
       "      <td>11</td>\n",
       "      <td>Los Angeles</td>\n",
       "      <td>Urban</td>\n",
       "      <td>Los Angeles</td>\n",
       "      <td>10081570</td>\n",
       "      <td>80216</td>\n",
       "      <td>77555</td>\n",
       "    </tr>\n",
       "  </tbody>\n",
       "</table>\n",
       "</div>"
      ],
      "text/plain": [
       "   YEAR  COUNTYFIP INDNAICS  PERWT  RACE  HISPAN  INCWAGE NAICS Code  \\\n",
       "0  2019         37     4853   21.0     2       0    23100       4853   \n",
       "1  2019         37     4853   21.0     2       0    23100       4853   \n",
       "2  2019         37     4853   11.0     9       0    28000       4853   \n",
       "3  2019         37     4853   11.0     9       0    28000       4853   \n",
       "4  2019         37     4853   35.0     9       0    28000       4853   \n",
       "\n",
       "               Industry Title                    Industry  Crosswalk Value  \\\n",
       "0  taxi and limousine service  taxi and limousine service               11   \n",
       "1  taxi and limousine service  taxi and limousine service               14   \n",
       "2  taxi and limousine service  taxi and limousine service               11   \n",
       "3  taxi and limousine service  taxi and limousine service               14   \n",
       "4  taxi and limousine service  taxi and limousine service               11   \n",
       "\n",
       "        County Rural/Urban CERF Regions  Population  Regional COL  State COL  \n",
       "0  Los Angeles       Urban  Los Angeles    10081570         80216      77555  \n",
       "1  Los Angeles       Urban  Los Angeles    10081570         80216      77555  \n",
       "2  Los Angeles       Urban  Los Angeles    10081570         80216      77555  \n",
       "3  Los Angeles       Urban  Los Angeles    10081570         80216      77555  \n",
       "4  Los Angeles       Urban  Los Angeles    10081570         80216      77555  "
      ]
     },
     "execution_count": 12,
     "metadata": {},
     "output_type": "execute_result"
    }
   ],
   "source": [
    "ca_ipums.head()"
   ]
  },
  {
   "cell_type": "markdown",
   "id": "c7db3387",
   "metadata": {},
   "source": [
    "## Create EDD Dataframe\n",
    "\n",
    "#### EDD Data\n",
    "The year for EDD data must be specified.\n",
    "\n",
    "These CSV files are filtered and cleaned versions of the raw EDD Current Employment Statistics dataset. These CSV files can be created for upcoming years with the notebook `multiyear-edd-data-creation.ipynb`"
   ]
  },
  {
   "cell_type": "code",
   "execution_count": 13,
   "id": "d8ecb93e",
   "metadata": {},
   "outputs": [],
   "source": [
    "edd = pd.read_csv(f'data/edd/edd_{edd_year}.csv')"
   ]
  },
  {
   "cell_type": "markdown",
   "id": "a4be1052",
   "metadata": {},
   "source": [
    "View of final `edd` dataframe."
   ]
  },
  {
   "cell_type": "code",
   "execution_count": 14,
   "id": "9ea25a07",
   "metadata": {},
   "outputs": [
    {
     "data": {
      "text/html": [
       "<div>\n",
       "<style scoped>\n",
       "    .dataframe tbody tr th:only-of-type {\n",
       "        vertical-align: middle;\n",
       "    }\n",
       "\n",
       "    .dataframe tbody tr th {\n",
       "        vertical-align: top;\n",
       "    }\n",
       "\n",
       "    .dataframe thead th {\n",
       "        text-align: right;\n",
       "    }\n",
       "</style>\n",
       "<table border=\"1\" class=\"dataframe\">\n",
       "  <thead>\n",
       "    <tr style=\"text-align: right;\">\n",
       "      <th></th>\n",
       "      <th>Area Type</th>\n",
       "      <th>Area Name</th>\n",
       "      <th>Year</th>\n",
       "      <th>Month</th>\n",
       "      <th>Date</th>\n",
       "      <th>Series Code</th>\n",
       "      <th>Seasonally Adjusted</th>\n",
       "      <th>Current Employment</th>\n",
       "      <th>Industry Title</th>\n",
       "      <th>COUNTYFIP</th>\n",
       "      <th>County</th>\n",
       "      <th>Rural/Urban</th>\n",
       "      <th>CERF Regions</th>\n",
       "      <th>Crosswalk Value</th>\n",
       "    </tr>\n",
       "  </thead>\n",
       "  <tbody>\n",
       "    <tr>\n",
       "      <th>0</th>\n",
       "      <td>County</td>\n",
       "      <td>Napa</td>\n",
       "      <td>2022</td>\n",
       "      <td>January</td>\n",
       "      <td>01/01/2022</td>\n",
       "      <td>60560000</td>\n",
       "      <td>N</td>\n",
       "      <td>3800</td>\n",
       "      <td>administrative and support and waste services</td>\n",
       "      <td>55</td>\n",
       "      <td>Napa</td>\n",
       "      <td>Rural</td>\n",
       "      <td>Bay Area</td>\n",
       "      <td>25</td>\n",
       "    </tr>\n",
       "    <tr>\n",
       "      <th>1</th>\n",
       "      <td>County</td>\n",
       "      <td>Napa</td>\n",
       "      <td>2022</td>\n",
       "      <td>February</td>\n",
       "      <td>02/01/2022</td>\n",
       "      <td>60560000</td>\n",
       "      <td>N</td>\n",
       "      <td>3900</td>\n",
       "      <td>administrative and support and waste services</td>\n",
       "      <td>55</td>\n",
       "      <td>Napa</td>\n",
       "      <td>Rural</td>\n",
       "      <td>Bay Area</td>\n",
       "      <td>25</td>\n",
       "    </tr>\n",
       "    <tr>\n",
       "      <th>2</th>\n",
       "      <td>County</td>\n",
       "      <td>Napa</td>\n",
       "      <td>2022</td>\n",
       "      <td>March</td>\n",
       "      <td>03/01/2022</td>\n",
       "      <td>60560000</td>\n",
       "      <td>N</td>\n",
       "      <td>3900</td>\n",
       "      <td>administrative and support and waste services</td>\n",
       "      <td>55</td>\n",
       "      <td>Napa</td>\n",
       "      <td>Rural</td>\n",
       "      <td>Bay Area</td>\n",
       "      <td>25</td>\n",
       "    </tr>\n",
       "    <tr>\n",
       "      <th>3</th>\n",
       "      <td>County</td>\n",
       "      <td>Napa</td>\n",
       "      <td>2022</td>\n",
       "      <td>April</td>\n",
       "      <td>04/01/2022</td>\n",
       "      <td>60560000</td>\n",
       "      <td>N</td>\n",
       "      <td>3900</td>\n",
       "      <td>administrative and support and waste services</td>\n",
       "      <td>55</td>\n",
       "      <td>Napa</td>\n",
       "      <td>Rural</td>\n",
       "      <td>Bay Area</td>\n",
       "      <td>25</td>\n",
       "    </tr>\n",
       "    <tr>\n",
       "      <th>4</th>\n",
       "      <td>County</td>\n",
       "      <td>Napa</td>\n",
       "      <td>2022</td>\n",
       "      <td>May</td>\n",
       "      <td>05/01/2022</td>\n",
       "      <td>60560000</td>\n",
       "      <td>N</td>\n",
       "      <td>3900</td>\n",
       "      <td>administrative and support and waste services</td>\n",
       "      <td>55</td>\n",
       "      <td>Napa</td>\n",
       "      <td>Rural</td>\n",
       "      <td>Bay Area</td>\n",
       "      <td>25</td>\n",
       "    </tr>\n",
       "  </tbody>\n",
       "</table>\n",
       "</div>"
      ],
      "text/plain": [
       "  Area Type Area Name  Year     Month        Date  Series Code  \\\n",
       "0    County      Napa  2022   January  01/01/2022     60560000   \n",
       "1    County      Napa  2022  February  02/01/2022     60560000   \n",
       "2    County      Napa  2022     March  03/01/2022     60560000   \n",
       "3    County      Napa  2022     April  04/01/2022     60560000   \n",
       "4    County      Napa  2022       May  05/01/2022     60560000   \n",
       "\n",
       "  Seasonally Adjusted  Current Employment  \\\n",
       "0                   N                3800   \n",
       "1                   N                3900   \n",
       "2                   N                3900   \n",
       "3                   N                3900   \n",
       "4                   N                3900   \n",
       "\n",
       "                                  Industry Title  COUNTYFIP County  \\\n",
       "0  administrative and support and waste services         55   Napa   \n",
       "1  administrative and support and waste services         55   Napa   \n",
       "2  administrative and support and waste services         55   Napa   \n",
       "3  administrative and support and waste services         55   Napa   \n",
       "4  administrative and support and waste services         55   Napa   \n",
       "\n",
       "  Rural/Urban CERF Regions  Crosswalk Value  \n",
       "0       Rural     Bay Area               25  \n",
       "1       Rural     Bay Area               25  \n",
       "2       Rural     Bay Area               25  \n",
       "3       Rural     Bay Area               25  \n",
       "4       Rural     Bay Area               25  "
      ]
     },
     "execution_count": 14,
     "metadata": {},
     "output_type": "execute_result"
    }
   ],
   "source": [
    "edd.head()"
   ]
  },
  {
   "cell_type": "markdown",
   "id": "16d61cbc",
   "metadata": {},
   "source": [
    "## Breakdown dataframes by race"
   ]
  },
  {
   "cell_type": "code",
   "execution_count": 15,
   "id": "d563f9f9",
   "metadata": {},
   "outputs": [],
   "source": [
    "ca_ipums_latino = ca_ipums.loc[ca_ipums['HISPAN'] != 0]\n",
    "ca_ipums_no_latino = ca_ipums.loc[ca_ipums['HISPAN'] == 0]\n",
    "ca_ipums_white = ca_ipums_no_latino.loc[ca_ipums_no_latino['RACE'] == 1]\n",
    "ca_ipums_black = ca_ipums_no_latino.loc[ca_ipums_no_latino['RACE'] == 2]\n",
    "ca_ipums_native = ca_ipums_no_latino.loc[ca_ipums_no_latino['RACE'] == 3]\n",
    "ca_ipums_asian = ca_ipums_no_latino.loc[(ca_ipums_no_latino['RACE'] == 4) |\n",
    "                                   (ca_ipums_no_latino['RACE'] == 5) |\n",
    "                                   (ca_ipums_no_latino['RACE'] == 6)]\n",
    "ca_ipums_other = ca_ipums_no_latino.loc[ca_ipums_no_latino['RACE'] == 7]\n",
    "ca_ipums_multi = ca_ipums_no_latino.loc[(ca_ipums_no_latino['RACE'] == 8) |\n",
    "                                   (ca_ipums_no_latino['RACE'] == 9)]"
   ]
  },
  {
   "cell_type": "code",
   "execution_count": 16,
   "id": "525e47c1",
   "metadata": {},
   "outputs": [],
   "source": [
    "wt_counts = {}\n",
    "for code in ca_ipums['Crosswalk Value'].unique():\n",
    "    code_copy = ca_ipums.loc[ca_ipums['Crosswalk Value'] == code].copy()\n",
    "    wt_counts[code] = code_copy['PERWT'].sum()"
   ]
  },
  {
   "cell_type": "code",
   "execution_count": 17,
   "id": "be7d348c",
   "metadata": {},
   "outputs": [],
   "source": [
    "def append_race_ratio(df, wt_counts):\n",
    "    df['race_ratio'] = 0\n",
    "    for code in df['Crosswalk Value'].unique():\n",
    "        perwt = df['PERWT'][df['Crosswalk Value'] == code].sum()\n",
    "        df['race_ratio'][df['Crosswalk Value'] == code] = perwt / wt_counts[code]\n",
    "    return df"
   ]
  },
  {
   "cell_type": "code",
   "execution_count": 18,
   "id": "2c317fea",
   "metadata": {},
   "outputs": [],
   "source": [
    "ca_ipums_white = append_race_ratio(ca_ipums_white, wt_counts)"
   ]
  },
  {
   "cell_type": "code",
   "execution_count": 19,
   "id": "522fe70d",
   "metadata": {},
   "outputs": [],
   "source": [
    "ca_ipums_latino = append_race_ratio(ca_ipums_latino, wt_counts)"
   ]
  },
  {
   "cell_type": "code",
   "execution_count": 20,
   "id": "841e9bc7",
   "metadata": {},
   "outputs": [],
   "source": [
    "ca_ipums_black = append_race_ratio(ca_ipums_black, wt_counts)"
   ]
  },
  {
   "cell_type": "code",
   "execution_count": 21,
   "id": "a04f2559",
   "metadata": {},
   "outputs": [],
   "source": [
    "ca_ipums_native = append_race_ratio(ca_ipums_native, wt_counts)"
   ]
  },
  {
   "cell_type": "code",
   "execution_count": 22,
   "id": "52e772b7",
   "metadata": {},
   "outputs": [],
   "source": [
    "ca_ipums_asian = append_race_ratio(ca_ipums_asian, wt_counts)"
   ]
  },
  {
   "cell_type": "code",
   "execution_count": 23,
   "id": "187ff312",
   "metadata": {},
   "outputs": [],
   "source": [
    "ca_ipums_other = append_race_ratio(ca_ipums_other, wt_counts)"
   ]
  },
  {
   "cell_type": "code",
   "execution_count": 24,
   "id": "95f7f1e0",
   "metadata": {},
   "outputs": [],
   "source": [
    "ca_ipums_multi = append_race_ratio(ca_ipums_multi, wt_counts)"
   ]
  },
  {
   "cell_type": "markdown",
   "id": "43de3e7f",
   "metadata": {},
   "source": [
    "## Add High Wage Features\n",
    "\n",
    "`add_geo_high_wages` is a function that adds the following engineered features:\n",
    "- Above Threshold (Number of records above respective cost of living threshold)\n",
    "- Weighted above threshold (Above Threshold multiplied by person weight variable)\n",
    "- Unweighted industry counts (Number of records in that industry)\n",
    "- Weighted industry counts (Sum of person weight values in that industry)\n",
    "- Weighted high wage percentage (Weighted Above Threshold divided by Weighted Industry Counts as a percentage)\n",
    "\n",
    "The features are created for the following geographical levels:\n",
    "- Region\n",
    "- California"
   ]
  },
  {
   "cell_type": "code",
   "execution_count": 25,
   "id": "a10e163b",
   "metadata": {},
   "outputs": [],
   "source": [
    "ca_ipums_hw_white = add_geo_high_wages(ca_ipums_white)\n",
    "ca_ipums_hw_latino = add_geo_high_wages(ca_ipums_latino)\n",
    "ca_ipums_hw_black = add_geo_high_wages(ca_ipums_black)\n",
    "ca_ipums_hw_native = add_geo_high_wages(ca_ipums_native)\n",
    "ca_ipums_hw_asian = add_geo_high_wages(ca_ipums_asian)\n",
    "ca_ipums_hw_other = add_geo_high_wages(ca_ipums_other)\n",
    "ca_ipums_hw_multi = add_geo_high_wages(ca_ipums_multi)"
   ]
  },
  {
   "cell_type": "markdown",
   "id": "cf05bec2",
   "metadata": {},
   "source": [
    "## Create High Wage Outputs Dataframe\n",
    "\n",
    "`edd_to_hw` is the function that outputs the values needed to create the high wage output dataframe. This portion of the notebook runs through every unique combination of region, industry, and date, to get that respective output and add it to the dataframe.\n",
    "\n",
    "Because of the nested structure of the EDD industries, only a small selection of EDD industries can be used to ensure that individuals in nested industries are not counted twice. The selection of these industries different per region, so the series code of each industry is documented in the `region_series_codes` global variable in the `jqi_functions.py` library. Each of these codes were then assigned their own crosswalk value, which align with each crosswalk value assigned to each IPUMS industry. For generating high wage outputs, we only iterate through the EDD industries that have been selected and have a designated crosswalk value.\n",
    "\n",
    "Getting unique values for each region, industry, and date."
   ]
  },
  {
   "cell_type": "code",
   "execution_count": 26,
   "id": "fba372bc",
   "metadata": {},
   "outputs": [],
   "source": [
    "regions_ipums = ca_ipums['CERF Regions'].unique()"
   ]
  },
  {
   "cell_type": "code",
   "execution_count": 27,
   "id": "78e369cf",
   "metadata": {},
   "outputs": [],
   "source": [
    "crosswalk_vals = sorted(edd['Crosswalk Value'].unique())"
   ]
  },
  {
   "cell_type": "code",
   "execution_count": 28,
   "id": "574ec2e6",
   "metadata": {},
   "outputs": [],
   "source": [
    "dates_edd = edd['Date'].unique()"
   ]
  },
  {
   "cell_type": "markdown",
   "id": "ef86679e",
   "metadata": {},
   "source": [
    "#### White"
   ]
  },
  {
   "cell_type": "code",
   "execution_count": 29,
   "id": "b090597d",
   "metadata": {},
   "outputs": [],
   "source": [
    "industries = []\n",
    "dates = []\n",
    "regions = []\n",
    "counts = []\n",
    "emp_counts = []"
   ]
  },
  {
   "cell_type": "markdown",
   "id": "5be1fb92",
   "metadata": {},
   "source": [
    "For loop to populate lists for the high wage outputs. This will take some time to finish running."
   ]
  },
  {
   "cell_type": "code",
   "execution_count": 30,
   "id": "8201dd2e",
   "metadata": {},
   "outputs": [
    {
     "data": {
      "application/vnd.jupyter.widget-view+json": {
       "model_id": "630db1ac5d834a33b60ea4af61efb617",
       "version_major": 2,
       "version_minor": 0
      },
      "text/plain": [
       "  0%|          | 0/12 [00:00<?, ?it/s]"
      ]
     },
     "metadata": {},
     "output_type": "display_data"
    }
   ],
   "source": [
    "for region in tqdm(regions_ipums):\n",
    "    for code in crosswalk_vals:\n",
    "        for date in dates_edd:\n",
    "            hw_count, hw_perc, employment_count, industry = edd_to_hw(edd, ca_ipums_hw_white, region, code, date, 10)\n",
    "            industries.append(industry)\n",
    "            dates.append(date)\n",
    "            regions.append(region)\n",
    "            counts.append(hw_count)\n",
    "            emp_counts.append(employment_count)"
   ]
  },
  {
   "cell_type": "markdown",
   "id": "cc91880f",
   "metadata": {},
   "source": [
    "Creating a cleaned dataframe from the output lists."
   ]
  },
  {
   "cell_type": "code",
   "execution_count": 31,
   "id": "6b0ff3f5",
   "metadata": {},
   "outputs": [],
   "source": [
    "df_dict_white = {'Industry':industries, 'Date':dates, 'Region':regions, 'High Wage Count':counts, 'Employment Count':emp_counts}\n",
    "hw_output_white = pd.DataFrame(df_dict_white)\n",
    "hw_output_white = hw_output_white[hw_output_white['Industry'].notna()]\n",
    "hw_output_white['Date']= pd.to_datetime(hw_output_white['Date'])\n",
    "hw_output_white['High Wage Count'] = hw_output_white['High Wage Count'].astype(int)\n",
    "hw_output_white = hw_output_white.sort_values(by=['Industry', 'Region', 'Date'])\n",
    "hw_output_white = pd.merge(hw_output_white, cost_of_living, left_on='Region', right_on='Regions')\n",
    "hw_output_white = hw_output_white[['Industry', 'Date', 'Region', 'High Wage Count', 'Employment Count', 'Cost of Living']]\n",
    "hw_output_white = hw_output_white.drop_duplicates()\n",
    "hw_output_white['Output Race'] = 'White'"
   ]
  },
  {
   "cell_type": "markdown",
   "id": "33925f5b",
   "metadata": {},
   "source": [
    "View of final `hw_output_white` dataframe."
   ]
  },
  {
   "cell_type": "code",
   "execution_count": 32,
   "id": "7e5ab1b5",
   "metadata": {},
   "outputs": [
    {
     "data": {
      "text/html": [
       "<div>\n",
       "<style scoped>\n",
       "    .dataframe tbody tr th:only-of-type {\n",
       "        vertical-align: middle;\n",
       "    }\n",
       "\n",
       "    .dataframe tbody tr th {\n",
       "        vertical-align: top;\n",
       "    }\n",
       "\n",
       "    .dataframe thead th {\n",
       "        text-align: right;\n",
       "    }\n",
       "</style>\n",
       "<table border=\"1\" class=\"dataframe\">\n",
       "  <thead>\n",
       "    <tr style=\"text-align: right;\">\n",
       "      <th></th>\n",
       "      <th>Industry</th>\n",
       "      <th>Date</th>\n",
       "      <th>Region</th>\n",
       "      <th>High Wage Count</th>\n",
       "      <th>Employment Count</th>\n",
       "      <th>Cost of Living</th>\n",
       "      <th>Output Race</th>\n",
       "    </tr>\n",
       "  </thead>\n",
       "  <tbody>\n",
       "    <tr>\n",
       "      <th>0</th>\n",
       "      <td>accommodation and food services</td>\n",
       "      <td>2022-01-01</td>\n",
       "      <td>Kern</td>\n",
       "      <td>968</td>\n",
       "      <td>24200.0</td>\n",
       "      <td>54862</td>\n",
       "      <td>White</td>\n",
       "    </tr>\n",
       "    <tr>\n",
       "      <th>1</th>\n",
       "      <td>accommodation and food services</td>\n",
       "      <td>2022-02-01</td>\n",
       "      <td>Kern</td>\n",
       "      <td>980</td>\n",
       "      <td>24500.0</td>\n",
       "      <td>54862</td>\n",
       "      <td>White</td>\n",
       "    </tr>\n",
       "    <tr>\n",
       "      <th>2</th>\n",
       "      <td>accommodation and food services</td>\n",
       "      <td>2022-03-01</td>\n",
       "      <td>Kern</td>\n",
       "      <td>992</td>\n",
       "      <td>24800.0</td>\n",
       "      <td>54862</td>\n",
       "      <td>White</td>\n",
       "    </tr>\n",
       "    <tr>\n",
       "      <th>3</th>\n",
       "      <td>accommodation and food services</td>\n",
       "      <td>2022-04-01</td>\n",
       "      <td>Kern</td>\n",
       "      <td>996</td>\n",
       "      <td>24900.0</td>\n",
       "      <td>54862</td>\n",
       "      <td>White</td>\n",
       "    </tr>\n",
       "    <tr>\n",
       "      <th>4</th>\n",
       "      <td>accommodation and food services</td>\n",
       "      <td>2022-05-01</td>\n",
       "      <td>Kern</td>\n",
       "      <td>992</td>\n",
       "      <td>24800.0</td>\n",
       "      <td>54862</td>\n",
       "      <td>White</td>\n",
       "    </tr>\n",
       "  </tbody>\n",
       "</table>\n",
       "</div>"
      ],
      "text/plain": [
       "                          Industry       Date Region  High Wage Count  \\\n",
       "0  accommodation and food services 2022-01-01   Kern              968   \n",
       "1  accommodation and food services 2022-02-01   Kern              980   \n",
       "2  accommodation and food services 2022-03-01   Kern              992   \n",
       "3  accommodation and food services 2022-04-01   Kern              996   \n",
       "4  accommodation and food services 2022-05-01   Kern              992   \n",
       "\n",
       "   Employment Count  Cost of Living Output Race  \n",
       "0           24200.0           54862       White  \n",
       "1           24500.0           54862       White  \n",
       "2           24800.0           54862       White  \n",
       "3           24900.0           54862       White  \n",
       "4           24800.0           54862       White  "
      ]
     },
     "execution_count": 32,
     "metadata": {},
     "output_type": "execute_result"
    }
   ],
   "source": [
    "hw_output_white.head()"
   ]
  },
  {
   "cell_type": "markdown",
   "id": "10f7a78f",
   "metadata": {},
   "source": [
    "#### Latino"
   ]
  },
  {
   "cell_type": "code",
   "execution_count": 33,
   "id": "b69e6a7a",
   "metadata": {},
   "outputs": [],
   "source": [
    "industries = []\n",
    "dates = []\n",
    "regions = []\n",
    "counts = []\n",
    "emp_counts = []"
   ]
  },
  {
   "cell_type": "markdown",
   "id": "1d491e9f",
   "metadata": {},
   "source": [
    "For loop to populate lists for the high wage outputs. This will take some time to finish running."
   ]
  },
  {
   "cell_type": "code",
   "execution_count": 34,
   "id": "c5c302cc",
   "metadata": {},
   "outputs": [
    {
     "data": {
      "application/vnd.jupyter.widget-view+json": {
       "model_id": "cf05a4cb61dd410685498583ecdee4da",
       "version_major": 2,
       "version_minor": 0
      },
      "text/plain": [
       "  0%|          | 0/12 [00:00<?, ?it/s]"
      ]
     },
     "metadata": {},
     "output_type": "display_data"
    }
   ],
   "source": [
    "for region in tqdm(regions_ipums):\n",
    "    for code in crosswalk_vals:\n",
    "        for date in dates_edd:\n",
    "            hw_count, hw_perc, employment_count, industry = edd_to_hw(edd, ca_ipums_hw_latino, region, code, date, 10)\n",
    "            industries.append(industry)\n",
    "            dates.append(date)\n",
    "            regions.append(region)\n",
    "            counts.append(hw_count)\n",
    "            emp_counts.append(employment_count)"
   ]
  },
  {
   "cell_type": "markdown",
   "id": "a73b3912",
   "metadata": {},
   "source": [
    "Creating a cleaned dataframe from the output lists."
   ]
  },
  {
   "cell_type": "code",
   "execution_count": 35,
   "id": "9a67f4e7",
   "metadata": {},
   "outputs": [],
   "source": [
    "df_dict_latino = {'Industry':industries, 'Date':dates, 'Region':regions, 'High Wage Count':counts, 'Employment Count':emp_counts}\n",
    "hw_output_latino = pd.DataFrame(df_dict_latino)\n",
    "hw_output_latino = hw_output_latino[hw_output_latino['Industry'].notna()]\n",
    "hw_output_latino['Date']= pd.to_datetime(hw_output_latino['Date'])\n",
    "hw_output_latino['High Wage Count'] = hw_output_latino['High Wage Count'].astype(int)\n",
    "hw_output_latino = hw_output_latino.sort_values(by=['Industry', 'Region', 'Date'])\n",
    "hw_output_latino = pd.merge(hw_output_latino, cost_of_living, left_on='Region', right_on='Regions')\n",
    "hw_output_latino = hw_output_latino[['Industry', 'Date', 'Region', 'High Wage Count', 'Employment Count', 'Cost of Living']]\n",
    "hw_output_latino = hw_output_latino.drop_duplicates()\n",
    "hw_output_latino['Output Race'] = 'Latino'"
   ]
  },
  {
   "cell_type": "markdown",
   "id": "833f1961",
   "metadata": {},
   "source": [
    "View of final `hw_output_latino` dataframe."
   ]
  },
  {
   "cell_type": "code",
   "execution_count": 36,
   "id": "4f1adc48",
   "metadata": {},
   "outputs": [
    {
     "data": {
      "text/html": [
       "<div>\n",
       "<style scoped>\n",
       "    .dataframe tbody tr th:only-of-type {\n",
       "        vertical-align: middle;\n",
       "    }\n",
       "\n",
       "    .dataframe tbody tr th {\n",
       "        vertical-align: top;\n",
       "    }\n",
       "\n",
       "    .dataframe thead th {\n",
       "        text-align: right;\n",
       "    }\n",
       "</style>\n",
       "<table border=\"1\" class=\"dataframe\">\n",
       "  <thead>\n",
       "    <tr style=\"text-align: right;\">\n",
       "      <th></th>\n",
       "      <th>Industry</th>\n",
       "      <th>Date</th>\n",
       "      <th>Region</th>\n",
       "      <th>High Wage Count</th>\n",
       "      <th>Employment Count</th>\n",
       "      <th>Cost of Living</th>\n",
       "      <th>Output Race</th>\n",
       "    </tr>\n",
       "  </thead>\n",
       "  <tbody>\n",
       "    <tr>\n",
       "      <th>0</th>\n",
       "      <td>accommodation and food services</td>\n",
       "      <td>2022-01-01</td>\n",
       "      <td>Kern</td>\n",
       "      <td>0</td>\n",
       "      <td>24200.0</td>\n",
       "      <td>54862</td>\n",
       "      <td>Latino</td>\n",
       "    </tr>\n",
       "    <tr>\n",
       "      <th>1</th>\n",
       "      <td>accommodation and food services</td>\n",
       "      <td>2022-02-01</td>\n",
       "      <td>Kern</td>\n",
       "      <td>0</td>\n",
       "      <td>24500.0</td>\n",
       "      <td>54862</td>\n",
       "      <td>Latino</td>\n",
       "    </tr>\n",
       "    <tr>\n",
       "      <th>2</th>\n",
       "      <td>accommodation and food services</td>\n",
       "      <td>2022-03-01</td>\n",
       "      <td>Kern</td>\n",
       "      <td>0</td>\n",
       "      <td>24800.0</td>\n",
       "      <td>54862</td>\n",
       "      <td>Latino</td>\n",
       "    </tr>\n",
       "    <tr>\n",
       "      <th>3</th>\n",
       "      <td>accommodation and food services</td>\n",
       "      <td>2022-04-01</td>\n",
       "      <td>Kern</td>\n",
       "      <td>0</td>\n",
       "      <td>24900.0</td>\n",
       "      <td>54862</td>\n",
       "      <td>Latino</td>\n",
       "    </tr>\n",
       "    <tr>\n",
       "      <th>4</th>\n",
       "      <td>accommodation and food services</td>\n",
       "      <td>2022-05-01</td>\n",
       "      <td>Kern</td>\n",
       "      <td>0</td>\n",
       "      <td>24800.0</td>\n",
       "      <td>54862</td>\n",
       "      <td>Latino</td>\n",
       "    </tr>\n",
       "  </tbody>\n",
       "</table>\n",
       "</div>"
      ],
      "text/plain": [
       "                          Industry       Date Region  High Wage Count  \\\n",
       "0  accommodation and food services 2022-01-01   Kern                0   \n",
       "1  accommodation and food services 2022-02-01   Kern                0   \n",
       "2  accommodation and food services 2022-03-01   Kern                0   \n",
       "3  accommodation and food services 2022-04-01   Kern                0   \n",
       "4  accommodation and food services 2022-05-01   Kern                0   \n",
       "\n",
       "   Employment Count  Cost of Living Output Race  \n",
       "0           24200.0           54862      Latino  \n",
       "1           24500.0           54862      Latino  \n",
       "2           24800.0           54862      Latino  \n",
       "3           24900.0           54862      Latino  \n",
       "4           24800.0           54862      Latino  "
      ]
     },
     "execution_count": 36,
     "metadata": {},
     "output_type": "execute_result"
    }
   ],
   "source": [
    "hw_output_latino.head()"
   ]
  },
  {
   "cell_type": "markdown",
   "id": "63fe7902",
   "metadata": {},
   "source": [
    "#### Black"
   ]
  },
  {
   "cell_type": "code",
   "execution_count": 37,
   "id": "5a09f836",
   "metadata": {},
   "outputs": [],
   "source": [
    "industries = []\n",
    "dates = []\n",
    "regions = []\n",
    "counts = []\n",
    "emp_counts = []"
   ]
  },
  {
   "cell_type": "markdown",
   "id": "1bfbb0b7",
   "metadata": {},
   "source": [
    "For loop to populate lists for the high wage outputs. This will take some time to finish running."
   ]
  },
  {
   "cell_type": "code",
   "execution_count": 38,
   "id": "08393100",
   "metadata": {},
   "outputs": [
    {
     "data": {
      "application/vnd.jupyter.widget-view+json": {
       "model_id": "bdb1c440b7e5455f88413a6f8090a30a",
       "version_major": 2,
       "version_minor": 0
      },
      "text/plain": [
       "  0%|          | 0/12 [00:00<?, ?it/s]"
      ]
     },
     "metadata": {},
     "output_type": "display_data"
    }
   ],
   "source": [
    "for region in tqdm(regions_ipums):\n",
    "    for code in crosswalk_vals:\n",
    "        for date in dates_edd:\n",
    "            hw_count, hw_perc, employment_count, industry = edd_to_hw(edd, ca_ipums_hw_black, region, code, date, 10)\n",
    "            industries.append(industry)\n",
    "            dates.append(date)\n",
    "            regions.append(region)\n",
    "            counts.append(hw_count)\n",
    "            emp_counts.append(employment_count)"
   ]
  },
  {
   "cell_type": "markdown",
   "id": "01894506",
   "metadata": {},
   "source": [
    "Creating a cleaned dataframe from the output lists."
   ]
  },
  {
   "cell_type": "code",
   "execution_count": 39,
   "id": "bcbcc7e4",
   "metadata": {},
   "outputs": [],
   "source": [
    "df_dict_black = {'Industry':industries, 'Date':dates, 'Region':regions, 'High Wage Count':counts, 'Employment Count':emp_counts}\n",
    "hw_output_black = pd.DataFrame(df_dict_black)\n",
    "hw_output_black = hw_output_black[hw_output_black['Industry'].notna()]\n",
    "hw_output_black['Date']= pd.to_datetime(hw_output_black['Date'])\n",
    "hw_output_black['High Wage Count'] = hw_output_black['High Wage Count'].astype(int)\n",
    "hw_output_black = hw_output_black.sort_values(by=['Industry', 'Region', 'Date'])\n",
    "hw_output_black = pd.merge(hw_output_black, cost_of_living, left_on='Region', right_on='Regions')\n",
    "hw_output_black = hw_output_black[['Industry', 'Date', 'Region', 'High Wage Count', 'Employment Count', 'Cost of Living']]\n",
    "hw_output_black = hw_output_black.drop_duplicates()\n",
    "hw_output_black['Output Race'] = 'Black'"
   ]
  },
  {
   "cell_type": "markdown",
   "id": "86a3dbf9",
   "metadata": {},
   "source": [
    "View of final `hw_output_black` dataframe."
   ]
  },
  {
   "cell_type": "code",
   "execution_count": 40,
   "id": "368c2fcb",
   "metadata": {},
   "outputs": [
    {
     "data": {
      "text/html": [
       "<div>\n",
       "<style scoped>\n",
       "    .dataframe tbody tr th:only-of-type {\n",
       "        vertical-align: middle;\n",
       "    }\n",
       "\n",
       "    .dataframe tbody tr th {\n",
       "        vertical-align: top;\n",
       "    }\n",
       "\n",
       "    .dataframe thead th {\n",
       "        text-align: right;\n",
       "    }\n",
       "</style>\n",
       "<table border=\"1\" class=\"dataframe\">\n",
       "  <thead>\n",
       "    <tr style=\"text-align: right;\">\n",
       "      <th></th>\n",
       "      <th>Industry</th>\n",
       "      <th>Date</th>\n",
       "      <th>Region</th>\n",
       "      <th>High Wage Count</th>\n",
       "      <th>Employment Count</th>\n",
       "      <th>Cost of Living</th>\n",
       "      <th>Output Race</th>\n",
       "    </tr>\n",
       "  </thead>\n",
       "  <tbody>\n",
       "    <tr>\n",
       "      <th>0</th>\n",
       "      <td>accommodation and food services</td>\n",
       "      <td>2022-01-01</td>\n",
       "      <td>Kern</td>\n",
       "      <td>1162</td>\n",
       "      <td>24200.0</td>\n",
       "      <td>54862</td>\n",
       "      <td>Black</td>\n",
       "    </tr>\n",
       "    <tr>\n",
       "      <th>1</th>\n",
       "      <td>accommodation and food services</td>\n",
       "      <td>2022-02-01</td>\n",
       "      <td>Kern</td>\n",
       "      <td>1177</td>\n",
       "      <td>24500.0</td>\n",
       "      <td>54862</td>\n",
       "      <td>Black</td>\n",
       "    </tr>\n",
       "    <tr>\n",
       "      <th>2</th>\n",
       "      <td>accommodation and food services</td>\n",
       "      <td>2022-03-01</td>\n",
       "      <td>Kern</td>\n",
       "      <td>1191</td>\n",
       "      <td>24800.0</td>\n",
       "      <td>54862</td>\n",
       "      <td>Black</td>\n",
       "    </tr>\n",
       "    <tr>\n",
       "      <th>3</th>\n",
       "      <td>accommodation and food services</td>\n",
       "      <td>2022-04-01</td>\n",
       "      <td>Kern</td>\n",
       "      <td>1196</td>\n",
       "      <td>24900.0</td>\n",
       "      <td>54862</td>\n",
       "      <td>Black</td>\n",
       "    </tr>\n",
       "    <tr>\n",
       "      <th>4</th>\n",
       "      <td>accommodation and food services</td>\n",
       "      <td>2022-05-01</td>\n",
       "      <td>Kern</td>\n",
       "      <td>1191</td>\n",
       "      <td>24800.0</td>\n",
       "      <td>54862</td>\n",
       "      <td>Black</td>\n",
       "    </tr>\n",
       "  </tbody>\n",
       "</table>\n",
       "</div>"
      ],
      "text/plain": [
       "                          Industry       Date Region  High Wage Count  \\\n",
       "0  accommodation and food services 2022-01-01   Kern             1162   \n",
       "1  accommodation and food services 2022-02-01   Kern             1177   \n",
       "2  accommodation and food services 2022-03-01   Kern             1191   \n",
       "3  accommodation and food services 2022-04-01   Kern             1196   \n",
       "4  accommodation and food services 2022-05-01   Kern             1191   \n",
       "\n",
       "   Employment Count  Cost of Living Output Race  \n",
       "0           24200.0           54862       Black  \n",
       "1           24500.0           54862       Black  \n",
       "2           24800.0           54862       Black  \n",
       "3           24900.0           54862       Black  \n",
       "4           24800.0           54862       Black  "
      ]
     },
     "execution_count": 40,
     "metadata": {},
     "output_type": "execute_result"
    }
   ],
   "source": [
    "hw_output_black.head()"
   ]
  },
  {
   "cell_type": "markdown",
   "id": "131abcb8",
   "metadata": {},
   "source": [
    "#### American Indian/Alaska Native"
   ]
  },
  {
   "cell_type": "code",
   "execution_count": 41,
   "id": "0449573d",
   "metadata": {},
   "outputs": [],
   "source": [
    "industries = []\n",
    "dates = []\n",
    "regions = []\n",
    "counts = []\n",
    "emp_counts = []"
   ]
  },
  {
   "cell_type": "markdown",
   "id": "8014ad16",
   "metadata": {},
   "source": [
    "For loop to populate lists for the high wage outputs. This will take some time to finish running."
   ]
  },
  {
   "cell_type": "code",
   "execution_count": 42,
   "id": "0350b493",
   "metadata": {},
   "outputs": [
    {
     "data": {
      "application/vnd.jupyter.widget-view+json": {
       "model_id": "7c2c4aec1c7b411783bc0d97911d8ea5",
       "version_major": 2,
       "version_minor": 0
      },
      "text/plain": [
       "  0%|          | 0/12 [00:00<?, ?it/s]"
      ]
     },
     "metadata": {},
     "output_type": "display_data"
    }
   ],
   "source": [
    "for region in tqdm(regions_ipums):\n",
    "    for code in crosswalk_vals:\n",
    "        for date in dates_edd:\n",
    "            hw_count, hw_perc, employment_count, industry = edd_to_hw(edd, ca_ipums_hw_native, region, code, date, 10)\n",
    "            industries.append(industry)\n",
    "            dates.append(date)\n",
    "            regions.append(region)\n",
    "            counts.append(hw_count)\n",
    "            emp_counts.append(employment_count)"
   ]
  },
  {
   "cell_type": "markdown",
   "id": "361e53e7",
   "metadata": {},
   "source": [
    "Creating a cleaned dataframe from the output lists."
   ]
  },
  {
   "cell_type": "code",
   "execution_count": 43,
   "id": "172f8a77",
   "metadata": {},
   "outputs": [],
   "source": [
    "df_dict_native = {'Industry':industries, 'Date':dates, 'Region':regions, 'High Wage Count':counts, 'Employment Count':emp_counts}\n",
    "hw_output_native = pd.DataFrame(df_dict_native)\n",
    "hw_output_native = hw_output_native[hw_output_native['Industry'].notna()]\n",
    "hw_output_native['Date']= pd.to_datetime(hw_output_native['Date'])\n",
    "hw_output_native['High Wage Count'] = hw_output_native['High Wage Count'].astype(int)\n",
    "hw_output_native = hw_output_native.sort_values(by=['Industry', 'Region', 'Date'])\n",
    "hw_output_native = pd.merge(hw_output_native, cost_of_living, left_on='Region', right_on='Regions')\n",
    "hw_output_native = hw_output_native[['Industry', 'Date', 'Region', 'High Wage Count', 'Employment Count', 'Cost of Living']]\n",
    "hw_output_native = hw_output_native.drop_duplicates()\n",
    "hw_output_native['Output Race'] = 'American Indian/Alaska Native'"
   ]
  },
  {
   "cell_type": "markdown",
   "id": "3e810b4e",
   "metadata": {},
   "source": [
    "View of final `hw_output_native` dataframe."
   ]
  },
  {
   "cell_type": "code",
   "execution_count": 44,
   "id": "c878c991",
   "metadata": {},
   "outputs": [
    {
     "data": {
      "text/html": [
       "<div>\n",
       "<style scoped>\n",
       "    .dataframe tbody tr th:only-of-type {\n",
       "        vertical-align: middle;\n",
       "    }\n",
       "\n",
       "    .dataframe tbody tr th {\n",
       "        vertical-align: top;\n",
       "    }\n",
       "\n",
       "    .dataframe thead th {\n",
       "        text-align: right;\n",
       "    }\n",
       "</style>\n",
       "<table border=\"1\" class=\"dataframe\">\n",
       "  <thead>\n",
       "    <tr style=\"text-align: right;\">\n",
       "      <th></th>\n",
       "      <th>Industry</th>\n",
       "      <th>Date</th>\n",
       "      <th>Region</th>\n",
       "      <th>High Wage Count</th>\n",
       "      <th>Employment Count</th>\n",
       "      <th>Cost of Living</th>\n",
       "      <th>Output Race</th>\n",
       "    </tr>\n",
       "  </thead>\n",
       "  <tbody>\n",
       "    <tr>\n",
       "      <th>0</th>\n",
       "      <td>accommodation and food services</td>\n",
       "      <td>2022-01-01</td>\n",
       "      <td>Kern</td>\n",
       "      <td>2975</td>\n",
       "      <td>24200.0</td>\n",
       "      <td>54862</td>\n",
       "      <td>American Indian/Alaska Native</td>\n",
       "    </tr>\n",
       "    <tr>\n",
       "      <th>1</th>\n",
       "      <td>accommodation and food services</td>\n",
       "      <td>2022-02-01</td>\n",
       "      <td>Kern</td>\n",
       "      <td>3012</td>\n",
       "      <td>24500.0</td>\n",
       "      <td>54862</td>\n",
       "      <td>American Indian/Alaska Native</td>\n",
       "    </tr>\n",
       "    <tr>\n",
       "      <th>2</th>\n",
       "      <td>accommodation and food services</td>\n",
       "      <td>2022-03-01</td>\n",
       "      <td>Kern</td>\n",
       "      <td>3049</td>\n",
       "      <td>24800.0</td>\n",
       "      <td>54862</td>\n",
       "      <td>American Indian/Alaska Native</td>\n",
       "    </tr>\n",
       "    <tr>\n",
       "      <th>3</th>\n",
       "      <td>accommodation and food services</td>\n",
       "      <td>2022-04-01</td>\n",
       "      <td>Kern</td>\n",
       "      <td>3061</td>\n",
       "      <td>24900.0</td>\n",
       "      <td>54862</td>\n",
       "      <td>American Indian/Alaska Native</td>\n",
       "    </tr>\n",
       "    <tr>\n",
       "      <th>4</th>\n",
       "      <td>accommodation and food services</td>\n",
       "      <td>2022-05-01</td>\n",
       "      <td>Kern</td>\n",
       "      <td>3049</td>\n",
       "      <td>24800.0</td>\n",
       "      <td>54862</td>\n",
       "      <td>American Indian/Alaska Native</td>\n",
       "    </tr>\n",
       "  </tbody>\n",
       "</table>\n",
       "</div>"
      ],
      "text/plain": [
       "                          Industry       Date Region  High Wage Count  \\\n",
       "0  accommodation and food services 2022-01-01   Kern             2975   \n",
       "1  accommodation and food services 2022-02-01   Kern             3012   \n",
       "2  accommodation and food services 2022-03-01   Kern             3049   \n",
       "3  accommodation and food services 2022-04-01   Kern             3061   \n",
       "4  accommodation and food services 2022-05-01   Kern             3049   \n",
       "\n",
       "   Employment Count  Cost of Living                    Output Race  \n",
       "0           24200.0           54862  American Indian/Alaska Native  \n",
       "1           24500.0           54862  American Indian/Alaska Native  \n",
       "2           24800.0           54862  American Indian/Alaska Native  \n",
       "3           24900.0           54862  American Indian/Alaska Native  \n",
       "4           24800.0           54862  American Indian/Alaska Native  "
      ]
     },
     "execution_count": 44,
     "metadata": {},
     "output_type": "execute_result"
    }
   ],
   "source": [
    "hw_output_native.head()"
   ]
  },
  {
   "cell_type": "markdown",
   "id": "86af60f2",
   "metadata": {},
   "source": [
    "#### Asian"
   ]
  },
  {
   "cell_type": "code",
   "execution_count": 45,
   "id": "c83a39c0",
   "metadata": {},
   "outputs": [],
   "source": [
    "industries = []\n",
    "dates = []\n",
    "regions = []\n",
    "counts = []\n",
    "emp_counts = []"
   ]
  },
  {
   "cell_type": "markdown",
   "id": "d30404d0",
   "metadata": {},
   "source": [
    "For loop to populate lists for the high wage outputs. This will take some time to finish running."
   ]
  },
  {
   "cell_type": "code",
   "execution_count": 46,
   "id": "a84d19d3",
   "metadata": {},
   "outputs": [
    {
     "data": {
      "application/vnd.jupyter.widget-view+json": {
       "model_id": "085319fde3db492497c23b2605038c15",
       "version_major": 2,
       "version_minor": 0
      },
      "text/plain": [
       "  0%|          | 0/12 [00:00<?, ?it/s]"
      ]
     },
     "metadata": {},
     "output_type": "display_data"
    }
   ],
   "source": [
    "for region in tqdm(regions_ipums):\n",
    "    for code in crosswalk_vals:\n",
    "        for date in dates_edd:\n",
    "            hw_count, hw_perc, employment_count, industry = edd_to_hw(edd, ca_ipums_hw_asian, region, code, date, 10)\n",
    "            industries.append(industry)\n",
    "            dates.append(date)\n",
    "            regions.append(region)\n",
    "            counts.append(hw_count)\n",
    "            emp_counts.append(employment_count)"
   ]
  },
  {
   "cell_type": "markdown",
   "id": "5bbebcb8",
   "metadata": {},
   "source": [
    "Creating a cleaned dataframe from the output lists."
   ]
  },
  {
   "cell_type": "code",
   "execution_count": 47,
   "id": "87201bdd",
   "metadata": {},
   "outputs": [],
   "source": [
    "df_dict_asian = {'Industry':industries, 'Date':dates, 'Region':regions, 'High Wage Count':counts, 'Employment Count':emp_counts}\n",
    "hw_output_asian = pd.DataFrame(df_dict_asian)\n",
    "hw_output_asian = hw_output_asian[hw_output_asian['Industry'].notna()]\n",
    "hw_output_asian['Date']= pd.to_datetime(hw_output_asian['Date'])\n",
    "hw_output_asian['High Wage Count'] = hw_output_asian['High Wage Count'].astype(int)\n",
    "hw_output_asian = hw_output_asian.sort_values(by=['Industry', 'Region', 'Date'])\n",
    "hw_output_asian = pd.merge(hw_output_asian, cost_of_living, left_on='Region', right_on='Regions')\n",
    "hw_output_asian = hw_output_asian[['Industry', 'Date', 'Region', 'High Wage Count', 'Employment Count', 'Cost of Living']]\n",
    "hw_output_asian = hw_output_asian.drop_duplicates()\n",
    "hw_output_asian['Output Race'] = 'Asian'"
   ]
  },
  {
   "cell_type": "markdown",
   "id": "ba9f2b00",
   "metadata": {},
   "source": [
    "View of final `hw_output_asian` dataframe."
   ]
  },
  {
   "cell_type": "code",
   "execution_count": 48,
   "id": "11f6c289",
   "metadata": {},
   "outputs": [
    {
     "data": {
      "text/html": [
       "<div>\n",
       "<style scoped>\n",
       "    .dataframe tbody tr th:only-of-type {\n",
       "        vertical-align: middle;\n",
       "    }\n",
       "\n",
       "    .dataframe tbody tr th {\n",
       "        vertical-align: top;\n",
       "    }\n",
       "\n",
       "    .dataframe thead th {\n",
       "        text-align: right;\n",
       "    }\n",
       "</style>\n",
       "<table border=\"1\" class=\"dataframe\">\n",
       "  <thead>\n",
       "    <tr style=\"text-align: right;\">\n",
       "      <th></th>\n",
       "      <th>Industry</th>\n",
       "      <th>Date</th>\n",
       "      <th>Region</th>\n",
       "      <th>High Wage Count</th>\n",
       "      <th>Employment Count</th>\n",
       "      <th>Cost of Living</th>\n",
       "      <th>Output Race</th>\n",
       "    </tr>\n",
       "  </thead>\n",
       "  <tbody>\n",
       "    <tr>\n",
       "      <th>0</th>\n",
       "      <td>accommodation and food services</td>\n",
       "      <td>2022-01-01</td>\n",
       "      <td>Kern</td>\n",
       "      <td>4534</td>\n",
       "      <td>24200.0</td>\n",
       "      <td>54862</td>\n",
       "      <td>Asian</td>\n",
       "    </tr>\n",
       "    <tr>\n",
       "      <th>1</th>\n",
       "      <td>accommodation and food services</td>\n",
       "      <td>2022-02-01</td>\n",
       "      <td>Kern</td>\n",
       "      <td>4590</td>\n",
       "      <td>24500.0</td>\n",
       "      <td>54862</td>\n",
       "      <td>Asian</td>\n",
       "    </tr>\n",
       "    <tr>\n",
       "      <th>2</th>\n",
       "      <td>accommodation and food services</td>\n",
       "      <td>2022-03-01</td>\n",
       "      <td>Kern</td>\n",
       "      <td>4646</td>\n",
       "      <td>24800.0</td>\n",
       "      <td>54862</td>\n",
       "      <td>Asian</td>\n",
       "    </tr>\n",
       "    <tr>\n",
       "      <th>3</th>\n",
       "      <td>accommodation and food services</td>\n",
       "      <td>2022-04-01</td>\n",
       "      <td>Kern</td>\n",
       "      <td>4665</td>\n",
       "      <td>24900.0</td>\n",
       "      <td>54862</td>\n",
       "      <td>Asian</td>\n",
       "    </tr>\n",
       "    <tr>\n",
       "      <th>4</th>\n",
       "      <td>accommodation and food services</td>\n",
       "      <td>2022-05-01</td>\n",
       "      <td>Kern</td>\n",
       "      <td>4646</td>\n",
       "      <td>24800.0</td>\n",
       "      <td>54862</td>\n",
       "      <td>Asian</td>\n",
       "    </tr>\n",
       "  </tbody>\n",
       "</table>\n",
       "</div>"
      ],
      "text/plain": [
       "                          Industry       Date Region  High Wage Count  \\\n",
       "0  accommodation and food services 2022-01-01   Kern             4534   \n",
       "1  accommodation and food services 2022-02-01   Kern             4590   \n",
       "2  accommodation and food services 2022-03-01   Kern             4646   \n",
       "3  accommodation and food services 2022-04-01   Kern             4665   \n",
       "4  accommodation and food services 2022-05-01   Kern             4646   \n",
       "\n",
       "   Employment Count  Cost of Living Output Race  \n",
       "0           24200.0           54862       Asian  \n",
       "1           24500.0           54862       Asian  \n",
       "2           24800.0           54862       Asian  \n",
       "3           24900.0           54862       Asian  \n",
       "4           24800.0           54862       Asian  "
      ]
     },
     "execution_count": 48,
     "metadata": {},
     "output_type": "execute_result"
    }
   ],
   "source": [
    "hw_output_asian.head()"
   ]
  },
  {
   "cell_type": "markdown",
   "id": "9c195d40",
   "metadata": {},
   "source": [
    "#### Some other race"
   ]
  },
  {
   "cell_type": "code",
   "execution_count": 49,
   "id": "1bdde395",
   "metadata": {},
   "outputs": [],
   "source": [
    "industries = []\n",
    "dates = []\n",
    "regions = []\n",
    "counts = []\n",
    "emp_counts = []"
   ]
  },
  {
   "cell_type": "markdown",
   "id": "5b7d6668",
   "metadata": {},
   "source": [
    "For loop to populate lists for the high wage outputs. This will take some time to finish running."
   ]
  },
  {
   "cell_type": "code",
   "execution_count": 50,
   "id": "f1d0b5c7",
   "metadata": {},
   "outputs": [
    {
     "data": {
      "application/vnd.jupyter.widget-view+json": {
       "model_id": "44b750fcb8404b1a8084f245a69857f6",
       "version_major": 2,
       "version_minor": 0
      },
      "text/plain": [
       "  0%|          | 0/12 [00:00<?, ?it/s]"
      ]
     },
     "metadata": {},
     "output_type": "display_data"
    }
   ],
   "source": [
    "for region in tqdm(regions_ipums):\n",
    "    for code in crosswalk_vals:\n",
    "        for date in dates_edd:\n",
    "            hw_count, hw_perc, employment_count, industry = edd_to_hw(edd, ca_ipums_hw_other, region, code, date, 10)\n",
    "            industries.append(industry)\n",
    "            dates.append(date)\n",
    "            regions.append(region)\n",
    "            counts.append(hw_count)\n",
    "            emp_counts.append(employment_count)"
   ]
  },
  {
   "cell_type": "markdown",
   "id": "b89d2cde",
   "metadata": {},
   "source": [
    "Creating a cleaned dataframe from the output lists."
   ]
  },
  {
   "cell_type": "code",
   "execution_count": 51,
   "id": "569b8be9",
   "metadata": {},
   "outputs": [],
   "source": [
    "df_dict_other = {'Industry':industries, 'Date':dates, 'Region':regions, 'High Wage Count':counts, 'Employment Count':emp_counts}\n",
    "hw_output_other = pd.DataFrame(df_dict_other)\n",
    "hw_output_other = hw_output_other[hw_output_other['Industry'].notna()]\n",
    "hw_output_other['Date']= pd.to_datetime(hw_output_other['Date'])\n",
    "hw_output_other['High Wage Count'] = hw_output_other['High Wage Count'].astype(int)\n",
    "hw_output_other = hw_output_other.sort_values(by=['Industry', 'Region', 'Date'])\n",
    "hw_output_other = pd.merge(hw_output_other, cost_of_living, left_on='Region', right_on='Regions')\n",
    "hw_output_other = hw_output_other[['Industry', 'Date', 'Region', 'High Wage Count', 'Employment Count', 'Cost of Living']]\n",
    "hw_output_other = hw_output_other.drop_duplicates()\n",
    "hw_output_other['Output Race'] = 'Some other race'"
   ]
  },
  {
   "cell_type": "markdown",
   "id": "22d1329d",
   "metadata": {},
   "source": [
    "View of final `hw_output_other` dataframe."
   ]
  },
  {
   "cell_type": "code",
   "execution_count": 52,
   "id": "c6227873",
   "metadata": {},
   "outputs": [
    {
     "data": {
      "text/html": [
       "<div>\n",
       "<style scoped>\n",
       "    .dataframe tbody tr th:only-of-type {\n",
       "        vertical-align: middle;\n",
       "    }\n",
       "\n",
       "    .dataframe tbody tr th {\n",
       "        vertical-align: top;\n",
       "    }\n",
       "\n",
       "    .dataframe thead th {\n",
       "        text-align: right;\n",
       "    }\n",
       "</style>\n",
       "<table border=\"1\" class=\"dataframe\">\n",
       "  <thead>\n",
       "    <tr style=\"text-align: right;\">\n",
       "      <th></th>\n",
       "      <th>Industry</th>\n",
       "      <th>Date</th>\n",
       "      <th>Region</th>\n",
       "      <th>High Wage Count</th>\n",
       "      <th>Employment Count</th>\n",
       "      <th>Cost of Living</th>\n",
       "      <th>Output Race</th>\n",
       "    </tr>\n",
       "  </thead>\n",
       "  <tbody>\n",
       "    <tr>\n",
       "      <th>0</th>\n",
       "      <td>accommodation and food services</td>\n",
       "      <td>2022-01-01</td>\n",
       "      <td>Los Angeles</td>\n",
       "      <td>34775</td>\n",
       "      <td>384500.0</td>\n",
       "      <td>80216</td>\n",
       "      <td>Some other race</td>\n",
       "    </tr>\n",
       "    <tr>\n",
       "      <th>1</th>\n",
       "      <td>accommodation and food services</td>\n",
       "      <td>2022-02-01</td>\n",
       "      <td>Los Angeles</td>\n",
       "      <td>35535</td>\n",
       "      <td>392900.0</td>\n",
       "      <td>80216</td>\n",
       "      <td>Some other race</td>\n",
       "    </tr>\n",
       "    <tr>\n",
       "      <th>2</th>\n",
       "      <td>accommodation and food services</td>\n",
       "      <td>2022-03-01</td>\n",
       "      <td>Los Angeles</td>\n",
       "      <td>36015</td>\n",
       "      <td>398200.0</td>\n",
       "      <td>80216</td>\n",
       "      <td>Some other race</td>\n",
       "    </tr>\n",
       "    <tr>\n",
       "      <th>3</th>\n",
       "      <td>accommodation and food services</td>\n",
       "      <td>2022-04-01</td>\n",
       "      <td>Los Angeles</td>\n",
       "      <td>36449</td>\n",
       "      <td>403000.0</td>\n",
       "      <td>80216</td>\n",
       "      <td>Some other race</td>\n",
       "    </tr>\n",
       "    <tr>\n",
       "      <th>4</th>\n",
       "      <td>accommodation and food services</td>\n",
       "      <td>2022-05-01</td>\n",
       "      <td>Los Angeles</td>\n",
       "      <td>36973</td>\n",
       "      <td>408800.0</td>\n",
       "      <td>80216</td>\n",
       "      <td>Some other race</td>\n",
       "    </tr>\n",
       "  </tbody>\n",
       "</table>\n",
       "</div>"
      ],
      "text/plain": [
       "                          Industry       Date       Region  High Wage Count  \\\n",
       "0  accommodation and food services 2022-01-01  Los Angeles            34775   \n",
       "1  accommodation and food services 2022-02-01  Los Angeles            35535   \n",
       "2  accommodation and food services 2022-03-01  Los Angeles            36015   \n",
       "3  accommodation and food services 2022-04-01  Los Angeles            36449   \n",
       "4  accommodation and food services 2022-05-01  Los Angeles            36973   \n",
       "\n",
       "   Employment Count  Cost of Living      Output Race  \n",
       "0          384500.0           80216  Some other race  \n",
       "1          392900.0           80216  Some other race  \n",
       "2          398200.0           80216  Some other race  \n",
       "3          403000.0           80216  Some other race  \n",
       "4          408800.0           80216  Some other race  "
      ]
     },
     "execution_count": 52,
     "metadata": {},
     "output_type": "execute_result"
    }
   ],
   "source": [
    "hw_output_other.head()"
   ]
  },
  {
   "cell_type": "markdown",
   "id": "417fc145",
   "metadata": {},
   "source": [
    "#### Multiracial"
   ]
  },
  {
   "cell_type": "code",
   "execution_count": 53,
   "id": "a4d2a90e",
   "metadata": {},
   "outputs": [],
   "source": [
    "industries = []\n",
    "dates = []\n",
    "regions = []\n",
    "counts = []\n",
    "emp_counts = []"
   ]
  },
  {
   "cell_type": "markdown",
   "id": "175692ef",
   "metadata": {},
   "source": [
    "For loop to populate lists for the high wage outputs. This will take some time to finish running."
   ]
  },
  {
   "cell_type": "code",
   "execution_count": 54,
   "id": "d25d67b5",
   "metadata": {},
   "outputs": [
    {
     "data": {
      "application/vnd.jupyter.widget-view+json": {
       "model_id": "0ae55c37545f44d38f85cbc5203b2f61",
       "version_major": 2,
       "version_minor": 0
      },
      "text/plain": [
       "  0%|          | 0/12 [00:00<?, ?it/s]"
      ]
     },
     "metadata": {},
     "output_type": "display_data"
    }
   ],
   "source": [
    "for region in tqdm(regions_ipums):\n",
    "    for code in crosswalk_vals:\n",
    "        for date in dates_edd:\n",
    "            hw_count, hw_perc, employment_count, industry = edd_to_hw(edd, ca_ipums_hw_multi, region, code, date, 10)\n",
    "            industries.append(industry)\n",
    "            dates.append(date)\n",
    "            regions.append(region)\n",
    "            counts.append(hw_count)\n",
    "            emp_counts.append(employment_count)"
   ]
  },
  {
   "cell_type": "markdown",
   "id": "cb227d28",
   "metadata": {},
   "source": [
    "Creating a cleaned dataframe from the output lists."
   ]
  },
  {
   "cell_type": "code",
   "execution_count": 55,
   "id": "b690f79b",
   "metadata": {},
   "outputs": [],
   "source": [
    "df_dict_multi = {'Industry':industries, 'Date':dates, 'Region':regions, 'High Wage Count':counts, 'Employment Count':emp_counts}\n",
    "hw_output_multi = pd.DataFrame(df_dict_multi)\n",
    "hw_output_multi = hw_output_multi[hw_output_multi['Industry'].notna()]\n",
    "hw_output_multi['Date']= pd.to_datetime(hw_output_multi['Date'])\n",
    "hw_output_multi['High Wage Count'] = hw_output_multi['High Wage Count'].astype(int)\n",
    "hw_output_multi = hw_output_multi.sort_values(by=['Industry', 'Region', 'Date'])\n",
    "hw_output_multi = pd.merge(hw_output_multi, cost_of_living, left_on='Region', right_on='Regions')\n",
    "hw_output_multi = hw_output_multi[['Industry', 'Date', 'Region', 'High Wage Count', 'Employment Count', 'Cost of Living']]\n",
    "hw_output_multi = hw_output_multi.drop_duplicates()\n",
    "hw_output_multi['Output Race'] = 'Multiracial'"
   ]
  },
  {
   "cell_type": "markdown",
   "id": "66d5c7fa",
   "metadata": {},
   "source": [
    "View of final `hw_output_multi` dataframe."
   ]
  },
  {
   "cell_type": "code",
   "execution_count": 56,
   "id": "88500cac",
   "metadata": {},
   "outputs": [
    {
     "data": {
      "text/html": [
       "<div>\n",
       "<style scoped>\n",
       "    .dataframe tbody tr th:only-of-type {\n",
       "        vertical-align: middle;\n",
       "    }\n",
       "\n",
       "    .dataframe tbody tr th {\n",
       "        vertical-align: top;\n",
       "    }\n",
       "\n",
       "    .dataframe thead th {\n",
       "        text-align: right;\n",
       "    }\n",
       "</style>\n",
       "<table border=\"1\" class=\"dataframe\">\n",
       "  <thead>\n",
       "    <tr style=\"text-align: right;\">\n",
       "      <th></th>\n",
       "      <th>Industry</th>\n",
       "      <th>Date</th>\n",
       "      <th>Region</th>\n",
       "      <th>High Wage Count</th>\n",
       "      <th>Employment Count</th>\n",
       "      <th>Cost of Living</th>\n",
       "      <th>Output Race</th>\n",
       "    </tr>\n",
       "  </thead>\n",
       "  <tbody>\n",
       "    <tr>\n",
       "      <th>0</th>\n",
       "      <td>accommodation and food services</td>\n",
       "      <td>2022-01-01</td>\n",
       "      <td>Kern</td>\n",
       "      <td>2465</td>\n",
       "      <td>24200.0</td>\n",
       "      <td>54862</td>\n",
       "      <td>Multiracial</td>\n",
       "    </tr>\n",
       "    <tr>\n",
       "      <th>1</th>\n",
       "      <td>accommodation and food services</td>\n",
       "      <td>2022-02-01</td>\n",
       "      <td>Kern</td>\n",
       "      <td>2495</td>\n",
       "      <td>24500.0</td>\n",
       "      <td>54862</td>\n",
       "      <td>Multiracial</td>\n",
       "    </tr>\n",
       "    <tr>\n",
       "      <th>2</th>\n",
       "      <td>accommodation and food services</td>\n",
       "      <td>2022-03-01</td>\n",
       "      <td>Kern</td>\n",
       "      <td>2526</td>\n",
       "      <td>24800.0</td>\n",
       "      <td>54862</td>\n",
       "      <td>Multiracial</td>\n",
       "    </tr>\n",
       "    <tr>\n",
       "      <th>3</th>\n",
       "      <td>accommodation and food services</td>\n",
       "      <td>2022-04-01</td>\n",
       "      <td>Kern</td>\n",
       "      <td>2536</td>\n",
       "      <td>24900.0</td>\n",
       "      <td>54862</td>\n",
       "      <td>Multiracial</td>\n",
       "    </tr>\n",
       "    <tr>\n",
       "      <th>4</th>\n",
       "      <td>accommodation and food services</td>\n",
       "      <td>2022-05-01</td>\n",
       "      <td>Kern</td>\n",
       "      <td>2526</td>\n",
       "      <td>24800.0</td>\n",
       "      <td>54862</td>\n",
       "      <td>Multiracial</td>\n",
       "    </tr>\n",
       "  </tbody>\n",
       "</table>\n",
       "</div>"
      ],
      "text/plain": [
       "                          Industry       Date Region  High Wage Count  \\\n",
       "0  accommodation and food services 2022-01-01   Kern             2465   \n",
       "1  accommodation and food services 2022-02-01   Kern             2495   \n",
       "2  accommodation and food services 2022-03-01   Kern             2526   \n",
       "3  accommodation and food services 2022-04-01   Kern             2536   \n",
       "4  accommodation and food services 2022-05-01   Kern             2526   \n",
       "\n",
       "   Employment Count  Cost of Living  Output Race  \n",
       "0           24200.0           54862  Multiracial  \n",
       "1           24500.0           54862  Multiracial  \n",
       "2           24800.0           54862  Multiracial  \n",
       "3           24900.0           54862  Multiracial  \n",
       "4           24800.0           54862  Multiracial  "
      ]
     },
     "execution_count": 56,
     "metadata": {},
     "output_type": "execute_result"
    }
   ],
   "source": [
    "hw_output_multi.head()"
   ]
  },
  {
   "cell_type": "markdown",
   "id": "3f411e2a",
   "metadata": {},
   "source": [
    "### Concatenate all dataframes and export\n",
    "\n",
    "Code to export the dataframe as a CSV file - change file path if needed and uncomment to run."
   ]
  },
  {
   "cell_type": "code",
   "execution_count": 57,
   "id": "e3a71e54",
   "metadata": {},
   "outputs": [],
   "source": [
    "hw_output_demo = pd.concat([hw_output_white, hw_output_black, hw_output_latino, hw_output_asian, hw_output_native, hw_output_other, hw_output_multi], ignore_index=True)"
   ]
  },
  {
   "cell_type": "code",
   "execution_count": 58,
   "id": "c965100a",
   "metadata": {},
   "outputs": [
    {
     "data": {
      "text/html": [
       "<div>\n",
       "<style scoped>\n",
       "    .dataframe tbody tr th:only-of-type {\n",
       "        vertical-align: middle;\n",
       "    }\n",
       "\n",
       "    .dataframe tbody tr th {\n",
       "        vertical-align: top;\n",
       "    }\n",
       "\n",
       "    .dataframe thead th {\n",
       "        text-align: right;\n",
       "    }\n",
       "</style>\n",
       "<table border=\"1\" class=\"dataframe\">\n",
       "  <thead>\n",
       "    <tr style=\"text-align: right;\">\n",
       "      <th></th>\n",
       "      <th>Industry</th>\n",
       "      <th>Date</th>\n",
       "      <th>Region</th>\n",
       "      <th>High Wage Count</th>\n",
       "      <th>Employment Count</th>\n",
       "      <th>Cost of Living</th>\n",
       "      <th>Output Race</th>\n",
       "    </tr>\n",
       "  </thead>\n",
       "  <tbody>\n",
       "    <tr>\n",
       "      <th>0</th>\n",
       "      <td>accommodation and food services</td>\n",
       "      <td>2022-01-01</td>\n",
       "      <td>Kern</td>\n",
       "      <td>968</td>\n",
       "      <td>24200.0</td>\n",
       "      <td>54862</td>\n",
       "      <td>White</td>\n",
       "    </tr>\n",
       "    <tr>\n",
       "      <th>1</th>\n",
       "      <td>accommodation and food services</td>\n",
       "      <td>2022-02-01</td>\n",
       "      <td>Kern</td>\n",
       "      <td>980</td>\n",
       "      <td>24500.0</td>\n",
       "      <td>54862</td>\n",
       "      <td>White</td>\n",
       "    </tr>\n",
       "    <tr>\n",
       "      <th>2</th>\n",
       "      <td>accommodation and food services</td>\n",
       "      <td>2022-03-01</td>\n",
       "      <td>Kern</td>\n",
       "      <td>992</td>\n",
       "      <td>24800.0</td>\n",
       "      <td>54862</td>\n",
       "      <td>White</td>\n",
       "    </tr>\n",
       "    <tr>\n",
       "      <th>3</th>\n",
       "      <td>accommodation and food services</td>\n",
       "      <td>2022-04-01</td>\n",
       "      <td>Kern</td>\n",
       "      <td>996</td>\n",
       "      <td>24900.0</td>\n",
       "      <td>54862</td>\n",
       "      <td>White</td>\n",
       "    </tr>\n",
       "    <tr>\n",
       "      <th>4</th>\n",
       "      <td>accommodation and food services</td>\n",
       "      <td>2022-05-01</td>\n",
       "      <td>Kern</td>\n",
       "      <td>992</td>\n",
       "      <td>24800.0</td>\n",
       "      <td>54862</td>\n",
       "      <td>White</td>\n",
       "    </tr>\n",
       "  </tbody>\n",
       "</table>\n",
       "</div>"
      ],
      "text/plain": [
       "                          Industry       Date Region  High Wage Count  \\\n",
       "0  accommodation and food services 2022-01-01   Kern              968   \n",
       "1  accommodation and food services 2022-02-01   Kern              980   \n",
       "2  accommodation and food services 2022-03-01   Kern              992   \n",
       "3  accommodation and food services 2022-04-01   Kern              996   \n",
       "4  accommodation and food services 2022-05-01   Kern              992   \n",
       "\n",
       "   Employment Count  Cost of Living Output Race  \n",
       "0           24200.0           54862       White  \n",
       "1           24500.0           54862       White  \n",
       "2           24800.0           54862       White  \n",
       "3           24900.0           54862       White  \n",
       "4           24800.0           54862       White  "
      ]
     },
     "execution_count": 58,
     "metadata": {},
     "output_type": "execute_result"
    }
   ],
   "source": [
    "hw_output_demo.head()"
   ]
  },
  {
   "cell_type": "markdown",
   "id": "075c13d4",
   "metadata": {},
   "source": [
    "#### Add Region Population to Dataframe"
   ]
  },
  {
   "cell_type": "code",
   "execution_count": 59,
   "id": "a6e82a2c",
   "metadata": {},
   "outputs": [
    {
     "data": {
      "text/html": [
       "<div>\n",
       "<style scoped>\n",
       "    .dataframe tbody tr th:only-of-type {\n",
       "        vertical-align: middle;\n",
       "    }\n",
       "\n",
       "    .dataframe tbody tr th {\n",
       "        vertical-align: top;\n",
       "    }\n",
       "\n",
       "    .dataframe thead th {\n",
       "        text-align: right;\n",
       "    }\n",
       "</style>\n",
       "<table border=\"1\" class=\"dataframe\">\n",
       "  <thead>\n",
       "    <tr style=\"text-align: right;\">\n",
       "      <th></th>\n",
       "      <th>CERF Regions</th>\n",
       "      <th>Population</th>\n",
       "    </tr>\n",
       "  </thead>\n",
       "  <tbody>\n",
       "    <tr>\n",
       "      <th>0</th>\n",
       "      <td>Bay Area</td>\n",
       "      <td>7710026</td>\n",
       "    </tr>\n",
       "    <tr>\n",
       "      <th>1</th>\n",
       "      <td>Central Coast</td>\n",
       "      <td>2342005</td>\n",
       "    </tr>\n",
       "    <tr>\n",
       "      <th>2</th>\n",
       "      <td>Central San Joaquin</td>\n",
       "      <td>1752543</td>\n",
       "    </tr>\n",
       "    <tr>\n",
       "      <th>3</th>\n",
       "      <td>Eastern Sierra</td>\n",
       "      <td>188734</td>\n",
       "    </tr>\n",
       "    <tr>\n",
       "      <th>4</th>\n",
       "      <td>Inland Empire</td>\n",
       "      <td>4560470</td>\n",
       "    </tr>\n",
       "    <tr>\n",
       "      <th>5</th>\n",
       "      <td>Kern</td>\n",
       "      <td>887641</td>\n",
       "    </tr>\n",
       "    <tr>\n",
       "      <th>6</th>\n",
       "      <td>Los Angeles</td>\n",
       "      <td>10081570</td>\n",
       "    </tr>\n",
       "    <tr>\n",
       "      <th>7</th>\n",
       "      <td>North State</td>\n",
       "      <td>713754</td>\n",
       "    </tr>\n",
       "    <tr>\n",
       "      <th>8</th>\n",
       "      <td>Northern San Joaquin</td>\n",
       "      <td>1557179</td>\n",
       "    </tr>\n",
       "    <tr>\n",
       "      <th>9</th>\n",
       "      <td>Orange</td>\n",
       "      <td>3168044</td>\n",
       "    </tr>\n",
       "    <tr>\n",
       "      <th>10</th>\n",
       "      <td>Redwood Coast</td>\n",
       "      <td>314854</td>\n",
       "    </tr>\n",
       "    <tr>\n",
       "      <th>11</th>\n",
       "      <td>Sacramento</td>\n",
       "      <td>2509903</td>\n",
       "    </tr>\n",
       "    <tr>\n",
       "      <th>12</th>\n",
       "      <td>San Diego-Imperial</td>\n",
       "      <td>3496774</td>\n",
       "    </tr>\n",
       "  </tbody>\n",
       "</table>\n",
       "</div>"
      ],
      "text/plain": [
       "            CERF Regions  Population\n",
       "0               Bay Area     7710026\n",
       "1          Central Coast     2342005\n",
       "2    Central San Joaquin     1752543\n",
       "3         Eastern Sierra      188734\n",
       "4          Inland Empire     4560470\n",
       "5                   Kern      887641\n",
       "6            Los Angeles    10081570\n",
       "7            North State      713754\n",
       "8   Northern San Joaquin     1557179\n",
       "9                 Orange     3168044\n",
       "10         Redwood Coast      314854\n",
       "11            Sacramento     2509903\n",
       "12    San Diego-Imperial     3496774"
      ]
     },
     "execution_count": 59,
     "metadata": {},
     "output_type": "execute_result"
    }
   ],
   "source": [
    "reg_pop = county_info.groupby(by='CERF Regions').sum()[['Population']].reset_index()\n",
    "reg_pop"
   ]
  },
  {
   "cell_type": "code",
   "execution_count": 60,
   "id": "d32a5abf",
   "metadata": {},
   "outputs": [
    {
     "data": {
      "text/html": [
       "<div>\n",
       "<style scoped>\n",
       "    .dataframe tbody tr th:only-of-type {\n",
       "        vertical-align: middle;\n",
       "    }\n",
       "\n",
       "    .dataframe tbody tr th {\n",
       "        vertical-align: top;\n",
       "    }\n",
       "\n",
       "    .dataframe thead th {\n",
       "        text-align: right;\n",
       "    }\n",
       "</style>\n",
       "<table border=\"1\" class=\"dataframe\">\n",
       "  <thead>\n",
       "    <tr style=\"text-align: right;\">\n",
       "      <th></th>\n",
       "      <th>Industry</th>\n",
       "      <th>Date</th>\n",
       "      <th>Region</th>\n",
       "      <th>High Wage Count</th>\n",
       "      <th>Employment Count</th>\n",
       "      <th>Cost of Living</th>\n",
       "      <th>Output Race</th>\n",
       "      <th>Region Population</th>\n",
       "    </tr>\n",
       "  </thead>\n",
       "  <tbody>\n",
       "    <tr>\n",
       "      <th>0</th>\n",
       "      <td>accommodation and food services</td>\n",
       "      <td>2022-01-01</td>\n",
       "      <td>Kern</td>\n",
       "      <td>968</td>\n",
       "      <td>24200.0</td>\n",
       "      <td>54862</td>\n",
       "      <td>White</td>\n",
       "      <td>887641</td>\n",
       "    </tr>\n",
       "    <tr>\n",
       "      <th>1</th>\n",
       "      <td>accommodation and food services</td>\n",
       "      <td>2022-02-01</td>\n",
       "      <td>Kern</td>\n",
       "      <td>980</td>\n",
       "      <td>24500.0</td>\n",
       "      <td>54862</td>\n",
       "      <td>White</td>\n",
       "      <td>887641</td>\n",
       "    </tr>\n",
       "    <tr>\n",
       "      <th>2</th>\n",
       "      <td>accommodation and food services</td>\n",
       "      <td>2022-03-01</td>\n",
       "      <td>Kern</td>\n",
       "      <td>992</td>\n",
       "      <td>24800.0</td>\n",
       "      <td>54862</td>\n",
       "      <td>White</td>\n",
       "      <td>887641</td>\n",
       "    </tr>\n",
       "    <tr>\n",
       "      <th>3</th>\n",
       "      <td>accommodation and food services</td>\n",
       "      <td>2022-04-01</td>\n",
       "      <td>Kern</td>\n",
       "      <td>996</td>\n",
       "      <td>24900.0</td>\n",
       "      <td>54862</td>\n",
       "      <td>White</td>\n",
       "      <td>887641</td>\n",
       "    </tr>\n",
       "    <tr>\n",
       "      <th>4</th>\n",
       "      <td>accommodation and food services</td>\n",
       "      <td>2022-05-01</td>\n",
       "      <td>Kern</td>\n",
       "      <td>992</td>\n",
       "      <td>24800.0</td>\n",
       "      <td>54862</td>\n",
       "      <td>White</td>\n",
       "      <td>887641</td>\n",
       "    </tr>\n",
       "  </tbody>\n",
       "</table>\n",
       "</div>"
      ],
      "text/plain": [
       "                          Industry       Date Region  High Wage Count  \\\n",
       "0  accommodation and food services 2022-01-01   Kern              968   \n",
       "1  accommodation and food services 2022-02-01   Kern              980   \n",
       "2  accommodation and food services 2022-03-01   Kern              992   \n",
       "3  accommodation and food services 2022-04-01   Kern              996   \n",
       "4  accommodation and food services 2022-05-01   Kern              992   \n",
       "\n",
       "   Employment Count  Cost of Living Output Race  Region Population  \n",
       "0           24200.0           54862       White             887641  \n",
       "1           24500.0           54862       White             887641  \n",
       "2           24800.0           54862       White             887641  \n",
       "3           24900.0           54862       White             887641  \n",
       "4           24800.0           54862       White             887641  "
      ]
     },
     "execution_count": 60,
     "metadata": {},
     "output_type": "execute_result"
    }
   ],
   "source": [
    "hw_output_demo = pd.merge(hw_output_demo, reg_pop, left_on='Region', right_on='CERF Regions')\n",
    "hw_output_demo = hw_output_demo.drop(columns=['CERF Regions'])\n",
    "hw_output_demo = hw_output_demo.rename(columns={\"Population\": \"Region Population\"})\n",
    "hw_output_demo.head()"
   ]
  },
  {
   "cell_type": "code",
   "execution_count": 61,
   "id": "c20e5b68",
   "metadata": {},
   "outputs": [],
   "source": [
    "hw_output_demo.to_csv(f'data/outputs/hw_outputs_w_race_{edd_year}.csv', encoding='utf-8', index=False)"
   ]
  },
  {
   "cell_type": "markdown",
   "id": "798a0307",
   "metadata": {},
   "source": [
    "## Code for concatenating multiple years (2010-2022)"
   ]
  },
  {
   "cell_type": "code",
   "execution_count": 66,
   "id": "ed2d3cb9",
   "metadata": {},
   "outputs": [],
   "source": [
    "# hw_2010 = pd.read_csv('data/outputs/hw_outputs_w_race_2010.csv')\n",
    "# hw_2011 = pd.read_csv('data/outputs/hw_outputs_w_race_2011.csv')\n",
    "# hw_2012 = pd.read_csv('data/outputs/hw_outputs_w_race_2012.csv')\n",
    "# hw_2013 = pd.read_csv('data/outputs/hw_outputs_w_race_2013.csv')\n",
    "# hw_2014 = pd.read_csv('data/outputs/hw_outputs_w_race_2014.csv')\n",
    "# hw_2015 = pd.read_csv('data/outputs/hw_outputs_w_race_2015.csv')\n",
    "# hw_2016 = pd.read_csv('data/outputs/hw_outputs_w_race_2016.csv')\n",
    "# hw_2017 = pd.read_csv('data/outputs/hw_outputs_w_race_2017.csv')\n",
    "# hw_2018 = pd.read_csv('data/outputs/hw_outputs_w_race_2018.csv')\n",
    "# hw_2019 = pd.read_csv('data/outputs/hw_outputs_w_race_2019.csv')\n",
    "# hw_2020 = pd.read_csv('data/outputs/hw_outputs_w_race_2020.csv')\n",
    "# hw_2021 = pd.read_csv('data/outputs/hw_outputs_w_race_2021.csv')\n",
    "# hw_2022 = pd.read_csv('data/outputs/hw_outputs_w_race_2022.csv')"
   ]
  },
  {
   "cell_type": "code",
   "execution_count": 67,
   "id": "54a379de",
   "metadata": {},
   "outputs": [],
   "source": [
    "# hw_2010['Year'] = 2010\n",
    "# hw_2011['Year'] = 2011\n",
    "# hw_2012['Year'] = 2012\n",
    "# hw_2013['Year'] = 2013\n",
    "# hw_2014['Year'] = 2014\n",
    "# hw_2015['Year'] = 2015\n",
    "# hw_2016['Year'] = 2016\n",
    "# hw_2017['Year'] = 2017\n",
    "# hw_2018['Year'] = 2018\n",
    "# hw_2019['Year'] = 2019\n",
    "# hw_2020['Year'] = 2020\n",
    "# hw_2021['Year'] = 2021\n",
    "# hw_2022['Year'] = 2022"
   ]
  },
  {
   "cell_type": "code",
   "execution_count": 68,
   "id": "ee1c9c91",
   "metadata": {},
   "outputs": [],
   "source": [
    "# hw_output_concat = pd.concat([hw_2010, hw_2011, hw_2012, hw_2013, \n",
    "#                               hw_2014, hw_2015, hw_2016, hw_2017, \n",
    "#                               hw_2018, hw_2019, hw_2020, hw_2021, \n",
    "#                               hw_2022])"
   ]
  },
  {
   "cell_type": "code",
   "execution_count": 69,
   "id": "3a82bfb3",
   "metadata": {},
   "outputs": [],
   "source": [
    "# hw_output_concat.to_csv('data/outputs/hw_outputs_w_race_multiyear.csv', encoding='utf-8', index=False)"
   ]
  },
  {
   "cell_type": "code",
   "execution_count": null,
   "id": "bf7e1ff4",
   "metadata": {},
   "outputs": [],
   "source": []
  }
 ],
 "metadata": {
  "kernelspec": {
   "display_name": "Python 3",
   "language": "python",
   "name": "python3"
  },
  "language_info": {
   "codemirror_mode": {
    "name": "ipython",
    "version": 3
   },
   "file_extension": ".py",
   "mimetype": "text/x-python",
   "name": "python",
   "nbconvert_exporter": "python",
   "pygments_lexer": "ipython3",
   "version": "3.8.8"
  }
 },
 "nbformat": 4,
 "nbformat_minor": 5
}
