{
 "cells": [
  {
   "cell_type": "code",
   "execution_count": 1,
   "id": "241dbb7b",
   "metadata": {},
   "outputs": [],
   "source": [
    "import numpy as np\n",
    "import pandas as pd\n",
    "import matplotlib.pyplot as plt\n",
    "import warnings\n",
    "warnings.filterwarnings(\"ignore\")\n",
    "from jqi_functions import *"
   ]
  },
  {
   "cell_type": "markdown",
   "id": "fa6e8f2d",
   "metadata": {},
   "source": [
    "## Load Data"
   ]
  },
  {
   "cell_type": "code",
   "execution_count": 2,
   "id": "01f9309f",
   "metadata": {},
   "outputs": [],
   "source": [
    "county_info = pd.read_csv('data/county_to_regions_key.csv')"
   ]
  },
  {
   "cell_type": "code",
   "execution_count": 3,
   "id": "1e79175b",
   "metadata": {},
   "outputs": [],
   "source": [
    "ipums_2019 = cleaned_ipums_demo('2019')\n",
    "ipums_2018 = cleaned_ipums_demo('2018')\n",
    "ipums_2017 = cleaned_ipums_demo('2017')\n",
    "ipums_2016 = cleaned_ipums_demo('2016')\n",
    "ipums_2015 = cleaned_ipums_demo('2015')"
   ]
  },
  {
   "cell_type": "code",
   "execution_count": 4,
   "id": "779b18bd",
   "metadata": {},
   "outputs": [],
   "source": [
    "col_2019 = pd.read_csv('data/cost_of_living/united-way-col-1A1PS1C2019.csv')\n",
    "col_2018 = pd.read_csv('data/cost_of_living/united-way-col-1A1PS1C2018.csv')\n",
    "col_2017 = pd.read_csv('data/cost_of_living/united-way-col-1A1PS1C2017.csv')\n",
    "col_2016 = pd.read_csv('data/cost_of_living/united-way-col-1A1PS1C2016.csv')\n",
    "col_2015 = pd.read_csv('data/cost_of_living/united-way-col-1A1PS1C2015.csv')"
   ]
  },
  {
   "cell_type": "code",
   "execution_count": 5,
   "id": "06aa3913",
   "metadata": {},
   "outputs": [],
   "source": [
    "def merge_ipums_col(df, col, county_info):\n",
    "    df = pd.merge(df, county_info, on = 'COUNTYFIP')\n",
    "    df = df[['INDNAICS', 'PERWT', 'INCWAGE', 'RACE', 'HISPAN',\n",
    "           'NAICS Code', 'Industry Title_x', 'Main_Code', 'Sub_1_Code', 'Sub_2_Code', 'Sub_3_Code', 'Sub_4_Code', 'County', 'Rural/Urban', 'CDI Regions']]\n",
    "    df = pd.merge(df, col, left_on = 'CDI Regions', right_on = 'Regions')\n",
    "    df = df.rename(columns = {'Cost of Living':'Regional COL'})\n",
    "    df = pd.merge(df, col, left_on = 'Rural/Urban', right_on = 'Regions')\n",
    "    df = df.rename(columns = {'Cost of Living':'Rural/Urban COL'})\n",
    "    df = pd.merge(df, col, left_on = 'County', right_on = 'Regions')\n",
    "    df = df.rename(columns = {'Cost of Living':'County COL'})\n",
    "    df = df[['INDNAICS', 'PERWT', 'INCWAGE', 'RACE', 'HISPAN',\n",
    "           'NAICS Code', 'Industry Title_x', 'Main_Code', 'Sub_1_Code', 'Sub_2_Code', 'Sub_3_Code', 'Sub_4_Code', 'County', 'Rural/Urban', 'CDI Regions',\n",
    "                        'Regional COL', 'Rural/Urban COL', 'County COL']]\n",
    "    df['Regional Rural/Urban'] = df['CDI Regions'] + ' ' + df['Rural/Urban']\n",
    "    df = pd.merge(df, col, left_on = 'Regional Rural/Urban', right_on = 'Regions')\n",
    "    df = df.rename(columns = {'Cost of Living':'Regional Rural/Urban COL'})\n",
    "    df = df.rename(columns = {'Industry Title_x':'Industry Title'})\n",
    "    df = df[['INDNAICS', 'PERWT', 'INCWAGE', 'RACE', 'HISPAN',\n",
    "           'NAICS Code', 'Industry Title', 'Main_Code', 'Sub_1_Code', 'Sub_2_Code', 'Sub_3_Code',\n",
    "           'Sub_4_Code', 'County', 'Rural/Urban', 'CDI Regions', 'Regional Rural/Urban',\n",
    "                        'Regional COL', 'Rural/Urban COL', 'County COL', 'Regional Rural/Urban COL']]\n",
    "    df['Industry Title'] = normalize_titles(df['Industry Title'])\n",
    "    return df"
   ]
  },
  {
   "cell_type": "code",
   "execution_count": 6,
   "id": "27998b6f",
   "metadata": {},
   "outputs": [],
   "source": [
    "ipums_2019 = merge_ipums_col(ipums_2019, col_2019, county_info)\n",
    "ipums_2018 = merge_ipums_col(ipums_2018, col_2018, county_info)\n",
    "ipums_2017 = merge_ipums_col(ipums_2017, col_2017, county_info)\n",
    "ipums_2016 = merge_ipums_col(ipums_2016, col_2016, county_info)\n",
    "ipums_2015 = merge_ipums_col(ipums_2015, col_2015, county_info)"
   ]
  },
  {
   "cell_type": "code",
   "execution_count": 7,
   "id": "931b9850",
   "metadata": {},
   "outputs": [],
   "source": [
    "ca_ipums_5year = [ipums_2019, ipums_2018, ipums_2017, ipums_2016, ipums_2015]\n",
    "col_5year = [col_2019, col_2018, col_2017, col_2016, col_2015]\n",
    "years = ['2019', '2018', '2017', '2016', '2015']"
   ]
  },
  {
   "cell_type": "code",
   "execution_count": 8,
   "id": "05e58794",
   "metadata": {},
   "outputs": [],
   "source": [
    "naics = pd.read_csv('data/naics_parsed_crosswalk.csv').drop_duplicates(subset='INDNAICS').reset_index().iloc[:,1:]\n",
    "naics['Industry Title'] = normalize_titles(naics['Industry Title'])\n",
    "naics['Sub_1_Code'] = [str(x) for x in naics['Sub_1_Code']]\n",
    "naics['Main_Code'] = [str(x) for x in naics['Main_Code']]"
   ]
  },
  {
   "cell_type": "markdown",
   "id": "ac6b6b91",
   "metadata": {},
   "source": [
    "## County Lookup Dataframe"
   ]
  },
  {
   "cell_type": "code",
   "execution_count": 9,
   "id": "229a26f5",
   "metadata": {},
   "outputs": [],
   "source": [
    "county_info = county_info[['County', 'Rural/Urban', 'CDI Regions']]\n",
    "county_info['Regional Rural/Urban'] = county_info['CDI Regions'] + ' ' + county_info['Rural/Urban']\n",
    "for col, year in zip(col_5year, years):\n",
    "    county_info = pd.merge(county_info, col, left_on = 'County', right_on = 'Regions')\n",
    "\n",
    "    county_info = county_info.rename(columns = {'Cost of Living':f'County COL {year}'})\n",
    "    county_info = county_info.drop(columns=['Regions'])\n",
    "\n",
    "    county_info = pd.merge(county_info, col, left_on = 'Regional Rural/Urban', right_on = 'Regions')\n",
    "\n",
    "    county_info = county_info.rename(columns = {'Cost of Living':f'Regional Rural/Urban COL {year}'})\n",
    "    county_info = county_info.drop(columns=['Regions'])\n",
    "\n",
    "    county_info = pd.merge(county_info, col, left_on = 'CDI Regions', right_on = 'Regions')\n",
    "\n",
    "    county_info = county_info.rename(columns = {'Cost of Living':f'Regional COL {year}'})\n",
    "    county_info = county_info.drop(columns=['Regions'])\n",
    "\n",
    "    county_info = pd.merge(county_info, col, left_on = 'Rural/Urban', right_on = 'Regions')\n",
    "\n",
    "    county_info = county_info.rename(columns = {'Cost of Living':f'Rural/Urban COL {year}'})\n",
    "    county_info = county_info.drop(columns=['Regions'])\n",
    "\n",
    "    county_info[f'State COL {year}'] = col.iloc[11][1]"
   ]
  },
  {
   "cell_type": "code",
   "execution_count": 10,
   "id": "d8b2d1ef",
   "metadata": {},
   "outputs": [],
   "source": [
    "county_info = county_info[['County', 'Rural/Urban', 'CDI Regions', 'Regional Rural/Urban',\n",
    "       'County COL 2019', 'Regional Rural/Urban COL 2019', 'Regional COL 2019',\n",
    "       'Rural/Urban COL 2019', 'State COL 2019', 'County COL 2018',\n",
    "       'Regional Rural/Urban COL 2018', 'Regional COL 2018',\n",
    "       'Rural/Urban COL 2018', 'State COL 2018', 'County COL 2017',\n",
    "       'Regional Rural/Urban COL 2017', 'Regional COL 2017',\n",
    "       'Rural/Urban COL 2017', 'State COL 2017', 'County COL 2016',\n",
    "       'Regional Rural/Urban COL 2016',\n",
    "       'Regional COL 2016', 'Rural/Urban COL 2016',\n",
    "       'State COL 2016', 'County COL 2015',\n",
    "       'Regional Rural/Urban COL 2015', 'Regional COL 2015',\n",
    "       'Rural/Urban COL 2015', 'State COL 2015']]"
   ]
  },
  {
   "cell_type": "markdown",
   "id": "156894a2",
   "metadata": {},
   "source": [
    "## EDD Data"
   ]
  },
  {
   "cell_type": "code",
   "execution_count": 11,
   "id": "4c6a6415",
   "metadata": {},
   "outputs": [],
   "source": [
    "edd_2019 = pd.read_csv('data/edd_2019_parsed.csv')\n",
    "edd_2018 = pd.read_csv('data/edd_2018_parsed.csv')\n",
    "edd_2017 = pd.read_csv('data/edd_2017_parsed.csv')\n",
    "edd_2016 = pd.read_csv('data/edd_2016_parsed.csv')\n",
    "edd_2015 = pd.read_csv('data/edd_2015_parsed.csv')"
   ]
  },
  {
   "cell_type": "code",
   "execution_count": 12,
   "id": "ff8687eb",
   "metadata": {},
   "outputs": [],
   "source": [
    "edd_dfs = [edd_2019, edd_2018, edd_2017, edd_2016, edd_2015]"
   ]
  },
  {
   "cell_type": "code",
   "execution_count": 13,
   "id": "0d402150",
   "metadata": {},
   "outputs": [],
   "source": [
    "def clean_edd(edd):\n",
    "    edd['Area Name'] = edd['Area Name'].str.replace(' County', '')\n",
    "    edd = edd.loc[edd['Area Type'] == 'County']\n",
    "    edd = edd.drop(columns=['Industry Title'])\n",
    "    edd = edd.rename(columns={\"LMID Industry Title\": \"Industry Title\"})\n",
    "    edd['Sub_1_Code'] = [str(x) for x in edd['Sub_1_Code']]\n",
    "    edd['Main_Code'] = [str(x) for x in edd['Main_Code']]\n",
    "    return edd"
   ]
  },
  {
   "cell_type": "code",
   "execution_count": 14,
   "id": "6524bd03",
   "metadata": {},
   "outputs": [],
   "source": [
    "edd_2019 = clean_edd(edd_2019)\n",
    "edd_2018 = clean_edd(edd_2018)\n",
    "edd_2017 = clean_edd(edd_2017)\n",
    "edd_2016 = clean_edd(edd_2016)\n",
    "edd_2015 = clean_edd(edd_2015)"
   ]
  },
  {
   "cell_type": "markdown",
   "id": "e3370398",
   "metadata": {},
   "source": [
    "## Breakdown dataframes by race"
   ]
  },
  {
   "cell_type": "code",
   "execution_count": 16,
   "id": "cabea159",
   "metadata": {},
   "outputs": [],
   "source": [
    "def append_race_ratio(df, wt_counts):\n",
    "    df['race_ratio'] = 0\n",
    "    for title in df['Industry Title'].unique():\n",
    "        perwt = df['PERWT'][df['Industry Title'] == title].sum()\n",
    "        df['race_ratio'][df['Industry Title'] == title] = perwt / wt_counts[title]\n",
    "    return df"
   ]
  },
  {
   "cell_type": "markdown",
   "id": "a188b4c8",
   "metadata": {},
   "source": [
    "**2019**"
   ]
  },
  {
   "cell_type": "code",
   "execution_count": 15,
   "id": "4af9e3dc",
   "metadata": {},
   "outputs": [],
   "source": [
    "ca_ipums_latino_2019 = ipums_2019.loc[ipums_2019['HISPAN'] != 0]\n",
    "ca_ipums_no_latino_2019 = ipums_2019.loc[ipums_2019['HISPAN'] == 0]\n",
    "ca_ipums_white_2019 = ca_ipums_no_latino_2019.loc[ca_ipums_no_latino_2019['RACE'] == 1]\n",
    "ca_ipums_black_2019 = ca_ipums_no_latino_2019.loc[ca_ipums_no_latino_2019['RACE'] == 2]\n",
    "ca_ipums_native_2019 = ca_ipums_no_latino_2019.loc[ca_ipums_no_latino_2019['RACE'] == 3]\n",
    "ca_ipums_asian_2019 = ca_ipums_no_latino_2019.loc[(ca_ipums_no_latino_2019['RACE'] == 4) |\n",
    "                                   (ca_ipums_no_latino_2019['RACE'] == 5) |\n",
    "                                   (ca_ipums_no_latino_2019['RACE'] == 6)]\n",
    "ca_ipums_other_2019 = ca_ipums_no_latino_2019.loc[ca_ipums_no_latino_2019['RACE'] == 7]\n",
    "ca_ipums_multi_2019 = ca_ipums_no_latino_2019.loc[(ca_ipums_no_latino_2019['RACE'] == 8) |\n",
    "                                   (ca_ipums_no_latino_2019['RACE'] == 9)]"
   ]
  },
  {
   "cell_type": "code",
   "execution_count": 17,
   "id": "0f2f0376",
   "metadata": {},
   "outputs": [],
   "source": [
    "wt_counts = {}\n",
    "for title in ipums_2019['Industry Title'].unique():\n",
    "    title_copy = ipums_2019.loc[ipums_2019['Industry Title'] == title].copy()\n",
    "    wt_counts[title] = title_copy['PERWT'].sum()"
   ]
  },
  {
   "cell_type": "code",
   "execution_count": 18,
   "id": "61809e56",
   "metadata": {},
   "outputs": [],
   "source": [
    "ca_ipums_white_2019 = append_race_ratio(ca_ipums_white_2019, wt_counts)\n",
    "ca_ipums_latino_2019 = append_race_ratio(ca_ipums_latino_2019, wt_counts)\n",
    "ca_ipums_black_2019 = append_race_ratio(ca_ipums_black_2019, wt_counts)\n",
    "ca_ipums_native_2019 = append_race_ratio(ca_ipums_native_2019, wt_counts)\n",
    "ca_ipums_asian_2019 = append_race_ratio(ca_ipums_asian_2019, wt_counts)\n",
    "ca_ipums_other_2019 = append_race_ratio(ca_ipums_other_2019, wt_counts)\n",
    "ca_ipums_multi_2019 = append_race_ratio(ca_ipums_multi_2019, wt_counts)"
   ]
  },
  {
   "cell_type": "code",
   "execution_count": 37,
   "id": "3f82bf87",
   "metadata": {},
   "outputs": [],
   "source": [
    "ca_ipums_hw_white_2019 = add_geo_high_wages(ca_ipums_white_2019)\n",
    "ca_ipums_hw_latino_2019 = add_geo_high_wages(ca_ipums_latino_2019)\n",
    "ca_ipums_hw_black_2019 = add_geo_high_wages(ca_ipums_black_2019)\n",
    "ca_ipums_hw_native_2019 = add_geo_high_wages(ca_ipums_native_2019)\n",
    "ca_ipums_hw_asian_2019 = add_geo_high_wages(ca_ipums_asian_2019)\n",
    "ca_ipums_hw_other_2019 = add_geo_high_wages(ca_ipums_other_2019)\n",
    "ca_ipums_hw_multi_2019 = add_geo_high_wages(ca_ipums_multi_2019)"
   ]
  },
  {
   "cell_type": "code",
   "execution_count": 38,
   "id": "9bf63998",
   "metadata": {},
   "outputs": [],
   "source": [
    "race_ipums_dfs_2019 = [ca_ipums_hw_white_2019, \n",
    "                  ca_ipums_hw_latino_2019, \n",
    "                  ca_ipums_hw_black_2019, \n",
    "                  ca_ipums_hw_native_2019, \n",
    "                  ca_ipums_hw_asian_2019, \n",
    "                  ca_ipums_hw_other_2019, \n",
    "                  ca_ipums_hw_multi_2019]"
   ]
  },
  {
   "cell_type": "code",
   "execution_count": 39,
   "id": "461c56f8",
   "metadata": {},
   "outputs": [],
   "source": [
    "for df in race_ipums_dfs_2019:\n",
    "    df['Sub_1_Code'] = [str(x) for x in df['Sub_1_Code']]\n",
    "    df['Main_Code'] = [str(x) for x in df['Main_Code']]"
   ]
  },
  {
   "cell_type": "markdown",
   "id": "2206b8cb",
   "metadata": {},
   "source": [
    "**2018**"
   ]
  },
  {
   "cell_type": "code",
   "execution_count": 31,
   "id": "adea0605",
   "metadata": {},
   "outputs": [],
   "source": [
    "ca_ipums_latino_2018 = ipums_2018.loc[ipums_2018['HISPAN'] != 0]\n",
    "ca_ipums_no_latino_2018 = ipums_2018.loc[ipums_2018['HISPAN'] == 0]\n",
    "ca_ipums_white_2018 = ca_ipums_no_latino_2018.loc[ca_ipums_no_latino_2018['RACE'] == 1]\n",
    "ca_ipums_black_2018 = ca_ipums_no_latino_2018.loc[ca_ipums_no_latino_2018['RACE'] == 2]\n",
    "ca_ipums_native_2018 = ca_ipums_no_latino_2018.loc[ca_ipums_no_latino_2018['RACE'] == 3]\n",
    "ca_ipums_asian_2018 = ca_ipums_no_latino_2018.loc[(ca_ipums_no_latino_2018['RACE'] == 4) |\n",
    "                                   (ca_ipums_no_latino_2018['RACE'] == 5) |\n",
    "                                   (ca_ipums_no_latino_2018['RACE'] == 6)]\n",
    "ca_ipums_other_2018 = ca_ipums_no_latino_2018.loc[ca_ipums_no_latino_2018['RACE'] == 7]\n",
    "ca_ipums_multi_2018 = ca_ipums_no_latino_2018.loc[(ca_ipums_no_latino_2018['RACE'] == 8) |\n",
    "                                   (ca_ipums_no_latino_2018['RACE'] == 9)]"
   ]
  },
  {
   "cell_type": "code",
   "execution_count": 32,
   "id": "12359174",
   "metadata": {},
   "outputs": [],
   "source": [
    "wt_counts = {}\n",
    "for title in ipums_2018['Industry Title'].unique():\n",
    "    title_copy = ipums_2018.loc[ipums_2018['Industry Title'] == title].copy()\n",
    "    wt_counts[title] = title_copy['PERWT'].sum()"
   ]
  },
  {
   "cell_type": "code",
   "execution_count": 33,
   "id": "a730e7fc",
   "metadata": {},
   "outputs": [],
   "source": [
    "ca_ipums_white_2018 = append_race_ratio(ca_ipums_white_2018, wt_counts)\n",
    "ca_ipums_latino_2018 = append_race_ratio(ca_ipums_latino_2018, wt_counts)\n",
    "ca_ipums_black_2018 = append_race_ratio(ca_ipums_black_2018, wt_counts)\n",
    "ca_ipums_native_2018 = append_race_ratio(ca_ipums_native_2018, wt_counts)\n",
    "ca_ipums_asian_2018 = append_race_ratio(ca_ipums_asian_2018, wt_counts)\n",
    "ca_ipums_other_2018 = append_race_ratio(ca_ipums_other_2018, wt_counts)\n",
    "ca_ipums_multi_2018 = append_race_ratio(ca_ipums_multi_2018, wt_counts)"
   ]
  },
  {
   "cell_type": "code",
   "execution_count": 40,
   "id": "b3573652",
   "metadata": {},
   "outputs": [],
   "source": [
    "ca_ipums_hw_white_2018 = add_geo_high_wages(ca_ipums_white_2018)\n",
    "ca_ipums_hw_latino_2018 = add_geo_high_wages(ca_ipums_latino_2018)\n",
    "ca_ipums_hw_black_2018 = add_geo_high_wages(ca_ipums_black_2018)\n",
    "ca_ipums_hw_native_2018 = add_geo_high_wages(ca_ipums_native_2018)\n",
    "ca_ipums_hw_asian_2018 = add_geo_high_wages(ca_ipums_asian_2018)\n",
    "ca_ipums_hw_other_2018 = add_geo_high_wages(ca_ipums_other_2018)\n",
    "ca_ipums_hw_multi_2018 = add_geo_high_wages(ca_ipums_multi_2018)"
   ]
  },
  {
   "cell_type": "code",
   "execution_count": 41,
   "id": "dc70e63a",
   "metadata": {},
   "outputs": [],
   "source": [
    "race_ipums_dfs_2018 = [ca_ipums_hw_white_2018, \n",
    "                  ca_ipums_hw_latino_2018, \n",
    "                  ca_ipums_hw_black_2018, \n",
    "                  ca_ipums_hw_native_2018, \n",
    "                  ca_ipums_hw_asian_2018, \n",
    "                  ca_ipums_hw_other_2018, \n",
    "                  ca_ipums_hw_multi_2018]"
   ]
  },
  {
   "cell_type": "code",
   "execution_count": 42,
   "id": "0dae1735",
   "metadata": {},
   "outputs": [],
   "source": [
    "for df in race_ipums_dfs_2018:\n",
    "    df['Sub_1_Code'] = [str(x) for x in df['Sub_1_Code']]\n",
    "    df['Main_Code'] = [str(x) for x in df['Main_Code']]"
   ]
  },
  {
   "cell_type": "markdown",
   "id": "13d4a903",
   "metadata": {},
   "source": [
    "**2017**"
   ]
  },
  {
   "cell_type": "code",
   "execution_count": 22,
   "id": "08564e46",
   "metadata": {},
   "outputs": [],
   "source": [
    "ca_ipums_latino_2017 = ipums_2017.loc[ipums_2017['HISPAN'] != 0]\n",
    "ca_ipums_no_latino_2017 = ipums_2017.loc[ipums_2017['HISPAN'] == 0]\n",
    "ca_ipums_white_2017 = ca_ipums_no_latino_2017.loc[ca_ipums_no_latino_2017['RACE'] == 1]\n",
    "ca_ipums_black_2017 = ca_ipums_no_latino_2017.loc[ca_ipums_no_latino_2017['RACE'] == 2]\n",
    "ca_ipums_native_2017 = ca_ipums_no_latino_2017.loc[ca_ipums_no_latino_2017['RACE'] == 3]\n",
    "ca_ipums_asian_2017 = ca_ipums_no_latino_2017.loc[(ca_ipums_no_latino_2017['RACE'] == 4) |\n",
    "                                   (ca_ipums_no_latino_2017['RACE'] == 5) |\n",
    "                                   (ca_ipums_no_latino_2017['RACE'] == 6)]\n",
    "ca_ipums_other_2017 = ca_ipums_no_latino_2017.loc[ca_ipums_no_latino_2017['RACE'] == 7]\n",
    "ca_ipums_multi_2017 = ca_ipums_no_latino_2017.loc[(ca_ipums_no_latino_2017['RACE'] == 8) |\n",
    "                                   (ca_ipums_no_latino_2017['RACE'] == 9)]"
   ]
  },
  {
   "cell_type": "code",
   "execution_count": 23,
   "id": "e44b7b52",
   "metadata": {},
   "outputs": [],
   "source": [
    "wt_counts = {}\n",
    "for title in ipums_2017['Industry Title'].unique():\n",
    "    title_copy = ipums_2017.loc[ipums_2017['Industry Title'] == title].copy()\n",
    "    wt_counts[title] = title_copy['PERWT'].sum()"
   ]
  },
  {
   "cell_type": "code",
   "execution_count": 24,
   "id": "5417c8f6",
   "metadata": {},
   "outputs": [],
   "source": [
    "ca_ipums_white_2017 = append_race_ratio(ca_ipums_white_2017, wt_counts)\n",
    "ca_ipums_latino_2017 = append_race_ratio(ca_ipums_latino_2017, wt_counts)\n",
    "ca_ipums_black_2017 = append_race_ratio(ca_ipums_black_2017, wt_counts)\n",
    "ca_ipums_native_2017 = append_race_ratio(ca_ipums_native_2017, wt_counts)\n",
    "ca_ipums_asian_2017 = append_race_ratio(ca_ipums_asian_2017, wt_counts)\n",
    "ca_ipums_other_2017 = append_race_ratio(ca_ipums_other_2017, wt_counts)\n",
    "ca_ipums_multi_2017 = append_race_ratio(ca_ipums_multi_2017, wt_counts)"
   ]
  },
  {
   "cell_type": "code",
   "execution_count": 43,
   "id": "6c82a18c",
   "metadata": {},
   "outputs": [],
   "source": [
    "ca_ipums_hw_white_2017 = add_geo_high_wages(ca_ipums_white_2017)\n",
    "ca_ipums_hw_latino_2017 = add_geo_high_wages(ca_ipums_latino_2017)\n",
    "ca_ipums_hw_black_2017 = add_geo_high_wages(ca_ipums_black_2017)\n",
    "ca_ipums_hw_native_2017 = add_geo_high_wages(ca_ipums_native_2017)\n",
    "ca_ipums_hw_asian_2017 = add_geo_high_wages(ca_ipums_asian_2017)\n",
    "ca_ipums_hw_other_2017 = add_geo_high_wages(ca_ipums_other_2017)\n",
    "ca_ipums_hw_multi_2017 = add_geo_high_wages(ca_ipums_multi_2017)"
   ]
  },
  {
   "cell_type": "code",
   "execution_count": 44,
   "id": "a8c98210",
   "metadata": {},
   "outputs": [],
   "source": [
    "race_ipums_dfs_2017 = [ca_ipums_hw_white_2017, \n",
    "                  ca_ipums_hw_latino_2017, \n",
    "                  ca_ipums_hw_black_2017, \n",
    "                  ca_ipums_hw_native_2017, \n",
    "                  ca_ipums_hw_asian_2017, \n",
    "                  ca_ipums_hw_other_2017, \n",
    "                  ca_ipums_hw_multi_2017]"
   ]
  },
  {
   "cell_type": "code",
   "execution_count": 45,
   "id": "09fd31ab",
   "metadata": {},
   "outputs": [],
   "source": [
    "for df in race_ipums_dfs_2017:\n",
    "    df['Sub_1_Code'] = [str(x) for x in df['Sub_1_Code']]\n",
    "    df['Main_Code'] = [str(x) for x in df['Main_Code']]"
   ]
  },
  {
   "cell_type": "markdown",
   "id": "20dee4d4",
   "metadata": {},
   "source": [
    "**2016**"
   ]
  },
  {
   "cell_type": "code",
   "execution_count": 25,
   "id": "1eb9e6f8",
   "metadata": {},
   "outputs": [],
   "source": [
    "ca_ipums_latino_2016 = ipums_2016.loc[ipums_2016['HISPAN'] != 0]\n",
    "ca_ipums_no_latino_2016 = ipums_2016.loc[ipums_2016['HISPAN'] == 0]\n",
    "ca_ipums_white_2016 = ca_ipums_no_latino_2016.loc[ca_ipums_no_latino_2016['RACE'] == 1]\n",
    "ca_ipums_black_2016 = ca_ipums_no_latino_2016.loc[ca_ipums_no_latino_2016['RACE'] == 2]\n",
    "ca_ipums_native_2016 = ca_ipums_no_latino_2016.loc[ca_ipums_no_latino_2016['RACE'] == 3]\n",
    "ca_ipums_asian_2016 = ca_ipums_no_latino_2016.loc[(ca_ipums_no_latino_2016['RACE'] == 4) |\n",
    "                                   (ca_ipums_no_latino_2016['RACE'] == 5) |\n",
    "                                   (ca_ipums_no_latino_2016['RACE'] == 6)]\n",
    "ca_ipums_other_2016 = ca_ipums_no_latino_2016.loc[ca_ipums_no_latino_2016['RACE'] == 7]\n",
    "ca_ipums_multi_2016 = ca_ipums_no_latino_2016.loc[(ca_ipums_no_latino_2016['RACE'] == 8) |\n",
    "                                   (ca_ipums_no_latino_2016['RACE'] == 9)]"
   ]
  },
  {
   "cell_type": "code",
   "execution_count": 26,
   "id": "9125af87",
   "metadata": {},
   "outputs": [],
   "source": [
    "wt_counts = {}\n",
    "for title in ipums_2016['Industry Title'].unique():\n",
    "    title_copy = ipums_2016.loc[ipums_2016['Industry Title'] == title].copy()\n",
    "    wt_counts[title] = title_copy['PERWT'].sum()"
   ]
  },
  {
   "cell_type": "code",
   "execution_count": 27,
   "id": "b96b2576",
   "metadata": {},
   "outputs": [],
   "source": [
    "ca_ipums_white_2016 = append_race_ratio(ca_ipums_white_2016, wt_counts)\n",
    "ca_ipums_latino_2016 = append_race_ratio(ca_ipums_latino_2016, wt_counts)\n",
    "ca_ipums_black_2016 = append_race_ratio(ca_ipums_black_2016, wt_counts)\n",
    "ca_ipums_native_2016 = append_race_ratio(ca_ipums_native_2016, wt_counts)\n",
    "ca_ipums_asian_2016 = append_race_ratio(ca_ipums_asian_2016, wt_counts)\n",
    "ca_ipums_other_2016 = append_race_ratio(ca_ipums_other_2016, wt_counts)\n",
    "ca_ipums_multi_2016 = append_race_ratio(ca_ipums_multi_2016, wt_counts)"
   ]
  },
  {
   "cell_type": "code",
   "execution_count": 46,
   "id": "6d63caa9",
   "metadata": {},
   "outputs": [],
   "source": [
    "ca_ipums_hw_white_2016 = add_geo_high_wages(ca_ipums_white_2016)\n",
    "ca_ipums_hw_latino_2016 = add_geo_high_wages(ca_ipums_latino_2016)\n",
    "ca_ipums_hw_black_2016 = add_geo_high_wages(ca_ipums_black_2016)\n",
    "ca_ipums_hw_native_2016 = add_geo_high_wages(ca_ipums_native_2016)\n",
    "ca_ipums_hw_asian_2016 = add_geo_high_wages(ca_ipums_asian_2016)\n",
    "ca_ipums_hw_other_2016 = add_geo_high_wages(ca_ipums_other_2016)\n",
    "ca_ipums_hw_multi_2016 = add_geo_high_wages(ca_ipums_multi_2016)"
   ]
  },
  {
   "cell_type": "code",
   "execution_count": 47,
   "id": "911ee41d",
   "metadata": {},
   "outputs": [],
   "source": [
    "race_ipums_dfs_2016 = [ca_ipums_hw_white_2016, \n",
    "                  ca_ipums_hw_latino_2016, \n",
    "                  ca_ipums_hw_black_2016, \n",
    "                  ca_ipums_hw_native_2016, \n",
    "                  ca_ipums_hw_asian_2016, \n",
    "                  ca_ipums_hw_other_2016, \n",
    "                  ca_ipums_hw_multi_2016]"
   ]
  },
  {
   "cell_type": "code",
   "execution_count": 48,
   "id": "e04223c0",
   "metadata": {},
   "outputs": [],
   "source": [
    "for df in race_ipums_dfs_2016:\n",
    "    df['Sub_1_Code'] = [str(x) for x in df['Sub_1_Code']]\n",
    "    df['Main_Code'] = [str(x) for x in df['Main_Code']]"
   ]
  },
  {
   "cell_type": "markdown",
   "id": "4b3b4344",
   "metadata": {},
   "source": [
    "**2015**"
   ]
  },
  {
   "cell_type": "code",
   "execution_count": 34,
   "id": "bac92ec8",
   "metadata": {},
   "outputs": [],
   "source": [
    "ca_ipums_latino_2015 = ipums_2015.loc[ipums_2015['HISPAN'] != 0]\n",
    "ca_ipums_no_latino_2015 = ipums_2015.loc[ipums_2015['HISPAN'] == 0]\n",
    "ca_ipums_white_2015 = ca_ipums_no_latino_2015.loc[ca_ipums_no_latino_2015['RACE'] == 1]\n",
    "ca_ipums_black_2015 = ca_ipums_no_latino_2015.loc[ca_ipums_no_latino_2015['RACE'] == 2]\n",
    "ca_ipums_native_2015 = ca_ipums_no_latino_2015.loc[ca_ipums_no_latino_2015['RACE'] == 3]\n",
    "ca_ipums_asian_2015 = ca_ipums_no_latino_2015.loc[(ca_ipums_no_latino_2015['RACE'] == 4) |\n",
    "                                   (ca_ipums_no_latino_2015['RACE'] == 5) |\n",
    "                                   (ca_ipums_no_latino_2015['RACE'] == 6)]\n",
    "ca_ipums_other_2015 = ca_ipums_no_latino_2015.loc[ca_ipums_no_latino_2015['RACE'] == 7]\n",
    "ca_ipums_multi_2015 = ca_ipums_no_latino_2015.loc[(ca_ipums_no_latino_2015['RACE'] == 8) |\n",
    "                                   (ca_ipums_no_latino_2015['RACE'] == 9)]"
   ]
  },
  {
   "cell_type": "code",
   "execution_count": 35,
   "id": "e8c3d329",
   "metadata": {},
   "outputs": [],
   "source": [
    "wt_counts = {}\n",
    "for title in ipums_2015['Industry Title'].unique():\n",
    "    title_copy = ipums_2015.loc[ipums_2015['Industry Title'] == title].copy()\n",
    "    wt_counts[title] = title_copy['PERWT'].sum()"
   ]
  },
  {
   "cell_type": "code",
   "execution_count": 36,
   "id": "f61b48c7",
   "metadata": {},
   "outputs": [],
   "source": [
    "ca_ipums_white_2015 = append_race_ratio(ca_ipums_white_2015, wt_counts)\n",
    "ca_ipums_latino_2015 = append_race_ratio(ca_ipums_latino_2015, wt_counts)\n",
    "ca_ipums_black_2015 = append_race_ratio(ca_ipums_black_2015, wt_counts)\n",
    "ca_ipums_native_2015 = append_race_ratio(ca_ipums_native_2015, wt_counts)\n",
    "ca_ipums_asian_2015 = append_race_ratio(ca_ipums_asian_2015, wt_counts)\n",
    "ca_ipums_other_2015 = append_race_ratio(ca_ipums_other_2015, wt_counts)\n",
    "ca_ipums_multi_2015 = append_race_ratio(ca_ipums_multi_2015, wt_counts)"
   ]
  },
  {
   "cell_type": "code",
   "execution_count": 49,
   "id": "9e257798",
   "metadata": {},
   "outputs": [],
   "source": [
    "ca_ipums_hw_white_2015 = add_geo_high_wages(ca_ipums_white_2015)\n",
    "ca_ipums_hw_latino_2015 = add_geo_high_wages(ca_ipums_latino_2015)\n",
    "ca_ipums_hw_black_2015 = add_geo_high_wages(ca_ipums_black_2015)\n",
    "ca_ipums_hw_native_2015 = add_geo_high_wages(ca_ipums_native_2015)\n",
    "ca_ipums_hw_asian_2015 = add_geo_high_wages(ca_ipums_asian_2015)\n",
    "ca_ipums_hw_other_2015 = add_geo_high_wages(ca_ipums_other_2015)\n",
    "ca_ipums_hw_multi_2015 = add_geo_high_wages(ca_ipums_multi_2015)"
   ]
  },
  {
   "cell_type": "code",
   "execution_count": 50,
   "id": "562c380a",
   "metadata": {},
   "outputs": [],
   "source": [
    "race_ipums_dfs_2015 = [ca_ipums_hw_white_2015, \n",
    "                  ca_ipums_hw_latino_2015, \n",
    "                  ca_ipums_hw_black_2015, \n",
    "                  ca_ipums_hw_native_2015, \n",
    "                  ca_ipums_hw_asian_2015, \n",
    "                  ca_ipums_hw_other_2015, \n",
    "                  ca_ipums_hw_multi_2015]"
   ]
  },
  {
   "cell_type": "code",
   "execution_count": 51,
   "id": "609febed",
   "metadata": {},
   "outputs": [],
   "source": [
    "for df in race_ipums_dfs_2015:\n",
    "    df['Sub_1_Code'] = [str(x) for x in df['Sub_1_Code']]\n",
    "    df['Main_Code'] = [str(x) for x in df['Main_Code']]"
   ]
  },
  {
   "cell_type": "markdown",
   "id": "95b7dd44",
   "metadata": {},
   "source": [
    "### High Wage Output Functions"
   ]
  },
  {
   "cell_type": "code",
   "execution_count": 52,
   "id": "c5a84371",
   "metadata": {},
   "outputs": [],
   "source": [
    "def edd_to_hw(edd_df, ipums_df_hw, naics_df, county_df, county: str, parsed_code: str, date: str, sample_size: int):\n",
    "    # filter edd by date, edd county, and industry via parsed code\n",
    "    edd_df = edd_df.loc[edd_df['Date'] == date].copy()\n",
    "    if len(edd_df) == 0:\n",
    "        return \"Date not valid or found\", np.nan, np.nan, np.nan\n",
    "    edd_df = edd_df.loc[(edd_df['Sub_4_Code'] == parsed_code) | \n",
    "                        (edd_df['Sub_3_Code'] == parsed_code) | \n",
    "                        (edd_df['Sub_2_Code'] == parsed_code) | \n",
    "                        (edd_df['Sub_1_Code'] == parsed_code) | \n",
    "                        (edd_df['Main_Code'] == parsed_code)].copy()\n",
    "    edd_df = edd_df.loc[edd_df['Area Name'] == county] # this is possible because all counties are in EDD data\n",
    "    edd_df = edd_df.drop_duplicates(subset='Main_EDD').reset_index().iloc[:,1:]\n",
    "    \n",
    "    # merge naics with edd\n",
    "    edd_df_ = pd.merge(edd_df, naics_df, on='Sub_4_Code')\n",
    "    if len(edd_df_) == 0:\n",
    "        edd_df_ = pd.merge(edd_df, naics_df, on='Sub_3_Code')\n",
    "        if len(edd_df_) == 0:\n",
    "            edd_df_ = pd.merge(edd_df, naics_df, on='Sub_2_Code')\n",
    "            if len(edd_df_) == 0:\n",
    "                edd_df_ = pd.merge(edd_df, naics_df, on='Sub_1_Code')\n",
    "                if len(edd_df_) == 0:\n",
    "                    edd_df_ = pd.merge(edd_df, naics_df, on='Main_Code')\n",
    "                    if len(edd_df_) == 0:\n",
    "                        return \"No parsed code of input industry found within input county\", np.nan, np.nan, np.nan\n",
    "    edd_df = edd_df_.rename(columns = {'Industry Title_x':'EDD Industry',\n",
    "                                 'Industry Title_y': 'IPUMS Industry'})\n",
    "    edd_df = edd_df[['EDD Industry', 'Area Name', 'IPUMS Industry', 'INDNAICS', 'Current Employment']]\n",
    "    employment_count = int(edd_df['Current Employment'].values[0])\n",
    "    naics_code = edd_df['INDNAICS'].values[0]\n",
    "    output, hw_perc, industry, ratio = ca_ipums_filter(ipums_df_hw, county_df, county, naics_code, sample_size)\n",
    "    race_ind_count = employment_count * ratio\n",
    "    hw_count = (race_ind_count * hw_perc) / 100\n",
    "    output += f\", High wage count: {hw_count}\"\n",
    "    return output, hw_count, industry, race_ind_count"
   ]
  },
  {
   "cell_type": "code",
   "execution_count": 53,
   "id": "702ff840",
   "metadata": {},
   "outputs": [],
   "source": [
    "def ca_ipums_filter(df, county_df, county: str, NAICS: str, n: int):\n",
    "    df = df.loc[df['County'] == county].copy()\n",
    "    level = 'county'\n",
    "    if len(df) == 0:\n",
    "        county_df = county_df.loc[county_df['County'] == county].copy() # narrow down county df\n",
    "        reg_rural_urban = county_df['Regional Rural/Urban'].values[0]\n",
    "        region = county_df['CDI Regions'].values[0]\n",
    "        rural_urban = county_df['Rural/Urban'].values[0]\n",
    "        df = df.loc[df['Regional Rural/Urban'] == reg_rural_urban].copy()\n",
    "        level = 'reg_rural_urban'\n",
    "        if len(df) == 0:\n",
    "            df = df.loc[df['CDI Regions'] == region].copy()\n",
    "            level = 'region'\n",
    "            if len(df) == 0:\n",
    "                df = df.loc[df['Rural/Urban'] == rural_urban].copy()\n",
    "                level = 'rural_urban'\n",
    "                if len(df) == 0:\n",
    "                    level = 'state'\n",
    "    \n",
    "    df = df.loc[df['INDNAICS'] == NAICS].copy()\n",
    "    try:\n",
    "        industry = df['Industry Title'].values[0]\n",
    "    except:\n",
    "        return \"Industry not valid or found\", np.nan, np.nan, np.nan\n",
    "    if len(df) == 0:\n",
    "        return \"NAICS Code not valid or found\", np.nan, np.nan, np.nan\n",
    "    df = df.drop_duplicates(subset='INDNAICS').reset_index().iloc[:,1:]\n",
    "    \n",
    "    # incorporate tracked levels for conditions\n",
    "    if level == 'county':\n",
    "        if df['unwt_county_ind_counts'].values[0] >= n:\n",
    "            return f\"County: {county}, Geographical level used: County, Industry: {industry}, High wage percentage: {df['wt_county_hw_perc'].values[0]}\", df['wt_county_hw_perc'].values[0], industry, df['race_ratio'].values[0]\n",
    "        elif df['unwt_regcomm_ind_counts'].values[0] >= n:\n",
    "            return f\"County: {county}, Geographical level used: Regional Rural/Urban, Industry: {industry}, High wage percentage: {df['wt_regcomm_hw_perc'].values[0]}\", df['wt_regcomm_hw_perc'].values[0], industry, df['race_ratio'].values[0]\n",
    "        elif df['unwt_reg_ind_counts'].values[0] >= n:\n",
    "            return f\"County: {county}, Geographical level used: Regional, Industry: {industry}, High wage percentage: {df['wt_reg_high_wage_perc'].values[0]}\", df['wt_reg_high_wage_perc'].values[0], industry, df['race_ratio'].values[0]\n",
    "        elif df['unwt_comm_ind_counts'].values[0] >= n:\n",
    "            return f\"County: {county}, Geographical level used: Rural/Urban, Industry: {industry}, High wage percentage: {df['wt_comm_high_wage_perc'].values[0]}\", df['wt_comm_high_wage_perc'].values[0], industry, df['race_ratio'].values[0]\n",
    "        elif df['unwt_ind_counts'].values[0] >= n:\n",
    "            return f\"County: {county}, Geographical level used: State, Industry: {industry}, High wage percentage: {df['wt_CA_high_wage_perc'].values[0]}\", df['wt_CA_high_wage_perc'].values[0], industry, df['race_ratio'].values[0]\n",
    "        else:\n",
    "            return \"Not enough records available to satisfy sample size request\", np.nan, np.nan, np.nan\n",
    "        \n",
    "    elif level == 'reg_rural_urban':\n",
    "        if df['unwt_regcomm_ind_counts'].values[0] >= n:\n",
    "            return f\"County: {county}, Geographical level used: Regional Rural/Urban, Industry: {industry}, High wage percentage: {df['wt_regcomm_hw_perc'].values[0]}\", df['wt_regcomm_hw_perc'].values[0], industry, df['race_ratio'].values[0]\n",
    "        elif df['unwt_reg_ind_counts'].values[0] >= n:\n",
    "            return f\"County: {county}, Geographical level used: Regional, Industry: {industry}, High wage percentage: {df['wt_reg_high_wage_perc'].values[0]}\", df['wt_reg_high_wage_perc'].values[0], industry, df['race_ratio'].values[0]\n",
    "        elif df['unwt_comm_ind_counts'].values[0] >= n:\n",
    "            return f\"County: {county}, Geographical level used: Rural/Urban, Industry: {industry}, High wage percentage: {df['wt_comm_high_wage_perc'].values[0]}\", df['wt_comm_high_wage_perc'].values[0], industry, df['race_ratio'].values[0]\n",
    "        elif df['unwt_ind_counts'].values[0] >= n:\n",
    "            return f\"County: {county}, Geographical level used: State, Industry: {industry}, High wage percentage: {df['wt_CA_high_wage_perc'].values[0]}\", df['wt_CA_high_wage_perc'].values[0], industry, df['race_ratio'].values[0]\n",
    "        else:\n",
    "            return \"Not enough records available to satisfy sample size request\", np.nan, np.nan, np.nan\n",
    "        \n",
    "    elif level == 'region':\n",
    "        if df['unwt_reg_ind_counts'].values[0] >= n:\n",
    "            return f\"County: {county}, Geographical level used: Regional, Industry: {industry}, High wage percentage: {df['wt_reg_high_wage_perc'].values[0]}\", df['wt_reg_high_wage_perc'].values[0], industry, df['race_ratio'].values[0]\n",
    "        elif df['unwt_comm_ind_counts'].values[0] >= n:\n",
    "            return f\"County: {county}, Geographical level used: Rural/Urban, Industry: {industry}, High wage percentage: {df['wt_comm_high_wage_perc'].values[0]}\", df['wt_comm_high_wage_perc'].values[0], industry, df['race_ratio'].values[0]\n",
    "        elif df['unwt_ind_counts'].values[0] >= n:\n",
    "            return f\"County: {county}, Geographical level used: State, Industry: {industry}, High wage percentage: {df['wt_CA_high_wage_perc'].values[0]}\", df['wt_CA_high_wage_perc'].values[0], industry, df['race_ratio'].values[0]\n",
    "        else:\n",
    "            return \"Not enough records available to satisfy sample size request\", np.nan, np.nan, np.nan\n",
    "        \n",
    "    elif level == 'rural_urban':\n",
    "        if df['unwt_comm_ind_counts'].values[0] >= n:\n",
    "            return f\"County: {county}, Geographical level used: Rural/Urban, Industry: {industry}, High wage percentage: {df['wt_comm_high_wage_perc'].values[0]}\", df['wt_comm_high_wage_perc'].values[0], industry, df['race_ratio'].values[0]\n",
    "        elif df['unwt_ind_counts'].values[0] >= n:\n",
    "            return f\"County: {county}, Geographical level used: State, Industry: {industry}, High wage percentage: {df['wt_CA_high_wage_perc'].values[0]}\", df['wt_CA_high_wage_perc'].values[0], industry, df['race_ratio'].values[0]\n",
    "        else:\n",
    "            return \"Not enough records available to satisfy sample size request\", np.nan, np.nan, np.nan\n",
    "        \n",
    "    elif level == 'state':\n",
    "        if df['unwt_ind_counts'].values[0] >= n:\n",
    "            return f\"County: {county}, Geographical level used: State, Industry: {industry}, High wage percentage: {df['wt_CA_high_wage_perc'].values[0]}\", df['wt_CA_high_wage_perc'].values[0], industry, df['race_ratio'].values[0]\n",
    "        else:\n",
    "            return \"Not enough records available to satisfy sample size request\", np.nan, np.nan, np.nan"
   ]
  },
  {
   "cell_type": "markdown",
   "id": "baac0060",
   "metadata": {},
   "source": [
    "### High Wage Outputs - 2019"
   ]
  },
  {
   "cell_type": "markdown",
   "id": "93d1596a",
   "metadata": {},
   "source": [
    "Previously computed in `jqi-race-breakdown`"
   ]
  },
  {
   "cell_type": "markdown",
   "id": "0210c438",
   "metadata": {},
   "source": [
    "### High Wage Outputs - 2018"
   ]
  },
  {
   "cell_type": "code",
   "execution_count": 54,
   "id": "b85a1c93",
   "metadata": {},
   "outputs": [],
   "source": [
    "counties_edd = edd_2018['Area Name'].unique()\n",
    "parsed_codes = set(list(edd_2018['Main_Code'].unique()) + \n",
    "                   list(edd_2018['Sub_1_Code'].unique()) + \n",
    "                   list(edd_2018['Sub_2_Code'].unique()) + \n",
    "                   list(edd_2018['Sub_3_Code'].unique()) + \n",
    "                   list(edd_2018['Sub_4_Code'].unique()))\n",
    "dates_edd = edd_2018['Date'].unique()\n",
    "total_iterations = len(counties_edd) * len(parsed_codes) * len(dates_edd)"
   ]
  },
  {
   "cell_type": "markdown",
   "id": "4e0a3c24",
   "metadata": {},
   "source": [
    "White"
   ]
  },
  {
   "cell_type": "code",
   "execution_count": 58,
   "id": "2fa0b048",
   "metadata": {},
   "outputs": [
    {
     "name": "stdout",
     "output_type": "stream",
     "text": [
      "Progress: 10% Complete\n",
      "Progress: 20% Complete\n",
      "Progress: 30% Complete\n",
      "Progress: 40% Complete\n",
      "Progress: 50% Complete\n",
      "Progress: 60% Complete\n",
      "Progress: 70% Complete\n",
      "Progress: 80% Complete\n",
      "Progress: 90% Complete\n",
      "Progress: 100% Complete\n"
     ]
    }
   ],
   "source": [
    "industries = []\n",
    "dates = []\n",
    "counties = []\n",
    "counts = []\n",
    "emp_counts = []\n",
    "progress_count = 0\n",
    "for county in counties_edd:\n",
    "    for code in parsed_codes:\n",
    "        for date in dates_edd:\n",
    "            output, hw, industry, emp_count = edd_to_hw(edd_2018, ca_ipums_hw_white_2018, naics, county_info, county, str(code), date, 10)\n",
    "            industries.append(industry)\n",
    "            dates.append(date)\n",
    "            counties.append(county)\n",
    "            counts.append(hw)\n",
    "            emp_counts.append(emp_count)\n",
    "            progress_count += 1\n",
    "            if progress_count % 10440 == 0:\n",
    "                percent_done = int((progress_count / total_iterations) * 100)\n",
    "                print(f'Progress: {percent_done}% Complete')"
   ]
  },
  {
   "cell_type": "code",
   "execution_count": 59,
   "id": "b7bd92ce",
   "metadata": {},
   "outputs": [],
   "source": [
    "df_dict_white_2018 = {'Industry':industries, 'Date':dates, 'County':counties, 'High Wage Count':counts, 'Employment Count':emp_counts}\n",
    "tidy_df_white_2018 = pd.DataFrame(df_dict_white_2018)\n",
    "tidy_df_white_2018 = tidy_df_white_2018[tidy_df_white_2018['Industry'].notna()]\n",
    "tidy_df_white_2018['Date']= pd.to_datetime(tidy_df_white_2018['Date'])\n",
    "tidy_df_white_2018['High Wage Count'] = tidy_df_white_2018['High Wage Count'].astype(int)\n",
    "tidy_df_white_2018 = tidy_df_white_2018.sort_values(by=['Industry', 'County', 'Date'])\n",
    "tidy_df_white_2018['Output Race'] = 'White'"
   ]
  },
  {
   "cell_type": "markdown",
   "id": "a618f226",
   "metadata": {},
   "source": [
    "Latino"
   ]
  },
  {
   "cell_type": "code",
   "execution_count": 60,
   "id": "5649c6b5",
   "metadata": {},
   "outputs": [
    {
     "name": "stdout",
     "output_type": "stream",
     "text": [
      "Progress: 10% Complete\n",
      "Progress: 20% Complete\n",
      "Progress: 30% Complete\n",
      "Progress: 40% Complete\n",
      "Progress: 50% Complete\n",
      "Progress: 60% Complete\n",
      "Progress: 70% Complete\n",
      "Progress: 80% Complete\n",
      "Progress: 90% Complete\n",
      "Progress: 100% Complete\n"
     ]
    }
   ],
   "source": [
    "industries = []\n",
    "dates = []\n",
    "counties = []\n",
    "counts = []\n",
    "emp_counts = []\n",
    "progress_count = 0\n",
    "for county in counties_edd:\n",
    "    for code in parsed_codes:\n",
    "        for date in dates_edd:\n",
    "            output, hw, industry, emp_count = edd_to_hw(edd_2018, ca_ipums_hw_latino_2018, naics, county_info, county, str(code), date, 10)\n",
    "            industries.append(industry)\n",
    "            dates.append(date)\n",
    "            counties.append(county)\n",
    "            counts.append(hw)\n",
    "            emp_counts.append(emp_count)\n",
    "            progress_count += 1\n",
    "            if progress_count % 10440 == 0:\n",
    "                percent_done = int((progress_count / total_iterations) * 100)\n",
    "                print(f'Progress: {percent_done}% Complete')"
   ]
  },
  {
   "cell_type": "code",
   "execution_count": 61,
   "id": "a6211496",
   "metadata": {},
   "outputs": [],
   "source": [
    "df_dict_latino_2018 = {'Industry':industries, 'Date':dates, 'County':counties, 'High Wage Count':counts, 'Employment Count':emp_counts}\n",
    "tidy_df_latino_2018 = pd.DataFrame(df_dict_latino_2018)\n",
    "tidy_df_latino_2018 = tidy_df_latino_2018[tidy_df_latino_2018['Industry'].notna()]\n",
    "tidy_df_latino_2018['Date']= pd.to_datetime(tidy_df_latino_2018['Date'])\n",
    "tidy_df_latino_2018['High Wage Count'] = tidy_df_latino_2018['High Wage Count'].astype(int)\n",
    "tidy_df_latino_2018 = tidy_df_latino_2018.sort_values(by=['Industry', 'County', 'Date'])\n",
    "tidy_df_latino_2018['Output Race'] = 'Latino'"
   ]
  },
  {
   "cell_type": "markdown",
   "id": "a3ce46bc",
   "metadata": {},
   "source": [
    "Black"
   ]
  },
  {
   "cell_type": "code",
   "execution_count": 62,
   "id": "99e4002b",
   "metadata": {},
   "outputs": [
    {
     "name": "stdout",
     "output_type": "stream",
     "text": [
      "Progress: 10% Complete\n",
      "Progress: 20% Complete\n",
      "Progress: 30% Complete\n",
      "Progress: 40% Complete\n",
      "Progress: 50% Complete\n",
      "Progress: 60% Complete\n",
      "Progress: 70% Complete\n",
      "Progress: 80% Complete\n",
      "Progress: 90% Complete\n",
      "Progress: 100% Complete\n"
     ]
    }
   ],
   "source": [
    "industries = []\n",
    "dates = []\n",
    "counties = []\n",
    "counts = []\n",
    "emp_counts = []\n",
    "progress_count = 0\n",
    "for county in counties_edd:\n",
    "    for code in parsed_codes:\n",
    "        for date in dates_edd:\n",
    "            output, hw, industry, emp_count = edd_to_hw(edd_2018, ca_ipums_hw_black_2018, naics, county_info, county, str(code), date, 10)\n",
    "            industries.append(industry)\n",
    "            dates.append(date)\n",
    "            counties.append(county)\n",
    "            counts.append(hw)\n",
    "            emp_counts.append(emp_count)\n",
    "            progress_count += 1\n",
    "            if progress_count % 10440 == 0:\n",
    "                percent_done = int((progress_count / total_iterations) * 100)\n",
    "                print(f'Progress: {percent_done}% Complete')"
   ]
  },
  {
   "cell_type": "code",
   "execution_count": 63,
   "id": "1536a290",
   "metadata": {},
   "outputs": [],
   "source": [
    "df_dict_black_2018 = {'Industry':industries, 'Date':dates, 'County':counties, 'High Wage Count':counts, 'Employment Count':emp_counts}\n",
    "tidy_df_black_2018 = pd.DataFrame(df_dict_black_2018)\n",
    "tidy_df_black_2018 = tidy_df_black_2018[tidy_df_black_2018['Industry'].notna()]\n",
    "tidy_df_black_2018['Date']= pd.to_datetime(tidy_df_black_2018['Date'])\n",
    "tidy_df_black_2018['High Wage Count'] = tidy_df_black_2018['High Wage Count'].astype(int)\n",
    "tidy_df_black_2018 = tidy_df_black_2018.sort_values(by=['Industry', 'County', 'Date'])\n",
    "tidy_df_black_2018['Output Race'] = 'Black'"
   ]
  },
  {
   "cell_type": "markdown",
   "id": "a804a1aa",
   "metadata": {},
   "source": [
    "American Indian/Alaska Native"
   ]
  },
  {
   "cell_type": "code",
   "execution_count": 64,
   "id": "054c2755",
   "metadata": {},
   "outputs": [
    {
     "name": "stdout",
     "output_type": "stream",
     "text": [
      "Progress: 10% Complete\n",
      "Progress: 20% Complete\n",
      "Progress: 30% Complete\n",
      "Progress: 40% Complete\n",
      "Progress: 50% Complete\n",
      "Progress: 60% Complete\n",
      "Progress: 70% Complete\n",
      "Progress: 80% Complete\n",
      "Progress: 90% Complete\n",
      "Progress: 100% Complete\n"
     ]
    }
   ],
   "source": [
    "industries = []\n",
    "dates = []\n",
    "counties = []\n",
    "counts = []\n",
    "emp_counts = []\n",
    "progress_count = 0\n",
    "for county in counties_edd:\n",
    "    for code in parsed_codes:\n",
    "        for date in dates_edd:\n",
    "            output, hw, industry, emp_count = edd_to_hw(edd_2018, ca_ipums_hw_native_2018, naics, county_info, county, str(code), date, 10)\n",
    "            industries.append(industry)\n",
    "            dates.append(date)\n",
    "            counties.append(county)\n",
    "            counts.append(hw)\n",
    "            emp_counts.append(emp_count)\n",
    "            progress_count += 1\n",
    "            if progress_count % 10440 == 0:\n",
    "                percent_done = int((progress_count / total_iterations) * 100)\n",
    "                print(f'Progress: {percent_done}% Complete')"
   ]
  },
  {
   "cell_type": "code",
   "execution_count": 65,
   "id": "48e73cfc",
   "metadata": {},
   "outputs": [],
   "source": [
    "df_dict_native_2018 = {'Industry':industries, 'Date':dates, 'County':counties, 'High Wage Count':counts, 'Employment Count':emp_counts}\n",
    "tidy_df_native_2018 = pd.DataFrame(df_dict_native_2018)\n",
    "tidy_df_native_2018 = tidy_df_native_2018[tidy_df_native_2018['Industry'].notna()]\n",
    "tidy_df_native_2018['Date']= pd.to_datetime(tidy_df_native_2018['Date'])\n",
    "tidy_df_native_2018['High Wage Count'] = tidy_df_native_2018['High Wage Count'].astype(int)\n",
    "tidy_df_native_2018 = tidy_df_native_2018.sort_values(by=['Industry', 'County', 'Date'])\n",
    "tidy_df_native_2018['Output Race'] = 'American Indian/Alaska Native'"
   ]
  },
  {
   "cell_type": "markdown",
   "id": "e46f8e0b",
   "metadata": {},
   "source": [
    "Asian"
   ]
  },
  {
   "cell_type": "code",
   "execution_count": 66,
   "id": "bcd57791",
   "metadata": {},
   "outputs": [
    {
     "name": "stdout",
     "output_type": "stream",
     "text": [
      "Progress: 10% Complete\n",
      "Progress: 20% Complete\n",
      "Progress: 30% Complete\n",
      "Progress: 40% Complete\n",
      "Progress: 50% Complete\n",
      "Progress: 60% Complete\n",
      "Progress: 70% Complete\n",
      "Progress: 80% Complete\n",
      "Progress: 90% Complete\n",
      "Progress: 100% Complete\n"
     ]
    }
   ],
   "source": [
    "industries = []\n",
    "dates = []\n",
    "counties = []\n",
    "counts = []\n",
    "emp_counts = []\n",
    "progress_count = 0\n",
    "for county in counties_edd:\n",
    "    for code in parsed_codes:\n",
    "        for date in dates_edd:\n",
    "            output, hw, industry, emp_count = edd_to_hw(edd_2018, ca_ipums_hw_asian_2018, naics, county_info, county, str(code), date, 10)\n",
    "            industries.append(industry)\n",
    "            dates.append(date)\n",
    "            counties.append(county)\n",
    "            counts.append(hw)\n",
    "            emp_counts.append(emp_count)\n",
    "            progress_count += 1\n",
    "            if progress_count % 10440 == 0:\n",
    "                percent_done = int((progress_count / total_iterations) * 100)\n",
    "                print(f'Progress: {percent_done}% Complete')"
   ]
  },
  {
   "cell_type": "code",
   "execution_count": 67,
   "id": "4cb01f79",
   "metadata": {},
   "outputs": [],
   "source": [
    "df_dict_asian_2018 = {'Industry':industries, 'Date':dates, 'County':counties, 'High Wage Count':counts, 'Employment Count':emp_counts}\n",
    "tidy_df_asian_2018 = pd.DataFrame(df_dict_asian_2018)\n",
    "tidy_df_asian_2018 = tidy_df_asian_2018[tidy_df_asian_2018['Industry'].notna()]\n",
    "tidy_df_asian_2018['Date']= pd.to_datetime(tidy_df_asian_2018['Date'])\n",
    "tidy_df_asian_2018['High Wage Count'] = tidy_df_asian_2018['High Wage Count'].astype(int)\n",
    "tidy_df_asian_2018 = tidy_df_asian_2018.sort_values(by=['Industry', 'County', 'Date'])\n",
    "tidy_df_asian_2018['Output Race'] = 'Asian'"
   ]
  },
  {
   "cell_type": "markdown",
   "id": "bc9142a1",
   "metadata": {},
   "source": [
    "Other"
   ]
  },
  {
   "cell_type": "code",
   "execution_count": 68,
   "id": "5c53a93e",
   "metadata": {},
   "outputs": [
    {
     "name": "stdout",
     "output_type": "stream",
     "text": [
      "Progress: 10% Complete\n",
      "Progress: 20% Complete\n",
      "Progress: 30% Complete\n",
      "Progress: 40% Complete\n",
      "Progress: 50% Complete\n",
      "Progress: 60% Complete\n",
      "Progress: 70% Complete\n",
      "Progress: 80% Complete\n",
      "Progress: 90% Complete\n",
      "Progress: 100% Complete\n"
     ]
    }
   ],
   "source": [
    "industries = []\n",
    "dates = []\n",
    "counties = []\n",
    "counts = []\n",
    "emp_counts = []\n",
    "progress_count = 0\n",
    "for county in counties_edd:\n",
    "    for code in parsed_codes:\n",
    "        for date in dates_edd:\n",
    "            output, hw, industry, emp_count = edd_to_hw(edd_2018, ca_ipums_hw_other_2018, naics, county_info, county, str(code), date, 10)\n",
    "            industries.append(industry)\n",
    "            dates.append(date)\n",
    "            counties.append(county)\n",
    "            counts.append(hw)\n",
    "            emp_counts.append(emp_count)\n",
    "            progress_count += 1\n",
    "            if progress_count % 10440 == 0:\n",
    "                percent_done = int((progress_count / total_iterations) * 100)\n",
    "                print(f'Progress: {percent_done}% Complete')"
   ]
  },
  {
   "cell_type": "code",
   "execution_count": 69,
   "id": "5eae0953",
   "metadata": {},
   "outputs": [],
   "source": [
    "df_dict_other_2018 = {'Industry':industries, 'Date':dates, 'County':counties, 'High Wage Count':counts, 'Employment Count':emp_counts}\n",
    "tidy_df_other_2018 = pd.DataFrame(df_dict_other_2018)\n",
    "tidy_df_other_2018 = tidy_df_other_2018[tidy_df_other_2018['Industry'].notna()]\n",
    "tidy_df_other_2018['Date']= pd.to_datetime(tidy_df_other_2018['Date'])\n",
    "tidy_df_other_2018['High Wage Count'] = tidy_df_other_2018['High Wage Count'].astype(int)\n",
    "tidy_df_other_2018 = tidy_df_other_2018.sort_values(by=['Industry', 'County', 'Date'])\n",
    "tidy_df_other_2018['Output Race'] = 'Some other race'"
   ]
  },
  {
   "cell_type": "markdown",
   "id": "c210b11a",
   "metadata": {},
   "source": [
    "Multi"
   ]
  },
  {
   "cell_type": "code",
   "execution_count": 70,
   "id": "1bb2a7c1",
   "metadata": {},
   "outputs": [
    {
     "name": "stdout",
     "output_type": "stream",
     "text": [
      "Progress: 10% Complete\n",
      "Progress: 20% Complete\n",
      "Progress: 30% Complete\n",
      "Progress: 40% Complete\n",
      "Progress: 50% Complete\n",
      "Progress: 60% Complete\n",
      "Progress: 70% Complete\n",
      "Progress: 80% Complete\n",
      "Progress: 90% Complete\n",
      "Progress: 100% Complete\n"
     ]
    }
   ],
   "source": [
    "industries = []\n",
    "dates = []\n",
    "counties = []\n",
    "counts = []\n",
    "emp_counts = []\n",
    "progress_count = 0\n",
    "for county in counties_edd:\n",
    "    for code in parsed_codes:\n",
    "        for date in dates_edd:\n",
    "            output, hw, industry, emp_count = edd_to_hw(edd_2018, ca_ipums_hw_multi_2018, naics, county_info, county, str(code), date, 10)\n",
    "            industries.append(industry)\n",
    "            dates.append(date)\n",
    "            counties.append(county)\n",
    "            counts.append(hw)\n",
    "            emp_counts.append(emp_count)\n",
    "            progress_count += 1\n",
    "            if progress_count % 10440 == 0:\n",
    "                percent_done = int((progress_count / total_iterations) * 100)\n",
    "                print(f'Progress: {percent_done}% Complete')"
   ]
  },
  {
   "cell_type": "code",
   "execution_count": 71,
   "id": "8987b1bd",
   "metadata": {},
   "outputs": [],
   "source": [
    "df_dict_multi_2018 = {'Industry':industries, 'Date':dates, 'County':counties, 'High Wage Count':counts, 'Employment Count':emp_counts}\n",
    "tidy_df_multi_2018 = pd.DataFrame(df_dict_multi_2018)\n",
    "tidy_df_multi_2018 = tidy_df_multi_2018[tidy_df_multi_2018['Industry'].notna()]\n",
    "tidy_df_multi_2018['Date']= pd.to_datetime(tidy_df_multi_2018['Date'])\n",
    "tidy_df_multi_2018['High Wage Count'] = tidy_df_multi_2018['High Wage Count'].astype(int)\n",
    "tidy_df_multi_2018 = tidy_df_multi_2018.sort_values(by=['Industry', 'County', 'Date'])\n",
    "tidy_df_multi_2018['Output Race'] = 'Multiracial'"
   ]
  },
  {
   "cell_type": "markdown",
   "id": "c8b4c65a",
   "metadata": {},
   "source": [
    "Concatenate"
   ]
  },
  {
   "cell_type": "code",
   "execution_count": 72,
   "id": "5fe5ca4c",
   "metadata": {},
   "outputs": [],
   "source": [
    "df_race_2018 = pd.concat([tidy_df_white_2018, \n",
    "                          tidy_df_black_2018, \n",
    "                          tidy_df_latino_2018, \n",
    "                          tidy_df_asian_2018, \n",
    "                          tidy_df_native_2018, \n",
    "                          tidy_df_other_2018, \n",
    "                          tidy_df_multi_2018], \n",
    "                         ignore_index=True)\n",
    "df_race_2018 = pd.merge(df_race_2018, col_2018, left_on='County', right_on='Regions')\n",
    "df_race_2018['Year'] = 2018\n",
    "df_race_2018 = df_race_2018[['Industry', 'Date', 'County', 'High Wage Count', 'Cost of Living', 'Employment Count', 'Output Race', 'Year']]"
   ]
  },
  {
   "cell_type": "code",
   "execution_count": 89,
   "id": "fd0613cc",
   "metadata": {},
   "outputs": [],
   "source": [
    "df_race_2018.to_csv('hw_outputs_w_race_2018.csv', encoding='utf-8', index=False)"
   ]
  },
  {
   "cell_type": "markdown",
   "id": "580850a1",
   "metadata": {},
   "source": [
    "### High Wage Outputs - 2017"
   ]
  },
  {
   "cell_type": "code",
   "execution_count": 73,
   "id": "e6876256",
   "metadata": {},
   "outputs": [],
   "source": [
    "counties_edd = edd_2017['Area Name'].unique()\n",
    "parsed_codes = set(list(edd_2017['Main_Code'].unique()) + \n",
    "                   list(edd_2017['Sub_1_Code'].unique()) + \n",
    "                   list(edd_2017['Sub_2_Code'].unique()) + \n",
    "                   list(edd_2017['Sub_3_Code'].unique()) + \n",
    "                   list(edd_2017['Sub_4_Code'].unique()))\n",
    "dates_edd = edd_2017['Date'].unique()\n",
    "total_iterations = len(counties_edd) * len(parsed_codes) * len(dates_edd)"
   ]
  },
  {
   "cell_type": "markdown",
   "id": "77d243c5",
   "metadata": {},
   "source": [
    "White"
   ]
  },
  {
   "cell_type": "code",
   "execution_count": 74,
   "id": "c7d30ce2",
   "metadata": {},
   "outputs": [
    {
     "name": "stdout",
     "output_type": "stream",
     "text": [
      "Progress: 10% Complete\n",
      "Progress: 20% Complete\n",
      "Progress: 30% Complete\n",
      "Progress: 40% Complete\n",
      "Progress: 50% Complete\n",
      "Progress: 60% Complete\n",
      "Progress: 70% Complete\n",
      "Progress: 80% Complete\n",
      "Progress: 90% Complete\n",
      "Progress: 100% Complete\n"
     ]
    }
   ],
   "source": [
    "industries = []\n",
    "dates = []\n",
    "counties = []\n",
    "counts = []\n",
    "emp_counts = []\n",
    "progress_count = 0\n",
    "for county in counties_edd:\n",
    "    for code in parsed_codes:\n",
    "        for date in dates_edd:\n",
    "            output, hw, industry, emp_count = edd_to_hw(edd_2017, ca_ipums_hw_white_2017, naics, county_info, county, str(code), date, 10)\n",
    "            industries.append(industry)\n",
    "            dates.append(date)\n",
    "            counties.append(county)\n",
    "            counts.append(hw)\n",
    "            emp_counts.append(emp_count)\n",
    "            progress_count += 1\n",
    "            if progress_count % 10440 == 0:\n",
    "                percent_done = int((progress_count / total_iterations) * 100)\n",
    "                print(f'Progress: {percent_done}% Complete')"
   ]
  },
  {
   "cell_type": "code",
   "execution_count": 75,
   "id": "5d435dca",
   "metadata": {},
   "outputs": [],
   "source": [
    "df_dict_white_2017 = {'Industry':industries, 'Date':dates, 'County':counties, 'High Wage Count':counts, 'Employment Count':emp_counts}\n",
    "tidy_df_white_2017 = pd.DataFrame(df_dict_white_2017)\n",
    "tidy_df_white_2017 = tidy_df_white_2017[tidy_df_white_2017['Industry'].notna()]\n",
    "tidy_df_white_2017['Date']= pd.to_datetime(tidy_df_white_2017['Date'])\n",
    "tidy_df_white_2017['High Wage Count'] = tidy_df_white_2017['High Wage Count'].astype(int)\n",
    "tidy_df_white_2017 = tidy_df_white_2017.sort_values(by=['Industry', 'County', 'Date'])\n",
    "tidy_df_white_2017['Output Race'] = 'White'"
   ]
  },
  {
   "cell_type": "markdown",
   "id": "cc9662d9",
   "metadata": {},
   "source": [
    "Latino"
   ]
  },
  {
   "cell_type": "code",
   "execution_count": 76,
   "id": "ff441580",
   "metadata": {},
   "outputs": [
    {
     "name": "stdout",
     "output_type": "stream",
     "text": [
      "Progress: 10% Complete\n",
      "Progress: 20% Complete\n",
      "Progress: 30% Complete\n",
      "Progress: 40% Complete\n",
      "Progress: 50% Complete\n",
      "Progress: 60% Complete\n",
      "Progress: 70% Complete\n",
      "Progress: 80% Complete\n",
      "Progress: 90% Complete\n",
      "Progress: 100% Complete\n"
     ]
    }
   ],
   "source": [
    "industries = []\n",
    "dates = []\n",
    "counties = []\n",
    "counts = []\n",
    "emp_counts = []\n",
    "progress_count = 0\n",
    "for county in counties_edd:\n",
    "    for code in parsed_codes:\n",
    "        for date in dates_edd:\n",
    "            output, hw, industry, emp_count = edd_to_hw(edd_2017, ca_ipums_hw_latino_2017, naics, county_info, county, str(code), date, 10)\n",
    "            industries.append(industry)\n",
    "            dates.append(date)\n",
    "            counties.append(county)\n",
    "            counts.append(hw)\n",
    "            emp_counts.append(emp_count)\n",
    "            progress_count += 1\n",
    "            if progress_count % 10440 == 0:\n",
    "                percent_done = int((progress_count / total_iterations) * 100)\n",
    "                print(f'Progress: {percent_done}% Complete')"
   ]
  },
  {
   "cell_type": "code",
   "execution_count": 77,
   "id": "0f9256e6",
   "metadata": {},
   "outputs": [],
   "source": [
    "df_dict_latino_2017 = {'Industry':industries, 'Date':dates, 'County':counties, 'High Wage Count':counts, 'Employment Count':emp_counts}\n",
    "tidy_df_latino_2017 = pd.DataFrame(df_dict_latino_2017)\n",
    "tidy_df_latino_2017 = tidy_df_latino_2017[tidy_df_latino_2017['Industry'].notna()]\n",
    "tidy_df_latino_2017['Date']= pd.to_datetime(tidy_df_latino_2017['Date'])\n",
    "tidy_df_latino_2017['High Wage Count'] = tidy_df_latino_2017['High Wage Count'].astype(int)\n",
    "tidy_df_latino_2017 = tidy_df_latino_2017.sort_values(by=['Industry', 'County', 'Date'])\n",
    "tidy_df_latino_2017['Output Race'] = 'Latino'"
   ]
  },
  {
   "cell_type": "markdown",
   "id": "d2185251",
   "metadata": {},
   "source": [
    "Black"
   ]
  },
  {
   "cell_type": "code",
   "execution_count": 78,
   "id": "39cc647d",
   "metadata": {},
   "outputs": [
    {
     "name": "stdout",
     "output_type": "stream",
     "text": [
      "Progress: 10% Complete\n",
      "Progress: 20% Complete\n",
      "Progress: 30% Complete\n",
      "Progress: 40% Complete\n",
      "Progress: 50% Complete\n",
      "Progress: 60% Complete\n",
      "Progress: 70% Complete\n",
      "Progress: 80% Complete\n",
      "Progress: 90% Complete\n",
      "Progress: 100% Complete\n"
     ]
    }
   ],
   "source": [
    "industries = []\n",
    "dates = []\n",
    "counties = []\n",
    "counts = []\n",
    "emp_counts = []\n",
    "progress_count = 0\n",
    "for county in counties_edd:\n",
    "    for code in parsed_codes:\n",
    "        for date in dates_edd:\n",
    "            output, hw, industry, emp_count = edd_to_hw(edd_2017, ca_ipums_hw_black_2017, naics, county_info, county, str(code), date, 10)\n",
    "            industries.append(industry)\n",
    "            dates.append(date)\n",
    "            counties.append(county)\n",
    "            counts.append(hw)\n",
    "            emp_counts.append(emp_count)\n",
    "            progress_count += 1\n",
    "            if progress_count % 10440 == 0:\n",
    "                percent_done = int((progress_count / total_iterations) * 100)\n",
    "                print(f'Progress: {percent_done}% Complete')"
   ]
  },
  {
   "cell_type": "code",
   "execution_count": 79,
   "id": "21133d77",
   "metadata": {},
   "outputs": [],
   "source": [
    "df_dict_black_2017 = {'Industry':industries, 'Date':dates, 'County':counties, 'High Wage Count':counts, 'Employment Count':emp_counts}\n",
    "tidy_df_black_2017 = pd.DataFrame(df_dict_black_2017)\n",
    "tidy_df_black_2017 = tidy_df_black_2017[tidy_df_black_2017['Industry'].notna()]\n",
    "tidy_df_black_2017['Date']= pd.to_datetime(tidy_df_black_2017['Date'])\n",
    "tidy_df_black_2017['High Wage Count'] = tidy_df_black_2017['High Wage Count'].astype(int)\n",
    "tidy_df_black_2017 = tidy_df_black_2017.sort_values(by=['Industry', 'County', 'Date'])\n",
    "tidy_df_black_2017['Output Race'] = 'Black'"
   ]
  },
  {
   "cell_type": "markdown",
   "id": "98625d3b",
   "metadata": {},
   "source": [
    "American Indian/Alaska Native"
   ]
  },
  {
   "cell_type": "code",
   "execution_count": 80,
   "id": "6ce355cb",
   "metadata": {},
   "outputs": [
    {
     "name": "stdout",
     "output_type": "stream",
     "text": [
      "Progress: 10% Complete\n",
      "Progress: 20% Complete\n",
      "Progress: 30% Complete\n",
      "Progress: 40% Complete\n",
      "Progress: 50% Complete\n",
      "Progress: 60% Complete\n",
      "Progress: 70% Complete\n",
      "Progress: 80% Complete\n",
      "Progress: 90% Complete\n",
      "Progress: 100% Complete\n"
     ]
    }
   ],
   "source": [
    "industries = []\n",
    "dates = []\n",
    "counties = []\n",
    "counts = []\n",
    "emp_counts = []\n",
    "progress_count = 0\n",
    "for county in counties_edd:\n",
    "    for code in parsed_codes:\n",
    "        for date in dates_edd:\n",
    "            output, hw, industry, emp_count = edd_to_hw(edd_2017, ca_ipums_hw_native_2017, naics, county_info, county, str(code), date, 10)\n",
    "            industries.append(industry)\n",
    "            dates.append(date)\n",
    "            counties.append(county)\n",
    "            counts.append(hw)\n",
    "            emp_counts.append(emp_count)\n",
    "            progress_count += 1\n",
    "            if progress_count % 10440 == 0:\n",
    "                percent_done = int((progress_count / total_iterations) * 100)\n",
    "                print(f'Progress: {percent_done}% Complete')"
   ]
  },
  {
   "cell_type": "code",
   "execution_count": 81,
   "id": "e572cd11",
   "metadata": {},
   "outputs": [],
   "source": [
    "df_dict_native_2017 = {'Industry':industries, 'Date':dates, 'County':counties, 'High Wage Count':counts, 'Employment Count':emp_counts}\n",
    "tidy_df_native_2017 = pd.DataFrame(df_dict_native_2017)\n",
    "tidy_df_native_2017 = tidy_df_native_2017[tidy_df_native_2017['Industry'].notna()]\n",
    "tidy_df_native_2017['Date']= pd.to_datetime(tidy_df_native_2017['Date'])\n",
    "tidy_df_native_2017['High Wage Count'] = tidy_df_native_2017['High Wage Count'].astype(int)\n",
    "tidy_df_native_2017 = tidy_df_native_2017.sort_values(by=['Industry', 'County', 'Date'])\n",
    "tidy_df_native_2017['Output Race'] = 'American Indian/Alaska Native'"
   ]
  },
  {
   "cell_type": "markdown",
   "id": "7a105a5f",
   "metadata": {},
   "source": [
    "Asian"
   ]
  },
  {
   "cell_type": "code",
   "execution_count": 82,
   "id": "13da2e0a",
   "metadata": {},
   "outputs": [
    {
     "name": "stdout",
     "output_type": "stream",
     "text": [
      "Progress: 10% Complete\n",
      "Progress: 20% Complete\n",
      "Progress: 30% Complete\n",
      "Progress: 40% Complete\n",
      "Progress: 50% Complete\n",
      "Progress: 60% Complete\n",
      "Progress: 70% Complete\n",
      "Progress: 80% Complete\n",
      "Progress: 90% Complete\n",
      "Progress: 100% Complete\n"
     ]
    }
   ],
   "source": [
    "industries = []\n",
    "dates = []\n",
    "counties = []\n",
    "counts = []\n",
    "emp_counts = []\n",
    "progress_count = 0\n",
    "for county in counties_edd:\n",
    "    for code in parsed_codes:\n",
    "        for date in dates_edd:\n",
    "            output, hw, industry, emp_count = edd_to_hw(edd_2017, ca_ipums_hw_asian_2017, naics, county_info, county, str(code), date, 10)\n",
    "            industries.append(industry)\n",
    "            dates.append(date)\n",
    "            counties.append(county)\n",
    "            counts.append(hw)\n",
    "            emp_counts.append(emp_count)\n",
    "            progress_count += 1\n",
    "            if progress_count % 10440 == 0:\n",
    "                percent_done = int((progress_count / total_iterations) * 100)\n",
    "                print(f'Progress: {percent_done}% Complete')"
   ]
  },
  {
   "cell_type": "code",
   "execution_count": 83,
   "id": "cc38fdfc",
   "metadata": {},
   "outputs": [],
   "source": [
    "df_dict_asian_2017 = {'Industry':industries, 'Date':dates, 'County':counties, 'High Wage Count':counts, 'Employment Count':emp_counts}\n",
    "tidy_df_asian_2017 = pd.DataFrame(df_dict_asian_2017)\n",
    "tidy_df_asian_2017 = tidy_df_asian_2017[tidy_df_asian_2017['Industry'].notna()]\n",
    "tidy_df_asian_2017['Date']= pd.to_datetime(tidy_df_asian_2017['Date'])\n",
    "tidy_df_asian_2017['High Wage Count'] = tidy_df_asian_2017['High Wage Count'].astype(int)\n",
    "tidy_df_asian_2017 = tidy_df_asian_2017.sort_values(by=['Industry', 'County', 'Date'])\n",
    "tidy_df_asian_2017['Output Race'] = 'Asian'"
   ]
  },
  {
   "cell_type": "markdown",
   "id": "505620c8",
   "metadata": {},
   "source": [
    "Other"
   ]
  },
  {
   "cell_type": "code",
   "execution_count": 84,
   "id": "43db72f3",
   "metadata": {},
   "outputs": [
    {
     "name": "stdout",
     "output_type": "stream",
     "text": [
      "Progress: 10% Complete\n",
      "Progress: 20% Complete\n",
      "Progress: 30% Complete\n",
      "Progress: 40% Complete\n",
      "Progress: 50% Complete\n",
      "Progress: 60% Complete\n",
      "Progress: 70% Complete\n",
      "Progress: 80% Complete\n",
      "Progress: 90% Complete\n",
      "Progress: 100% Complete\n"
     ]
    }
   ],
   "source": [
    "industries = []\n",
    "dates = []\n",
    "counties = []\n",
    "counts = []\n",
    "emp_counts = []\n",
    "progress_count = 0\n",
    "for county in counties_edd:\n",
    "    for code in parsed_codes:\n",
    "        for date in dates_edd:\n",
    "            output, hw, industry, emp_count = edd_to_hw(edd_2017, ca_ipums_hw_other_2017, naics, county_info, county, str(code), date, 10)\n",
    "            industries.append(industry)\n",
    "            dates.append(date)\n",
    "            counties.append(county)\n",
    "            counts.append(hw)\n",
    "            emp_counts.append(emp_count)\n",
    "            progress_count += 1\n",
    "            if progress_count % 10440 == 0:\n",
    "                percent_done = int((progress_count / total_iterations) * 100)\n",
    "                print(f'Progress: {percent_done}% Complete')"
   ]
  },
  {
   "cell_type": "code",
   "execution_count": 85,
   "id": "2f79e9bb",
   "metadata": {},
   "outputs": [],
   "source": [
    "df_dict_other_2017 = {'Industry':industries, 'Date':dates, 'County':counties, 'High Wage Count':counts, 'Employment Count':emp_counts}\n",
    "tidy_df_other_2017 = pd.DataFrame(df_dict_other_2017)\n",
    "tidy_df_other_2017 = tidy_df_other_2017[tidy_df_other_2017['Industry'].notna()]\n",
    "tidy_df_other_2017['Date']= pd.to_datetime(tidy_df_other_2017['Date'])\n",
    "tidy_df_other_2017['High Wage Count'] = tidy_df_other_2017['High Wage Count'].astype(int)\n",
    "tidy_df_other_2017 = tidy_df_other_2017.sort_values(by=['Industry', 'County', 'Date'])\n",
    "tidy_df_other_2017['Output Race'] = 'Some other race'"
   ]
  },
  {
   "cell_type": "markdown",
   "id": "e8e161ae",
   "metadata": {},
   "source": [
    "Multi"
   ]
  },
  {
   "cell_type": "code",
   "execution_count": 86,
   "id": "c680a03a",
   "metadata": {},
   "outputs": [
    {
     "name": "stdout",
     "output_type": "stream",
     "text": [
      "Progress: 10% Complete\n",
      "Progress: 20% Complete\n",
      "Progress: 30% Complete\n",
      "Progress: 40% Complete\n",
      "Progress: 50% Complete\n",
      "Progress: 60% Complete\n",
      "Progress: 70% Complete\n",
      "Progress: 80% Complete\n",
      "Progress: 90% Complete\n",
      "Progress: 100% Complete\n"
     ]
    }
   ],
   "source": [
    "industries = []\n",
    "dates = []\n",
    "counties = []\n",
    "counts = []\n",
    "emp_counts = []\n",
    "progress_count = 0\n",
    "for county in counties_edd:\n",
    "    for code in parsed_codes:\n",
    "        for date in dates_edd:\n",
    "            output, hw, industry, emp_count = edd_to_hw(edd_2017, ca_ipums_hw_multi_2017, naics, county_info, county, str(code), date, 10)\n",
    "            industries.append(industry)\n",
    "            dates.append(date)\n",
    "            counties.append(county)\n",
    "            counts.append(hw)\n",
    "            emp_counts.append(emp_count)\n",
    "            progress_count += 1\n",
    "            if progress_count % 10440 == 0:\n",
    "                percent_done = int((progress_count / total_iterations) * 100)\n",
    "                print(f'Progress: {percent_done}% Complete')"
   ]
  },
  {
   "cell_type": "code",
   "execution_count": 87,
   "id": "541f2262",
   "metadata": {},
   "outputs": [],
   "source": [
    "df_dict_multi_2017 = {'Industry':industries, 'Date':dates, 'County':counties, 'High Wage Count':counts, 'Employment Count':emp_counts}\n",
    "tidy_df_multi_2017 = pd.DataFrame(df_dict_multi_2017)\n",
    "tidy_df_multi_2017 = tidy_df_multi_2017[tidy_df_multi_2017['Industry'].notna()]\n",
    "tidy_df_multi_2017['Date']= pd.to_datetime(tidy_df_multi_2017['Date'])\n",
    "tidy_df_multi_2017['High Wage Count'] = tidy_df_multi_2017['High Wage Count'].astype(int)\n",
    "tidy_df_multi_2017 = tidy_df_multi_2017.sort_values(by=['Industry', 'County', 'Date'])\n",
    "tidy_df_multi_2017['Output Race'] = 'Multiracial'"
   ]
  },
  {
   "cell_type": "markdown",
   "id": "d3802103",
   "metadata": {},
   "source": [
    "Concatenate"
   ]
  },
  {
   "cell_type": "code",
   "execution_count": 88,
   "id": "21913c66",
   "metadata": {},
   "outputs": [],
   "source": [
    "df_race_2017 = pd.concat([tidy_df_white_2017, \n",
    "                          tidy_df_black_2017, \n",
    "                          tidy_df_latino_2017, \n",
    "                          tidy_df_asian_2017, \n",
    "                          tidy_df_native_2017, \n",
    "                          tidy_df_other_2017, \n",
    "                          tidy_df_multi_2017], \n",
    "                         ignore_index=True)\n",
    "df_race_2017 = pd.merge(df_race_2017, col_2017, left_on='County', right_on='Regions')\n",
    "df_race_2017['Year'] = 2017\n",
    "df_race_2017 = df_race_2017[['Industry', 'Date', 'County', 'High Wage Count', 'Cost of Living', 'Employment Count', 'Output Race', 'Year']]"
   ]
  },
  {
   "cell_type": "code",
   "execution_count": 90,
   "id": "8322e428",
   "metadata": {},
   "outputs": [],
   "source": [
    "df_race_2017.to_csv('hw_outputs_w_race_2017.csv', encoding='utf-8', index=False)"
   ]
  },
  {
   "cell_type": "markdown",
   "id": "88e42cf3",
   "metadata": {},
   "source": [
    "### High Wage Outputs - 2016"
   ]
  },
  {
   "cell_type": "code",
   "execution_count": 91,
   "id": "f8cba206",
   "metadata": {},
   "outputs": [],
   "source": [
    "counties_edd = edd_2016['Area Name'].unique()\n",
    "parsed_codes = set(list(edd_2016['Main_Code'].unique()) + \n",
    "                   list(edd_2016['Sub_1_Code'].unique()) + \n",
    "                   list(edd_2016['Sub_2_Code'].unique()) + \n",
    "                   list(edd_2016['Sub_3_Code'].unique()) + \n",
    "                   list(edd_2016['Sub_4_Code'].unique()))\n",
    "dates_edd = edd_2016['Date'].unique()\n",
    "total_iterations = len(counties_edd) * len(parsed_codes) * len(dates_edd)"
   ]
  },
  {
   "cell_type": "markdown",
   "id": "49af8b92",
   "metadata": {},
   "source": [
    "White"
   ]
  },
  {
   "cell_type": "code",
   "execution_count": 92,
   "id": "aa32ad98",
   "metadata": {},
   "outputs": [
    {
     "name": "stdout",
     "output_type": "stream",
     "text": [
      "Progress: 10% Complete\n",
      "Progress: 20% Complete\n",
      "Progress: 30% Complete\n",
      "Progress: 40% Complete\n",
      "Progress: 50% Complete\n",
      "Progress: 60% Complete\n",
      "Progress: 70% Complete\n",
      "Progress: 80% Complete\n",
      "Progress: 90% Complete\n",
      "Progress: 100% Complete\n"
     ]
    }
   ],
   "source": [
    "industries = []\n",
    "dates = []\n",
    "counties = []\n",
    "counts = []\n",
    "emp_counts = []\n",
    "progress_count = 0\n",
    "for county in counties_edd:\n",
    "    for code in parsed_codes:\n",
    "        for date in dates_edd:\n",
    "            output, hw, industry, emp_count = edd_to_hw(edd_2016, ca_ipums_hw_white_2016, naics, county_info, county, str(code), date, 10)\n",
    "            industries.append(industry)\n",
    "            dates.append(date)\n",
    "            counties.append(county)\n",
    "            counts.append(hw)\n",
    "            emp_counts.append(emp_count)\n",
    "            progress_count += 1\n",
    "            if progress_count % 10440 == 0:\n",
    "                percent_done = int((progress_count / total_iterations) * 100)\n",
    "                print(f'Progress: {percent_done}% Complete')"
   ]
  },
  {
   "cell_type": "code",
   "execution_count": 93,
   "id": "e7570733",
   "metadata": {},
   "outputs": [],
   "source": [
    "df_dict_white_2016 = {'Industry':industries, 'Date':dates, 'County':counties, 'High Wage Count':counts, 'Employment Count':emp_counts}\n",
    "tidy_df_white_2016 = pd.DataFrame(df_dict_white_2016)\n",
    "tidy_df_white_2016 = tidy_df_white_2016[tidy_df_white_2016['Industry'].notna()]\n",
    "tidy_df_white_2016['Date']= pd.to_datetime(tidy_df_white_2016['Date'])\n",
    "tidy_df_white_2016['High Wage Count'] = tidy_df_white_2016['High Wage Count'].astype(int)\n",
    "tidy_df_white_2016 = tidy_df_white_2016.sort_values(by=['Industry', 'County', 'Date'])\n",
    "tidy_df_white_2016['Output Race'] = 'White'"
   ]
  },
  {
   "cell_type": "markdown",
   "id": "ce33eccc",
   "metadata": {},
   "source": [
    "Latino"
   ]
  },
  {
   "cell_type": "code",
   "execution_count": 94,
   "id": "713e20da",
   "metadata": {},
   "outputs": [
    {
     "name": "stdout",
     "output_type": "stream",
     "text": [
      "Progress: 10% Complete\n",
      "Progress: 20% Complete\n",
      "Progress: 30% Complete\n",
      "Progress: 40% Complete\n",
      "Progress: 50% Complete\n",
      "Progress: 60% Complete\n",
      "Progress: 70% Complete\n",
      "Progress: 80% Complete\n",
      "Progress: 90% Complete\n",
      "Progress: 100% Complete\n"
     ]
    }
   ],
   "source": [
    "industries = []\n",
    "dates = []\n",
    "counties = []\n",
    "counts = []\n",
    "emp_counts = []\n",
    "progress_count = 0\n",
    "for county in counties_edd:\n",
    "    for code in parsed_codes:\n",
    "        for date in dates_edd:\n",
    "            output, hw, industry, emp_count = edd_to_hw(edd_2016, ca_ipums_hw_latino_2016, naics, county_info, county, str(code), date, 10)\n",
    "            industries.append(industry)\n",
    "            dates.append(date)\n",
    "            counties.append(county)\n",
    "            counts.append(hw)\n",
    "            emp_counts.append(emp_count)\n",
    "            progress_count += 1\n",
    "            if progress_count % 10440 == 0:\n",
    "                percent_done = int((progress_count / total_iterations) * 100)\n",
    "                print(f'Progress: {percent_done}% Complete')"
   ]
  },
  {
   "cell_type": "code",
   "execution_count": 95,
   "id": "b7d58b08",
   "metadata": {},
   "outputs": [],
   "source": [
    "df_dict_latino_2016 = {'Industry':industries, 'Date':dates, 'County':counties, 'High Wage Count':counts, 'Employment Count':emp_counts}\n",
    "tidy_df_latino_2016 = pd.DataFrame(df_dict_latino_2016)\n",
    "tidy_df_latino_2016 = tidy_df_latino_2016[tidy_df_latino_2016['Industry'].notna()]\n",
    "tidy_df_latino_2016['Date']= pd.to_datetime(tidy_df_latino_2016['Date'])\n",
    "tidy_df_latino_2016['High Wage Count'] = tidy_df_latino_2016['High Wage Count'].astype(int)\n",
    "tidy_df_latino_2016 = tidy_df_latino_2016.sort_values(by=['Industry', 'County', 'Date'])\n",
    "tidy_df_latino_2016['Output Race'] = 'Latino'"
   ]
  },
  {
   "cell_type": "markdown",
   "id": "ba050345",
   "metadata": {},
   "source": [
    "Black"
   ]
  },
  {
   "cell_type": "code",
   "execution_count": 96,
   "id": "cbe16f67",
   "metadata": {},
   "outputs": [
    {
     "name": "stdout",
     "output_type": "stream",
     "text": [
      "Progress: 10% Complete\n",
      "Progress: 20% Complete\n",
      "Progress: 30% Complete\n",
      "Progress: 40% Complete\n",
      "Progress: 50% Complete\n",
      "Progress: 60% Complete\n",
      "Progress: 70% Complete\n",
      "Progress: 80% Complete\n",
      "Progress: 90% Complete\n",
      "Progress: 100% Complete\n"
     ]
    }
   ],
   "source": [
    "industries = []\n",
    "dates = []\n",
    "counties = []\n",
    "counts = []\n",
    "emp_counts = []\n",
    "progress_count = 0\n",
    "for county in counties_edd:\n",
    "    for code in parsed_codes:\n",
    "        for date in dates_edd:\n",
    "            output, hw, industry, emp_count = edd_to_hw(edd_2016, ca_ipums_hw_black_2016, naics, county_info, county, str(code), date, 10)\n",
    "            industries.append(industry)\n",
    "            dates.append(date)\n",
    "            counties.append(county)\n",
    "            counts.append(hw)\n",
    "            emp_counts.append(emp_count)\n",
    "            progress_count += 1\n",
    "            if progress_count % 10440 == 0:\n",
    "                percent_done = int((progress_count / total_iterations) * 100)\n",
    "                print(f'Progress: {percent_done}% Complete')"
   ]
  },
  {
   "cell_type": "code",
   "execution_count": 97,
   "id": "493acd2a",
   "metadata": {},
   "outputs": [],
   "source": [
    "df_dict_black_2016 = {'Industry':industries, 'Date':dates, 'County':counties, 'High Wage Count':counts, 'Employment Count':emp_counts}\n",
    "tidy_df_black_2016 = pd.DataFrame(df_dict_black_2016)\n",
    "tidy_df_black_2016 = tidy_df_black_2016[tidy_df_black_2016['Industry'].notna()]\n",
    "tidy_df_black_2016['Date']= pd.to_datetime(tidy_df_black_2016['Date'])\n",
    "tidy_df_black_2016['High Wage Count'] = tidy_df_black_2016['High Wage Count'].astype(int)\n",
    "tidy_df_black_2016 = tidy_df_black_2016.sort_values(by=['Industry', 'County', 'Date'])\n",
    "tidy_df_black_2016['Output Race'] = 'Black'"
   ]
  },
  {
   "cell_type": "markdown",
   "id": "7d7c149d",
   "metadata": {},
   "source": [
    "American Indian/Alaska Native"
   ]
  },
  {
   "cell_type": "code",
   "execution_count": 98,
   "id": "09f274b3",
   "metadata": {},
   "outputs": [
    {
     "name": "stdout",
     "output_type": "stream",
     "text": [
      "Progress: 10% Complete\n",
      "Progress: 20% Complete\n",
      "Progress: 30% Complete\n",
      "Progress: 40% Complete\n",
      "Progress: 50% Complete\n",
      "Progress: 60% Complete\n",
      "Progress: 70% Complete\n",
      "Progress: 80% Complete\n",
      "Progress: 90% Complete\n",
      "Progress: 100% Complete\n"
     ]
    }
   ],
   "source": [
    "industries = []\n",
    "dates = []\n",
    "counties = []\n",
    "counts = []\n",
    "emp_counts = []\n",
    "progress_count = 0\n",
    "for county in counties_edd:\n",
    "    for code in parsed_codes:\n",
    "        for date in dates_edd:\n",
    "            output, hw, industry, emp_count = edd_to_hw(edd_2016, ca_ipums_hw_native_2016, naics, county_info, county, str(code), date, 10)\n",
    "            industries.append(industry)\n",
    "            dates.append(date)\n",
    "            counties.append(county)\n",
    "            counts.append(hw)\n",
    "            emp_counts.append(emp_count)\n",
    "            progress_count += 1\n",
    "            if progress_count % 10440 == 0:\n",
    "                percent_done = int((progress_count / total_iterations) * 100)\n",
    "                print(f'Progress: {percent_done}% Complete')"
   ]
  },
  {
   "cell_type": "code",
   "execution_count": 99,
   "id": "97c8e244",
   "metadata": {},
   "outputs": [],
   "source": [
    "df_dict_native_2016 = {'Industry':industries, 'Date':dates, 'County':counties, 'High Wage Count':counts, 'Employment Count':emp_counts}\n",
    "tidy_df_native_2016 = pd.DataFrame(df_dict_native_2016)\n",
    "tidy_df_native_2016 = tidy_df_native_2016[tidy_df_native_2016['Industry'].notna()]\n",
    "tidy_df_native_2016['Date']= pd.to_datetime(tidy_df_native_2016['Date'])\n",
    "tidy_df_native_2016['High Wage Count'] = tidy_df_native_2016['High Wage Count'].astype(int)\n",
    "tidy_df_native_2016 = tidy_df_native_2016.sort_values(by=['Industry', 'County', 'Date'])\n",
    "tidy_df_native_2016['Output Race'] = 'American Indian/Alaska Native'"
   ]
  },
  {
   "cell_type": "markdown",
   "id": "a516a92f",
   "metadata": {},
   "source": [
    "Asian"
   ]
  },
  {
   "cell_type": "code",
   "execution_count": 100,
   "id": "4bc77bf2",
   "metadata": {},
   "outputs": [
    {
     "name": "stdout",
     "output_type": "stream",
     "text": [
      "Progress: 10% Complete\n",
      "Progress: 20% Complete\n",
      "Progress: 30% Complete\n",
      "Progress: 40% Complete\n",
      "Progress: 50% Complete\n",
      "Progress: 60% Complete\n",
      "Progress: 70% Complete\n",
      "Progress: 80% Complete\n",
      "Progress: 90% Complete\n",
      "Progress: 100% Complete\n"
     ]
    }
   ],
   "source": [
    "industries = []\n",
    "dates = []\n",
    "counties = []\n",
    "counts = []\n",
    "emp_counts = []\n",
    "progress_count = 0\n",
    "for county in counties_edd:\n",
    "    for code in parsed_codes:\n",
    "        for date in dates_edd:\n",
    "            output, hw, industry, emp_count = edd_to_hw(edd_2016, ca_ipums_hw_asian_2016, naics, county_info, county, str(code), date, 10)\n",
    "            industries.append(industry)\n",
    "            dates.append(date)\n",
    "            counties.append(county)\n",
    "            counts.append(hw)\n",
    "            emp_counts.append(emp_count)\n",
    "            progress_count += 1\n",
    "            if progress_count % 10440 == 0:\n",
    "                percent_done = int((progress_count / total_iterations) * 100)\n",
    "                print(f'Progress: {percent_done}% Complete')"
   ]
  },
  {
   "cell_type": "code",
   "execution_count": 101,
   "id": "a48f7b3a",
   "metadata": {},
   "outputs": [],
   "source": [
    "df_dict_asian_2016 = {'Industry':industries, 'Date':dates, 'County':counties, 'High Wage Count':counts, 'Employment Count':emp_counts}\n",
    "tidy_df_asian_2016 = pd.DataFrame(df_dict_asian_2016)\n",
    "tidy_df_asian_2016 = tidy_df_asian_2016[tidy_df_asian_2016['Industry'].notna()]\n",
    "tidy_df_asian_2016['Date']= pd.to_datetime(tidy_df_asian_2016['Date'])\n",
    "tidy_df_asian_2016['High Wage Count'] = tidy_df_asian_2016['High Wage Count'].astype(int)\n",
    "tidy_df_asian_2016 = tidy_df_asian_2016.sort_values(by=['Industry', 'County', 'Date'])\n",
    "tidy_df_asian_2016['Output Race'] = 'Asian'"
   ]
  },
  {
   "cell_type": "markdown",
   "id": "88db6557",
   "metadata": {},
   "source": [
    "Other"
   ]
  },
  {
   "cell_type": "code",
   "execution_count": 102,
   "id": "a072b555",
   "metadata": {},
   "outputs": [
    {
     "name": "stdout",
     "output_type": "stream",
     "text": [
      "Progress: 10% Complete\n",
      "Progress: 20% Complete\n",
      "Progress: 30% Complete\n",
      "Progress: 40% Complete\n",
      "Progress: 50% Complete\n",
      "Progress: 60% Complete\n",
      "Progress: 70% Complete\n",
      "Progress: 80% Complete\n",
      "Progress: 90% Complete\n",
      "Progress: 100% Complete\n"
     ]
    }
   ],
   "source": [
    "industries = []\n",
    "dates = []\n",
    "counties = []\n",
    "counts = []\n",
    "emp_counts = []\n",
    "progress_count = 0\n",
    "for county in counties_edd:\n",
    "    for code in parsed_codes:\n",
    "        for date in dates_edd:\n",
    "            output, hw, industry, emp_count = edd_to_hw(edd_2016, ca_ipums_hw_other_2016, naics, county_info, county, str(code), date, 10)\n",
    "            industries.append(industry)\n",
    "            dates.append(date)\n",
    "            counties.append(county)\n",
    "            counts.append(hw)\n",
    "            emp_counts.append(emp_count)\n",
    "            progress_count += 1\n",
    "            if progress_count % 10440 == 0:\n",
    "                percent_done = int((progress_count / total_iterations) * 100)\n",
    "                print(f'Progress: {percent_done}% Complete')"
   ]
  },
  {
   "cell_type": "code",
   "execution_count": 103,
   "id": "b3ae0cd6",
   "metadata": {},
   "outputs": [],
   "source": [
    "df_dict_other_2016 = {'Industry':industries, 'Date':dates, 'County':counties, 'High Wage Count':counts, 'Employment Count':emp_counts}\n",
    "tidy_df_other_2016 = pd.DataFrame(df_dict_other_2016)\n",
    "tidy_df_other_2016 = tidy_df_other_2016[tidy_df_other_2016['Industry'].notna()]\n",
    "tidy_df_other_2016['Date']= pd.to_datetime(tidy_df_other_2016['Date'])\n",
    "tidy_df_other_2016['High Wage Count'] = tidy_df_other_2016['High Wage Count'].astype(int)\n",
    "tidy_df_other_2016 = tidy_df_other_2016.sort_values(by=['Industry', 'County', 'Date'])\n",
    "tidy_df_other_2016['Output Race'] = 'Some other race'"
   ]
  },
  {
   "cell_type": "markdown",
   "id": "1ca63d4d",
   "metadata": {},
   "source": [
    "Multi"
   ]
  },
  {
   "cell_type": "code",
   "execution_count": 104,
   "id": "11dda959",
   "metadata": {},
   "outputs": [
    {
     "name": "stdout",
     "output_type": "stream",
     "text": [
      "Progress: 10% Complete\n",
      "Progress: 20% Complete\n",
      "Progress: 30% Complete\n",
      "Progress: 40% Complete\n",
      "Progress: 50% Complete\n",
      "Progress: 60% Complete\n",
      "Progress: 70% Complete\n",
      "Progress: 80% Complete\n",
      "Progress: 90% Complete\n",
      "Progress: 100% Complete\n"
     ]
    }
   ],
   "source": [
    "industries = []\n",
    "dates = []\n",
    "counties = []\n",
    "counts = []\n",
    "emp_counts = []\n",
    "progress_count = 0\n",
    "for county in counties_edd:\n",
    "    for code in parsed_codes:\n",
    "        for date in dates_edd:\n",
    "            output, hw, industry, emp_count = edd_to_hw(edd_2016, ca_ipums_hw_multi_2016, naics, county_info, county, str(code), date, 10)\n",
    "            industries.append(industry)\n",
    "            dates.append(date)\n",
    "            counties.append(county)\n",
    "            counts.append(hw)\n",
    "            emp_counts.append(emp_count)\n",
    "            progress_count += 1\n",
    "            if progress_count % 10440 == 0:\n",
    "                percent_done = int((progress_count / total_iterations) * 100)\n",
    "                print(f'Progress: {percent_done}% Complete')"
   ]
  },
  {
   "cell_type": "code",
   "execution_count": 105,
   "id": "40086196",
   "metadata": {},
   "outputs": [],
   "source": [
    "df_dict_multi_2016 = {'Industry':industries, 'Date':dates, 'County':counties, 'High Wage Count':counts, 'Employment Count':emp_counts}\n",
    "tidy_df_multi_2016 = pd.DataFrame(df_dict_multi_2016)\n",
    "tidy_df_multi_2016 = tidy_df_multi_2016[tidy_df_multi_2016['Industry'].notna()]\n",
    "tidy_df_multi_2016['Date']= pd.to_datetime(tidy_df_multi_2016['Date'])\n",
    "tidy_df_multi_2016['High Wage Count'] = tidy_df_multi_2016['High Wage Count'].astype(int)\n",
    "tidy_df_multi_2016 = tidy_df_multi_2016.sort_values(by=['Industry', 'County', 'Date'])\n",
    "tidy_df_multi_2016['Output Race'] = 'Multiracial'"
   ]
  },
  {
   "cell_type": "markdown",
   "id": "3e0792c5",
   "metadata": {},
   "source": [
    "Concatenate"
   ]
  },
  {
   "cell_type": "code",
   "execution_count": 106,
   "id": "c160f924",
   "metadata": {},
   "outputs": [],
   "source": [
    "df_race_2016 = pd.concat([tidy_df_white_2016, \n",
    "                          tidy_df_black_2016, \n",
    "                          tidy_df_latino_2016, \n",
    "                          tidy_df_asian_2016, \n",
    "                          tidy_df_native_2016, \n",
    "                          tidy_df_other_2016, \n",
    "                          tidy_df_multi_2016], \n",
    "                         ignore_index=True)\n",
    "df_race_2016 = pd.merge(df_race_2016, col_2016, left_on='County', right_on='Regions')\n",
    "df_race_2016['Year'] = 2016\n",
    "df_race_2016 = df_race_2016[['Industry', 'Date', 'County', 'High Wage Count', 'Cost of Living', 'Employment Count', 'Output Race', 'Year']]"
   ]
  },
  {
   "cell_type": "code",
   "execution_count": 124,
   "id": "7ea6dd1c",
   "metadata": {},
   "outputs": [],
   "source": [
    "df_race_2016.to_csv('hw_outputs_w_race_2016.csv', encoding='utf-8', index=False)"
   ]
  },
  {
   "cell_type": "markdown",
   "id": "7c3e7d9d",
   "metadata": {},
   "source": [
    "### High Wage Outputs - 2015"
   ]
  },
  {
   "cell_type": "code",
   "execution_count": 108,
   "id": "2a3999b7",
   "metadata": {},
   "outputs": [],
   "source": [
    "counties_edd = edd_2015['Area Name'].unique()\n",
    "parsed_codes = set(list(edd_2015['Main_Code'].unique()) + \n",
    "                   list(edd_2015['Sub_1_Code'].unique()) + \n",
    "                   list(edd_2015['Sub_2_Code'].unique()) + \n",
    "                   list(edd_2015['Sub_3_Code'].unique()) + \n",
    "                   list(edd_2015['Sub_4_Code'].unique()))\n",
    "dates_edd = edd_2015['Date'].unique()\n",
    "total_iterations = len(counties_edd) * len(parsed_codes) * len(dates_edd)"
   ]
  },
  {
   "cell_type": "markdown",
   "id": "494326bc",
   "metadata": {},
   "source": [
    "White"
   ]
  },
  {
   "cell_type": "code",
   "execution_count": 109,
   "id": "096e723f",
   "metadata": {},
   "outputs": [
    {
     "name": "stdout",
     "output_type": "stream",
     "text": [
      "Progress: 10% Complete\n",
      "Progress: 20% Complete\n",
      "Progress: 30% Complete\n",
      "Progress: 40% Complete\n",
      "Progress: 50% Complete\n",
      "Progress: 60% Complete\n",
      "Progress: 70% Complete\n",
      "Progress: 80% Complete\n",
      "Progress: 90% Complete\n",
      "Progress: 100% Complete\n"
     ]
    }
   ],
   "source": [
    "industries = []\n",
    "dates = []\n",
    "counties = []\n",
    "counts = []\n",
    "emp_counts = []\n",
    "progress_count = 0\n",
    "for county in counties_edd:\n",
    "    for code in parsed_codes:\n",
    "        for date in dates_edd:\n",
    "            output, hw, industry, emp_count = edd_to_hw(edd_2015, ca_ipums_hw_white_2015, naics, county_info, county, str(code), date, 10)\n",
    "            industries.append(industry)\n",
    "            dates.append(date)\n",
    "            counties.append(county)\n",
    "            counts.append(hw)\n",
    "            emp_counts.append(emp_count)\n",
    "            progress_count += 1\n",
    "            if progress_count % 10440 == 0:\n",
    "                percent_done = int((progress_count / total_iterations) * 100)\n",
    "                print(f'Progress: {percent_done}% Complete')"
   ]
  },
  {
   "cell_type": "code",
   "execution_count": 110,
   "id": "b9d42528",
   "metadata": {},
   "outputs": [],
   "source": [
    "df_dict_white_2015 = {'Industry':industries, 'Date':dates, 'County':counties, 'High Wage Count':counts, 'Employment Count':emp_counts}\n",
    "tidy_df_white_2015 = pd.DataFrame(df_dict_white_2015)\n",
    "tidy_df_white_2015 = tidy_df_white_2015[tidy_df_white_2015['Industry'].notna()]\n",
    "tidy_df_white_2015['Date']= pd.to_datetime(tidy_df_white_2015['Date'])\n",
    "tidy_df_white_2015['High Wage Count'] = tidy_df_white_2015['High Wage Count'].astype(int)\n",
    "tidy_df_white_2015 = tidy_df_white_2015.sort_values(by=['Industry', 'County', 'Date'])\n",
    "tidy_df_white_2015['Output Race'] = 'White'"
   ]
  },
  {
   "cell_type": "markdown",
   "id": "b0ddc0cd",
   "metadata": {},
   "source": [
    "Latino"
   ]
  },
  {
   "cell_type": "code",
   "execution_count": 111,
   "id": "f3616e48",
   "metadata": {},
   "outputs": [
    {
     "name": "stdout",
     "output_type": "stream",
     "text": [
      "Progress: 10% Complete\n",
      "Progress: 20% Complete\n",
      "Progress: 30% Complete\n",
      "Progress: 40% Complete\n",
      "Progress: 50% Complete\n",
      "Progress: 60% Complete\n",
      "Progress: 70% Complete\n",
      "Progress: 80% Complete\n",
      "Progress: 90% Complete\n",
      "Progress: 100% Complete\n"
     ]
    }
   ],
   "source": [
    "industries = []\n",
    "dates = []\n",
    "counties = []\n",
    "counts = []\n",
    "emp_counts = []\n",
    "progress_count = 0\n",
    "for county in counties_edd:\n",
    "    for code in parsed_codes:\n",
    "        for date in dates_edd:\n",
    "            output, hw, industry, emp_count = edd_to_hw(edd_2015, ca_ipums_hw_latino_2015, naics, county_info, county, str(code), date, 10)\n",
    "            industries.append(industry)\n",
    "            dates.append(date)\n",
    "            counties.append(county)\n",
    "            counts.append(hw)\n",
    "            emp_counts.append(emp_count)\n",
    "            progress_count += 1\n",
    "            if progress_count % 10440 == 0:\n",
    "                percent_done = int((progress_count / total_iterations) * 100)\n",
    "                print(f'Progress: {percent_done}% Complete')"
   ]
  },
  {
   "cell_type": "code",
   "execution_count": 112,
   "id": "4c7e9c4c",
   "metadata": {},
   "outputs": [],
   "source": [
    "df_dict_latino_2015 = {'Industry':industries, 'Date':dates, 'County':counties, 'High Wage Count':counts, 'Employment Count':emp_counts}\n",
    "tidy_df_latino_2015 = pd.DataFrame(df_dict_latino_2015)\n",
    "tidy_df_latino_2015 = tidy_df_latino_2015[tidy_df_latino_2015['Industry'].notna()]\n",
    "tidy_df_latino_2015['Date']= pd.to_datetime(tidy_df_latino_2015['Date'])\n",
    "tidy_df_latino_2015['High Wage Count'] = tidy_df_latino_2015['High Wage Count'].astype(int)\n",
    "tidy_df_latino_2015 = tidy_df_latino_2015.sort_values(by=['Industry', 'County', 'Date'])\n",
    "tidy_df_latino_2015['Output Race'] = 'Latino'"
   ]
  },
  {
   "cell_type": "markdown",
   "id": "8c9c98ed",
   "metadata": {},
   "source": [
    "Black"
   ]
  },
  {
   "cell_type": "code",
   "execution_count": 113,
   "id": "0e24b094",
   "metadata": {},
   "outputs": [
    {
     "name": "stdout",
     "output_type": "stream",
     "text": [
      "Progress: 10% Complete\n",
      "Progress: 20% Complete\n",
      "Progress: 30% Complete\n",
      "Progress: 40% Complete\n",
      "Progress: 50% Complete\n",
      "Progress: 60% Complete\n",
      "Progress: 70% Complete\n",
      "Progress: 80% Complete\n",
      "Progress: 90% Complete\n",
      "Progress: 100% Complete\n"
     ]
    }
   ],
   "source": [
    "industries = []\n",
    "dates = []\n",
    "counties = []\n",
    "counts = []\n",
    "emp_counts = []\n",
    "progress_count = 0\n",
    "for county in counties_edd:\n",
    "    for code in parsed_codes:\n",
    "        for date in dates_edd:\n",
    "            output, hw, industry, emp_count = edd_to_hw(edd_2015, ca_ipums_hw_black_2015, naics, county_info, county, str(code), date, 10)\n",
    "            industries.append(industry)\n",
    "            dates.append(date)\n",
    "            counties.append(county)\n",
    "            counts.append(hw)\n",
    "            emp_counts.append(emp_count)\n",
    "            progress_count += 1\n",
    "            if progress_count % 10440 == 0:\n",
    "                percent_done = int((progress_count / total_iterations) * 100)\n",
    "                print(f'Progress: {percent_done}% Complete')"
   ]
  },
  {
   "cell_type": "code",
   "execution_count": 114,
   "id": "e3c5c0ff",
   "metadata": {},
   "outputs": [],
   "source": [
    "df_dict_black_2015 = {'Industry':industries, 'Date':dates, 'County':counties, 'High Wage Count':counts, 'Employment Count':emp_counts}\n",
    "tidy_df_black_2015 = pd.DataFrame(df_dict_black_2015)\n",
    "tidy_df_black_2015 = tidy_df_black_2015[tidy_df_black_2015['Industry'].notna()]\n",
    "tidy_df_black_2015['Date']= pd.to_datetime(tidy_df_black_2015['Date'])\n",
    "tidy_df_black_2015['High Wage Count'] = tidy_df_black_2015['High Wage Count'].astype(int)\n",
    "tidy_df_black_2015 = tidy_df_black_2015.sort_values(by=['Industry', 'County', 'Date'])\n",
    "tidy_df_black_2015['Output Race'] = 'Black'"
   ]
  },
  {
   "cell_type": "markdown",
   "id": "0df3fed6",
   "metadata": {},
   "source": [
    "American Indian/Alaska Native"
   ]
  },
  {
   "cell_type": "code",
   "execution_count": 115,
   "id": "5c98f130",
   "metadata": {},
   "outputs": [
    {
     "name": "stdout",
     "output_type": "stream",
     "text": [
      "Progress: 10% Complete\n",
      "Progress: 20% Complete\n",
      "Progress: 30% Complete\n",
      "Progress: 40% Complete\n",
      "Progress: 50% Complete\n",
      "Progress: 60% Complete\n",
      "Progress: 70% Complete\n",
      "Progress: 80% Complete\n",
      "Progress: 90% Complete\n",
      "Progress: 100% Complete\n"
     ]
    }
   ],
   "source": [
    "industries = []\n",
    "dates = []\n",
    "counties = []\n",
    "counts = []\n",
    "emp_counts = []\n",
    "progress_count = 0\n",
    "for county in counties_edd:\n",
    "    for code in parsed_codes:\n",
    "        for date in dates_edd:\n",
    "            output, hw, industry, emp_count = edd_to_hw(edd_2015, ca_ipums_hw_native_2015, naics, county_info, county, str(code), date, 10)\n",
    "            industries.append(industry)\n",
    "            dates.append(date)\n",
    "            counties.append(county)\n",
    "            counts.append(hw)\n",
    "            emp_counts.append(emp_count)\n",
    "            progress_count += 1\n",
    "            if progress_count % 10440 == 0:\n",
    "                percent_done = int((progress_count / total_iterations) * 100)\n",
    "                print(f'Progress: {percent_done}% Complete')"
   ]
  },
  {
   "cell_type": "code",
   "execution_count": 116,
   "id": "f78b9442",
   "metadata": {},
   "outputs": [],
   "source": [
    "df_dict_native_2015 = {'Industry':industries, 'Date':dates, 'County':counties, 'High Wage Count':counts, 'Employment Count':emp_counts}\n",
    "tidy_df_native_2015 = pd.DataFrame(df_dict_native_2015)\n",
    "tidy_df_native_2015 = tidy_df_native_2015[tidy_df_native_2015['Industry'].notna()]\n",
    "tidy_df_native_2015['Date']= pd.to_datetime(tidy_df_native_2015['Date'])\n",
    "tidy_df_native_2015['High Wage Count'] = tidy_df_native_2015['High Wage Count'].astype(int)\n",
    "tidy_df_native_2015 = tidy_df_native_2015.sort_values(by=['Industry', 'County', 'Date'])\n",
    "tidy_df_native_2015['Output Race'] = 'American Indian/Alaska Native'"
   ]
  },
  {
   "cell_type": "markdown",
   "id": "fdd7712f",
   "metadata": {},
   "source": [
    "Asian"
   ]
  },
  {
   "cell_type": "code",
   "execution_count": 117,
   "id": "4e3307c8",
   "metadata": {},
   "outputs": [
    {
     "name": "stdout",
     "output_type": "stream",
     "text": [
      "Progress: 10% Complete\n",
      "Progress: 20% Complete\n",
      "Progress: 30% Complete\n",
      "Progress: 40% Complete\n",
      "Progress: 50% Complete\n",
      "Progress: 60% Complete\n",
      "Progress: 70% Complete\n",
      "Progress: 80% Complete\n",
      "Progress: 90% Complete\n",
      "Progress: 100% Complete\n"
     ]
    }
   ],
   "source": [
    "industries = []\n",
    "dates = []\n",
    "counties = []\n",
    "counts = []\n",
    "emp_counts = []\n",
    "progress_count = 0\n",
    "for county in counties_edd:\n",
    "    for code in parsed_codes:\n",
    "        for date in dates_edd:\n",
    "            output, hw, industry, emp_count = edd_to_hw(edd_2015, ca_ipums_hw_asian_2015, naics, county_info, county, str(code), date, 10)\n",
    "            industries.append(industry)\n",
    "            dates.append(date)\n",
    "            counties.append(county)\n",
    "            counts.append(hw)\n",
    "            emp_counts.append(emp_count)\n",
    "            progress_count += 1\n",
    "            if progress_count % 10440 == 0:\n",
    "                percent_done = int((progress_count / total_iterations) * 100)\n",
    "                print(f'Progress: {percent_done}% Complete')"
   ]
  },
  {
   "cell_type": "code",
   "execution_count": 118,
   "id": "54570fa7",
   "metadata": {},
   "outputs": [],
   "source": [
    "df_dict_asian_2015 = {'Industry':industries, 'Date':dates, 'County':counties, 'High Wage Count':counts, 'Employment Count':emp_counts}\n",
    "tidy_df_asian_2015 = pd.DataFrame(df_dict_asian_2015)\n",
    "tidy_df_asian_2015 = tidy_df_asian_2015[tidy_df_asian_2015['Industry'].notna()]\n",
    "tidy_df_asian_2015['Date']= pd.to_datetime(tidy_df_asian_2015['Date'])\n",
    "tidy_df_asian_2015['High Wage Count'] = tidy_df_asian_2015['High Wage Count'].astype(int)\n",
    "tidy_df_asian_2015 = tidy_df_asian_2015.sort_values(by=['Industry', 'County', 'Date'])\n",
    "tidy_df_asian_2015['Output Race'] = 'Asian'"
   ]
  },
  {
   "cell_type": "markdown",
   "id": "e7f73c70",
   "metadata": {},
   "source": [
    "Other"
   ]
  },
  {
   "cell_type": "code",
   "execution_count": 119,
   "id": "3523d588",
   "metadata": {},
   "outputs": [
    {
     "name": "stdout",
     "output_type": "stream",
     "text": [
      "Progress: 10% Complete\n",
      "Progress: 20% Complete\n",
      "Progress: 30% Complete\n",
      "Progress: 40% Complete\n",
      "Progress: 50% Complete\n",
      "Progress: 60% Complete\n",
      "Progress: 70% Complete\n",
      "Progress: 80% Complete\n",
      "Progress: 90% Complete\n",
      "Progress: 100% Complete\n"
     ]
    }
   ],
   "source": [
    "industries = []\n",
    "dates = []\n",
    "counties = []\n",
    "counts = []\n",
    "emp_counts = []\n",
    "progress_count = 0\n",
    "for county in counties_edd:\n",
    "    for code in parsed_codes:\n",
    "        for date in dates_edd:\n",
    "            output, hw, industry, emp_count = edd_to_hw(edd_2015, ca_ipums_hw_other_2015, naics, county_info, county, str(code), date, 10)\n",
    "            industries.append(industry)\n",
    "            dates.append(date)\n",
    "            counties.append(county)\n",
    "            counts.append(hw)\n",
    "            emp_counts.append(emp_count)\n",
    "            progress_count += 1\n",
    "            if progress_count % 10440 == 0:\n",
    "                percent_done = int((progress_count / total_iterations) * 100)\n",
    "                print(f'Progress: {percent_done}% Complete')"
   ]
  },
  {
   "cell_type": "code",
   "execution_count": 120,
   "id": "10b3e2ff",
   "metadata": {},
   "outputs": [],
   "source": [
    "df_dict_other_2015 = {'Industry':industries, 'Date':dates, 'County':counties, 'High Wage Count':counts, 'Employment Count':emp_counts}\n",
    "tidy_df_other_2015 = pd.DataFrame(df_dict_other_2015)\n",
    "tidy_df_other_2015 = tidy_df_other_2015[tidy_df_other_2015['Industry'].notna()]\n",
    "tidy_df_other_2015['Date']= pd.to_datetime(tidy_df_other_2015['Date'])\n",
    "tidy_df_other_2015['High Wage Count'] = tidy_df_other_2015['High Wage Count'].astype(int)\n",
    "tidy_df_other_2015 = tidy_df_other_2015.sort_values(by=['Industry', 'County', 'Date'])\n",
    "tidy_df_other_2015['Output Race'] = 'Some other race'"
   ]
  },
  {
   "cell_type": "markdown",
   "id": "3177fc76",
   "metadata": {},
   "source": [
    "Multi"
   ]
  },
  {
   "cell_type": "code",
   "execution_count": 121,
   "id": "db371a16",
   "metadata": {},
   "outputs": [
    {
     "name": "stdout",
     "output_type": "stream",
     "text": [
      "Progress: 10% Complete\n",
      "Progress: 20% Complete\n",
      "Progress: 30% Complete\n",
      "Progress: 40% Complete\n",
      "Progress: 50% Complete\n",
      "Progress: 60% Complete\n",
      "Progress: 70% Complete\n",
      "Progress: 80% Complete\n",
      "Progress: 90% Complete\n",
      "Progress: 100% Complete\n"
     ]
    }
   ],
   "source": [
    "industries = []\n",
    "dates = []\n",
    "counties = []\n",
    "counts = []\n",
    "emp_counts = []\n",
    "progress_count = 0\n",
    "for county in counties_edd:\n",
    "    for code in parsed_codes:\n",
    "        for date in dates_edd:\n",
    "            output, hw, industry, emp_count = edd_to_hw(edd_2015, ca_ipums_hw_multi_2015, naics, county_info, county, str(code), date, 10)\n",
    "            industries.append(industry)\n",
    "            dates.append(date)\n",
    "            counties.append(county)\n",
    "            counts.append(hw)\n",
    "            emp_counts.append(emp_count)\n",
    "            progress_count += 1\n",
    "            if progress_count % 10440 == 0:\n",
    "                percent_done = int((progress_count / total_iterations) * 100)\n",
    "                print(f'Progress: {percent_done}% Complete')"
   ]
  },
  {
   "cell_type": "code",
   "execution_count": 122,
   "id": "288ed8ee",
   "metadata": {},
   "outputs": [],
   "source": [
    "df_dict_multi_2015 = {'Industry':industries, 'Date':dates, 'County':counties, 'High Wage Count':counts, 'Employment Count':emp_counts}\n",
    "tidy_df_multi_2015 = pd.DataFrame(df_dict_multi_2015)\n",
    "tidy_df_multi_2015 = tidy_df_multi_2015[tidy_df_multi_2015['Industry'].notna()]\n",
    "tidy_df_multi_2015['Date']= pd.to_datetime(tidy_df_multi_2015['Date'])\n",
    "tidy_df_multi_2015['High Wage Count'] = tidy_df_multi_2015['High Wage Count'].astype(int)\n",
    "tidy_df_multi_2015 = tidy_df_multi_2015.sort_values(by=['Industry', 'County', 'Date'])\n",
    "tidy_df_multi_2015['Output Race'] = 'Multiracial'"
   ]
  },
  {
   "cell_type": "markdown",
   "id": "40f3d323",
   "metadata": {},
   "source": [
    "Concatenate"
   ]
  },
  {
   "cell_type": "code",
   "execution_count": 123,
   "id": "92305863",
   "metadata": {},
   "outputs": [],
   "source": [
    "df_race_2015 = pd.concat([tidy_df_white_2015, \n",
    "                          tidy_df_black_2015, \n",
    "                          tidy_df_latino_2015, \n",
    "                          tidy_df_asian_2015, \n",
    "                          tidy_df_native_2015, \n",
    "                          tidy_df_other_2015, \n",
    "                          tidy_df_multi_2015], \n",
    "                         ignore_index=True)\n",
    "df_race_2015 = pd.merge(df_race_2015, col_2015, left_on='County', right_on='Regions')\n",
    "df_race_2015['Year'] = 2015\n",
    "df_race_2015 = df_race_2015[['Industry', 'Date', 'County', 'High Wage Count', 'Cost of Living', 'Employment Count', 'Output Race', 'Year']]"
   ]
  },
  {
   "cell_type": "code",
   "execution_count": 125,
   "id": "2ef41141",
   "metadata": {},
   "outputs": [],
   "source": [
    "df_race_2015.to_csv('hw_outputs_w_race_2015.csv', encoding='utf-8', index=False)"
   ]
  },
  {
   "cell_type": "markdown",
   "id": "9599c7c5",
   "metadata": {},
   "source": [
    "### Concatenate all dataframes & export"
   ]
  },
  {
   "cell_type": "code",
   "execution_count": 128,
   "id": "ae5cfbb2",
   "metadata": {},
   "outputs": [],
   "source": [
    "df_race_2019 = pd.read_csv('data/hw_outputs_w_race_2019.csv')\n",
    "df_race_2019['Year'] = 2019"
   ]
  },
  {
   "cell_type": "code",
   "execution_count": 129,
   "id": "91ef4284",
   "metadata": {},
   "outputs": [],
   "source": [
    "hw_outputs_w_race_5year = pd.concat([df_race_2019, \n",
    "                          df_race_2018, \n",
    "                          df_race_2017, \n",
    "                          df_race_2016, \n",
    "                          df_race_2015], \n",
    "                         ignore_index=True)"
   ]
  },
  {
   "cell_type": "code",
   "execution_count": 130,
   "id": "fe739bd6",
   "metadata": {},
   "outputs": [],
   "source": [
    "hw_outputs_w_race_5year.to_csv('hw_outputs_w_race_5year.csv', encoding='utf-8', index=False)"
   ]
  },
  {
   "cell_type": "code",
   "execution_count": null,
   "id": "4a228cd4",
   "metadata": {},
   "outputs": [],
   "source": []
  }
 ],
 "metadata": {
  "kernelspec": {
   "display_name": "Python 3",
   "language": "python",
   "name": "python3"
  },
  "language_info": {
   "codemirror_mode": {
    "name": "ipython",
    "version": 3
   },
   "file_extension": ".py",
   "mimetype": "text/x-python",
   "name": "python",
   "nbconvert_exporter": "python",
   "pygments_lexer": "ipython3",
   "version": "3.8.8"
  }
 },
 "nbformat": 4,
 "nbformat_minor": 5
}
