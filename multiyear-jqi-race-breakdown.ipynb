{
 "cells": [
  {
   "cell_type": "code",
   "execution_count": 132,
   "id": "6fb821b4",
   "metadata": {},
   "outputs": [],
   "source": [
    "import numpy as np\n",
    "import pandas as pd\n",
    "import matplotlib.pyplot as plt\n",
    "import warnings\n",
    "warnings.filterwarnings(\"ignore\")\n",
    "from jqi_functions import *"
   ]
  },
  {
   "cell_type": "markdown",
   "id": "7473070e",
   "metadata": {},
   "source": [
    "## Load Data"
   ]
  },
  {
   "cell_type": "code",
   "execution_count": 139,
   "id": "6293460c",
   "metadata": {},
   "outputs": [],
   "source": [
    "county_info = pd.read_csv('data/county_to_regions_key.csv')"
   ]
  },
  {
   "cell_type": "code",
   "execution_count": 3,
   "id": "f0917552",
   "metadata": {},
   "outputs": [],
   "source": [
    "ipums_2019 = cleaned_ipums_demo('2019')\n",
    "ipums_2018 = cleaned_ipums_demo('2018')\n",
    "ipums_2017 = cleaned_ipums_demo('2017')\n",
    "ipums_2016 = cleaned_ipums_demo('2016')\n",
    "ipums_2015 = cleaned_ipums_demo('2015')"
   ]
  },
  {
   "cell_type": "code",
   "execution_count": 134,
   "id": "c6a5e40e",
   "metadata": {},
   "outputs": [],
   "source": [
    "%run jqi_functions\n",
    "ipums_2020 = cleaned_ipums_demo('2020')"
   ]
  },
  {
   "cell_type": "code",
   "execution_count": 4,
   "id": "d67472eb",
   "metadata": {},
   "outputs": [],
   "source": [
    "col_2019 = pd.read_csv('data/cost_of_living/united-way-col-1A1PS1C2019.csv')\n",
    "col_2018 = pd.read_csv('data/cost_of_living/united-way-col-1A1PS1C2018.csv')\n",
    "col_2017 = pd.read_csv('data/cost_of_living/united-way-col-1A1PS1C2017.csv')\n",
    "col_2016 = pd.read_csv('data/cost_of_living/united-way-col-1A1PS1C2016.csv')\n",
    "col_2015 = pd.read_csv('data/cost_of_living/united-way-col-1A1PS1C2015.csv')"
   ]
  },
  {
   "cell_type": "code",
   "execution_count": 5,
   "id": "4756f948",
   "metadata": {},
   "outputs": [],
   "source": [
    "def merge_ipums_col(df, col, county_info):\n",
    "    df = pd.merge(df, county_info, on = 'COUNTYFIP')\n",
    "    df = df[['INDNAICS', 'PERWT', 'INCWAGE', 'RACE', 'HISPAN',\n",
    "           'NAICS Code', 'Industry Title_x', 'Main_Code', 'Sub_1_Code', 'Sub_2_Code', 'Sub_3_Code', 'Sub_4_Code', 'County', 'Rural/Urban', 'CDI Regions']]\n",
    "    df = pd.merge(df, col, left_on = 'CDI Regions', right_on = 'Regions')\n",
    "    df = df.rename(columns = {'Cost of Living':'Regional COL'})\n",
    "    df = pd.merge(df, col, left_on = 'Rural/Urban', right_on = 'Regions')\n",
    "    df = df.rename(columns = {'Cost of Living':'Rural/Urban COL'})\n",
    "    df = pd.merge(df, col, left_on = 'County', right_on = 'Regions')\n",
    "    df = df.rename(columns = {'Cost of Living':'County COL'})\n",
    "    df = df[['INDNAICS', 'PERWT', 'INCWAGE', 'RACE', 'HISPAN',\n",
    "           'NAICS Code', 'Industry Title_x', 'Main_Code', 'Sub_1_Code', 'Sub_2_Code', 'Sub_3_Code', 'Sub_4_Code', 'County', 'Rural/Urban', 'CDI Regions',\n",
    "                        'Regional COL', 'Rural/Urban COL', 'County COL']]\n",
    "    df['Regional Rural/Urban'] = df['CDI Regions'] + ' ' + df['Rural/Urban']\n",
    "    df = pd.merge(df, col, left_on = 'Regional Rural/Urban', right_on = 'Regions')\n",
    "    df = df.rename(columns = {'Cost of Living':'Regional Rural/Urban COL'})\n",
    "    df = df.rename(columns = {'Industry Title_x':'Industry Title'})\n",
    "    df = df[['INDNAICS', 'PERWT', 'INCWAGE', 'RACE', 'HISPAN',\n",
    "           'NAICS Code', 'Industry Title', 'Main_Code', 'Sub_1_Code', 'Sub_2_Code', 'Sub_3_Code',\n",
    "           'Sub_4_Code', 'County', 'Rural/Urban', 'CDI Regions', 'Regional Rural/Urban',\n",
    "                        'Regional COL', 'Rural/Urban COL', 'County COL', 'Regional Rural/Urban COL']]\n",
    "    df['Industry Title'] = normalize_titles(df['Industry Title'])\n",
    "    return df"
   ]
  },
  {
   "cell_type": "code",
   "execution_count": 6,
   "id": "d1ba8d4e",
   "metadata": {},
   "outputs": [],
   "source": [
    "ipums_2019 = merge_ipums_col(ipums_2019, col_2019, county_info)\n",
    "ipums_2018 = merge_ipums_col(ipums_2018, col_2018, county_info)\n",
    "ipums_2017 = merge_ipums_col(ipums_2017, col_2017, county_info)\n",
    "ipums_2016 = merge_ipums_col(ipums_2016, col_2016, county_info)\n",
    "ipums_2015 = merge_ipums_col(ipums_2015, col_2015, county_info)"
   ]
  },
  {
   "cell_type": "code",
   "execution_count": 140,
   "id": "5523c5cd",
   "metadata": {},
   "outputs": [],
   "source": [
    "ipums_2020 = merge_ipums_col(ipums_2020, col_2019, county_info)"
   ]
  },
  {
   "cell_type": "code",
   "execution_count": 7,
   "id": "21b204d4",
   "metadata": {},
   "outputs": [],
   "source": [
    "ca_ipums_5year = [ipums_2019, ipums_2018, ipums_2017, ipums_2016, ipums_2015]\n",
    "col_5year = [col_2019, col_2018, col_2017, col_2016, col_2015]\n",
    "years = ['2019', '2018', '2017', '2016', '2015']"
   ]
  },
  {
   "cell_type": "code",
   "execution_count": 8,
   "id": "03054029",
   "metadata": {},
   "outputs": [],
   "source": [
    "naics = pd.read_csv('data/naics_parsed_crosswalk.csv').drop_duplicates(subset='INDNAICS').reset_index().iloc[:,1:]\n",
    "naics['Industry Title'] = normalize_titles(naics['Industry Title'])\n",
    "naics['Sub_1_Code'] = [str(x) for x in naics['Sub_1_Code']]\n",
    "naics['Main_Code'] = [str(x) for x in naics['Main_Code']]"
   ]
  },
  {
   "cell_type": "markdown",
   "id": "02e9fa96",
   "metadata": {},
   "source": [
    "## County Lookup Dataframe"
   ]
  },
  {
   "cell_type": "code",
   "execution_count": 9,
   "id": "78b6ff44",
   "metadata": {},
   "outputs": [],
   "source": [
    "county_info = county_info[['County', 'Rural/Urban', 'CDI Regions']]\n",
    "county_info['Regional Rural/Urban'] = county_info['CDI Regions'] + ' ' + county_info['Rural/Urban']\n",
    "for col, year in zip(col_5year, years):\n",
    "    county_info = pd.merge(county_info, col, left_on = 'County', right_on = 'Regions')\n",
    "\n",
    "    county_info = county_info.rename(columns = {'Cost of Living':f'County COL {year}'})\n",
    "    county_info = county_info.drop(columns=['Regions'])\n",
    "\n",
    "    county_info = pd.merge(county_info, col, left_on = 'Regional Rural/Urban', right_on = 'Regions')\n",
    "\n",
    "    county_info = county_info.rename(columns = {'Cost of Living':f'Regional Rural/Urban COL {year}'})\n",
    "    county_info = county_info.drop(columns=['Regions'])\n",
    "\n",
    "    county_info = pd.merge(county_info, col, left_on = 'CDI Regions', right_on = 'Regions')\n",
    "\n",
    "    county_info = county_info.rename(columns = {'Cost of Living':f'Regional COL {year}'})\n",
    "    county_info = county_info.drop(columns=['Regions'])\n",
    "\n",
    "    county_info = pd.merge(county_info, col, left_on = 'Rural/Urban', right_on = 'Regions')\n",
    "\n",
    "    county_info = county_info.rename(columns = {'Cost of Living':f'Rural/Urban COL {year}'})\n",
    "    county_info = county_info.drop(columns=['Regions'])\n",
    "\n",
    "    county_info[f'State COL {year}'] = col.iloc[11][1]"
   ]
  },
  {
   "cell_type": "code",
   "execution_count": 10,
   "id": "2bf1fcf3",
   "metadata": {},
   "outputs": [],
   "source": [
    "county_info = county_info[['County', 'Rural/Urban', 'CDI Regions', 'Regional Rural/Urban',\n",
    "       'County COL 2019', 'Regional Rural/Urban COL 2019', 'Regional COL 2019',\n",
    "       'Rural/Urban COL 2019', 'State COL 2019', 'County COL 2018',\n",
    "       'Regional Rural/Urban COL 2018', 'Regional COL 2018',\n",
    "       'Rural/Urban COL 2018', 'State COL 2018', 'County COL 2017',\n",
    "       'Regional Rural/Urban COL 2017', 'Regional COL 2017',\n",
    "       'Rural/Urban COL 2017', 'State COL 2017', 'County COL 2016',\n",
    "       'Regional Rural/Urban COL 2016',\n",
    "       'Regional COL 2016', 'Rural/Urban COL 2016',\n",
    "       'State COL 2016', 'County COL 2015',\n",
    "       'Regional Rural/Urban COL 2015', 'Regional COL 2015',\n",
    "       'Rural/Urban COL 2015', 'State COL 2015']]"
   ]
  },
  {
   "cell_type": "markdown",
   "id": "b5ada395",
   "metadata": {},
   "source": [
    "## EDD Data"
   ]
  },
  {
   "cell_type": "code",
   "execution_count": 11,
   "id": "8181d079",
   "metadata": {},
   "outputs": [],
   "source": [
    "edd_2019 = pd.read_csv('data/edd_2019_parsed.csv')\n",
    "edd_2018 = pd.read_csv('data/edd_2018_parsed.csv')\n",
    "edd_2017 = pd.read_csv('data/edd_2017_parsed.csv')\n",
    "edd_2016 = pd.read_csv('data/edd_2016_parsed.csv')\n",
    "edd_2015 = pd.read_csv('data/edd_2015_parsed.csv')"
   ]
  },
  {
   "cell_type": "code",
   "execution_count": 143,
   "id": "56c10e99",
   "metadata": {},
   "outputs": [],
   "source": [
    "edd_2020 = pd.read_csv('data/edd/edd_2020_parsed.csv')"
   ]
  },
  {
   "cell_type": "code",
   "execution_count": 12,
   "id": "2efb620e",
   "metadata": {},
   "outputs": [],
   "source": [
    "edd_dfs = [edd_2019, edd_2018, edd_2017, edd_2016, edd_2015]"
   ]
  },
  {
   "cell_type": "code",
   "execution_count": 13,
   "id": "a95cbea1",
   "metadata": {},
   "outputs": [],
   "source": [
    "def clean_edd(edd):\n",
    "    edd['Area Name'] = edd['Area Name'].str.replace(' County', '')\n",
    "    edd = edd.loc[edd['Area Type'] == 'County']\n",
    "    edd = edd.drop(columns=['Industry Title'])\n",
    "    edd = edd.rename(columns={\"LMID Industry Title\": \"Industry Title\"})\n",
    "    edd['Sub_1_Code'] = [str(x) for x in edd['Sub_1_Code']]\n",
    "    edd['Main_Code'] = [str(x) for x in edd['Main_Code']]\n",
    "    return edd"
   ]
  },
  {
   "cell_type": "code",
   "execution_count": 14,
   "id": "4f8e7220",
   "metadata": {},
   "outputs": [],
   "source": [
    "edd_2019 = clean_edd(edd_2019)\n",
    "edd_2018 = clean_edd(edd_2018)\n",
    "edd_2017 = clean_edd(edd_2017)\n",
    "edd_2016 = clean_edd(edd_2016)\n",
    "edd_2015 = clean_edd(edd_2015)"
   ]
  },
  {
   "cell_type": "code",
   "execution_count": 144,
   "id": "c7cbac9a",
   "metadata": {},
   "outputs": [],
   "source": [
    "edd_2020 = clean_edd(edd_2020)"
   ]
  },
  {
   "cell_type": "markdown",
   "id": "bd9edd1c",
   "metadata": {},
   "source": [
    "## Breakdown dataframes by race"
   ]
  },
  {
   "cell_type": "code",
   "execution_count": 16,
   "id": "30f2f270",
   "metadata": {},
   "outputs": [],
   "source": [
    "def append_race_ratio(df, wt_counts):\n",
    "    df['race_ratio'] = 0\n",
    "    for title in df['Industry Title'].unique():\n",
    "        perwt = df['PERWT'][df['Industry Title'] == title].sum()\n",
    "        df['race_ratio'][df['Industry Title'] == title] = perwt / wt_counts[title]\n",
    "    return df"
   ]
  },
  {
   "cell_type": "markdown",
   "id": "b8692b44",
   "metadata": {},
   "source": [
    "****2020****"
   ]
  },
  {
   "cell_type": "code",
   "execution_count": 145,
   "id": "aaf3feb1",
   "metadata": {},
   "outputs": [],
   "source": [
    "ca_ipums_latino_2020 = ipums_2020.loc[ipums_2020['HISPAN'] != 0]\n",
    "ca_ipums_no_latino_2020 = ipums_2020.loc[ipums_2020['HISPAN'] == 0]\n",
    "ca_ipums_white_2020 = ca_ipums_no_latino_2020.loc[ca_ipums_no_latino_2020['RACE'] == 1]\n",
    "ca_ipums_black_2020 = ca_ipums_no_latino_2020.loc[ca_ipums_no_latino_2020['RACE'] == 2]\n",
    "ca_ipums_native_2020 = ca_ipums_no_latino_2020.loc[ca_ipums_no_latino_2020['RACE'] == 3]\n",
    "ca_ipums_asian_2020 = ca_ipums_no_latino_2020.loc[(ca_ipums_no_latino_2020['RACE'] == 4) |\n",
    "                                   (ca_ipums_no_latino_2020['RACE'] == 5) |\n",
    "                                   (ca_ipums_no_latino_2020['RACE'] == 6)]\n",
    "ca_ipums_other_2020 = ca_ipums_no_latino_2020.loc[ca_ipums_no_latino_2020['RACE'] == 7]\n",
    "ca_ipums_multi_2020 = ca_ipums_no_latino_2020.loc[(ca_ipums_no_latino_2020['RACE'] == 8) |\n",
    "                                   (ca_ipums_no_latino_2020['RACE'] == 9)]"
   ]
  },
  {
   "cell_type": "code",
   "execution_count": 146,
   "id": "b9eb483d",
   "metadata": {},
   "outputs": [],
   "source": [
    "wt_counts = {}\n",
    "for title in ipums_2020['Industry Title'].unique():\n",
    "    title_copy = ipums_2020.loc[ipums_2020['Industry Title'] == title].copy()\n",
    "    wt_counts[title] = title_copy['PERWT'].sum()"
   ]
  },
  {
   "cell_type": "code",
   "execution_count": 149,
   "id": "a3e3b202",
   "metadata": {},
   "outputs": [],
   "source": [
    "ca_ipums_white_2020 = append_race_ratio(ca_ipums_white_2020, wt_counts)\n",
    "ca_ipums_latino_2020 = append_race_ratio(ca_ipums_latino_2020, wt_counts)\n",
    "ca_ipums_black_2020 = append_race_ratio(ca_ipums_black_2020, wt_counts)\n",
    "ca_ipums_native_2020 = append_race_ratio(ca_ipums_native_2020, wt_counts)\n",
    "ca_ipums_asian_2020 = append_race_ratio(ca_ipums_asian_2020, wt_counts)\n",
    "ca_ipums_other_2020 = append_race_ratio(ca_ipums_other_2020, wt_counts)\n",
    "ca_ipums_multi_2020 = append_race_ratio(ca_ipums_multi_2020, wt_counts)"
   ]
  },
  {
   "cell_type": "code",
   "execution_count": 150,
   "id": "3c31af13",
   "metadata": {},
   "outputs": [],
   "source": [
    "ca_ipums_hw_white_2020 = add_geo_high_wages(ca_ipums_white_2020)\n",
    "ca_ipums_hw_latino_2020 = add_geo_high_wages(ca_ipums_latino_2020)\n",
    "ca_ipums_hw_black_2020 = add_geo_high_wages(ca_ipums_black_2020)\n",
    "ca_ipums_hw_native_2020 = add_geo_high_wages(ca_ipums_native_2020)\n",
    "ca_ipums_hw_asian_2020 = add_geo_high_wages(ca_ipums_asian_2020)\n",
    "ca_ipums_hw_other_2020 = add_geo_high_wages(ca_ipums_other_2020)\n",
    "ca_ipums_hw_multi_2020 = add_geo_high_wages(ca_ipums_multi_2020)"
   ]
  },
  {
   "cell_type": "code",
   "execution_count": 151,
   "id": "9879c367",
   "metadata": {},
   "outputs": [],
   "source": [
    "race_ipums_dfs_2020 = [ca_ipums_hw_white_2020, \n",
    "                  ca_ipums_hw_latino_2020, \n",
    "                  ca_ipums_hw_black_2020, \n",
    "                  ca_ipums_hw_native_2020, \n",
    "                  ca_ipums_hw_asian_2020, \n",
    "                  ca_ipums_hw_other_2020, \n",
    "                  ca_ipums_hw_multi_2020]"
   ]
  },
  {
   "cell_type": "code",
   "execution_count": 152,
   "id": "dad5002d",
   "metadata": {},
   "outputs": [],
   "source": [
    "for df in race_ipums_dfs_2020:\n",
    "    df['Sub_1_Code'] = [str(x) for x in df['Sub_1_Code']]\n",
    "    df['Main_Code'] = [str(x) for x in df['Main_Code']]"
   ]
  },
  {
   "cell_type": "markdown",
   "id": "699c3014",
   "metadata": {},
   "source": [
    "**2019**"
   ]
  },
  {
   "cell_type": "code",
   "execution_count": 15,
   "id": "93591d9a",
   "metadata": {},
   "outputs": [],
   "source": [
    "ca_ipums_latino_2019 = ipums_2019.loc[ipums_2019['HISPAN'] != 0]\n",
    "ca_ipums_no_latino_2019 = ipums_2019.loc[ipums_2019['HISPAN'] == 0]\n",
    "ca_ipums_white_2019 = ca_ipums_no_latino_2019.loc[ca_ipums_no_latino_2019['RACE'] == 1]\n",
    "ca_ipums_black_2019 = ca_ipums_no_latino_2019.loc[ca_ipums_no_latino_2019['RACE'] == 2]\n",
    "ca_ipums_native_2019 = ca_ipums_no_latino_2019.loc[ca_ipums_no_latino_2019['RACE'] == 3]\n",
    "ca_ipums_asian_2019 = ca_ipums_no_latino_2019.loc[(ca_ipums_no_latino_2019['RACE'] == 4) |\n",
    "                                   (ca_ipums_no_latino_2019['RACE'] == 5) |\n",
    "                                   (ca_ipums_no_latino_2019['RACE'] == 6)]\n",
    "ca_ipums_other_2019 = ca_ipums_no_latino_2019.loc[ca_ipums_no_latino_2019['RACE'] == 7]\n",
    "ca_ipums_multi_2019 = ca_ipums_no_latino_2019.loc[(ca_ipums_no_latino_2019['RACE'] == 8) |\n",
    "                                   (ca_ipums_no_latino_2019['RACE'] == 9)]"
   ]
  },
  {
   "cell_type": "code",
   "execution_count": 17,
   "id": "0d9b5e61",
   "metadata": {},
   "outputs": [],
   "source": [
    "wt_counts = {}\n",
    "for title in ipums_2019['Industry Title'].unique():\n",
    "    title_copy = ipums_2019.loc[ipums_2019['Industry Title'] == title].copy()\n",
    "    wt_counts[title] = title_copy['PERWT'].sum()"
   ]
  },
  {
   "cell_type": "code",
   "execution_count": 18,
   "id": "9e8baf38",
   "metadata": {},
   "outputs": [],
   "source": [
    "ca_ipums_white_2019 = append_race_ratio(ca_ipums_white_2019, wt_counts)\n",
    "ca_ipums_latino_2019 = append_race_ratio(ca_ipums_latino_2019, wt_counts)\n",
    "ca_ipums_black_2019 = append_race_ratio(ca_ipums_black_2019, wt_counts)\n",
    "ca_ipums_native_2019 = append_race_ratio(ca_ipums_native_2019, wt_counts)\n",
    "ca_ipums_asian_2019 = append_race_ratio(ca_ipums_asian_2019, wt_counts)\n",
    "ca_ipums_other_2019 = append_race_ratio(ca_ipums_other_2019, wt_counts)\n",
    "ca_ipums_multi_2019 = append_race_ratio(ca_ipums_multi_2019, wt_counts)"
   ]
  },
  {
   "cell_type": "code",
   "execution_count": 37,
   "id": "e5b10321",
   "metadata": {},
   "outputs": [],
   "source": [
    "ca_ipums_hw_white_2019 = add_geo_high_wages(ca_ipums_white_2019)\n",
    "ca_ipums_hw_latino_2019 = add_geo_high_wages(ca_ipums_latino_2019)\n",
    "ca_ipums_hw_black_2019 = add_geo_high_wages(ca_ipums_black_2019)\n",
    "ca_ipums_hw_native_2019 = add_geo_high_wages(ca_ipums_native_2019)\n",
    "ca_ipums_hw_asian_2019 = add_geo_high_wages(ca_ipums_asian_2019)\n",
    "ca_ipums_hw_other_2019 = add_geo_high_wages(ca_ipums_other_2019)\n",
    "ca_ipums_hw_multi_2019 = add_geo_high_wages(ca_ipums_multi_2019)"
   ]
  },
  {
   "cell_type": "code",
   "execution_count": 38,
   "id": "38da8e3c",
   "metadata": {},
   "outputs": [],
   "source": [
    "race_ipums_dfs_2019 = [ca_ipums_hw_white_2019, \n",
    "                  ca_ipums_hw_latino_2019, \n",
    "                  ca_ipums_hw_black_2019, \n",
    "                  ca_ipums_hw_native_2019, \n",
    "                  ca_ipums_hw_asian_2019, \n",
    "                  ca_ipums_hw_other_2019, \n",
    "                  ca_ipums_hw_multi_2019]"
   ]
  },
  {
   "cell_type": "code",
   "execution_count": 39,
   "id": "2895e83e",
   "metadata": {},
   "outputs": [],
   "source": [
    "for df in race_ipums_dfs_2019:\n",
    "    df['Sub_1_Code'] = [str(x) for x in df['Sub_1_Code']]\n",
    "    df['Main_Code'] = [str(x) for x in df['Main_Code']]"
   ]
  },
  {
   "cell_type": "markdown",
   "id": "5a5c3e2c",
   "metadata": {},
   "source": [
    "**2018**"
   ]
  },
  {
   "cell_type": "code",
   "execution_count": 31,
   "id": "97df9339",
   "metadata": {},
   "outputs": [],
   "source": [
    "ca_ipums_latino_2018 = ipums_2018.loc[ipums_2018['HISPAN'] != 0]\n",
    "ca_ipums_no_latino_2018 = ipums_2018.loc[ipums_2018['HISPAN'] == 0]\n",
    "ca_ipums_white_2018 = ca_ipums_no_latino_2018.loc[ca_ipums_no_latino_2018['RACE'] == 1]\n",
    "ca_ipums_black_2018 = ca_ipums_no_latino_2018.loc[ca_ipums_no_latino_2018['RACE'] == 2]\n",
    "ca_ipums_native_2018 = ca_ipums_no_latino_2018.loc[ca_ipums_no_latino_2018['RACE'] == 3]\n",
    "ca_ipums_asian_2018 = ca_ipums_no_latino_2018.loc[(ca_ipums_no_latino_2018['RACE'] == 4) |\n",
    "                                   (ca_ipums_no_latino_2018['RACE'] == 5) |\n",
    "                                   (ca_ipums_no_latino_2018['RACE'] == 6)]\n",
    "ca_ipums_other_2018 = ca_ipums_no_latino_2018.loc[ca_ipums_no_latino_2018['RACE'] == 7]\n",
    "ca_ipums_multi_2018 = ca_ipums_no_latino_2018.loc[(ca_ipums_no_latino_2018['RACE'] == 8) |\n",
    "                                   (ca_ipums_no_latino_2018['RACE'] == 9)]"
   ]
  },
  {
   "cell_type": "code",
   "execution_count": 32,
   "id": "6bc4fac3",
   "metadata": {},
   "outputs": [],
   "source": [
    "wt_counts = {}\n",
    "for title in ipums_2018['Industry Title'].unique():\n",
    "    title_copy = ipums_2018.loc[ipums_2018['Industry Title'] == title].copy()\n",
    "    wt_counts[title] = title_copy['PERWT'].sum()"
   ]
  },
  {
   "cell_type": "code",
   "execution_count": 33,
   "id": "f9132b9e",
   "metadata": {},
   "outputs": [],
   "source": [
    "ca_ipums_white_2018 = append_race_ratio(ca_ipums_white_2018, wt_counts)\n",
    "ca_ipums_latino_2018 = append_race_ratio(ca_ipums_latino_2018, wt_counts)\n",
    "ca_ipums_black_2018 = append_race_ratio(ca_ipums_black_2018, wt_counts)\n",
    "ca_ipums_native_2018 = append_race_ratio(ca_ipums_native_2018, wt_counts)\n",
    "ca_ipums_asian_2018 = append_race_ratio(ca_ipums_asian_2018, wt_counts)\n",
    "ca_ipums_other_2018 = append_race_ratio(ca_ipums_other_2018, wt_counts)\n",
    "ca_ipums_multi_2018 = append_race_ratio(ca_ipums_multi_2018, wt_counts)"
   ]
  },
  {
   "cell_type": "code",
   "execution_count": 40,
   "id": "eff173ef",
   "metadata": {},
   "outputs": [],
   "source": [
    "ca_ipums_hw_white_2018 = add_geo_high_wages(ca_ipums_white_2018)\n",
    "ca_ipums_hw_latino_2018 = add_geo_high_wages(ca_ipums_latino_2018)\n",
    "ca_ipums_hw_black_2018 = add_geo_high_wages(ca_ipums_black_2018)\n",
    "ca_ipums_hw_native_2018 = add_geo_high_wages(ca_ipums_native_2018)\n",
    "ca_ipums_hw_asian_2018 = add_geo_high_wages(ca_ipums_asian_2018)\n",
    "ca_ipums_hw_other_2018 = add_geo_high_wages(ca_ipums_other_2018)\n",
    "ca_ipums_hw_multi_2018 = add_geo_high_wages(ca_ipums_multi_2018)"
   ]
  },
  {
   "cell_type": "code",
   "execution_count": 41,
   "id": "e325851e",
   "metadata": {},
   "outputs": [],
   "source": [
    "race_ipums_dfs_2018 = [ca_ipums_hw_white_2018, \n",
    "                  ca_ipums_hw_latino_2018, \n",
    "                  ca_ipums_hw_black_2018, \n",
    "                  ca_ipums_hw_native_2018, \n",
    "                  ca_ipums_hw_asian_2018, \n",
    "                  ca_ipums_hw_other_2018, \n",
    "                  ca_ipums_hw_multi_2018]"
   ]
  },
  {
   "cell_type": "code",
   "execution_count": 42,
   "id": "7faebcf5",
   "metadata": {},
   "outputs": [],
   "source": [
    "for df in race_ipums_dfs_2018:\n",
    "    df['Sub_1_Code'] = [str(x) for x in df['Sub_1_Code']]\n",
    "    df['Main_Code'] = [str(x) for x in df['Main_Code']]"
   ]
  },
  {
   "cell_type": "markdown",
   "id": "4df98be1",
   "metadata": {},
   "source": [
    "**2017**"
   ]
  },
  {
   "cell_type": "code",
   "execution_count": 22,
   "id": "9fb77c62",
   "metadata": {},
   "outputs": [],
   "source": [
    "ca_ipums_latino_2017 = ipums_2017.loc[ipums_2017['HISPAN'] != 0]\n",
    "ca_ipums_no_latino_2017 = ipums_2017.loc[ipums_2017['HISPAN'] == 0]\n",
    "ca_ipums_white_2017 = ca_ipums_no_latino_2017.loc[ca_ipums_no_latino_2017['RACE'] == 1]\n",
    "ca_ipums_black_2017 = ca_ipums_no_latino_2017.loc[ca_ipums_no_latino_2017['RACE'] == 2]\n",
    "ca_ipums_native_2017 = ca_ipums_no_latino_2017.loc[ca_ipums_no_latino_2017['RACE'] == 3]\n",
    "ca_ipums_asian_2017 = ca_ipums_no_latino_2017.loc[(ca_ipums_no_latino_2017['RACE'] == 4) |\n",
    "                                   (ca_ipums_no_latino_2017['RACE'] == 5) |\n",
    "                                   (ca_ipums_no_latino_2017['RACE'] == 6)]\n",
    "ca_ipums_other_2017 = ca_ipums_no_latino_2017.loc[ca_ipums_no_latino_2017['RACE'] == 7]\n",
    "ca_ipums_multi_2017 = ca_ipums_no_latino_2017.loc[(ca_ipums_no_latino_2017['RACE'] == 8) |\n",
    "                                   (ca_ipums_no_latino_2017['RACE'] == 9)]"
   ]
  },
  {
   "cell_type": "code",
   "execution_count": 23,
   "id": "7f253d36",
   "metadata": {},
   "outputs": [],
   "source": [
    "wt_counts = {}\n",
    "for title in ipums_2017['Industry Title'].unique():\n",
    "    title_copy = ipums_2017.loc[ipums_2017['Industry Title'] == title].copy()\n",
    "    wt_counts[title] = title_copy['PERWT'].sum()"
   ]
  },
  {
   "cell_type": "code",
   "execution_count": 24,
   "id": "738c0923",
   "metadata": {},
   "outputs": [],
   "source": [
    "ca_ipums_white_2017 = append_race_ratio(ca_ipums_white_2017, wt_counts)\n",
    "ca_ipums_latino_2017 = append_race_ratio(ca_ipums_latino_2017, wt_counts)\n",
    "ca_ipums_black_2017 = append_race_ratio(ca_ipums_black_2017, wt_counts)\n",
    "ca_ipums_native_2017 = append_race_ratio(ca_ipums_native_2017, wt_counts)\n",
    "ca_ipums_asian_2017 = append_race_ratio(ca_ipums_asian_2017, wt_counts)\n",
    "ca_ipums_other_2017 = append_race_ratio(ca_ipums_other_2017, wt_counts)\n",
    "ca_ipums_multi_2017 = append_race_ratio(ca_ipums_multi_2017, wt_counts)"
   ]
  },
  {
   "cell_type": "code",
   "execution_count": 43,
   "id": "687bbd6c",
   "metadata": {},
   "outputs": [],
   "source": [
    "ca_ipums_hw_white_2017 = add_geo_high_wages(ca_ipums_white_2017)\n",
    "ca_ipums_hw_latino_2017 = add_geo_high_wages(ca_ipums_latino_2017)\n",
    "ca_ipums_hw_black_2017 = add_geo_high_wages(ca_ipums_black_2017)\n",
    "ca_ipums_hw_native_2017 = add_geo_high_wages(ca_ipums_native_2017)\n",
    "ca_ipums_hw_asian_2017 = add_geo_high_wages(ca_ipums_asian_2017)\n",
    "ca_ipums_hw_other_2017 = add_geo_high_wages(ca_ipums_other_2017)\n",
    "ca_ipums_hw_multi_2017 = add_geo_high_wages(ca_ipums_multi_2017)"
   ]
  },
  {
   "cell_type": "code",
   "execution_count": 44,
   "id": "73fa99f1",
   "metadata": {},
   "outputs": [],
   "source": [
    "race_ipums_dfs_2017 = [ca_ipums_hw_white_2017, \n",
    "                  ca_ipums_hw_latino_2017, \n",
    "                  ca_ipums_hw_black_2017, \n",
    "                  ca_ipums_hw_native_2017, \n",
    "                  ca_ipums_hw_asian_2017, \n",
    "                  ca_ipums_hw_other_2017, \n",
    "                  ca_ipums_hw_multi_2017]"
   ]
  },
  {
   "cell_type": "code",
   "execution_count": 45,
   "id": "165386e8",
   "metadata": {},
   "outputs": [],
   "source": [
    "for df in race_ipums_dfs_2017:\n",
    "    df['Sub_1_Code'] = [str(x) for x in df['Sub_1_Code']]\n",
    "    df['Main_Code'] = [str(x) for x in df['Main_Code']]"
   ]
  },
  {
   "cell_type": "markdown",
   "id": "d49cadf8",
   "metadata": {},
   "source": [
    "**2016**"
   ]
  },
  {
   "cell_type": "code",
   "execution_count": 25,
   "id": "64262909",
   "metadata": {},
   "outputs": [],
   "source": [
    "ca_ipums_latino_2016 = ipums_2016.loc[ipums_2016['HISPAN'] != 0]\n",
    "ca_ipums_no_latino_2016 = ipums_2016.loc[ipums_2016['HISPAN'] == 0]\n",
    "ca_ipums_white_2016 = ca_ipums_no_latino_2016.loc[ca_ipums_no_latino_2016['RACE'] == 1]\n",
    "ca_ipums_black_2016 = ca_ipums_no_latino_2016.loc[ca_ipums_no_latino_2016['RACE'] == 2]\n",
    "ca_ipums_native_2016 = ca_ipums_no_latino_2016.loc[ca_ipums_no_latino_2016['RACE'] == 3]\n",
    "ca_ipums_asian_2016 = ca_ipums_no_latino_2016.loc[(ca_ipums_no_latino_2016['RACE'] == 4) |\n",
    "                                   (ca_ipums_no_latino_2016['RACE'] == 5) |\n",
    "                                   (ca_ipums_no_latino_2016['RACE'] == 6)]\n",
    "ca_ipums_other_2016 = ca_ipums_no_latino_2016.loc[ca_ipums_no_latino_2016['RACE'] == 7]\n",
    "ca_ipums_multi_2016 = ca_ipums_no_latino_2016.loc[(ca_ipums_no_latino_2016['RACE'] == 8) |\n",
    "                                   (ca_ipums_no_latino_2016['RACE'] == 9)]"
   ]
  },
  {
   "cell_type": "code",
   "execution_count": 26,
   "id": "938fa32a",
   "metadata": {},
   "outputs": [],
   "source": [
    "wt_counts = {}\n",
    "for title in ipums_2016['Industry Title'].unique():\n",
    "    title_copy = ipums_2016.loc[ipums_2016['Industry Title'] == title].copy()\n",
    "    wt_counts[title] = title_copy['PERWT'].sum()"
   ]
  },
  {
   "cell_type": "code",
   "execution_count": 27,
   "id": "f8ea3a03",
   "metadata": {},
   "outputs": [],
   "source": [
    "ca_ipums_white_2016 = append_race_ratio(ca_ipums_white_2016, wt_counts)\n",
    "ca_ipums_latino_2016 = append_race_ratio(ca_ipums_latino_2016, wt_counts)\n",
    "ca_ipums_black_2016 = append_race_ratio(ca_ipums_black_2016, wt_counts)\n",
    "ca_ipums_native_2016 = append_race_ratio(ca_ipums_native_2016, wt_counts)\n",
    "ca_ipums_asian_2016 = append_race_ratio(ca_ipums_asian_2016, wt_counts)\n",
    "ca_ipums_other_2016 = append_race_ratio(ca_ipums_other_2016, wt_counts)\n",
    "ca_ipums_multi_2016 = append_race_ratio(ca_ipums_multi_2016, wt_counts)"
   ]
  },
  {
   "cell_type": "code",
   "execution_count": 46,
   "id": "e74cbe6f",
   "metadata": {},
   "outputs": [],
   "source": [
    "ca_ipums_hw_white_2016 = add_geo_high_wages(ca_ipums_white_2016)\n",
    "ca_ipums_hw_latino_2016 = add_geo_high_wages(ca_ipums_latino_2016)\n",
    "ca_ipums_hw_black_2016 = add_geo_high_wages(ca_ipums_black_2016)\n",
    "ca_ipums_hw_native_2016 = add_geo_high_wages(ca_ipums_native_2016)\n",
    "ca_ipums_hw_asian_2016 = add_geo_high_wages(ca_ipums_asian_2016)\n",
    "ca_ipums_hw_other_2016 = add_geo_high_wages(ca_ipums_other_2016)\n",
    "ca_ipums_hw_multi_2016 = add_geo_high_wages(ca_ipums_multi_2016)"
   ]
  },
  {
   "cell_type": "code",
   "execution_count": 47,
   "id": "f4693d27",
   "metadata": {},
   "outputs": [],
   "source": [
    "race_ipums_dfs_2016 = [ca_ipums_hw_white_2016, \n",
    "                  ca_ipums_hw_latino_2016, \n",
    "                  ca_ipums_hw_black_2016, \n",
    "                  ca_ipums_hw_native_2016, \n",
    "                  ca_ipums_hw_asian_2016, \n",
    "                  ca_ipums_hw_other_2016, \n",
    "                  ca_ipums_hw_multi_2016]"
   ]
  },
  {
   "cell_type": "code",
   "execution_count": 48,
   "id": "9689616f",
   "metadata": {},
   "outputs": [],
   "source": [
    "for df in race_ipums_dfs_2016:\n",
    "    df['Sub_1_Code'] = [str(x) for x in df['Sub_1_Code']]\n",
    "    df['Main_Code'] = [str(x) for x in df['Main_Code']]"
   ]
  },
  {
   "cell_type": "markdown",
   "id": "3983cac7",
   "metadata": {},
   "source": [
    "**2015**"
   ]
  },
  {
   "cell_type": "code",
   "execution_count": 34,
   "id": "3d0a24b8",
   "metadata": {},
   "outputs": [],
   "source": [
    "ca_ipums_latino_2015 = ipums_2015.loc[ipums_2015['HISPAN'] != 0]\n",
    "ca_ipums_no_latino_2015 = ipums_2015.loc[ipums_2015['HISPAN'] == 0]\n",
    "ca_ipums_white_2015 = ca_ipums_no_latino_2015.loc[ca_ipums_no_latino_2015['RACE'] == 1]\n",
    "ca_ipums_black_2015 = ca_ipums_no_latino_2015.loc[ca_ipums_no_latino_2015['RACE'] == 2]\n",
    "ca_ipums_native_2015 = ca_ipums_no_latino_2015.loc[ca_ipums_no_latino_2015['RACE'] == 3]\n",
    "ca_ipums_asian_2015 = ca_ipums_no_latino_2015.loc[(ca_ipums_no_latino_2015['RACE'] == 4) |\n",
    "                                   (ca_ipums_no_latino_2015['RACE'] == 5) |\n",
    "                                   (ca_ipums_no_latino_2015['RACE'] == 6)]\n",
    "ca_ipums_other_2015 = ca_ipums_no_latino_2015.loc[ca_ipums_no_latino_2015['RACE'] == 7]\n",
    "ca_ipums_multi_2015 = ca_ipums_no_latino_2015.loc[(ca_ipums_no_latino_2015['RACE'] == 8) |\n",
    "                                   (ca_ipums_no_latino_2015['RACE'] == 9)]"
   ]
  },
  {
   "cell_type": "code",
   "execution_count": 35,
   "id": "af98d933",
   "metadata": {},
   "outputs": [],
   "source": [
    "wt_counts = {}\n",
    "for title in ipums_2015['Industry Title'].unique():\n",
    "    title_copy = ipums_2015.loc[ipums_2015['Industry Title'] == title].copy()\n",
    "    wt_counts[title] = title_copy['PERWT'].sum()"
   ]
  },
  {
   "cell_type": "code",
   "execution_count": 36,
   "id": "22a8c019",
   "metadata": {},
   "outputs": [],
   "source": [
    "ca_ipums_white_2015 = append_race_ratio(ca_ipums_white_2015, wt_counts)\n",
    "ca_ipums_latino_2015 = append_race_ratio(ca_ipums_latino_2015, wt_counts)\n",
    "ca_ipums_black_2015 = append_race_ratio(ca_ipums_black_2015, wt_counts)\n",
    "ca_ipums_native_2015 = append_race_ratio(ca_ipums_native_2015, wt_counts)\n",
    "ca_ipums_asian_2015 = append_race_ratio(ca_ipums_asian_2015, wt_counts)\n",
    "ca_ipums_other_2015 = append_race_ratio(ca_ipums_other_2015, wt_counts)\n",
    "ca_ipums_multi_2015 = append_race_ratio(ca_ipums_multi_2015, wt_counts)"
   ]
  },
  {
   "cell_type": "code",
   "execution_count": 49,
   "id": "5422fe9c",
   "metadata": {},
   "outputs": [],
   "source": [
    "ca_ipums_hw_white_2015 = add_geo_high_wages(ca_ipums_white_2015)\n",
    "ca_ipums_hw_latino_2015 = add_geo_high_wages(ca_ipums_latino_2015)\n",
    "ca_ipums_hw_black_2015 = add_geo_high_wages(ca_ipums_black_2015)\n",
    "ca_ipums_hw_native_2015 = add_geo_high_wages(ca_ipums_native_2015)\n",
    "ca_ipums_hw_asian_2015 = add_geo_high_wages(ca_ipums_asian_2015)\n",
    "ca_ipums_hw_other_2015 = add_geo_high_wages(ca_ipums_other_2015)\n",
    "ca_ipums_hw_multi_2015 = add_geo_high_wages(ca_ipums_multi_2015)"
   ]
  },
  {
   "cell_type": "code",
   "execution_count": 50,
   "id": "2dd29b97",
   "metadata": {},
   "outputs": [],
   "source": [
    "race_ipums_dfs_2015 = [ca_ipums_hw_white_2015, \n",
    "                  ca_ipums_hw_latino_2015, \n",
    "                  ca_ipums_hw_black_2015, \n",
    "                  ca_ipums_hw_native_2015, \n",
    "                  ca_ipums_hw_asian_2015, \n",
    "                  ca_ipums_hw_other_2015, \n",
    "                  ca_ipums_hw_multi_2015]"
   ]
  },
  {
   "cell_type": "code",
   "execution_count": 51,
   "id": "813a14b4",
   "metadata": {},
   "outputs": [],
   "source": [
    "for df in race_ipums_dfs_2015:\n",
    "    df['Sub_1_Code'] = [str(x) for x in df['Sub_1_Code']]\n",
    "    df['Main_Code'] = [str(x) for x in df['Main_Code']]"
   ]
  },
  {
   "cell_type": "markdown",
   "id": "78cc0aaa",
   "metadata": {},
   "source": [
    "### High Wage Output Functions"
   ]
  },
  {
   "cell_type": "code",
   "execution_count": 147,
   "id": "879d216a",
   "metadata": {},
   "outputs": [],
   "source": [
    "def edd_to_hw(edd_df, ipums_df_hw, naics_df, county_df, county: str, parsed_code: str, date: str, sample_size: int):\n",
    "    # filter edd by date, edd county, and industry via parsed code\n",
    "    edd_df = edd_df.loc[edd_df['Date'] == date].copy()\n",
    "    if len(edd_df) == 0:\n",
    "        return \"Date not valid or found\", np.nan, np.nan, np.nan\n",
    "    edd_df = edd_df.loc[(edd_df['Sub_4_Code'] == parsed_code) | \n",
    "                        (edd_df['Sub_3_Code'] == parsed_code) | \n",
    "                        (edd_df['Sub_2_Code'] == parsed_code) | \n",
    "                        (edd_df['Sub_1_Code'] == parsed_code) | \n",
    "                        (edd_df['Main_Code'] == parsed_code)].copy()\n",
    "    edd_df = edd_df.loc[edd_df['Area Name'] == county] # this is possible because all counties are in EDD data\n",
    "    edd_df = edd_df.drop_duplicates(subset='Main_EDD').reset_index().iloc[:,1:]\n",
    "    \n",
    "    # merge naics with edd\n",
    "    edd_df_ = pd.merge(edd_df, naics_df, on='Sub_4_Code')\n",
    "    if len(edd_df_) == 0:\n",
    "        edd_df_ = pd.merge(edd_df, naics_df, on='Sub_3_Code')\n",
    "        if len(edd_df_) == 0:\n",
    "            edd_df_ = pd.merge(edd_df, naics_df, on='Sub_2_Code')\n",
    "            if len(edd_df_) == 0:\n",
    "                edd_df_ = pd.merge(edd_df, naics_df, on='Sub_1_Code')\n",
    "                if len(edd_df_) == 0:\n",
    "                    edd_df_ = pd.merge(edd_df, naics_df, on='Main_Code')\n",
    "                    if len(edd_df_) == 0:\n",
    "                        return \"No parsed code of input industry found within input county\", np.nan, np.nan, np.nan\n",
    "    edd_df = edd_df_.rename(columns = {'Industry Title_x':'EDD Industry',\n",
    "                                 'Industry Title_y': 'IPUMS Industry'})\n",
    "    edd_df = edd_df[['EDD Industry', 'Area Name', 'IPUMS Industry', 'INDNAICS', 'Current Employment']]\n",
    "    employment_count = int(edd_df['Current Employment'].values[0])\n",
    "    naics_code = edd_df['INDNAICS'].values[0]\n",
    "    output, hw_perc, industry, ratio = ca_ipums_filter(ipums_df_hw, county_df, county, naics_code, sample_size)\n",
    "    race_ind_count = employment_count * ratio\n",
    "    hw_count = (race_ind_count * hw_perc) / 100\n",
    "    output += f\", High wage count: {hw_count}\"\n",
    "    return output, hw_count, industry, race_ind_count"
   ]
  },
  {
   "cell_type": "code",
   "execution_count": 148,
   "id": "fd0d1528",
   "metadata": {},
   "outputs": [],
   "source": [
    "def ca_ipums_filter(df, county_df, county: str, NAICS: str, n: int):\n",
    "    df = df.loc[df['County'] == county].copy()\n",
    "    level = 'county'\n",
    "    if len(df) == 0:\n",
    "        county_df = county_df.loc[county_df['County'] == county].copy() # narrow down county df\n",
    "        reg_rural_urban = county_df['Regional Rural/Urban'].values[0]\n",
    "        region = county_df['CDI Regions'].values[0]\n",
    "        rural_urban = county_df['Rural/Urban'].values[0]\n",
    "        df = df.loc[df['Regional Rural/Urban'] == reg_rural_urban].copy()\n",
    "        level = 'reg_rural_urban'\n",
    "        if len(df) == 0:\n",
    "            df = df.loc[df['CDI Regions'] == region].copy()\n",
    "            level = 'region'\n",
    "            if len(df) == 0:\n",
    "                df = df.loc[df['Rural/Urban'] == rural_urban].copy()\n",
    "                level = 'rural_urban'\n",
    "                if len(df) == 0:\n",
    "                    level = 'state'\n",
    "    \n",
    "    df = df.loc[df['INDNAICS'] == NAICS].copy()\n",
    "    try:\n",
    "        industry = df['Industry Title'].values[0]\n",
    "    except:\n",
    "        return \"Industry not valid or found\", np.nan, np.nan, np.nan\n",
    "    if len(df) == 0:\n",
    "        return \"NAICS Code not valid or found\", np.nan, np.nan, np.nan\n",
    "    df = df.drop_duplicates(subset='INDNAICS').reset_index().iloc[:,1:]\n",
    "    \n",
    "    # incorporate tracked levels for conditions\n",
    "    if level == 'county':\n",
    "        if df['unwt_county_ind_counts'].values[0] >= n:\n",
    "            return f\"County: {county}, Geographical level used: County, Industry: {industry}, High wage percentage: {df['wt_county_hw_perc'].values[0]}\", df['wt_county_hw_perc'].values[0], industry, df['race_ratio'].values[0]\n",
    "        elif df['unwt_regcomm_ind_counts'].values[0] >= n:\n",
    "            return f\"County: {county}, Geographical level used: Regional Rural/Urban, Industry: {industry}, High wage percentage: {df['wt_regcomm_hw_perc'].values[0]}\", df['wt_regcomm_hw_perc'].values[0], industry, df['race_ratio'].values[0]\n",
    "        elif df['unwt_reg_ind_counts'].values[0] >= n:\n",
    "            return f\"County: {county}, Geographical level used: Regional, Industry: {industry}, High wage percentage: {df['wt_reg_high_wage_perc'].values[0]}\", df['wt_reg_high_wage_perc'].values[0], industry, df['race_ratio'].values[0]\n",
    "        elif df['unwt_comm_ind_counts'].values[0] >= n:\n",
    "            return f\"County: {county}, Geographical level used: Rural/Urban, Industry: {industry}, High wage percentage: {df['wt_comm_high_wage_perc'].values[0]}\", df['wt_comm_high_wage_perc'].values[0], industry, df['race_ratio'].values[0]\n",
    "        elif df['unwt_ind_counts'].values[0] >= n:\n",
    "            return f\"County: {county}, Geographical level used: State, Industry: {industry}, High wage percentage: {df['wt_CA_high_wage_perc'].values[0]}\", df['wt_CA_high_wage_perc'].values[0], industry, df['race_ratio'].values[0]\n",
    "        else:\n",
    "            return \"Not enough records available to satisfy sample size request\", np.nan, np.nan, np.nan\n",
    "        \n",
    "    elif level == 'reg_rural_urban':\n",
    "        if df['unwt_regcomm_ind_counts'].values[0] >= n:\n",
    "            return f\"County: {county}, Geographical level used: Regional Rural/Urban, Industry: {industry}, High wage percentage: {df['wt_regcomm_hw_perc'].values[0]}\", df['wt_regcomm_hw_perc'].values[0], industry, df['race_ratio'].values[0]\n",
    "        elif df['unwt_reg_ind_counts'].values[0] >= n:\n",
    "            return f\"County: {county}, Geographical level used: Regional, Industry: {industry}, High wage percentage: {df['wt_reg_high_wage_perc'].values[0]}\", df['wt_reg_high_wage_perc'].values[0], industry, df['race_ratio'].values[0]\n",
    "        elif df['unwt_comm_ind_counts'].values[0] >= n:\n",
    "            return f\"County: {county}, Geographical level used: Rural/Urban, Industry: {industry}, High wage percentage: {df['wt_comm_high_wage_perc'].values[0]}\", df['wt_comm_high_wage_perc'].values[0], industry, df['race_ratio'].values[0]\n",
    "        elif df['unwt_ind_counts'].values[0] >= n:\n",
    "            return f\"County: {county}, Geographical level used: State, Industry: {industry}, High wage percentage: {df['wt_CA_high_wage_perc'].values[0]}\", df['wt_CA_high_wage_perc'].values[0], industry, df['race_ratio'].values[0]\n",
    "        else:\n",
    "            return \"Not enough records available to satisfy sample size request\", np.nan, np.nan, np.nan\n",
    "        \n",
    "    elif level == 'region':\n",
    "        if df['unwt_reg_ind_counts'].values[0] >= n:\n",
    "            return f\"County: {county}, Geographical level used: Regional, Industry: {industry}, High wage percentage: {df['wt_reg_high_wage_perc'].values[0]}\", df['wt_reg_high_wage_perc'].values[0], industry, df['race_ratio'].values[0]\n",
    "        elif df['unwt_comm_ind_counts'].values[0] >= n:\n",
    "            return f\"County: {county}, Geographical level used: Rural/Urban, Industry: {industry}, High wage percentage: {df['wt_comm_high_wage_perc'].values[0]}\", df['wt_comm_high_wage_perc'].values[0], industry, df['race_ratio'].values[0]\n",
    "        elif df['unwt_ind_counts'].values[0] >= n:\n",
    "            return f\"County: {county}, Geographical level used: State, Industry: {industry}, High wage percentage: {df['wt_CA_high_wage_perc'].values[0]}\", df['wt_CA_high_wage_perc'].values[0], industry, df['race_ratio'].values[0]\n",
    "        else:\n",
    "            return \"Not enough records available to satisfy sample size request\", np.nan, np.nan, np.nan\n",
    "        \n",
    "    elif level == 'rural_urban':\n",
    "        if df['unwt_comm_ind_counts'].values[0] >= n:\n",
    "            return f\"County: {county}, Geographical level used: Rural/Urban, Industry: {industry}, High wage percentage: {df['wt_comm_high_wage_perc'].values[0]}\", df['wt_comm_high_wage_perc'].values[0], industry, df['race_ratio'].values[0]\n",
    "        elif df['unwt_ind_counts'].values[0] >= n:\n",
    "            return f\"County: {county}, Geographical level used: State, Industry: {industry}, High wage percentage: {df['wt_CA_high_wage_perc'].values[0]}\", df['wt_CA_high_wage_perc'].values[0], industry, df['race_ratio'].values[0]\n",
    "        else:\n",
    "            return \"Not enough records available to satisfy sample size request\", np.nan, np.nan, np.nan\n",
    "        \n",
    "    elif level == 'state':\n",
    "        if df['unwt_ind_counts'].values[0] >= n:\n",
    "            return f\"County: {county}, Geographical level used: State, Industry: {industry}, High wage percentage: {df['wt_CA_high_wage_perc'].values[0]}\", df['wt_CA_high_wage_perc'].values[0], industry, df['race_ratio'].values[0]\n",
    "        else:\n",
    "            return \"Not enough records available to satisfy sample size request\", np.nan, np.nan, np.nan"
   ]
  },
  {
   "cell_type": "markdown",
   "id": "277cebcd",
   "metadata": {},
   "source": [
    "### High Wage Outputs - 2020"
   ]
  },
  {
   "cell_type": "code",
   "execution_count": 153,
   "id": "c6f3b856",
   "metadata": {},
   "outputs": [],
   "source": [
    "counties_edd = edd_2020['Area Name'].unique()\n",
    "parsed_codes = set(list(edd_2020['Main_Code'].unique()) + \n",
    "                   list(edd_2020['Sub_1_Code'].unique()) + \n",
    "                   list(edd_2020['Sub_2_Code'].unique()) + \n",
    "                   list(edd_2020['Sub_3_Code'].unique()) + \n",
    "                   list(edd_2020['Sub_4_Code'].unique()))\n",
    "dates_edd = edd_2020['Date'].unique()\n",
    "total_iterations = len(counties_edd) * len(parsed_codes) * len(dates_edd)"
   ]
  },
  {
   "cell_type": "markdown",
   "id": "074ffa40",
   "metadata": {},
   "source": [
    "White"
   ]
  },
  {
   "cell_type": "code",
   "execution_count": 154,
   "id": "9a625c7f",
   "metadata": {},
   "outputs": [
    {
     "ename": "KeyError",
     "evalue": "'Regional Rural/Urban'",
     "output_type": "error",
     "traceback": [
      "\u001b[0;31m---------------------------------------------------------------------------\u001b[0m",
      "\u001b[0;31mKeyError\u001b[0m                                  Traceback (most recent call last)",
      "\u001b[0;32m/opt/anaconda3/lib/python3.8/site-packages/pandas/core/indexes/base.py\u001b[0m in \u001b[0;36mget_loc\u001b[0;34m(self, key, method, tolerance)\u001b[0m\n\u001b[1;32m   3079\u001b[0m             \u001b[0;32mtry\u001b[0m\u001b[0;34m:\u001b[0m\u001b[0;34m\u001b[0m\u001b[0;34m\u001b[0m\u001b[0m\n\u001b[0;32m-> 3080\u001b[0;31m                 \u001b[0;32mreturn\u001b[0m \u001b[0mself\u001b[0m\u001b[0;34m.\u001b[0m\u001b[0m_engine\u001b[0m\u001b[0;34m.\u001b[0m\u001b[0mget_loc\u001b[0m\u001b[0;34m(\u001b[0m\u001b[0mcasted_key\u001b[0m\u001b[0;34m)\u001b[0m\u001b[0;34m\u001b[0m\u001b[0;34m\u001b[0m\u001b[0m\n\u001b[0m\u001b[1;32m   3081\u001b[0m             \u001b[0;32mexcept\u001b[0m \u001b[0mKeyError\u001b[0m \u001b[0;32mas\u001b[0m \u001b[0merr\u001b[0m\u001b[0;34m:\u001b[0m\u001b[0;34m\u001b[0m\u001b[0;34m\u001b[0m\u001b[0m\n",
      "\u001b[0;32mpandas/_libs/index.pyx\u001b[0m in \u001b[0;36mpandas._libs.index.IndexEngine.get_loc\u001b[0;34m()\u001b[0m\n",
      "\u001b[0;32mpandas/_libs/index.pyx\u001b[0m in \u001b[0;36mpandas._libs.index.IndexEngine.get_loc\u001b[0;34m()\u001b[0m\n",
      "\u001b[0;32mpandas/_libs/hashtable_class_helper.pxi\u001b[0m in \u001b[0;36mpandas._libs.hashtable.PyObjectHashTable.get_item\u001b[0;34m()\u001b[0m\n",
      "\u001b[0;32mpandas/_libs/hashtable_class_helper.pxi\u001b[0m in \u001b[0;36mpandas._libs.hashtable.PyObjectHashTable.get_item\u001b[0;34m()\u001b[0m\n",
      "\u001b[0;31mKeyError\u001b[0m: 'Regional Rural/Urban'",
      "\nThe above exception was the direct cause of the following exception:\n",
      "\u001b[0;31mKeyError\u001b[0m                                  Traceback (most recent call last)",
      "\u001b[0;32m<ipython-input-154-abe8d6a318ca>\u001b[0m in \u001b[0;36m<module>\u001b[0;34m\u001b[0m\n\u001b[1;32m      8\u001b[0m     \u001b[0;32mfor\u001b[0m \u001b[0mcode\u001b[0m \u001b[0;32min\u001b[0m \u001b[0mparsed_codes\u001b[0m\u001b[0;34m:\u001b[0m\u001b[0;34m\u001b[0m\u001b[0;34m\u001b[0m\u001b[0m\n\u001b[1;32m      9\u001b[0m         \u001b[0;32mfor\u001b[0m \u001b[0mdate\u001b[0m \u001b[0;32min\u001b[0m \u001b[0mdates_edd\u001b[0m\u001b[0;34m:\u001b[0m\u001b[0;34m\u001b[0m\u001b[0;34m\u001b[0m\u001b[0m\n\u001b[0;32m---> 10\u001b[0;31m             \u001b[0moutput\u001b[0m\u001b[0;34m,\u001b[0m \u001b[0mhw\u001b[0m\u001b[0;34m,\u001b[0m \u001b[0mindustry\u001b[0m\u001b[0;34m,\u001b[0m \u001b[0memp_count\u001b[0m \u001b[0;34m=\u001b[0m \u001b[0medd_to_hw\u001b[0m\u001b[0;34m(\u001b[0m\u001b[0medd_2020\u001b[0m\u001b[0;34m,\u001b[0m \u001b[0mca_ipums_hw_white_2020\u001b[0m\u001b[0;34m,\u001b[0m \u001b[0mnaics\u001b[0m\u001b[0;34m,\u001b[0m \u001b[0mcounty_info\u001b[0m\u001b[0;34m,\u001b[0m \u001b[0mcounty\u001b[0m\u001b[0;34m,\u001b[0m \u001b[0mstr\u001b[0m\u001b[0;34m(\u001b[0m\u001b[0mcode\u001b[0m\u001b[0;34m)\u001b[0m\u001b[0;34m,\u001b[0m \u001b[0mdate\u001b[0m\u001b[0;34m,\u001b[0m \u001b[0;36m10\u001b[0m\u001b[0;34m)\u001b[0m\u001b[0;34m\u001b[0m\u001b[0;34m\u001b[0m\u001b[0m\n\u001b[0m\u001b[1;32m     11\u001b[0m             \u001b[0mindustries\u001b[0m\u001b[0;34m.\u001b[0m\u001b[0mappend\u001b[0m\u001b[0;34m(\u001b[0m\u001b[0mindustry\u001b[0m\u001b[0;34m)\u001b[0m\u001b[0;34m\u001b[0m\u001b[0;34m\u001b[0m\u001b[0m\n\u001b[1;32m     12\u001b[0m             \u001b[0mdates\u001b[0m\u001b[0;34m.\u001b[0m\u001b[0mappend\u001b[0m\u001b[0;34m(\u001b[0m\u001b[0mdate\u001b[0m\u001b[0;34m)\u001b[0m\u001b[0;34m\u001b[0m\u001b[0;34m\u001b[0m\u001b[0m\n",
      "\u001b[0;32m<ipython-input-147-3a0dbff36aeb>\u001b[0m in \u001b[0;36medd_to_hw\u001b[0;34m(edd_df, ipums_df_hw, naics_df, county_df, county, parsed_code, date, sample_size)\u001b[0m\n\u001b[1;32m     29\u001b[0m     \u001b[0memployment_count\u001b[0m \u001b[0;34m=\u001b[0m \u001b[0mint\u001b[0m\u001b[0;34m(\u001b[0m\u001b[0medd_df\u001b[0m\u001b[0;34m[\u001b[0m\u001b[0;34m'Current Employment'\u001b[0m\u001b[0;34m]\u001b[0m\u001b[0;34m.\u001b[0m\u001b[0mvalues\u001b[0m\u001b[0;34m[\u001b[0m\u001b[0;36m0\u001b[0m\u001b[0;34m]\u001b[0m\u001b[0;34m)\u001b[0m\u001b[0;34m\u001b[0m\u001b[0;34m\u001b[0m\u001b[0m\n\u001b[1;32m     30\u001b[0m     \u001b[0mnaics_code\u001b[0m \u001b[0;34m=\u001b[0m \u001b[0medd_df\u001b[0m\u001b[0;34m[\u001b[0m\u001b[0;34m'INDNAICS'\u001b[0m\u001b[0;34m]\u001b[0m\u001b[0;34m.\u001b[0m\u001b[0mvalues\u001b[0m\u001b[0;34m[\u001b[0m\u001b[0;36m0\u001b[0m\u001b[0;34m]\u001b[0m\u001b[0;34m\u001b[0m\u001b[0;34m\u001b[0m\u001b[0m\n\u001b[0;32m---> 31\u001b[0;31m     \u001b[0moutput\u001b[0m\u001b[0;34m,\u001b[0m \u001b[0mhw_perc\u001b[0m\u001b[0;34m,\u001b[0m \u001b[0mindustry\u001b[0m\u001b[0;34m,\u001b[0m \u001b[0mratio\u001b[0m \u001b[0;34m=\u001b[0m \u001b[0mca_ipums_filter\u001b[0m\u001b[0;34m(\u001b[0m\u001b[0mipums_df_hw\u001b[0m\u001b[0;34m,\u001b[0m \u001b[0mcounty_df\u001b[0m\u001b[0;34m,\u001b[0m \u001b[0mcounty\u001b[0m\u001b[0;34m,\u001b[0m \u001b[0mnaics_code\u001b[0m\u001b[0;34m,\u001b[0m \u001b[0msample_size\u001b[0m\u001b[0;34m)\u001b[0m\u001b[0;34m\u001b[0m\u001b[0;34m\u001b[0m\u001b[0m\n\u001b[0m\u001b[1;32m     32\u001b[0m     \u001b[0mrace_ind_count\u001b[0m \u001b[0;34m=\u001b[0m \u001b[0memployment_count\u001b[0m \u001b[0;34m*\u001b[0m \u001b[0mratio\u001b[0m\u001b[0;34m\u001b[0m\u001b[0;34m\u001b[0m\u001b[0m\n\u001b[1;32m     33\u001b[0m     \u001b[0mhw_count\u001b[0m \u001b[0;34m=\u001b[0m \u001b[0;34m(\u001b[0m\u001b[0mrace_ind_count\u001b[0m \u001b[0;34m*\u001b[0m \u001b[0mhw_perc\u001b[0m\u001b[0;34m)\u001b[0m \u001b[0;34m/\u001b[0m \u001b[0;36m100\u001b[0m\u001b[0;34m\u001b[0m\u001b[0;34m\u001b[0m\u001b[0m\n",
      "\u001b[0;32m<ipython-input-148-4f50cca66017>\u001b[0m in \u001b[0;36mca_ipums_filter\u001b[0;34m(df, county_df, county, NAICS, n)\u001b[0m\n\u001b[1;32m      4\u001b[0m     \u001b[0;32mif\u001b[0m \u001b[0mlen\u001b[0m\u001b[0;34m(\u001b[0m\u001b[0mdf\u001b[0m\u001b[0;34m)\u001b[0m \u001b[0;34m==\u001b[0m \u001b[0;36m0\u001b[0m\u001b[0;34m:\u001b[0m\u001b[0;34m\u001b[0m\u001b[0;34m\u001b[0m\u001b[0m\n\u001b[1;32m      5\u001b[0m         \u001b[0mcounty_df\u001b[0m \u001b[0;34m=\u001b[0m \u001b[0mcounty_df\u001b[0m\u001b[0;34m.\u001b[0m\u001b[0mloc\u001b[0m\u001b[0;34m[\u001b[0m\u001b[0mcounty_df\u001b[0m\u001b[0;34m[\u001b[0m\u001b[0;34m'County'\u001b[0m\u001b[0;34m]\u001b[0m \u001b[0;34m==\u001b[0m \u001b[0mcounty\u001b[0m\u001b[0;34m]\u001b[0m\u001b[0;34m.\u001b[0m\u001b[0mcopy\u001b[0m\u001b[0;34m(\u001b[0m\u001b[0;34m)\u001b[0m \u001b[0;31m# narrow down county df\u001b[0m\u001b[0;34m\u001b[0m\u001b[0;34m\u001b[0m\u001b[0m\n\u001b[0;32m----> 6\u001b[0;31m         \u001b[0mreg_rural_urban\u001b[0m \u001b[0;34m=\u001b[0m \u001b[0mcounty_df\u001b[0m\u001b[0;34m[\u001b[0m\u001b[0;34m'Regional Rural/Urban'\u001b[0m\u001b[0;34m]\u001b[0m\u001b[0;34m.\u001b[0m\u001b[0mvalues\u001b[0m\u001b[0;34m[\u001b[0m\u001b[0;36m0\u001b[0m\u001b[0;34m]\u001b[0m\u001b[0;34m\u001b[0m\u001b[0;34m\u001b[0m\u001b[0m\n\u001b[0m\u001b[1;32m      7\u001b[0m         \u001b[0mregion\u001b[0m \u001b[0;34m=\u001b[0m \u001b[0mcounty_df\u001b[0m\u001b[0;34m[\u001b[0m\u001b[0;34m'CDI Regions'\u001b[0m\u001b[0;34m]\u001b[0m\u001b[0;34m.\u001b[0m\u001b[0mvalues\u001b[0m\u001b[0;34m[\u001b[0m\u001b[0;36m0\u001b[0m\u001b[0;34m]\u001b[0m\u001b[0;34m\u001b[0m\u001b[0;34m\u001b[0m\u001b[0m\n\u001b[1;32m      8\u001b[0m         \u001b[0mrural_urban\u001b[0m \u001b[0;34m=\u001b[0m \u001b[0mcounty_df\u001b[0m\u001b[0;34m[\u001b[0m\u001b[0;34m'Rural/Urban'\u001b[0m\u001b[0;34m]\u001b[0m\u001b[0;34m.\u001b[0m\u001b[0mvalues\u001b[0m\u001b[0;34m[\u001b[0m\u001b[0;36m0\u001b[0m\u001b[0;34m]\u001b[0m\u001b[0;34m\u001b[0m\u001b[0;34m\u001b[0m\u001b[0m\n",
      "\u001b[0;32m/opt/anaconda3/lib/python3.8/site-packages/pandas/core/frame.py\u001b[0m in \u001b[0;36m__getitem__\u001b[0;34m(self, key)\u001b[0m\n\u001b[1;32m   3022\u001b[0m             \u001b[0;32mif\u001b[0m \u001b[0mself\u001b[0m\u001b[0;34m.\u001b[0m\u001b[0mcolumns\u001b[0m\u001b[0;34m.\u001b[0m\u001b[0mnlevels\u001b[0m \u001b[0;34m>\u001b[0m \u001b[0;36m1\u001b[0m\u001b[0;34m:\u001b[0m\u001b[0;34m\u001b[0m\u001b[0;34m\u001b[0m\u001b[0m\n\u001b[1;32m   3023\u001b[0m                 \u001b[0;32mreturn\u001b[0m \u001b[0mself\u001b[0m\u001b[0;34m.\u001b[0m\u001b[0m_getitem_multilevel\u001b[0m\u001b[0;34m(\u001b[0m\u001b[0mkey\u001b[0m\u001b[0;34m)\u001b[0m\u001b[0;34m\u001b[0m\u001b[0;34m\u001b[0m\u001b[0m\n\u001b[0;32m-> 3024\u001b[0;31m             \u001b[0mindexer\u001b[0m \u001b[0;34m=\u001b[0m \u001b[0mself\u001b[0m\u001b[0;34m.\u001b[0m\u001b[0mcolumns\u001b[0m\u001b[0;34m.\u001b[0m\u001b[0mget_loc\u001b[0m\u001b[0;34m(\u001b[0m\u001b[0mkey\u001b[0m\u001b[0;34m)\u001b[0m\u001b[0;34m\u001b[0m\u001b[0;34m\u001b[0m\u001b[0m\n\u001b[0m\u001b[1;32m   3025\u001b[0m             \u001b[0;32mif\u001b[0m \u001b[0mis_integer\u001b[0m\u001b[0;34m(\u001b[0m\u001b[0mindexer\u001b[0m\u001b[0;34m)\u001b[0m\u001b[0;34m:\u001b[0m\u001b[0;34m\u001b[0m\u001b[0;34m\u001b[0m\u001b[0m\n\u001b[1;32m   3026\u001b[0m                 \u001b[0mindexer\u001b[0m \u001b[0;34m=\u001b[0m \u001b[0;34m[\u001b[0m\u001b[0mindexer\u001b[0m\u001b[0;34m]\u001b[0m\u001b[0;34m\u001b[0m\u001b[0;34m\u001b[0m\u001b[0m\n",
      "\u001b[0;32m/opt/anaconda3/lib/python3.8/site-packages/pandas/core/indexes/base.py\u001b[0m in \u001b[0;36mget_loc\u001b[0;34m(self, key, method, tolerance)\u001b[0m\n\u001b[1;32m   3080\u001b[0m                 \u001b[0;32mreturn\u001b[0m \u001b[0mself\u001b[0m\u001b[0;34m.\u001b[0m\u001b[0m_engine\u001b[0m\u001b[0;34m.\u001b[0m\u001b[0mget_loc\u001b[0m\u001b[0;34m(\u001b[0m\u001b[0mcasted_key\u001b[0m\u001b[0;34m)\u001b[0m\u001b[0;34m\u001b[0m\u001b[0;34m\u001b[0m\u001b[0m\n\u001b[1;32m   3081\u001b[0m             \u001b[0;32mexcept\u001b[0m \u001b[0mKeyError\u001b[0m \u001b[0;32mas\u001b[0m \u001b[0merr\u001b[0m\u001b[0;34m:\u001b[0m\u001b[0;34m\u001b[0m\u001b[0;34m\u001b[0m\u001b[0m\n\u001b[0;32m-> 3082\u001b[0;31m                 \u001b[0;32mraise\u001b[0m \u001b[0mKeyError\u001b[0m\u001b[0;34m(\u001b[0m\u001b[0mkey\u001b[0m\u001b[0;34m)\u001b[0m \u001b[0;32mfrom\u001b[0m \u001b[0merr\u001b[0m\u001b[0;34m\u001b[0m\u001b[0;34m\u001b[0m\u001b[0m\n\u001b[0m\u001b[1;32m   3083\u001b[0m \u001b[0;34m\u001b[0m\u001b[0m\n\u001b[1;32m   3084\u001b[0m         \u001b[0;32mif\u001b[0m \u001b[0mtolerance\u001b[0m \u001b[0;32mis\u001b[0m \u001b[0;32mnot\u001b[0m \u001b[0;32mNone\u001b[0m\u001b[0;34m:\u001b[0m\u001b[0;34m\u001b[0m\u001b[0;34m\u001b[0m\u001b[0m\n",
      "\u001b[0;31mKeyError\u001b[0m: 'Regional Rural/Urban'"
     ]
    }
   ],
   "source": [
    "industries = []\n",
    "dates = []\n",
    "counties = []\n",
    "counts = []\n",
    "emp_counts = []\n",
    "progress_count = 0\n",
    "for county in counties_edd:\n",
    "    for code in parsed_codes:\n",
    "        for date in dates_edd:\n",
    "            output, hw, industry, emp_count = edd_to_hw(edd_2020, ca_ipums_hw_white_2020, naics, county_info, county, str(code), date, 10)\n",
    "            industries.append(industry)\n",
    "            dates.append(date)\n",
    "            counties.append(county)\n",
    "            counts.append(hw)\n",
    "            emp_counts.append(emp_count)\n",
    "            progress_count += 1\n",
    "            if progress_count % 10440 == 0:\n",
    "                percent_done = int((progress_count / total_iterations) * 100)\n",
    "                print(f'Progress: {percent_done}% Complete')"
   ]
  },
  {
   "cell_type": "code",
   "execution_count": null,
   "id": "8555ccb8",
   "metadata": {},
   "outputs": [],
   "source": [
    "df_dict_white_2020 = {'Industry':industries, 'Date':dates, 'County':counties, 'High Wage Count':counts, 'Employment Count':emp_counts}\n",
    "tidy_df_white_2020 = pd.DataFrame(df_dict_white_2020)\n",
    "tidy_df_white_2020 = tidy_df_white_2020[tidy_df_white_2020['Industry'].notna()]\n",
    "tidy_df_white_2020['Date']= pd.to_datetime(tidy_df_white_2020['Date'])\n",
    "tidy_df_white_2020['High Wage Count'] = tidy_df_white_2020['High Wage Count'].astype(int)\n",
    "tidy_df_white_2020 = tidy_df_white_2020.sort_values(by=['Industry', 'County', 'Date'])\n",
    "tidy_df_white_2020['Output Race'] = 'White'"
   ]
  },
  {
   "cell_type": "markdown",
   "id": "fb237500",
   "metadata": {},
   "source": [
    "Latino"
   ]
  },
  {
   "cell_type": "code",
   "execution_count": null,
   "id": "44e7cb02",
   "metadata": {},
   "outputs": [],
   "source": [
    "industries = []\n",
    "dates = []\n",
    "counties = []\n",
    "counts = []\n",
    "emp_counts = []\n",
    "progress_count = 0\n",
    "for county in counties_edd:\n",
    "    for code in parsed_codes:\n",
    "        for date in dates_edd:\n",
    "            output, hw, industry, emp_count = edd_to_hw(edd_2020, ca_ipums_hw_latino_2020, naics, county_info, county, str(code), date, 10)\n",
    "            industries.append(industry)\n",
    "            dates.append(date)\n",
    "            counties.append(county)\n",
    "            counts.append(hw)\n",
    "            emp_counts.append(emp_count)\n",
    "            progress_count += 1\n",
    "            if progress_count % 10440 == 0:\n",
    "                percent_done = int((progress_count / total_iterations) * 100)\n",
    "                print(f'Progress: {percent_done}% Complete')"
   ]
  },
  {
   "cell_type": "code",
   "execution_count": null,
   "id": "b3994411",
   "metadata": {},
   "outputs": [],
   "source": [
    "df_dict_latino_2020 = {'Industry':industries, 'Date':dates, 'County':counties, 'High Wage Count':counts, 'Employment Count':emp_counts}\n",
    "tidy_df_latino_2020 = pd.DataFrame(df_dict_latino_2020)\n",
    "tidy_df_latino_2020 = tidy_df_latino_2020[tidy_df_latino_2020['Industry'].notna()]\n",
    "tidy_df_latino_2020['Date']= pd.to_datetime(tidy_df_latino_2020['Date'])\n",
    "tidy_df_latino_2020['High Wage Count'] = tidy_df_latino_2020['High Wage Count'].astype(int)\n",
    "tidy_df_latino_2020 = tidy_df_latino_2020.sort_values(by=['Industry', 'County', 'Date'])\n",
    "tidy_df_latino_2020['Output Race'] = 'Latino'"
   ]
  },
  {
   "cell_type": "markdown",
   "id": "7f75bc27",
   "metadata": {},
   "source": [
    "Black"
   ]
  },
  {
   "cell_type": "code",
   "execution_count": null,
   "id": "422e9e54",
   "metadata": {},
   "outputs": [],
   "source": [
    "industries = []\n",
    "dates = []\n",
    "counties = []\n",
    "counts = []\n",
    "emp_counts = []\n",
    "progress_count = 0\n",
    "for county in counties_edd:\n",
    "    for code in parsed_codes:\n",
    "        for date in dates_edd:\n",
    "            output, hw, industry, emp_count = edd_to_hw(edd_2020, ca_ipums_hw_black_2020, naics, county_info, county, str(code), date, 10)\n",
    "            industries.append(industry)\n",
    "            dates.append(date)\n",
    "            counties.append(county)\n",
    "            counts.append(hw)\n",
    "            emp_counts.append(emp_count)\n",
    "            progress_count += 1\n",
    "            if progress_count % 10440 == 0:\n",
    "                percent_done = int((progress_count / total_iterations) * 100)\n",
    "                print(f'Progress: {percent_done}% Complete')"
   ]
  },
  {
   "cell_type": "code",
   "execution_count": null,
   "id": "646d4384",
   "metadata": {},
   "outputs": [],
   "source": [
    "df_dict_black_2020 = {'Industry':industries, 'Date':dates, 'County':counties, 'High Wage Count':counts, 'Employment Count':emp_counts}\n",
    "tidy_df_black_2020 = pd.DataFrame(df_dict_black_2020)\n",
    "tidy_df_black_2020 = tidy_df_black_2020[tidy_df_black_2020['Industry'].notna()]\n",
    "tidy_df_black_2020['Date']= pd.to_datetime(tidy_df_black_2020['Date'])\n",
    "tidy_df_black_2020['High Wage Count'] = tidy_df_black_2020['High Wage Count'].astype(int)\n",
    "tidy_df_black_2020 = tidy_df_black_2020.sort_values(by=['Industry', 'County', 'Date'])\n",
    "tidy_df_black_2020['Output Race'] = 'Black'"
   ]
  },
  {
   "cell_type": "markdown",
   "id": "30ff806f",
   "metadata": {},
   "source": [
    "American Indian/Alaska Native"
   ]
  },
  {
   "cell_type": "code",
   "execution_count": null,
   "id": "968276a2",
   "metadata": {},
   "outputs": [],
   "source": [
    "industries = []\n",
    "dates = []\n",
    "counties = []\n",
    "counts = []\n",
    "emp_counts = []\n",
    "progress_count = 0\n",
    "for county in counties_edd:\n",
    "    for code in parsed_codes:\n",
    "        for date in dates_edd:\n",
    "            output, hw, industry, emp_count = edd_to_hw(edd_2020, ca_ipums_hw_native_2020, naics, county_info, county, str(code), date, 10)\n",
    "            industries.append(industry)\n",
    "            dates.append(date)\n",
    "            counties.append(county)\n",
    "            counts.append(hw)\n",
    "            emp_counts.append(emp_count)\n",
    "            progress_count += 1\n",
    "            if progress_count % 10440 == 0:\n",
    "                percent_done = int((progress_count / total_iterations) * 100)\n",
    "                print(f'Progress: {percent_done}% Complete')"
   ]
  },
  {
   "cell_type": "code",
   "execution_count": 155,
   "id": "5417cb78",
   "metadata": {},
   "outputs": [],
   "source": [
    "df_dict_native_2020 = {'Industry':industries, 'Date':dates, 'County':counties, 'High Wage Count':counts, 'Employment Count':emp_counts}\n",
    "tidy_df_native_2020 = pd.DataFrame(df_dict_native_2020)\n",
    "tidy_df_native_2020 = tidy_df_native_2020[tidy_df_native_2020['Industry'].notna()]\n",
    "tidy_df_native_2020['Date']= pd.to_datetime(tidy_df_native_2020['Date'])\n",
    "tidy_df_native_2020['High Wage Count'] = tidy_df_native_2020['High Wage Count'].astype(int)\n",
    "tidy_df_native_2020 = tidy_df_native_2020.sort_values(by=['Industry', 'County', 'Date'])\n",
    "tidy_df_native_2020['Output Race'] = 'American Indian/Alaska Native'"
   ]
  },
  {
   "cell_type": "markdown",
   "id": "d4a29f29",
   "metadata": {},
   "source": [
    "Asian"
   ]
  },
  {
   "cell_type": "code",
   "execution_count": null,
   "id": "89ab0401",
   "metadata": {},
   "outputs": [],
   "source": [
    "industries = []\n",
    "dates = []\n",
    "counties = []\n",
    "counts = []\n",
    "emp_counts = []\n",
    "progress_count = 0\n",
    "for county in counties_edd:\n",
    "    for code in parsed_codes:\n",
    "        for date in dates_edd:\n",
    "            output, hw, industry, emp_count = edd_to_hw(edd_2018, ca_ipums_hw_asian_2018, naics, county_info, county, str(code), date, 10)\n",
    "            industries.append(industry)\n",
    "            dates.append(date)\n",
    "            counties.append(county)\n",
    "            counts.append(hw)\n",
    "            emp_counts.append(emp_count)\n",
    "            progress_count += 1\n",
    "            if progress_count % 10440 == 0:\n",
    "                percent_done = int((progress_count / total_iterations) * 100)\n",
    "                print(f'Progress: {percent_done}% Complete')\n",
    "\n",
    "df_dict_asian_2018 = {'Industry':industries, 'Date':dates, 'County':counties, 'High Wage Count':counts, 'Employment Count':emp_counts}\n",
    "tidy_df_asian_2018 = pd.DataFrame(df_dict_asian_2018)\n",
    "tidy_df_asian_2018 = tidy_df_asian_2018[tidy_df_asian_2018['Industry'].notna()]\n",
    "tidy_df_asian_2018['Date']= pd.to_datetime(tidy_df_asian_2018['Date'])\n",
    "tidy_df_asian_2018['High Wage Count'] = tidy_df_asian_2018['High Wage Count'].astype(int)\n",
    "tidy_df_asian_2018 = tidy_df_asian_2018.sort_values(by=['Industry', 'County', 'Date'])\n",
    "tidy_df_asian_2018['Output Race'] = 'Asian'\n",
    "\n",
    "Other\n",
    "\n",
    "industries = []\n",
    "dates = []\n",
    "counties = []\n",
    "counts = []\n",
    "emp_counts = []\n",
    "progress_count = 0\n",
    "for county in counties_edd:\n",
    "    for code in parsed_codes:\n",
    "        for date in dates_edd:\n",
    "            output, hw, industry, emp_count = edd_to_hw(edd_2018, ca_ipums_hw_other_2018, naics, county_info, county, str(code), date, 10)\n",
    "            industries.append(industry)\n",
    "            dates.append(date)\n",
    "            counties.append(county)\n",
    "            counts.append(hw)\n",
    "            emp_counts.append(emp_count)\n",
    "            progress_count += 1\n",
    "            if progress_count % 10440 == 0:\n",
    "                percent_done = int((progress_count / total_iterations) * 100)\n",
    "                print(f'Progress: {percent_done}% Complete')\n",
    "\n",
    "df_dict_other_2018 = {'Industry':industries, 'Date':dates, 'County':counties, 'High Wage Count':counts, 'Employment Count':emp_counts}\n",
    "tidy_df_other_2018 = pd.DataFrame(df_dict_other_2018)\n",
    "tidy_df_other_2018 = tidy_df_other_2018[tidy_df_other_2018['Industry'].notna()]\n",
    "tidy_df_other_2018['Date']= pd.to_datetime(tidy_df_other_2018['Date'])\n",
    "tidy_df_other_2018['High Wage Count'] = tidy_df_other_2018['High Wage Count'].astype(int)\n",
    "tidy_df_other_2018 = tidy_df_other_2018.sort_values(by=['Industry', 'County', 'Date'])\n",
    "tidy_df_other_2018['Output Race'] = 'Some other race'\n",
    "\n",
    "Multi\n",
    "\n",
    "industries = []\n",
    "dates = []\n",
    "counties = []\n",
    "counts = []\n",
    "emp_counts = []\n",
    "progress_count = 0\n",
    "for county in counties_edd:\n",
    "    for code in parsed_codes:\n",
    "        for date in dates_edd:\n",
    "            output, hw, industry, emp_count = edd_to_hw(edd_2018, ca_ipums_hw_multi_2018, naics, county_info, county, str(code), date, 10)\n",
    "            industries.append(industry)\n",
    "            dates.append(date)\n",
    "            counties.append(county)\n",
    "            counts.append(hw)\n",
    "            emp_counts.append(emp_count)\n",
    "            progress_count += 1\n",
    "            if progress_count % 10440 == 0:\n",
    "                percent_done = int((progress_count / total_iterations) * 100)\n",
    "                print(f'Progress: {percent_done}% Complete')\n",
    "\n",
    "df_dict_multi_2018 = {'Industry':industries, 'Date':dates, 'County':counties, 'High Wage Count':counts, 'Employment Count':emp_counts}\n",
    "tidy_df_multi_2018 = pd.DataFrame(df_dict_multi_2018)\n",
    "tidy_df_multi_2018 = tidy_df_multi_2018[tidy_df_multi_2018['Industry'].notna()]\n",
    "tidy_df_multi_2018['Date']= pd.to_datetime(tidy_df_multi_2018['Date'])\n",
    "tidy_df_multi_2018['High Wage Count'] = tidy_df_multi_2018['High Wage Count'].astype(int)\n",
    "tidy_df_multi_2018 = tidy_df_multi_2018.sort_values(by=['Industry', 'County', 'Date'])\n",
    "tidy_df_multi_2018['Output Race'] = 'Multiracial'\n",
    "\n",
    "Concatenate\n",
    "\n",
    "df_race_2018 = pd.concat([tidy_df_white_2018, \n",
    "                          tidy_df_black_2018, \n",
    "                          tidy_df_latino_2018, \n",
    "                          tidy_df_asian_2018, \n",
    "                          tidy_df_native_2018, \n",
    "                          tidy_df_other_2018, \n",
    "                          tidy_df_multi_2018], \n",
    "                         ignore_index=True)\n",
    "df_race_2018 = pd.merge(df_race_2018, col_2018, left_on='County', right_on='Regions')\n",
    "df_race_2018['Year'] = 2018\n",
    "df_race_2018 = df_race_2018[['Industry', 'Date', 'County', 'High Wage Count', 'Cost of Living', 'Employment Count', 'Output Race', 'Year']]\n",
    "\n",
    "df_race_2018.to_csv('hw_outputs_w_race_2018.csv', encoding='utf-8', index=False)"
   ]
  },
  {
   "cell_type": "markdown",
   "id": "dfdf2159",
   "metadata": {},
   "source": [
    "### High Wage Outputs - 2019"
   ]
  },
  {
   "cell_type": "markdown",
   "id": "221e5fc4",
   "metadata": {},
   "source": [
    "Previously computed in `jqi-race-breakdown`"
   ]
  },
  {
   "cell_type": "markdown",
   "id": "3685a973",
   "metadata": {},
   "source": [
    "### High Wage Outputs - 2018"
   ]
  },
  {
   "cell_type": "code",
   "execution_count": 54,
   "id": "7f5e5882",
   "metadata": {},
   "outputs": [],
   "source": [
    "counties_edd = edd_2018['Area Name'].unique()\n",
    "parsed_codes = set(list(edd_2018['Main_Code'].unique()) + \n",
    "                   list(edd_2018['Sub_1_Code'].unique()) + \n",
    "                   list(edd_2018['Sub_2_Code'].unique()) + \n",
    "                   list(edd_2018['Sub_3_Code'].unique()) + \n",
    "                   list(edd_2018['Sub_4_Code'].unique()))\n",
    "dates_edd = edd_2018['Date'].unique()\n",
    "total_iterations = len(counties_edd) * len(parsed_codes) * len(dates_edd)"
   ]
  },
  {
   "cell_type": "markdown",
   "id": "e3cb02c4",
   "metadata": {},
   "source": [
    "White"
   ]
  },
  {
   "cell_type": "code",
   "execution_count": 58,
   "id": "610c6baa",
   "metadata": {},
   "outputs": [
    {
     "name": "stdout",
     "output_type": "stream",
     "text": [
      "Progress: 10% Complete\n",
      "Progress: 20% Complete\n",
      "Progress: 30% Complete\n",
      "Progress: 40% Complete\n",
      "Progress: 50% Complete\n",
      "Progress: 60% Complete\n",
      "Progress: 70% Complete\n",
      "Progress: 80% Complete\n",
      "Progress: 90% Complete\n",
      "Progress: 100% Complete\n"
     ]
    }
   ],
   "source": [
    "industries = []\n",
    "dates = []\n",
    "counties = []\n",
    "counts = []\n",
    "emp_counts = []\n",
    "progress_count = 0\n",
    "for county in counties_edd:\n",
    "    for code in parsed_codes:\n",
    "        for date in dates_edd:\n",
    "            output, hw, industry, emp_count = edd_to_hw(edd_2018, ca_ipums_hw_white_2018, naics, county_info, county, str(code), date, 10)\n",
    "            industries.append(industry)\n",
    "            dates.append(date)\n",
    "            counties.append(county)\n",
    "            counts.append(hw)\n",
    "            emp_counts.append(emp_count)\n",
    "            progress_count += 1\n",
    "            if progress_count % 10440 == 0:\n",
    "                percent_done = int((progress_count / total_iterations) * 100)\n",
    "                print(f'Progress: {percent_done}% Complete')"
   ]
  },
  {
   "cell_type": "code",
   "execution_count": 59,
   "id": "c5ca88a2",
   "metadata": {},
   "outputs": [],
   "source": [
    "df_dict_white_2018 = {'Industry':industries, 'Date':dates, 'County':counties, 'High Wage Count':counts, 'Employment Count':emp_counts}\n",
    "tidy_df_white_2018 = pd.DataFrame(df_dict_white_2018)\n",
    "tidy_df_white_2018 = tidy_df_white_2018[tidy_df_white_2018['Industry'].notna()]\n",
    "tidy_df_white_2018['Date']= pd.to_datetime(tidy_df_white_2018['Date'])\n",
    "tidy_df_white_2018['High Wage Count'] = tidy_df_white_2018['High Wage Count'].astype(int)\n",
    "tidy_df_white_2018 = tidy_df_white_2018.sort_values(by=['Industry', 'County', 'Date'])\n",
    "tidy_df_white_2018['Output Race'] = 'White'"
   ]
  },
  {
   "cell_type": "markdown",
   "id": "5a3382ca",
   "metadata": {},
   "source": [
    "Latino"
   ]
  },
  {
   "cell_type": "code",
   "execution_count": 60,
   "id": "b7ec5364",
   "metadata": {},
   "outputs": [
    {
     "name": "stdout",
     "output_type": "stream",
     "text": [
      "Progress: 10% Complete\n",
      "Progress: 20% Complete\n",
      "Progress: 30% Complete\n",
      "Progress: 40% Complete\n",
      "Progress: 50% Complete\n",
      "Progress: 60% Complete\n",
      "Progress: 70% Complete\n",
      "Progress: 80% Complete\n",
      "Progress: 90% Complete\n",
      "Progress: 100% Complete\n"
     ]
    }
   ],
   "source": [
    "industries = []\n",
    "dates = []\n",
    "counties = []\n",
    "counts = []\n",
    "emp_counts = []\n",
    "progress_count = 0\n",
    "for county in counties_edd:\n",
    "    for code in parsed_codes:\n",
    "        for date in dates_edd:\n",
    "            output, hw, industry, emp_count = edd_to_hw(edd_2018, ca_ipums_hw_latino_2018, naics, county_info, county, str(code), date, 10)\n",
    "            industries.append(industry)\n",
    "            dates.append(date)\n",
    "            counties.append(county)\n",
    "            counts.append(hw)\n",
    "            emp_counts.append(emp_count)\n",
    "            progress_count += 1\n",
    "            if progress_count % 10440 == 0:\n",
    "                percent_done = int((progress_count / total_iterations) * 100)\n",
    "                print(f'Progress: {percent_done}% Complete')"
   ]
  },
  {
   "cell_type": "code",
   "execution_count": 61,
   "id": "a1de3758",
   "metadata": {},
   "outputs": [],
   "source": [
    "df_dict_latino_2018 = {'Industry':industries, 'Date':dates, 'County':counties, 'High Wage Count':counts, 'Employment Count':emp_counts}\n",
    "tidy_df_latino_2018 = pd.DataFrame(df_dict_latino_2018)\n",
    "tidy_df_latino_2018 = tidy_df_latino_2018[tidy_df_latino_2018['Industry'].notna()]\n",
    "tidy_df_latino_2018['Date']= pd.to_datetime(tidy_df_latino_2018['Date'])\n",
    "tidy_df_latino_2018['High Wage Count'] = tidy_df_latino_2018['High Wage Count'].astype(int)\n",
    "tidy_df_latino_2018 = tidy_df_latino_2018.sort_values(by=['Industry', 'County', 'Date'])\n",
    "tidy_df_latino_2018['Output Race'] = 'Latino'"
   ]
  },
  {
   "cell_type": "markdown",
   "id": "c31c55a1",
   "metadata": {},
   "source": [
    "Black"
   ]
  },
  {
   "cell_type": "code",
   "execution_count": 62,
   "id": "205d84c5",
   "metadata": {},
   "outputs": [
    {
     "name": "stdout",
     "output_type": "stream",
     "text": [
      "Progress: 10% Complete\n",
      "Progress: 20% Complete\n",
      "Progress: 30% Complete\n",
      "Progress: 40% Complete\n",
      "Progress: 50% Complete\n",
      "Progress: 60% Complete\n",
      "Progress: 70% Complete\n",
      "Progress: 80% Complete\n",
      "Progress: 90% Complete\n",
      "Progress: 100% Complete\n"
     ]
    }
   ],
   "source": [
    "industries = []\n",
    "dates = []\n",
    "counties = []\n",
    "counts = []\n",
    "emp_counts = []\n",
    "progress_count = 0\n",
    "for county in counties_edd:\n",
    "    for code in parsed_codes:\n",
    "        for date in dates_edd:\n",
    "            output, hw, industry, emp_count = edd_to_hw(edd_2018, ca_ipums_hw_black_2018, naics, county_info, county, str(code), date, 10)\n",
    "            industries.append(industry)\n",
    "            dates.append(date)\n",
    "            counties.append(county)\n",
    "            counts.append(hw)\n",
    "            emp_counts.append(emp_count)\n",
    "            progress_count += 1\n",
    "            if progress_count % 10440 == 0:\n",
    "                percent_done = int((progress_count / total_iterations) * 100)\n",
    "                print(f'Progress: {percent_done}% Complete')"
   ]
  },
  {
   "cell_type": "code",
   "execution_count": 63,
   "id": "482c6d0c",
   "metadata": {},
   "outputs": [],
   "source": [
    "df_dict_black_2018 = {'Industry':industries, 'Date':dates, 'County':counties, 'High Wage Count':counts, 'Employment Count':emp_counts}\n",
    "tidy_df_black_2018 = pd.DataFrame(df_dict_black_2018)\n",
    "tidy_df_black_2018 = tidy_df_black_2018[tidy_df_black_2018['Industry'].notna()]\n",
    "tidy_df_black_2018['Date']= pd.to_datetime(tidy_df_black_2018['Date'])\n",
    "tidy_df_black_2018['High Wage Count'] = tidy_df_black_2018['High Wage Count'].astype(int)\n",
    "tidy_df_black_2018 = tidy_df_black_2018.sort_values(by=['Industry', 'County', 'Date'])\n",
    "tidy_df_black_2018['Output Race'] = 'Black'"
   ]
  },
  {
   "cell_type": "markdown",
   "id": "205dd429",
   "metadata": {},
   "source": [
    "American Indian/Alaska Native"
   ]
  },
  {
   "cell_type": "code",
   "execution_count": 64,
   "id": "184f80d1",
   "metadata": {},
   "outputs": [
    {
     "name": "stdout",
     "output_type": "stream",
     "text": [
      "Progress: 10% Complete\n",
      "Progress: 20% Complete\n",
      "Progress: 30% Complete\n",
      "Progress: 40% Complete\n",
      "Progress: 50% Complete\n",
      "Progress: 60% Complete\n",
      "Progress: 70% Complete\n",
      "Progress: 80% Complete\n",
      "Progress: 90% Complete\n",
      "Progress: 100% Complete\n"
     ]
    }
   ],
   "source": [
    "industries = []\n",
    "dates = []\n",
    "counties = []\n",
    "counts = []\n",
    "emp_counts = []\n",
    "progress_count = 0\n",
    "for county in counties_edd:\n",
    "    for code in parsed_codes:\n",
    "        for date in dates_edd:\n",
    "            output, hw, industry, emp_count = edd_to_hw(edd_2018, ca_ipums_hw_native_2018, naics, county_info, county, str(code), date, 10)\n",
    "            industries.append(industry)\n",
    "            dates.append(date)\n",
    "            counties.append(county)\n",
    "            counts.append(hw)\n",
    "            emp_counts.append(emp_count)\n",
    "            progress_count += 1\n",
    "            if progress_count % 10440 == 0:\n",
    "                percent_done = int((progress_count / total_iterations) * 100)\n",
    "                print(f'Progress: {percent_done}% Complete')"
   ]
  },
  {
   "cell_type": "code",
   "execution_count": 65,
   "id": "548fcc69",
   "metadata": {},
   "outputs": [],
   "source": [
    "df_dict_native_2018 = {'Industry':industries, 'Date':dates, 'County':counties, 'High Wage Count':counts, 'Employment Count':emp_counts}\n",
    "tidy_df_native_2018 = pd.DataFrame(df_dict_native_2018)\n",
    "tidy_df_native_2018 = tidy_df_native_2018[tidy_df_native_2018['Industry'].notna()]\n",
    "tidy_df_native_2018['Date']= pd.to_datetime(tidy_df_native_2018['Date'])\n",
    "tidy_df_native_2018['High Wage Count'] = tidy_df_native_2018['High Wage Count'].astype(int)\n",
    "tidy_df_native_2018 = tidy_df_native_2018.sort_values(by=['Industry', 'County', 'Date'])\n",
    "tidy_df_native_2018['Output Race'] = 'American Indian/Alaska Native'"
   ]
  },
  {
   "cell_type": "markdown",
   "id": "d7b06a6f",
   "metadata": {},
   "source": [
    "Asian"
   ]
  },
  {
   "cell_type": "code",
   "execution_count": 66,
   "id": "53dc1d09",
   "metadata": {},
   "outputs": [
    {
     "name": "stdout",
     "output_type": "stream",
     "text": [
      "Progress: 10% Complete\n",
      "Progress: 20% Complete\n",
      "Progress: 30% Complete\n",
      "Progress: 40% Complete\n",
      "Progress: 50% Complete\n",
      "Progress: 60% Complete\n",
      "Progress: 70% Complete\n",
      "Progress: 80% Complete\n",
      "Progress: 90% Complete\n",
      "Progress: 100% Complete\n"
     ]
    }
   ],
   "source": [
    "industries = []\n",
    "dates = []\n",
    "counties = []\n",
    "counts = []\n",
    "emp_counts = []\n",
    "progress_count = 0\n",
    "for county in counties_edd:\n",
    "    for code in parsed_codes:\n",
    "        for date in dates_edd:\n",
    "            output, hw, industry, emp_count = edd_to_hw(edd_2018, ca_ipums_hw_asian_2018, naics, county_info, county, str(code), date, 10)\n",
    "            industries.append(industry)\n",
    "            dates.append(date)\n",
    "            counties.append(county)\n",
    "            counts.append(hw)\n",
    "            emp_counts.append(emp_count)\n",
    "            progress_count += 1\n",
    "            if progress_count % 10440 == 0:\n",
    "                percent_done = int((progress_count / total_iterations) * 100)\n",
    "                print(f'Progress: {percent_done}% Complete')"
   ]
  },
  {
   "cell_type": "code",
   "execution_count": 67,
   "id": "5c588734",
   "metadata": {},
   "outputs": [],
   "source": [
    "df_dict_asian_2018 = {'Industry':industries, 'Date':dates, 'County':counties, 'High Wage Count':counts, 'Employment Count':emp_counts}\n",
    "tidy_df_asian_2018 = pd.DataFrame(df_dict_asian_2018)\n",
    "tidy_df_asian_2018 = tidy_df_asian_2018[tidy_df_asian_2018['Industry'].notna()]\n",
    "tidy_df_asian_2018['Date']= pd.to_datetime(tidy_df_asian_2018['Date'])\n",
    "tidy_df_asian_2018['High Wage Count'] = tidy_df_asian_2018['High Wage Count'].astype(int)\n",
    "tidy_df_asian_2018 = tidy_df_asian_2018.sort_values(by=['Industry', 'County', 'Date'])\n",
    "tidy_df_asian_2018['Output Race'] = 'Asian'"
   ]
  },
  {
   "cell_type": "markdown",
   "id": "333815d3",
   "metadata": {},
   "source": [
    "Other"
   ]
  },
  {
   "cell_type": "code",
   "execution_count": 68,
   "id": "8622d4f4",
   "metadata": {},
   "outputs": [
    {
     "name": "stdout",
     "output_type": "stream",
     "text": [
      "Progress: 10% Complete\n",
      "Progress: 20% Complete\n",
      "Progress: 30% Complete\n",
      "Progress: 40% Complete\n",
      "Progress: 50% Complete\n",
      "Progress: 60% Complete\n",
      "Progress: 70% Complete\n",
      "Progress: 80% Complete\n",
      "Progress: 90% Complete\n",
      "Progress: 100% Complete\n"
     ]
    }
   ],
   "source": [
    "industries = []\n",
    "dates = []\n",
    "counties = []\n",
    "counts = []\n",
    "emp_counts = []\n",
    "progress_count = 0\n",
    "for county in counties_edd:\n",
    "    for code in parsed_codes:\n",
    "        for date in dates_edd:\n",
    "            output, hw, industry, emp_count = edd_to_hw(edd_2018, ca_ipums_hw_other_2018, naics, county_info, county, str(code), date, 10)\n",
    "            industries.append(industry)\n",
    "            dates.append(date)\n",
    "            counties.append(county)\n",
    "            counts.append(hw)\n",
    "            emp_counts.append(emp_count)\n",
    "            progress_count += 1\n",
    "            if progress_count % 10440 == 0:\n",
    "                percent_done = int((progress_count / total_iterations) * 100)\n",
    "                print(f'Progress: {percent_done}% Complete')"
   ]
  },
  {
   "cell_type": "code",
   "execution_count": 69,
   "id": "5106141b",
   "metadata": {},
   "outputs": [],
   "source": [
    "df_dict_other_2018 = {'Industry':industries, 'Date':dates, 'County':counties, 'High Wage Count':counts, 'Employment Count':emp_counts}\n",
    "tidy_df_other_2018 = pd.DataFrame(df_dict_other_2018)\n",
    "tidy_df_other_2018 = tidy_df_other_2018[tidy_df_other_2018['Industry'].notna()]\n",
    "tidy_df_other_2018['Date']= pd.to_datetime(tidy_df_other_2018['Date'])\n",
    "tidy_df_other_2018['High Wage Count'] = tidy_df_other_2018['High Wage Count'].astype(int)\n",
    "tidy_df_other_2018 = tidy_df_other_2018.sort_values(by=['Industry', 'County', 'Date'])\n",
    "tidy_df_other_2018['Output Race'] = 'Some other race'"
   ]
  },
  {
   "cell_type": "markdown",
   "id": "81e5956c",
   "metadata": {},
   "source": [
    "Multi"
   ]
  },
  {
   "cell_type": "code",
   "execution_count": 70,
   "id": "ec924c40",
   "metadata": {},
   "outputs": [
    {
     "name": "stdout",
     "output_type": "stream",
     "text": [
      "Progress: 10% Complete\n",
      "Progress: 20% Complete\n",
      "Progress: 30% Complete\n",
      "Progress: 40% Complete\n",
      "Progress: 50% Complete\n",
      "Progress: 60% Complete\n",
      "Progress: 70% Complete\n",
      "Progress: 80% Complete\n",
      "Progress: 90% Complete\n",
      "Progress: 100% Complete\n"
     ]
    }
   ],
   "source": [
    "industries = []\n",
    "dates = []\n",
    "counties = []\n",
    "counts = []\n",
    "emp_counts = []\n",
    "progress_count = 0\n",
    "for county in counties_edd:\n",
    "    for code in parsed_codes:\n",
    "        for date in dates_edd:\n",
    "            output, hw, industry, emp_count = edd_to_hw(edd_2018, ca_ipums_hw_multi_2018, naics, county_info, county, str(code), date, 10)\n",
    "            industries.append(industry)\n",
    "            dates.append(date)\n",
    "            counties.append(county)\n",
    "            counts.append(hw)\n",
    "            emp_counts.append(emp_count)\n",
    "            progress_count += 1\n",
    "            if progress_count % 10440 == 0:\n",
    "                percent_done = int((progress_count / total_iterations) * 100)\n",
    "                print(f'Progress: {percent_done}% Complete')"
   ]
  },
  {
   "cell_type": "code",
   "execution_count": 71,
   "id": "8efcf82b",
   "metadata": {},
   "outputs": [],
   "source": [
    "df_dict_multi_2018 = {'Industry':industries, 'Date':dates, 'County':counties, 'High Wage Count':counts, 'Employment Count':emp_counts}\n",
    "tidy_df_multi_2018 = pd.DataFrame(df_dict_multi_2018)\n",
    "tidy_df_multi_2018 = tidy_df_multi_2018[tidy_df_multi_2018['Industry'].notna()]\n",
    "tidy_df_multi_2018['Date']= pd.to_datetime(tidy_df_multi_2018['Date'])\n",
    "tidy_df_multi_2018['High Wage Count'] = tidy_df_multi_2018['High Wage Count'].astype(int)\n",
    "tidy_df_multi_2018 = tidy_df_multi_2018.sort_values(by=['Industry', 'County', 'Date'])\n",
    "tidy_df_multi_2018['Output Race'] = 'Multiracial'"
   ]
  },
  {
   "cell_type": "markdown",
   "id": "0a72fcff",
   "metadata": {},
   "source": [
    "Concatenate"
   ]
  },
  {
   "cell_type": "code",
   "execution_count": 72,
   "id": "484fe7c8",
   "metadata": {},
   "outputs": [],
   "source": [
    "df_race_2018 = pd.concat([tidy_df_white_2018, \n",
    "                          tidy_df_black_2018, \n",
    "                          tidy_df_latino_2018, \n",
    "                          tidy_df_asian_2018, \n",
    "                          tidy_df_native_2018, \n",
    "                          tidy_df_other_2018, \n",
    "                          tidy_df_multi_2018], \n",
    "                         ignore_index=True)\n",
    "df_race_2018 = pd.merge(df_race_2018, col_2018, left_on='County', right_on='Regions')\n",
    "df_race_2018['Year'] = 2018\n",
    "df_race_2018 = df_race_2018[['Industry', 'Date', 'County', 'High Wage Count', 'Cost of Living', 'Employment Count', 'Output Race', 'Year']]"
   ]
  },
  {
   "cell_type": "code",
   "execution_count": 89,
   "id": "7a02d98b",
   "metadata": {},
   "outputs": [],
   "source": [
    "df_race_2018.to_csv('hw_outputs_w_race_2018.csv', encoding='utf-8', index=False)"
   ]
  },
  {
   "cell_type": "markdown",
   "id": "374b3812",
   "metadata": {},
   "source": [
    "### High Wage Outputs - 2017"
   ]
  },
  {
   "cell_type": "code",
   "execution_count": 73,
   "id": "1b0dd19c",
   "metadata": {},
   "outputs": [],
   "source": [
    "counties_edd = edd_2017['Area Name'].unique()\n",
    "parsed_codes = set(list(edd_2017['Main_Code'].unique()) + \n",
    "                   list(edd_2017['Sub_1_Code'].unique()) + \n",
    "                   list(edd_2017['Sub_2_Code'].unique()) + \n",
    "                   list(edd_2017['Sub_3_Code'].unique()) + \n",
    "                   list(edd_2017['Sub_4_Code'].unique()))\n",
    "dates_edd = edd_2017['Date'].unique()\n",
    "total_iterations = len(counties_edd) * len(parsed_codes) * len(dates_edd)"
   ]
  },
  {
   "cell_type": "markdown",
   "id": "387595bf",
   "metadata": {},
   "source": [
    "White"
   ]
  },
  {
   "cell_type": "code",
   "execution_count": 74,
   "id": "f173fd2d",
   "metadata": {},
   "outputs": [
    {
     "name": "stdout",
     "output_type": "stream",
     "text": [
      "Progress: 10% Complete\n",
      "Progress: 20% Complete\n",
      "Progress: 30% Complete\n",
      "Progress: 40% Complete\n",
      "Progress: 50% Complete\n",
      "Progress: 60% Complete\n",
      "Progress: 70% Complete\n",
      "Progress: 80% Complete\n",
      "Progress: 90% Complete\n",
      "Progress: 100% Complete\n"
     ]
    }
   ],
   "source": [
    "industries = []\n",
    "dates = []\n",
    "counties = []\n",
    "counts = []\n",
    "emp_counts = []\n",
    "progress_count = 0\n",
    "for county in counties_edd:\n",
    "    for code in parsed_codes:\n",
    "        for date in dates_edd:\n",
    "            output, hw, industry, emp_count = edd_to_hw(edd_2017, ca_ipums_hw_white_2017, naics, county_info, county, str(code), date, 10)\n",
    "            industries.append(industry)\n",
    "            dates.append(date)\n",
    "            counties.append(county)\n",
    "            counts.append(hw)\n",
    "            emp_counts.append(emp_count)\n",
    "            progress_count += 1\n",
    "            if progress_count % 10440 == 0:\n",
    "                percent_done = int((progress_count / total_iterations) * 100)\n",
    "                print(f'Progress: {percent_done}% Complete')"
   ]
  },
  {
   "cell_type": "code",
   "execution_count": 75,
   "id": "466aabe1",
   "metadata": {},
   "outputs": [],
   "source": [
    "df_dict_white_2017 = {'Industry':industries, 'Date':dates, 'County':counties, 'High Wage Count':counts, 'Employment Count':emp_counts}\n",
    "tidy_df_white_2017 = pd.DataFrame(df_dict_white_2017)\n",
    "tidy_df_white_2017 = tidy_df_white_2017[tidy_df_white_2017['Industry'].notna()]\n",
    "tidy_df_white_2017['Date']= pd.to_datetime(tidy_df_white_2017['Date'])\n",
    "tidy_df_white_2017['High Wage Count'] = tidy_df_white_2017['High Wage Count'].astype(int)\n",
    "tidy_df_white_2017 = tidy_df_white_2017.sort_values(by=['Industry', 'County', 'Date'])\n",
    "tidy_df_white_2017['Output Race'] = 'White'"
   ]
  },
  {
   "cell_type": "markdown",
   "id": "9be3b164",
   "metadata": {},
   "source": [
    "Latino"
   ]
  },
  {
   "cell_type": "code",
   "execution_count": 76,
   "id": "5cb4851b",
   "metadata": {},
   "outputs": [
    {
     "name": "stdout",
     "output_type": "stream",
     "text": [
      "Progress: 10% Complete\n",
      "Progress: 20% Complete\n",
      "Progress: 30% Complete\n",
      "Progress: 40% Complete\n",
      "Progress: 50% Complete\n",
      "Progress: 60% Complete\n",
      "Progress: 70% Complete\n",
      "Progress: 80% Complete\n",
      "Progress: 90% Complete\n",
      "Progress: 100% Complete\n"
     ]
    }
   ],
   "source": [
    "industries = []\n",
    "dates = []\n",
    "counties = []\n",
    "counts = []\n",
    "emp_counts = []\n",
    "progress_count = 0\n",
    "for county in counties_edd:\n",
    "    for code in parsed_codes:\n",
    "        for date in dates_edd:\n",
    "            output, hw, industry, emp_count = edd_to_hw(edd_2017, ca_ipums_hw_latino_2017, naics, county_info, county, str(code), date, 10)\n",
    "            industries.append(industry)\n",
    "            dates.append(date)\n",
    "            counties.append(county)\n",
    "            counts.append(hw)\n",
    "            emp_counts.append(emp_count)\n",
    "            progress_count += 1\n",
    "            if progress_count % 10440 == 0:\n",
    "                percent_done = int((progress_count / total_iterations) * 100)\n",
    "                print(f'Progress: {percent_done}% Complete')"
   ]
  },
  {
   "cell_type": "code",
   "execution_count": 77,
   "id": "7906e519",
   "metadata": {},
   "outputs": [],
   "source": [
    "df_dict_latino_2017 = {'Industry':industries, 'Date':dates, 'County':counties, 'High Wage Count':counts, 'Employment Count':emp_counts}\n",
    "tidy_df_latino_2017 = pd.DataFrame(df_dict_latino_2017)\n",
    "tidy_df_latino_2017 = tidy_df_latino_2017[tidy_df_latino_2017['Industry'].notna()]\n",
    "tidy_df_latino_2017['Date']= pd.to_datetime(tidy_df_latino_2017['Date'])\n",
    "tidy_df_latino_2017['High Wage Count'] = tidy_df_latino_2017['High Wage Count'].astype(int)\n",
    "tidy_df_latino_2017 = tidy_df_latino_2017.sort_values(by=['Industry', 'County', 'Date'])\n",
    "tidy_df_latino_2017['Output Race'] = 'Latino'"
   ]
  },
  {
   "cell_type": "markdown",
   "id": "7a518c5b",
   "metadata": {},
   "source": [
    "Black"
   ]
  },
  {
   "cell_type": "code",
   "execution_count": 78,
   "id": "4a354e69",
   "metadata": {},
   "outputs": [
    {
     "name": "stdout",
     "output_type": "stream",
     "text": [
      "Progress: 10% Complete\n",
      "Progress: 20% Complete\n",
      "Progress: 30% Complete\n",
      "Progress: 40% Complete\n",
      "Progress: 50% Complete\n",
      "Progress: 60% Complete\n",
      "Progress: 70% Complete\n",
      "Progress: 80% Complete\n",
      "Progress: 90% Complete\n",
      "Progress: 100% Complete\n"
     ]
    }
   ],
   "source": [
    "industries = []\n",
    "dates = []\n",
    "counties = []\n",
    "counts = []\n",
    "emp_counts = []\n",
    "progress_count = 0\n",
    "for county in counties_edd:\n",
    "    for code in parsed_codes:\n",
    "        for date in dates_edd:\n",
    "            output, hw, industry, emp_count = edd_to_hw(edd_2017, ca_ipums_hw_black_2017, naics, county_info, county, str(code), date, 10)\n",
    "            industries.append(industry)\n",
    "            dates.append(date)\n",
    "            counties.append(county)\n",
    "            counts.append(hw)\n",
    "            emp_counts.append(emp_count)\n",
    "            progress_count += 1\n",
    "            if progress_count % 10440 == 0:\n",
    "                percent_done = int((progress_count / total_iterations) * 100)\n",
    "                print(f'Progress: {percent_done}% Complete')"
   ]
  },
  {
   "cell_type": "code",
   "execution_count": 79,
   "id": "61648913",
   "metadata": {},
   "outputs": [],
   "source": [
    "df_dict_black_2017 = {'Industry':industries, 'Date':dates, 'County':counties, 'High Wage Count':counts, 'Employment Count':emp_counts}\n",
    "tidy_df_black_2017 = pd.DataFrame(df_dict_black_2017)\n",
    "tidy_df_black_2017 = tidy_df_black_2017[tidy_df_black_2017['Industry'].notna()]\n",
    "tidy_df_black_2017['Date']= pd.to_datetime(tidy_df_black_2017['Date'])\n",
    "tidy_df_black_2017['High Wage Count'] = tidy_df_black_2017['High Wage Count'].astype(int)\n",
    "tidy_df_black_2017 = tidy_df_black_2017.sort_values(by=['Industry', 'County', 'Date'])\n",
    "tidy_df_black_2017['Output Race'] = 'Black'"
   ]
  },
  {
   "cell_type": "markdown",
   "id": "d8e4e37d",
   "metadata": {},
   "source": [
    "American Indian/Alaska Native"
   ]
  },
  {
   "cell_type": "code",
   "execution_count": 80,
   "id": "b07cb2a7",
   "metadata": {},
   "outputs": [
    {
     "name": "stdout",
     "output_type": "stream",
     "text": [
      "Progress: 10% Complete\n",
      "Progress: 20% Complete\n",
      "Progress: 30% Complete\n",
      "Progress: 40% Complete\n",
      "Progress: 50% Complete\n",
      "Progress: 60% Complete\n",
      "Progress: 70% Complete\n",
      "Progress: 80% Complete\n",
      "Progress: 90% Complete\n",
      "Progress: 100% Complete\n"
     ]
    }
   ],
   "source": [
    "industries = []\n",
    "dates = []\n",
    "counties = []\n",
    "counts = []\n",
    "emp_counts = []\n",
    "progress_count = 0\n",
    "for county in counties_edd:\n",
    "    for code in parsed_codes:\n",
    "        for date in dates_edd:\n",
    "            output, hw, industry, emp_count = edd_to_hw(edd_2017, ca_ipums_hw_native_2017, naics, county_info, county, str(code), date, 10)\n",
    "            industries.append(industry)\n",
    "            dates.append(date)\n",
    "            counties.append(county)\n",
    "            counts.append(hw)\n",
    "            emp_counts.append(emp_count)\n",
    "            progress_count += 1\n",
    "            if progress_count % 10440 == 0:\n",
    "                percent_done = int((progress_count / total_iterations) * 100)\n",
    "                print(f'Progress: {percent_done}% Complete')"
   ]
  },
  {
   "cell_type": "code",
   "execution_count": 81,
   "id": "5a19c4f8",
   "metadata": {},
   "outputs": [],
   "source": [
    "df_dict_native_2017 = {'Industry':industries, 'Date':dates, 'County':counties, 'High Wage Count':counts, 'Employment Count':emp_counts}\n",
    "tidy_df_native_2017 = pd.DataFrame(df_dict_native_2017)\n",
    "tidy_df_native_2017 = tidy_df_native_2017[tidy_df_native_2017['Industry'].notna()]\n",
    "tidy_df_native_2017['Date']= pd.to_datetime(tidy_df_native_2017['Date'])\n",
    "tidy_df_native_2017['High Wage Count'] = tidy_df_native_2017['High Wage Count'].astype(int)\n",
    "tidy_df_native_2017 = tidy_df_native_2017.sort_values(by=['Industry', 'County', 'Date'])\n",
    "tidy_df_native_2017['Output Race'] = 'American Indian/Alaska Native'"
   ]
  },
  {
   "cell_type": "markdown",
   "id": "f36b0e18",
   "metadata": {},
   "source": [
    "Asian"
   ]
  },
  {
   "cell_type": "code",
   "execution_count": 82,
   "id": "f69d7895",
   "metadata": {},
   "outputs": [
    {
     "name": "stdout",
     "output_type": "stream",
     "text": [
      "Progress: 10% Complete\n",
      "Progress: 20% Complete\n",
      "Progress: 30% Complete\n",
      "Progress: 40% Complete\n",
      "Progress: 50% Complete\n",
      "Progress: 60% Complete\n",
      "Progress: 70% Complete\n",
      "Progress: 80% Complete\n",
      "Progress: 90% Complete\n",
      "Progress: 100% Complete\n"
     ]
    }
   ],
   "source": [
    "industries = []\n",
    "dates = []\n",
    "counties = []\n",
    "counts = []\n",
    "emp_counts = []\n",
    "progress_count = 0\n",
    "for county in counties_edd:\n",
    "    for code in parsed_codes:\n",
    "        for date in dates_edd:\n",
    "            output, hw, industry, emp_count = edd_to_hw(edd_2017, ca_ipums_hw_asian_2017, naics, county_info, county, str(code), date, 10)\n",
    "            industries.append(industry)\n",
    "            dates.append(date)\n",
    "            counties.append(county)\n",
    "            counts.append(hw)\n",
    "            emp_counts.append(emp_count)\n",
    "            progress_count += 1\n",
    "            if progress_count % 10440 == 0:\n",
    "                percent_done = int((progress_count / total_iterations) * 100)\n",
    "                print(f'Progress: {percent_done}% Complete')"
   ]
  },
  {
   "cell_type": "code",
   "execution_count": 83,
   "id": "0e43f6b7",
   "metadata": {},
   "outputs": [],
   "source": [
    "df_dict_asian_2017 = {'Industry':industries, 'Date':dates, 'County':counties, 'High Wage Count':counts, 'Employment Count':emp_counts}\n",
    "tidy_df_asian_2017 = pd.DataFrame(df_dict_asian_2017)\n",
    "tidy_df_asian_2017 = tidy_df_asian_2017[tidy_df_asian_2017['Industry'].notna()]\n",
    "tidy_df_asian_2017['Date']= pd.to_datetime(tidy_df_asian_2017['Date'])\n",
    "tidy_df_asian_2017['High Wage Count'] = tidy_df_asian_2017['High Wage Count'].astype(int)\n",
    "tidy_df_asian_2017 = tidy_df_asian_2017.sort_values(by=['Industry', 'County', 'Date'])\n",
    "tidy_df_asian_2017['Output Race'] = 'Asian'"
   ]
  },
  {
   "cell_type": "markdown",
   "id": "e3ba165b",
   "metadata": {},
   "source": [
    "Other"
   ]
  },
  {
   "cell_type": "code",
   "execution_count": 84,
   "id": "fdcf5921",
   "metadata": {},
   "outputs": [
    {
     "name": "stdout",
     "output_type": "stream",
     "text": [
      "Progress: 10% Complete\n",
      "Progress: 20% Complete\n",
      "Progress: 30% Complete\n",
      "Progress: 40% Complete\n",
      "Progress: 50% Complete\n",
      "Progress: 60% Complete\n",
      "Progress: 70% Complete\n",
      "Progress: 80% Complete\n",
      "Progress: 90% Complete\n",
      "Progress: 100% Complete\n"
     ]
    }
   ],
   "source": [
    "industries = []\n",
    "dates = []\n",
    "counties = []\n",
    "counts = []\n",
    "emp_counts = []\n",
    "progress_count = 0\n",
    "for county in counties_edd:\n",
    "    for code in parsed_codes:\n",
    "        for date in dates_edd:\n",
    "            output, hw, industry, emp_count = edd_to_hw(edd_2017, ca_ipums_hw_other_2017, naics, county_info, county, str(code), date, 10)\n",
    "            industries.append(industry)\n",
    "            dates.append(date)\n",
    "            counties.append(county)\n",
    "            counts.append(hw)\n",
    "            emp_counts.append(emp_count)\n",
    "            progress_count += 1\n",
    "            if progress_count % 10440 == 0:\n",
    "                percent_done = int((progress_count / total_iterations) * 100)\n",
    "                print(f'Progress: {percent_done}% Complete')"
   ]
  },
  {
   "cell_type": "code",
   "execution_count": 85,
   "id": "227f7b01",
   "metadata": {},
   "outputs": [],
   "source": [
    "df_dict_other_2017 = {'Industry':industries, 'Date':dates, 'County':counties, 'High Wage Count':counts, 'Employment Count':emp_counts}\n",
    "tidy_df_other_2017 = pd.DataFrame(df_dict_other_2017)\n",
    "tidy_df_other_2017 = tidy_df_other_2017[tidy_df_other_2017['Industry'].notna()]\n",
    "tidy_df_other_2017['Date']= pd.to_datetime(tidy_df_other_2017['Date'])\n",
    "tidy_df_other_2017['High Wage Count'] = tidy_df_other_2017['High Wage Count'].astype(int)\n",
    "tidy_df_other_2017 = tidy_df_other_2017.sort_values(by=['Industry', 'County', 'Date'])\n",
    "tidy_df_other_2017['Output Race'] = 'Some other race'"
   ]
  },
  {
   "cell_type": "markdown",
   "id": "bb8e306f",
   "metadata": {},
   "source": [
    "Multi"
   ]
  },
  {
   "cell_type": "code",
   "execution_count": 86,
   "id": "7c063c24",
   "metadata": {},
   "outputs": [
    {
     "name": "stdout",
     "output_type": "stream",
     "text": [
      "Progress: 10% Complete\n",
      "Progress: 20% Complete\n",
      "Progress: 30% Complete\n",
      "Progress: 40% Complete\n",
      "Progress: 50% Complete\n",
      "Progress: 60% Complete\n",
      "Progress: 70% Complete\n",
      "Progress: 80% Complete\n",
      "Progress: 90% Complete\n",
      "Progress: 100% Complete\n"
     ]
    }
   ],
   "source": [
    "industries = []\n",
    "dates = []\n",
    "counties = []\n",
    "counts = []\n",
    "emp_counts = []\n",
    "progress_count = 0\n",
    "for county in counties_edd:\n",
    "    for code in parsed_codes:\n",
    "        for date in dates_edd:\n",
    "            output, hw, industry, emp_count = edd_to_hw(edd_2017, ca_ipums_hw_multi_2017, naics, county_info, county, str(code), date, 10)\n",
    "            industries.append(industry)\n",
    "            dates.append(date)\n",
    "            counties.append(county)\n",
    "            counts.append(hw)\n",
    "            emp_counts.append(emp_count)\n",
    "            progress_count += 1\n",
    "            if progress_count % 10440 == 0:\n",
    "                percent_done = int((progress_count / total_iterations) * 100)\n",
    "                print(f'Progress: {percent_done}% Complete')"
   ]
  },
  {
   "cell_type": "code",
   "execution_count": 87,
   "id": "7a79ae5b",
   "metadata": {},
   "outputs": [],
   "source": [
    "df_dict_multi_2017 = {'Industry':industries, 'Date':dates, 'County':counties, 'High Wage Count':counts, 'Employment Count':emp_counts}\n",
    "tidy_df_multi_2017 = pd.DataFrame(df_dict_multi_2017)\n",
    "tidy_df_multi_2017 = tidy_df_multi_2017[tidy_df_multi_2017['Industry'].notna()]\n",
    "tidy_df_multi_2017['Date']= pd.to_datetime(tidy_df_multi_2017['Date'])\n",
    "tidy_df_multi_2017['High Wage Count'] = tidy_df_multi_2017['High Wage Count'].astype(int)\n",
    "tidy_df_multi_2017 = tidy_df_multi_2017.sort_values(by=['Industry', 'County', 'Date'])\n",
    "tidy_df_multi_2017['Output Race'] = 'Multiracial'"
   ]
  },
  {
   "cell_type": "markdown",
   "id": "57674785",
   "metadata": {},
   "source": [
    "Concatenate"
   ]
  },
  {
   "cell_type": "code",
   "execution_count": 88,
   "id": "87ee47a5",
   "metadata": {},
   "outputs": [],
   "source": [
    "df_race_2017 = pd.concat([tidy_df_white_2017, \n",
    "                          tidy_df_black_2017, \n",
    "                          tidy_df_latino_2017, \n",
    "                          tidy_df_asian_2017, \n",
    "                          tidy_df_native_2017, \n",
    "                          tidy_df_other_2017, \n",
    "                          tidy_df_multi_2017], \n",
    "                         ignore_index=True)\n",
    "df_race_2017 = pd.merge(df_race_2017, col_2017, left_on='County', right_on='Regions')\n",
    "df_race_2017['Year'] = 2017\n",
    "df_race_2017 = df_race_2017[['Industry', 'Date', 'County', 'High Wage Count', 'Cost of Living', 'Employment Count', 'Output Race', 'Year']]"
   ]
  },
  {
   "cell_type": "code",
   "execution_count": 90,
   "id": "d486f170",
   "metadata": {},
   "outputs": [],
   "source": [
    "df_race_2017.to_csv('hw_outputs_w_race_2017.csv', encoding='utf-8', index=False)"
   ]
  },
  {
   "cell_type": "markdown",
   "id": "0ea54b70",
   "metadata": {},
   "source": [
    "### High Wage Outputs - 2016"
   ]
  },
  {
   "cell_type": "code",
   "execution_count": 91,
   "id": "e7f1c2c6",
   "metadata": {},
   "outputs": [],
   "source": [
    "counties_edd = edd_2016['Area Name'].unique()\n",
    "parsed_codes = set(list(edd_2016['Main_Code'].unique()) + \n",
    "                   list(edd_2016['Sub_1_Code'].unique()) + \n",
    "                   list(edd_2016['Sub_2_Code'].unique()) + \n",
    "                   list(edd_2016['Sub_3_Code'].unique()) + \n",
    "                   list(edd_2016['Sub_4_Code'].unique()))\n",
    "dates_edd = edd_2016['Date'].unique()\n",
    "total_iterations = len(counties_edd) * len(parsed_codes) * len(dates_edd)"
   ]
  },
  {
   "cell_type": "markdown",
   "id": "7b0a7aa8",
   "metadata": {},
   "source": [
    "White"
   ]
  },
  {
   "cell_type": "code",
   "execution_count": 92,
   "id": "d33bd638",
   "metadata": {},
   "outputs": [
    {
     "name": "stdout",
     "output_type": "stream",
     "text": [
      "Progress: 10% Complete\n",
      "Progress: 20% Complete\n",
      "Progress: 30% Complete\n",
      "Progress: 40% Complete\n",
      "Progress: 50% Complete\n",
      "Progress: 60% Complete\n",
      "Progress: 70% Complete\n",
      "Progress: 80% Complete\n",
      "Progress: 90% Complete\n",
      "Progress: 100% Complete\n"
     ]
    }
   ],
   "source": [
    "industries = []\n",
    "dates = []\n",
    "counties = []\n",
    "counts = []\n",
    "emp_counts = []\n",
    "progress_count = 0\n",
    "for county in counties_edd:\n",
    "    for code in parsed_codes:\n",
    "        for date in dates_edd:\n",
    "            output, hw, industry, emp_count = edd_to_hw(edd_2016, ca_ipums_hw_white_2016, naics, county_info, county, str(code), date, 10)\n",
    "            industries.append(industry)\n",
    "            dates.append(date)\n",
    "            counties.append(county)\n",
    "            counts.append(hw)\n",
    "            emp_counts.append(emp_count)\n",
    "            progress_count += 1\n",
    "            if progress_count % 10440 == 0:\n",
    "                percent_done = int((progress_count / total_iterations) * 100)\n",
    "                print(f'Progress: {percent_done}% Complete')"
   ]
  },
  {
   "cell_type": "code",
   "execution_count": 93,
   "id": "0622bac5",
   "metadata": {},
   "outputs": [],
   "source": [
    "df_dict_white_2016 = {'Industry':industries, 'Date':dates, 'County':counties, 'High Wage Count':counts, 'Employment Count':emp_counts}\n",
    "tidy_df_white_2016 = pd.DataFrame(df_dict_white_2016)\n",
    "tidy_df_white_2016 = tidy_df_white_2016[tidy_df_white_2016['Industry'].notna()]\n",
    "tidy_df_white_2016['Date']= pd.to_datetime(tidy_df_white_2016['Date'])\n",
    "tidy_df_white_2016['High Wage Count'] = tidy_df_white_2016['High Wage Count'].astype(int)\n",
    "tidy_df_white_2016 = tidy_df_white_2016.sort_values(by=['Industry', 'County', 'Date'])\n",
    "tidy_df_white_2016['Output Race'] = 'White'"
   ]
  },
  {
   "cell_type": "markdown",
   "id": "54dd30ce",
   "metadata": {},
   "source": [
    "Latino"
   ]
  },
  {
   "cell_type": "code",
   "execution_count": 94,
   "id": "1516edeb",
   "metadata": {},
   "outputs": [
    {
     "name": "stdout",
     "output_type": "stream",
     "text": [
      "Progress: 10% Complete\n",
      "Progress: 20% Complete\n",
      "Progress: 30% Complete\n",
      "Progress: 40% Complete\n",
      "Progress: 50% Complete\n",
      "Progress: 60% Complete\n",
      "Progress: 70% Complete\n",
      "Progress: 80% Complete\n",
      "Progress: 90% Complete\n",
      "Progress: 100% Complete\n"
     ]
    }
   ],
   "source": [
    "industries = []\n",
    "dates = []\n",
    "counties = []\n",
    "counts = []\n",
    "emp_counts = []\n",
    "progress_count = 0\n",
    "for county in counties_edd:\n",
    "    for code in parsed_codes:\n",
    "        for date in dates_edd:\n",
    "            output, hw, industry, emp_count = edd_to_hw(edd_2016, ca_ipums_hw_latino_2016, naics, county_info, county, str(code), date, 10)\n",
    "            industries.append(industry)\n",
    "            dates.append(date)\n",
    "            counties.append(county)\n",
    "            counts.append(hw)\n",
    "            emp_counts.append(emp_count)\n",
    "            progress_count += 1\n",
    "            if progress_count % 10440 == 0:\n",
    "                percent_done = int((progress_count / total_iterations) * 100)\n",
    "                print(f'Progress: {percent_done}% Complete')"
   ]
  },
  {
   "cell_type": "code",
   "execution_count": 95,
   "id": "80fe0ced",
   "metadata": {},
   "outputs": [],
   "source": [
    "df_dict_latino_2016 = {'Industry':industries, 'Date':dates, 'County':counties, 'High Wage Count':counts, 'Employment Count':emp_counts}\n",
    "tidy_df_latino_2016 = pd.DataFrame(df_dict_latino_2016)\n",
    "tidy_df_latino_2016 = tidy_df_latino_2016[tidy_df_latino_2016['Industry'].notna()]\n",
    "tidy_df_latino_2016['Date']= pd.to_datetime(tidy_df_latino_2016['Date'])\n",
    "tidy_df_latino_2016['High Wage Count'] = tidy_df_latino_2016['High Wage Count'].astype(int)\n",
    "tidy_df_latino_2016 = tidy_df_latino_2016.sort_values(by=['Industry', 'County', 'Date'])\n",
    "tidy_df_latino_2016['Output Race'] = 'Latino'"
   ]
  },
  {
   "cell_type": "markdown",
   "id": "34b29311",
   "metadata": {},
   "source": [
    "Black"
   ]
  },
  {
   "cell_type": "code",
   "execution_count": 96,
   "id": "335aa8a0",
   "metadata": {},
   "outputs": [
    {
     "name": "stdout",
     "output_type": "stream",
     "text": [
      "Progress: 10% Complete\n",
      "Progress: 20% Complete\n",
      "Progress: 30% Complete\n",
      "Progress: 40% Complete\n",
      "Progress: 50% Complete\n",
      "Progress: 60% Complete\n",
      "Progress: 70% Complete\n",
      "Progress: 80% Complete\n",
      "Progress: 90% Complete\n",
      "Progress: 100% Complete\n"
     ]
    }
   ],
   "source": [
    "industries = []\n",
    "dates = []\n",
    "counties = []\n",
    "counts = []\n",
    "emp_counts = []\n",
    "progress_count = 0\n",
    "for county in counties_edd:\n",
    "    for code in parsed_codes:\n",
    "        for date in dates_edd:\n",
    "            output, hw, industry, emp_count = edd_to_hw(edd_2016, ca_ipums_hw_black_2016, naics, county_info, county, str(code), date, 10)\n",
    "            industries.append(industry)\n",
    "            dates.append(date)\n",
    "            counties.append(county)\n",
    "            counts.append(hw)\n",
    "            emp_counts.append(emp_count)\n",
    "            progress_count += 1\n",
    "            if progress_count % 10440 == 0:\n",
    "                percent_done = int((progress_count / total_iterations) * 100)\n",
    "                print(f'Progress: {percent_done}% Complete')"
   ]
  },
  {
   "cell_type": "code",
   "execution_count": 97,
   "id": "f8fcc368",
   "metadata": {},
   "outputs": [],
   "source": [
    "df_dict_black_2016 = {'Industry':industries, 'Date':dates, 'County':counties, 'High Wage Count':counts, 'Employment Count':emp_counts}\n",
    "tidy_df_black_2016 = pd.DataFrame(df_dict_black_2016)\n",
    "tidy_df_black_2016 = tidy_df_black_2016[tidy_df_black_2016['Industry'].notna()]\n",
    "tidy_df_black_2016['Date']= pd.to_datetime(tidy_df_black_2016['Date'])\n",
    "tidy_df_black_2016['High Wage Count'] = tidy_df_black_2016['High Wage Count'].astype(int)\n",
    "tidy_df_black_2016 = tidy_df_black_2016.sort_values(by=['Industry', 'County', 'Date'])\n",
    "tidy_df_black_2016['Output Race'] = 'Black'"
   ]
  },
  {
   "cell_type": "markdown",
   "id": "ec79929d",
   "metadata": {},
   "source": [
    "American Indian/Alaska Native"
   ]
  },
  {
   "cell_type": "code",
   "execution_count": 98,
   "id": "3e0e5dc0",
   "metadata": {},
   "outputs": [
    {
     "name": "stdout",
     "output_type": "stream",
     "text": [
      "Progress: 10% Complete\n",
      "Progress: 20% Complete\n",
      "Progress: 30% Complete\n",
      "Progress: 40% Complete\n",
      "Progress: 50% Complete\n",
      "Progress: 60% Complete\n",
      "Progress: 70% Complete\n",
      "Progress: 80% Complete\n",
      "Progress: 90% Complete\n",
      "Progress: 100% Complete\n"
     ]
    }
   ],
   "source": [
    "industries = []\n",
    "dates = []\n",
    "counties = []\n",
    "counts = []\n",
    "emp_counts = []\n",
    "progress_count = 0\n",
    "for county in counties_edd:\n",
    "    for code in parsed_codes:\n",
    "        for date in dates_edd:\n",
    "            output, hw, industry, emp_count = edd_to_hw(edd_2016, ca_ipums_hw_native_2016, naics, county_info, county, str(code), date, 10)\n",
    "            industries.append(industry)\n",
    "            dates.append(date)\n",
    "            counties.append(county)\n",
    "            counts.append(hw)\n",
    "            emp_counts.append(emp_count)\n",
    "            progress_count += 1\n",
    "            if progress_count % 10440 == 0:\n",
    "                percent_done = int((progress_count / total_iterations) * 100)\n",
    "                print(f'Progress: {percent_done}% Complete')"
   ]
  },
  {
   "cell_type": "code",
   "execution_count": 99,
   "id": "00046a63",
   "metadata": {},
   "outputs": [],
   "source": [
    "df_dict_native_2016 = {'Industry':industries, 'Date':dates, 'County':counties, 'High Wage Count':counts, 'Employment Count':emp_counts}\n",
    "tidy_df_native_2016 = pd.DataFrame(df_dict_native_2016)\n",
    "tidy_df_native_2016 = tidy_df_native_2016[tidy_df_native_2016['Industry'].notna()]\n",
    "tidy_df_native_2016['Date']= pd.to_datetime(tidy_df_native_2016['Date'])\n",
    "tidy_df_native_2016['High Wage Count'] = tidy_df_native_2016['High Wage Count'].astype(int)\n",
    "tidy_df_native_2016 = tidy_df_native_2016.sort_values(by=['Industry', 'County', 'Date'])\n",
    "tidy_df_native_2016['Output Race'] = 'American Indian/Alaska Native'"
   ]
  },
  {
   "cell_type": "markdown",
   "id": "28aca5bd",
   "metadata": {},
   "source": [
    "Asian"
   ]
  },
  {
   "cell_type": "code",
   "execution_count": 100,
   "id": "e1e9c69d",
   "metadata": {},
   "outputs": [
    {
     "name": "stdout",
     "output_type": "stream",
     "text": [
      "Progress: 10% Complete\n",
      "Progress: 20% Complete\n",
      "Progress: 30% Complete\n",
      "Progress: 40% Complete\n",
      "Progress: 50% Complete\n",
      "Progress: 60% Complete\n",
      "Progress: 70% Complete\n",
      "Progress: 80% Complete\n",
      "Progress: 90% Complete\n",
      "Progress: 100% Complete\n"
     ]
    }
   ],
   "source": [
    "industries = []\n",
    "dates = []\n",
    "counties = []\n",
    "counts = []\n",
    "emp_counts = []\n",
    "progress_count = 0\n",
    "for county in counties_edd:\n",
    "    for code in parsed_codes:\n",
    "        for date in dates_edd:\n",
    "            output, hw, industry, emp_count = edd_to_hw(edd_2016, ca_ipums_hw_asian_2016, naics, county_info, county, str(code), date, 10)\n",
    "            industries.append(industry)\n",
    "            dates.append(date)\n",
    "            counties.append(county)\n",
    "            counts.append(hw)\n",
    "            emp_counts.append(emp_count)\n",
    "            progress_count += 1\n",
    "            if progress_count % 10440 == 0:\n",
    "                percent_done = int((progress_count / total_iterations) * 100)\n",
    "                print(f'Progress: {percent_done}% Complete')"
   ]
  },
  {
   "cell_type": "code",
   "execution_count": 101,
   "id": "55f6ba1d",
   "metadata": {},
   "outputs": [],
   "source": [
    "df_dict_asian_2016 = {'Industry':industries, 'Date':dates, 'County':counties, 'High Wage Count':counts, 'Employment Count':emp_counts}\n",
    "tidy_df_asian_2016 = pd.DataFrame(df_dict_asian_2016)\n",
    "tidy_df_asian_2016 = tidy_df_asian_2016[tidy_df_asian_2016['Industry'].notna()]\n",
    "tidy_df_asian_2016['Date']= pd.to_datetime(tidy_df_asian_2016['Date'])\n",
    "tidy_df_asian_2016['High Wage Count'] = tidy_df_asian_2016['High Wage Count'].astype(int)\n",
    "tidy_df_asian_2016 = tidy_df_asian_2016.sort_values(by=['Industry', 'County', 'Date'])\n",
    "tidy_df_asian_2016['Output Race'] = 'Asian'"
   ]
  },
  {
   "cell_type": "markdown",
   "id": "c370ee9d",
   "metadata": {},
   "source": [
    "Other"
   ]
  },
  {
   "cell_type": "code",
   "execution_count": 102,
   "id": "3714896a",
   "metadata": {},
   "outputs": [
    {
     "name": "stdout",
     "output_type": "stream",
     "text": [
      "Progress: 10% Complete\n",
      "Progress: 20% Complete\n",
      "Progress: 30% Complete\n",
      "Progress: 40% Complete\n",
      "Progress: 50% Complete\n",
      "Progress: 60% Complete\n",
      "Progress: 70% Complete\n",
      "Progress: 80% Complete\n",
      "Progress: 90% Complete\n",
      "Progress: 100% Complete\n"
     ]
    }
   ],
   "source": [
    "industries = []\n",
    "dates = []\n",
    "counties = []\n",
    "counts = []\n",
    "emp_counts = []\n",
    "progress_count = 0\n",
    "for county in counties_edd:\n",
    "    for code in parsed_codes:\n",
    "        for date in dates_edd:\n",
    "            output, hw, industry, emp_count = edd_to_hw(edd_2016, ca_ipums_hw_other_2016, naics, county_info, county, str(code), date, 10)\n",
    "            industries.append(industry)\n",
    "            dates.append(date)\n",
    "            counties.append(county)\n",
    "            counts.append(hw)\n",
    "            emp_counts.append(emp_count)\n",
    "            progress_count += 1\n",
    "            if progress_count % 10440 == 0:\n",
    "                percent_done = int((progress_count / total_iterations) * 100)\n",
    "                print(f'Progress: {percent_done}% Complete')"
   ]
  },
  {
   "cell_type": "code",
   "execution_count": 103,
   "id": "eaa66ce8",
   "metadata": {},
   "outputs": [],
   "source": [
    "df_dict_other_2016 = {'Industry':industries, 'Date':dates, 'County':counties, 'High Wage Count':counts, 'Employment Count':emp_counts}\n",
    "tidy_df_other_2016 = pd.DataFrame(df_dict_other_2016)\n",
    "tidy_df_other_2016 = tidy_df_other_2016[tidy_df_other_2016['Industry'].notna()]\n",
    "tidy_df_other_2016['Date']= pd.to_datetime(tidy_df_other_2016['Date'])\n",
    "tidy_df_other_2016['High Wage Count'] = tidy_df_other_2016['High Wage Count'].astype(int)\n",
    "tidy_df_other_2016 = tidy_df_other_2016.sort_values(by=['Industry', 'County', 'Date'])\n",
    "tidy_df_other_2016['Output Race'] = 'Some other race'"
   ]
  },
  {
   "cell_type": "markdown",
   "id": "5916fa93",
   "metadata": {},
   "source": [
    "Multi"
   ]
  },
  {
   "cell_type": "code",
   "execution_count": 104,
   "id": "ac0c2d51",
   "metadata": {},
   "outputs": [
    {
     "name": "stdout",
     "output_type": "stream",
     "text": [
      "Progress: 10% Complete\n",
      "Progress: 20% Complete\n",
      "Progress: 30% Complete\n",
      "Progress: 40% Complete\n",
      "Progress: 50% Complete\n",
      "Progress: 60% Complete\n",
      "Progress: 70% Complete\n",
      "Progress: 80% Complete\n",
      "Progress: 90% Complete\n",
      "Progress: 100% Complete\n"
     ]
    }
   ],
   "source": [
    "industries = []\n",
    "dates = []\n",
    "counties = []\n",
    "counts = []\n",
    "emp_counts = []\n",
    "progress_count = 0\n",
    "for county in counties_edd:\n",
    "    for code in parsed_codes:\n",
    "        for date in dates_edd:\n",
    "            output, hw, industry, emp_count = edd_to_hw(edd_2016, ca_ipums_hw_multi_2016, naics, county_info, county, str(code), date, 10)\n",
    "            industries.append(industry)\n",
    "            dates.append(date)\n",
    "            counties.append(county)\n",
    "            counts.append(hw)\n",
    "            emp_counts.append(emp_count)\n",
    "            progress_count += 1\n",
    "            if progress_count % 10440 == 0:\n",
    "                percent_done = int((progress_count / total_iterations) * 100)\n",
    "                print(f'Progress: {percent_done}% Complete')"
   ]
  },
  {
   "cell_type": "code",
   "execution_count": 105,
   "id": "f2f5a4dd",
   "metadata": {},
   "outputs": [],
   "source": [
    "df_dict_multi_2016 = {'Industry':industries, 'Date':dates, 'County':counties, 'High Wage Count':counts, 'Employment Count':emp_counts}\n",
    "tidy_df_multi_2016 = pd.DataFrame(df_dict_multi_2016)\n",
    "tidy_df_multi_2016 = tidy_df_multi_2016[tidy_df_multi_2016['Industry'].notna()]\n",
    "tidy_df_multi_2016['Date']= pd.to_datetime(tidy_df_multi_2016['Date'])\n",
    "tidy_df_multi_2016['High Wage Count'] = tidy_df_multi_2016['High Wage Count'].astype(int)\n",
    "tidy_df_multi_2016 = tidy_df_multi_2016.sort_values(by=['Industry', 'County', 'Date'])\n",
    "tidy_df_multi_2016['Output Race'] = 'Multiracial'"
   ]
  },
  {
   "cell_type": "markdown",
   "id": "b5409a11",
   "metadata": {},
   "source": [
    "Concatenate"
   ]
  },
  {
   "cell_type": "code",
   "execution_count": 106,
   "id": "a2e75ca0",
   "metadata": {},
   "outputs": [],
   "source": [
    "df_race_2016 = pd.concat([tidy_df_white_2016, \n",
    "                          tidy_df_black_2016, \n",
    "                          tidy_df_latino_2016, \n",
    "                          tidy_df_asian_2016, \n",
    "                          tidy_df_native_2016, \n",
    "                          tidy_df_other_2016, \n",
    "                          tidy_df_multi_2016], \n",
    "                         ignore_index=True)\n",
    "df_race_2016 = pd.merge(df_race_2016, col_2016, left_on='County', right_on='Regions')\n",
    "df_race_2016['Year'] = 2016\n",
    "df_race_2016 = df_race_2016[['Industry', 'Date', 'County', 'High Wage Count', 'Cost of Living', 'Employment Count', 'Output Race', 'Year']]"
   ]
  },
  {
   "cell_type": "code",
   "execution_count": 124,
   "id": "1e462122",
   "metadata": {},
   "outputs": [],
   "source": [
    "df_race_2016.to_csv('hw_outputs_w_race_2016.csv', encoding='utf-8', index=False)"
   ]
  },
  {
   "cell_type": "markdown",
   "id": "eaff22e3",
   "metadata": {},
   "source": [
    "### High Wage Outputs - 2015"
   ]
  },
  {
   "cell_type": "code",
   "execution_count": 108,
   "id": "7d711a1d",
   "metadata": {},
   "outputs": [],
   "source": [
    "counties_edd = edd_2015['Area Name'].unique()\n",
    "parsed_codes = set(list(edd_2015['Main_Code'].unique()) + \n",
    "                   list(edd_2015['Sub_1_Code'].unique()) + \n",
    "                   list(edd_2015['Sub_2_Code'].unique()) + \n",
    "                   list(edd_2015['Sub_3_Code'].unique()) + \n",
    "                   list(edd_2015['Sub_4_Code'].unique()))\n",
    "dates_edd = edd_2015['Date'].unique()\n",
    "total_iterations = len(counties_edd) * len(parsed_codes) * len(dates_edd)"
   ]
  },
  {
   "cell_type": "markdown",
   "id": "86003dd2",
   "metadata": {},
   "source": [
    "White"
   ]
  },
  {
   "cell_type": "code",
   "execution_count": 109,
   "id": "107a9a25",
   "metadata": {},
   "outputs": [
    {
     "name": "stdout",
     "output_type": "stream",
     "text": [
      "Progress: 10% Complete\n",
      "Progress: 20% Complete\n",
      "Progress: 30% Complete\n",
      "Progress: 40% Complete\n",
      "Progress: 50% Complete\n",
      "Progress: 60% Complete\n",
      "Progress: 70% Complete\n",
      "Progress: 80% Complete\n",
      "Progress: 90% Complete\n",
      "Progress: 100% Complete\n"
     ]
    }
   ],
   "source": [
    "industries = []\n",
    "dates = []\n",
    "counties = []\n",
    "counts = []\n",
    "emp_counts = []\n",
    "progress_count = 0\n",
    "for county in counties_edd:\n",
    "    for code in parsed_codes:\n",
    "        for date in dates_edd:\n",
    "            output, hw, industry, emp_count = edd_to_hw(edd_2015, ca_ipums_hw_white_2015, naics, county_info, county, str(code), date, 10)\n",
    "            industries.append(industry)\n",
    "            dates.append(date)\n",
    "            counties.append(county)\n",
    "            counts.append(hw)\n",
    "            emp_counts.append(emp_count)\n",
    "            progress_count += 1\n",
    "            if progress_count % 10440 == 0:\n",
    "                percent_done = int((progress_count / total_iterations) * 100)\n",
    "                print(f'Progress: {percent_done}% Complete')"
   ]
  },
  {
   "cell_type": "code",
   "execution_count": 110,
   "id": "d31e2fb5",
   "metadata": {},
   "outputs": [],
   "source": [
    "df_dict_white_2015 = {'Industry':industries, 'Date':dates, 'County':counties, 'High Wage Count':counts, 'Employment Count':emp_counts}\n",
    "tidy_df_white_2015 = pd.DataFrame(df_dict_white_2015)\n",
    "tidy_df_white_2015 = tidy_df_white_2015[tidy_df_white_2015['Industry'].notna()]\n",
    "tidy_df_white_2015['Date']= pd.to_datetime(tidy_df_white_2015['Date'])\n",
    "tidy_df_white_2015['High Wage Count'] = tidy_df_white_2015['High Wage Count'].astype(int)\n",
    "tidy_df_white_2015 = tidy_df_white_2015.sort_values(by=['Industry', 'County', 'Date'])\n",
    "tidy_df_white_2015['Output Race'] = 'White'"
   ]
  },
  {
   "cell_type": "markdown",
   "id": "ea01effe",
   "metadata": {},
   "source": [
    "Latino"
   ]
  },
  {
   "cell_type": "code",
   "execution_count": 111,
   "id": "e84ed93e",
   "metadata": {},
   "outputs": [
    {
     "name": "stdout",
     "output_type": "stream",
     "text": [
      "Progress: 10% Complete\n",
      "Progress: 20% Complete\n",
      "Progress: 30% Complete\n",
      "Progress: 40% Complete\n",
      "Progress: 50% Complete\n",
      "Progress: 60% Complete\n",
      "Progress: 70% Complete\n",
      "Progress: 80% Complete\n",
      "Progress: 90% Complete\n",
      "Progress: 100% Complete\n"
     ]
    }
   ],
   "source": [
    "industries = []\n",
    "dates = []\n",
    "counties = []\n",
    "counts = []\n",
    "emp_counts = []\n",
    "progress_count = 0\n",
    "for county in counties_edd:\n",
    "    for code in parsed_codes:\n",
    "        for date in dates_edd:\n",
    "            output, hw, industry, emp_count = edd_to_hw(edd_2015, ca_ipums_hw_latino_2015, naics, county_info, county, str(code), date, 10)\n",
    "            industries.append(industry)\n",
    "            dates.append(date)\n",
    "            counties.append(county)\n",
    "            counts.append(hw)\n",
    "            emp_counts.append(emp_count)\n",
    "            progress_count += 1\n",
    "            if progress_count % 10440 == 0:\n",
    "                percent_done = int((progress_count / total_iterations) * 100)\n",
    "                print(f'Progress: {percent_done}% Complete')"
   ]
  },
  {
   "cell_type": "code",
   "execution_count": 112,
   "id": "9e99a6f9",
   "metadata": {},
   "outputs": [],
   "source": [
    "df_dict_latino_2015 = {'Industry':industries, 'Date':dates, 'County':counties, 'High Wage Count':counts, 'Employment Count':emp_counts}\n",
    "tidy_df_latino_2015 = pd.DataFrame(df_dict_latino_2015)\n",
    "tidy_df_latino_2015 = tidy_df_latino_2015[tidy_df_latino_2015['Industry'].notna()]\n",
    "tidy_df_latino_2015['Date']= pd.to_datetime(tidy_df_latino_2015['Date'])\n",
    "tidy_df_latino_2015['High Wage Count'] = tidy_df_latino_2015['High Wage Count'].astype(int)\n",
    "tidy_df_latino_2015 = tidy_df_latino_2015.sort_values(by=['Industry', 'County', 'Date'])\n",
    "tidy_df_latino_2015['Output Race'] = 'Latino'"
   ]
  },
  {
   "cell_type": "markdown",
   "id": "61af27be",
   "metadata": {},
   "source": [
    "Black"
   ]
  },
  {
   "cell_type": "code",
   "execution_count": 113,
   "id": "c069b633",
   "metadata": {},
   "outputs": [
    {
     "name": "stdout",
     "output_type": "stream",
     "text": [
      "Progress: 10% Complete\n",
      "Progress: 20% Complete\n",
      "Progress: 30% Complete\n",
      "Progress: 40% Complete\n",
      "Progress: 50% Complete\n",
      "Progress: 60% Complete\n",
      "Progress: 70% Complete\n",
      "Progress: 80% Complete\n",
      "Progress: 90% Complete\n",
      "Progress: 100% Complete\n"
     ]
    }
   ],
   "source": [
    "industries = []\n",
    "dates = []\n",
    "counties = []\n",
    "counts = []\n",
    "emp_counts = []\n",
    "progress_count = 0\n",
    "for county in counties_edd:\n",
    "    for code in parsed_codes:\n",
    "        for date in dates_edd:\n",
    "            output, hw, industry, emp_count = edd_to_hw(edd_2015, ca_ipums_hw_black_2015, naics, county_info, county, str(code), date, 10)\n",
    "            industries.append(industry)\n",
    "            dates.append(date)\n",
    "            counties.append(county)\n",
    "            counts.append(hw)\n",
    "            emp_counts.append(emp_count)\n",
    "            progress_count += 1\n",
    "            if progress_count % 10440 == 0:\n",
    "                percent_done = int((progress_count / total_iterations) * 100)\n",
    "                print(f'Progress: {percent_done}% Complete')"
   ]
  },
  {
   "cell_type": "code",
   "execution_count": 114,
   "id": "3341eec8",
   "metadata": {},
   "outputs": [],
   "source": [
    "df_dict_black_2015 = {'Industry':industries, 'Date':dates, 'County':counties, 'High Wage Count':counts, 'Employment Count':emp_counts}\n",
    "tidy_df_black_2015 = pd.DataFrame(df_dict_black_2015)\n",
    "tidy_df_black_2015 = tidy_df_black_2015[tidy_df_black_2015['Industry'].notna()]\n",
    "tidy_df_black_2015['Date']= pd.to_datetime(tidy_df_black_2015['Date'])\n",
    "tidy_df_black_2015['High Wage Count'] = tidy_df_black_2015['High Wage Count'].astype(int)\n",
    "tidy_df_black_2015 = tidy_df_black_2015.sort_values(by=['Industry', 'County', 'Date'])\n",
    "tidy_df_black_2015['Output Race'] = 'Black'"
   ]
  },
  {
   "cell_type": "markdown",
   "id": "1c32e84a",
   "metadata": {},
   "source": [
    "American Indian/Alaska Native"
   ]
  },
  {
   "cell_type": "code",
   "execution_count": 115,
   "id": "b9cd2beb",
   "metadata": {},
   "outputs": [
    {
     "name": "stdout",
     "output_type": "stream",
     "text": [
      "Progress: 10% Complete\n",
      "Progress: 20% Complete\n",
      "Progress: 30% Complete\n",
      "Progress: 40% Complete\n",
      "Progress: 50% Complete\n",
      "Progress: 60% Complete\n",
      "Progress: 70% Complete\n",
      "Progress: 80% Complete\n",
      "Progress: 90% Complete\n",
      "Progress: 100% Complete\n"
     ]
    }
   ],
   "source": [
    "industries = []\n",
    "dates = []\n",
    "counties = []\n",
    "counts = []\n",
    "emp_counts = []\n",
    "progress_count = 0\n",
    "for county in counties_edd:\n",
    "    for code in parsed_codes:\n",
    "        for date in dates_edd:\n",
    "            output, hw, industry, emp_count = edd_to_hw(edd_2015, ca_ipums_hw_native_2015, naics, county_info, county, str(code), date, 10)\n",
    "            industries.append(industry)\n",
    "            dates.append(date)\n",
    "            counties.append(county)\n",
    "            counts.append(hw)\n",
    "            emp_counts.append(emp_count)\n",
    "            progress_count += 1\n",
    "            if progress_count % 10440 == 0:\n",
    "                percent_done = int((progress_count / total_iterations) * 100)\n",
    "                print(f'Progress: {percent_done}% Complete')"
   ]
  },
  {
   "cell_type": "code",
   "execution_count": 116,
   "id": "308a8e5f",
   "metadata": {},
   "outputs": [],
   "source": [
    "df_dict_native_2015 = {'Industry':industries, 'Date':dates, 'County':counties, 'High Wage Count':counts, 'Employment Count':emp_counts}\n",
    "tidy_df_native_2015 = pd.DataFrame(df_dict_native_2015)\n",
    "tidy_df_native_2015 = tidy_df_native_2015[tidy_df_native_2015['Industry'].notna()]\n",
    "tidy_df_native_2015['Date']= pd.to_datetime(tidy_df_native_2015['Date'])\n",
    "tidy_df_native_2015['High Wage Count'] = tidy_df_native_2015['High Wage Count'].astype(int)\n",
    "tidy_df_native_2015 = tidy_df_native_2015.sort_values(by=['Industry', 'County', 'Date'])\n",
    "tidy_df_native_2015['Output Race'] = 'American Indian/Alaska Native'"
   ]
  },
  {
   "cell_type": "markdown",
   "id": "85ba8486",
   "metadata": {},
   "source": [
    "Asian"
   ]
  },
  {
   "cell_type": "code",
   "execution_count": 117,
   "id": "63889645",
   "metadata": {},
   "outputs": [
    {
     "name": "stdout",
     "output_type": "stream",
     "text": [
      "Progress: 10% Complete\n",
      "Progress: 20% Complete\n",
      "Progress: 30% Complete\n",
      "Progress: 40% Complete\n",
      "Progress: 50% Complete\n",
      "Progress: 60% Complete\n",
      "Progress: 70% Complete\n",
      "Progress: 80% Complete\n",
      "Progress: 90% Complete\n",
      "Progress: 100% Complete\n"
     ]
    }
   ],
   "source": [
    "industries = []\n",
    "dates = []\n",
    "counties = []\n",
    "counts = []\n",
    "emp_counts = []\n",
    "progress_count = 0\n",
    "for county in counties_edd:\n",
    "    for code in parsed_codes:\n",
    "        for date in dates_edd:\n",
    "            output, hw, industry, emp_count = edd_to_hw(edd_2015, ca_ipums_hw_asian_2015, naics, county_info, county, str(code), date, 10)\n",
    "            industries.append(industry)\n",
    "            dates.append(date)\n",
    "            counties.append(county)\n",
    "            counts.append(hw)\n",
    "            emp_counts.append(emp_count)\n",
    "            progress_count += 1\n",
    "            if progress_count % 10440 == 0:\n",
    "                percent_done = int((progress_count / total_iterations) * 100)\n",
    "                print(f'Progress: {percent_done}% Complete')"
   ]
  },
  {
   "cell_type": "code",
   "execution_count": 118,
   "id": "fa136c57",
   "metadata": {},
   "outputs": [],
   "source": [
    "df_dict_asian_2015 = {'Industry':industries, 'Date':dates, 'County':counties, 'High Wage Count':counts, 'Employment Count':emp_counts}\n",
    "tidy_df_asian_2015 = pd.DataFrame(df_dict_asian_2015)\n",
    "tidy_df_asian_2015 = tidy_df_asian_2015[tidy_df_asian_2015['Industry'].notna()]\n",
    "tidy_df_asian_2015['Date']= pd.to_datetime(tidy_df_asian_2015['Date'])\n",
    "tidy_df_asian_2015['High Wage Count'] = tidy_df_asian_2015['High Wage Count'].astype(int)\n",
    "tidy_df_asian_2015 = tidy_df_asian_2015.sort_values(by=['Industry', 'County', 'Date'])\n",
    "tidy_df_asian_2015['Output Race'] = 'Asian'"
   ]
  },
  {
   "cell_type": "markdown",
   "id": "14b74766",
   "metadata": {},
   "source": [
    "Other"
   ]
  },
  {
   "cell_type": "code",
   "execution_count": 119,
   "id": "74596cdf",
   "metadata": {},
   "outputs": [
    {
     "name": "stdout",
     "output_type": "stream",
     "text": [
      "Progress: 10% Complete\n",
      "Progress: 20% Complete\n",
      "Progress: 30% Complete\n",
      "Progress: 40% Complete\n",
      "Progress: 50% Complete\n",
      "Progress: 60% Complete\n",
      "Progress: 70% Complete\n",
      "Progress: 80% Complete\n",
      "Progress: 90% Complete\n",
      "Progress: 100% Complete\n"
     ]
    }
   ],
   "source": [
    "industries = []\n",
    "dates = []\n",
    "counties = []\n",
    "counts = []\n",
    "emp_counts = []\n",
    "progress_count = 0\n",
    "for county in counties_edd:\n",
    "    for code in parsed_codes:\n",
    "        for date in dates_edd:\n",
    "            output, hw, industry, emp_count = edd_to_hw(edd_2015, ca_ipums_hw_other_2015, naics, county_info, county, str(code), date, 10)\n",
    "            industries.append(industry)\n",
    "            dates.append(date)\n",
    "            counties.append(county)\n",
    "            counts.append(hw)\n",
    "            emp_counts.append(emp_count)\n",
    "            progress_count += 1\n",
    "            if progress_count % 10440 == 0:\n",
    "                percent_done = int((progress_count / total_iterations) * 100)\n",
    "                print(f'Progress: {percent_done}% Complete')"
   ]
  },
  {
   "cell_type": "code",
   "execution_count": 120,
   "id": "def3bfe1",
   "metadata": {},
   "outputs": [],
   "source": [
    "df_dict_other_2015 = {'Industry':industries, 'Date':dates, 'County':counties, 'High Wage Count':counts, 'Employment Count':emp_counts}\n",
    "tidy_df_other_2015 = pd.DataFrame(df_dict_other_2015)\n",
    "tidy_df_other_2015 = tidy_df_other_2015[tidy_df_other_2015['Industry'].notna()]\n",
    "tidy_df_other_2015['Date']= pd.to_datetime(tidy_df_other_2015['Date'])\n",
    "tidy_df_other_2015['High Wage Count'] = tidy_df_other_2015['High Wage Count'].astype(int)\n",
    "tidy_df_other_2015 = tidy_df_other_2015.sort_values(by=['Industry', 'County', 'Date'])\n",
    "tidy_df_other_2015['Output Race'] = 'Some other race'"
   ]
  },
  {
   "cell_type": "markdown",
   "id": "0d36a0ad",
   "metadata": {},
   "source": [
    "Multi"
   ]
  },
  {
   "cell_type": "code",
   "execution_count": 121,
   "id": "4b6aceb6",
   "metadata": {},
   "outputs": [
    {
     "name": "stdout",
     "output_type": "stream",
     "text": [
      "Progress: 10% Complete\n",
      "Progress: 20% Complete\n",
      "Progress: 30% Complete\n",
      "Progress: 40% Complete\n",
      "Progress: 50% Complete\n",
      "Progress: 60% Complete\n",
      "Progress: 70% Complete\n",
      "Progress: 80% Complete\n",
      "Progress: 90% Complete\n",
      "Progress: 100% Complete\n"
     ]
    }
   ],
   "source": [
    "industries = []\n",
    "dates = []\n",
    "counties = []\n",
    "counts = []\n",
    "emp_counts = []\n",
    "progress_count = 0\n",
    "for county in counties_edd:\n",
    "    for code in parsed_codes:\n",
    "        for date in dates_edd:\n",
    "            output, hw, industry, emp_count = edd_to_hw(edd_2015, ca_ipums_hw_multi_2015, naics, county_info, county, str(code), date, 10)\n",
    "            industries.append(industry)\n",
    "            dates.append(date)\n",
    "            counties.append(county)\n",
    "            counts.append(hw)\n",
    "            emp_counts.append(emp_count)\n",
    "            progress_count += 1\n",
    "            if progress_count % 10440 == 0:\n",
    "                percent_done = int((progress_count / total_iterations) * 100)\n",
    "                print(f'Progress: {percent_done}% Complete')"
   ]
  },
  {
   "cell_type": "code",
   "execution_count": 122,
   "id": "e3ae17ca",
   "metadata": {},
   "outputs": [],
   "source": [
    "df_dict_multi_2015 = {'Industry':industries, 'Date':dates, 'County':counties, 'High Wage Count':counts, 'Employment Count':emp_counts}\n",
    "tidy_df_multi_2015 = pd.DataFrame(df_dict_multi_2015)\n",
    "tidy_df_multi_2015 = tidy_df_multi_2015[tidy_df_multi_2015['Industry'].notna()]\n",
    "tidy_df_multi_2015['Date']= pd.to_datetime(tidy_df_multi_2015['Date'])\n",
    "tidy_df_multi_2015['High Wage Count'] = tidy_df_multi_2015['High Wage Count'].astype(int)\n",
    "tidy_df_multi_2015 = tidy_df_multi_2015.sort_values(by=['Industry', 'County', 'Date'])\n",
    "tidy_df_multi_2015['Output Race'] = 'Multiracial'"
   ]
  },
  {
   "cell_type": "markdown",
   "id": "7a2ce2ca",
   "metadata": {},
   "source": [
    "Concatenate"
   ]
  },
  {
   "cell_type": "code",
   "execution_count": 123,
   "id": "b3ec34c8",
   "metadata": {},
   "outputs": [],
   "source": [
    "df_race_2015 = pd.concat([tidy_df_white_2015, \n",
    "                          tidy_df_black_2015, \n",
    "                          tidy_df_latino_2015, \n",
    "                          tidy_df_asian_2015, \n",
    "                          tidy_df_native_2015, \n",
    "                          tidy_df_other_2015, \n",
    "                          tidy_df_multi_2015], \n",
    "                         ignore_index=True)\n",
    "df_race_2015 = pd.merge(df_race_2015, col_2015, left_on='County', right_on='Regions')\n",
    "df_race_2015['Year'] = 2015\n",
    "df_race_2015 = df_race_2015[['Industry', 'Date', 'County', 'High Wage Count', 'Cost of Living', 'Employment Count', 'Output Race', 'Year']]"
   ]
  },
  {
   "cell_type": "code",
   "execution_count": 125,
   "id": "3f9458ad",
   "metadata": {},
   "outputs": [],
   "source": [
    "df_race_2015.to_csv('hw_outputs_w_race_2015.csv', encoding='utf-8', index=False)"
   ]
  },
  {
   "cell_type": "markdown",
   "id": "5ae55946",
   "metadata": {},
   "source": [
    "### Concatenate all dataframes & export"
   ]
  },
  {
   "cell_type": "code",
   "execution_count": 128,
   "id": "cba14c3e",
   "metadata": {},
   "outputs": [],
   "source": [
    "df_race_2019 = pd.read_csv('data/hw_outputs_w_race_2019.csv')\n",
    "df_race_2019['Year'] = 2019"
   ]
  },
  {
   "cell_type": "code",
   "execution_count": 129,
   "id": "8aa3dfa0",
   "metadata": {},
   "outputs": [],
   "source": [
    "hw_outputs_w_race_5year = pd.concat([df_race_2019, \n",
    "                          df_race_2018, \n",
    "                          df_race_2017, \n",
    "                          df_race_2016, \n",
    "                          df_race_2015], \n",
    "                         ignore_index=True)"
   ]
  },
  {
   "cell_type": "code",
   "execution_count": 130,
   "id": "f3c250d1",
   "metadata": {},
   "outputs": [],
   "source": [
    "hw_outputs_w_race_5year.to_csv('hw_outputs_w_race_5year.csv', encoding='utf-8', index=False)"
   ]
  },
  {
   "cell_type": "code",
   "execution_count": null,
   "id": "bb494072",
   "metadata": {},
   "outputs": [],
   "source": []
  }
 ],
 "metadata": {
  "kernelspec": {
   "display_name": "Python 3",
   "language": "python",
   "name": "python3"
  },
  "language_info": {
   "codemirror_mode": {
    "name": "ipython",
    "version": 3
   },
   "file_extension": ".py",
   "mimetype": "text/x-python",
   "name": "python",
   "nbconvert_exporter": "python",
   "pygments_lexer": "ipython3",
   "version": "3.8.8"
  }
 },
 "nbformat": 4,
 "nbformat_minor": 5
}
